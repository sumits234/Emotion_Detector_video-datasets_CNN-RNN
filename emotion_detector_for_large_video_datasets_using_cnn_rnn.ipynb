{
  "nbformat": 4,
  "nbformat_minor": 0,
  "metadata": {
    "colab": {
      "provenance": [],
      "toc_visible": true
    },
    "kernelspec": {
      "name": "python3",
      "display_name": "Python 3"
    },
    "language_info": {
      "name": "python"
    }
  },
  "cells": [
    {
      "cell_type": "code",
      "execution_count": null,
      "metadata": {
        "colab": {
          "base_uri": "https://localhost:8080/"
        },
        "id": "kSvfRSHrp_ch",
        "outputId": "7044a4a5-ae7e-47ed-a010-b9859884a00e"
      },
      "outputs": [
        {
          "output_type": "stream",
          "name": "stdout",
          "text": [
            "Mounted at /content/drive\n"
          ]
        }
      ],
      "source": [
        "from google.colab import drive\n",
        "\n",
        "# Mount Google Drive\n",
        "drive.mount('/content/drive')"
      ]
    },
    {
      "cell_type": "code",
      "source": [
        "# Step 1: Dataset Preprocessing (1 Done)\n",
        "\n",
        "# Import necessary libraries\n",
        "import os\n",
        "import cv2\n",
        "import pandas as pd\n",
        "from tqdm import tqdm\n",
        "import numpy as np\n",
        "from sklearn.model_selection import train_test_split\n",
        "from tensorflow.keras.models import Sequential\n",
        "from tensorflow.keras.layers import LSTM, Dense, Dropout, TimeDistributed\n",
        "from sklearn.preprocessing import LabelEncoder\n",
        "from tensorflow.keras.utils import to_categorical\n",
        "import tensorflow as tf\n",
        "from tensorflow.keras.applications import ResNet50\n",
        "from tensorflow.keras.applications.resnet50 import preprocess_input\n",
        "from tensorflow.keras.models import Model\n",
        "from tensorflow.keras.preprocessing.image import ImageDataGenerator\n",
        "import shutil\n",
        "import random"
      ],
      "metadata": {
        "id": "YQhoLnp3quUW"
      },
      "execution_count": null,
      "outputs": []
    },
    {
      "cell_type": "code",
      "source": [
        "# Set paths\n",
        "DATASET_CSV = '/content/HACER_dataset.csv'  # Path to your metadata CSV\n",
        "VIDEO_DIR =  '/content/drive/MyDrive/HACER/'  # Path to your video files directory\n",
        "PROCESSED_FRAMES_DIR = 'processed_frames'  # Directory to save extracted frames"
      ],
      "metadata": {
        "id": "5iuAp-LzqvSj"
      },
      "execution_count": null,
      "outputs": []
    },
    {
      "cell_type": "code",
      "source": [
        "# Create directory for processed frames if it doesn't exist\n",
        "os.makedirs(PROCESSED_FRAMES_DIR, exist_ok=True)"
      ],
      "metadata": {
        "id": "mUfjMdjrrRM9"
      },
      "execution_count": null,
      "outputs": []
    },
    {
      "cell_type": "code",
      "source": [
        "# Load dataset CSV\n",
        "data = pd.read_csv(DATASET_CSV)"
      ],
      "metadata": {
        "id": "-Y5M852hrYxH"
      },
      "execution_count": null,
      "outputs": []
    },
    {
      "cell_type": "code",
      "source": [
        "# Check dataset structure\n",
        "print(\"Dataset loaded:\")\n",
        "print(data.head())"
      ],
      "metadata": {
        "colab": {
          "base_uri": "https://localhost:8080/"
        },
        "id": "MDJZ1mAEraHX",
        "outputId": "48192c32-1089-4f2c-c00e-bd963bf28289"
      },
      "execution_count": null,
      "outputs": [
        {
          "output_type": "stream",
          "name": "stdout",
          "text": [
            "Dataset loaded:\n",
            "          file_name  activity  emotion  video_index person   type\n",
            "0  drink_angry_10_h         0        0           10      h   test\n",
            "1   drink_angry_1_a         0        0            1      a  train\n",
            "2   drink_angry_2_w         0        0            2      w  train\n",
            "3   drink_angry_3_j         0        0            3      j   test\n",
            "4   drink_angry_4_a         0        0            4      a  train\n"
          ]
        }
      ]
    },
    {
      "cell_type": "code",
      "source": [
        "# Function to extract frames from video\n",
        "def extract_frames(video_path, output_dir, frame_count=10):\n",
        "    cap = cv2.VideoCapture(video_path)\n",
        "    total_frames = int(cap.get(cv2.CAP_PROP_FRAME_COUNT))\n",
        "    print(f\"Processing video: {video_path}, Total frames: {total_frames}\")\n",
        "    frame_interval = max(1, total_frames // frame_count)\n",
        "    frame_idx = 0\n",
        "\n",
        "    while frame_idx < frame_count:\n",
        "        cap.set(cv2.CAP_PROP_POS_FRAMES, frame_idx * frame_interval)\n",
        "        ret, frame = cap.read()\n",
        "        if not ret:\n",
        "            print(f\"Failed to read frame at index {frame_idx}\")\n",
        "            break\n",
        "\n",
        "        # Resize and save frame\n",
        "        frame_resized = cv2.resize(frame, (224, 224))\n",
        "        output_path = os.path.join(output_dir, f\"frame_{frame_idx}.jpg\")\n",
        "        cv2.imwrite(output_path, frame_resized)\n",
        "        print(f\"Saved frame: {output_path}\")\n",
        "        frame_idx += 1\n",
        "\n",
        "    cap.release()"
      ],
      "metadata": {
        "id": "dM0LIFWAraJo"
      },
      "execution_count": null,
      "outputs": []
    },
    {
      "cell_type": "code",
      "source": [
        "!ls /content/drive/MyDrive/HACER/\n"
      ],
      "metadata": {
        "colab": {
          "base_uri": "https://localhost:8080/"
        },
        "id": "lMMJeX-MwuHb",
        "outputId": "6df3b116-2914-4d87-c597-f4e1ccf1092c"
      },
      "execution_count": null,
      "outputs": [
        {
          "output_type": "stream",
          "name": "stdout",
          "text": [
            "drink_angry_10_h.mp4\t       putonjacket_neutral_9_k.mp4  standup_neutral_18_t.mp4\n",
            "drink_angry_1_a.mp4\t       putonjacket_sad_1_a.mp4\t    standup_neutral_19_y.mp4\n",
            "drink_angry_2_w.mp4\t       putonjacket_sad_2_m.mp4\t    standup_neutral_1_a.mp4\n",
            "drink_angry_3_j.mp4\t       putonjacket_sad_3_j.mp4\t    standup_neutral_20_t.mp4\n",
            "drink_angry_4_a.mp4\t       putonjacket_sad_4_j.mp4\t    standup_neutral_2_w.mp4\n",
            "drink_angry_5_j.mp4\t       putonjacket_sad_5_k.mp4\t    standup_neutral_3_j.mp4\n",
            "drink_angry_6_h.mp4\t       putonjacket_sad_6_m.mp4\t    standup_neutral_4_j.mp4\n",
            "drink_angry_7_w.mp4\t       read_angry_1_w.mp4\t    standup_neutral_5_s.mp4\n",
            "drink_angry_8_h.mp4\t       read_angry_2_j.mp4\t    standup_neutral_6_s.mp4\n",
            "drink_angry_9_k.mp4\t       read_angry_3_l.mp4\t    standup_neutral_7_h.mp4\n",
            "drink_disgust_10_m.mp4\t       read_angry_4_w.mp4\t    standup_neutral_8_a.mp4\n",
            "drink_disgust_11_w.mp4\t       read_angry_5_w.mp4\t    standup_neutral_9_h.mp4\n",
            "drink_disgust_12_h.mp4\t       read_angry_6_l.mp4\t    standup_sad_10_l.mp4\n",
            "drink_disgust_13_k.mp4\t       read_angry_7_l.mp4\t    standup_sad_11_l.mp4\n",
            "drink_disgust_14_t.mp4\t       read_angry_8_h.mp4\t    standup_sad_12_w.mp4\n",
            "drink_disgust_15_s.mp4\t       read_angry_9_h.mp4\t    standup_sad_13_s.mp4\n",
            "drink_disgust_16_t.mp4\t       read_happy_10_j.mp4\t    standup_sad_14_j.mp4\n",
            "drink_disgust_17_h.mp4\t       read_happy_11_j.mp4\t    standup_sad_15_h.mp4\n",
            "drink_disgust_18_k.mp4\t       read_happy_1_w.mp4\t    standup_sad_16_l.mp4\n",
            "drink_disgust_1_a.mp4\t       read_happy_2_j.mp4\t    standup_sad_1_h.mp4\n",
            "drink_disgust_2_w.mp4\t       read_happy_3_l.mp4\t    standup_sad_2_h.mp4\n",
            "drink_disgust_3_l.mp4\t       read_happy_4_w.mp4\t    standup_sad_3_a.mp4\n",
            "drink_disgust_4_j.mp4\t       read_happy_5_w.mp4\t    standup_sad_4_w.mp4\n",
            "drink_disgust_5_s.mp4\t       read_happy_6_w.mp4\t    standup_sad_5_m.mp4\n",
            "drink_disgust_6_m.mp4\t       read_happy_7_l.mp4\t    standup_sad_6_s.mp4\n",
            "drink_disgust_7_a.mp4\t       read_happy_8_h.mp4\t    standup_sad_7_h.mp4\n",
            "drink_disgust_8_j.mp4\t       read_happy_9_h.mp4\t    standup_sad_8_a.mp4\n",
            "drink_disgust_9_l.mp4\t       read_neutral_10_h.mp4\t    standup_sad_9_m.mp4\n",
            "drink_happy_10_j.mp4\t       read_neutral_11_a.mp4\t    takeoffglasses_angry_10_m.mp4\n",
            "drink_happy_11_l.mp4\t       read_neutral_12_t.mp4\t    takeoffglasses_angry_11_h.mp4\n",
            "drink_happy_12_m.mp4\t       read_neutral_13_k.mp4\t    takeoffglasses_angry_12_j.mp4\n",
            "drink_happy_13_w.mp4\t       read_neutral_14_a.mp4\t    takeoffglasses_angry_1_s.mp4\n",
            "drink_happy_14_w.mp4\t       read_neutral_15_a.mp4\t    takeoffglasses_angry_2_w.mp4\n",
            "drink_happy_15_h.mp4\t       read_neutral_16_k.mp4\t    takeoffglasses_angry_3_h.mp4\n",
            "drink_happy_16_k.mp4\t       read_neutral_17_t.mp4\t    takeoffglasses_angry_4_m.mp4\n",
            "drink_happy_17_k.mp4\t       read_neutral_1_w.mp4\t    takeoffglasses_angry_5_w.mp4\n",
            "drink_happy_18_t.mp4\t       read_neutral_2_l.mp4\t    takeoffglasses_angry_6_l.mp4\n",
            "drink_happy_19_s.mp4\t       read_neutral_3_l.mp4\t    takeoffglasses_angry_7_j.mp4\n",
            "drink_happy_1_a.mp4\t       read_neutral_4_w.mp4\t    takeoffglasses_angry_8_s.mp4\n",
            "drink_happy_20_t.mp4\t       read_neutral_5_w.mp4\t    takeoffglasses_angry_9_l.mp4\n",
            "drink_happy_21_h.mp4\t       read_neutral_6_l.mp4\t    takeoffglasses_happy_10_s.mp4\n",
            "drink_happy_2_w.mp4\t       read_neutral_7_l.mp4\t    takeoffglasses_happy_11_a.mp4\n",
            "drink_happy_3_l.mp4\t       read_neutral_8_h.mp4\t    takeoffglasses_happy_12_l.mp4\n",
            "drink_happy_4_j.mp4\t       read_neutral_9_h.mp4\t    takeoffglasses_happy_13_m.mp4\n",
            "drink_happy_5_s.mp4\t       read_sad_1_w.mp4\t\t    takeoffglasses_happy_14_h.mp4\n",
            "drink_happy_6_m.mp4\t       read_sad_2_w.mp4\t\t    takeoffglasses_happy_15_j.mp4\n",
            "drink_happy_7_m.mp4\t       read_sad_3_w.mp4\t\t    takeoffglasses_happy_1_s.mp4\n",
            "drink_happy_8_a.mp4\t       read_sad_4_h.mp4\t\t    takeoffglasses_happy_2_w.mp4\n",
            "drink_happy_9_j.mp4\t       read_sad_5_h.mp4\t\t    takeoffglasses_happy_3_t.mp4\n",
            "drink_neutral_10_m.mp4\t       sitdown_angry_10_m.mp4\t    takeoffglasses_happy_4_h.mp4\n",
            "drink_neutral_11_m.mp4\t       sitdown_angry_11_w.mp4\t    takeoffglasses_happy_5_m.mp4\n",
            "drink_neutral_12_w.mp4\t       sitdown_angry_12_h.mp4\t    takeoffglasses_happy_6_w.mp4\n",
            "drink_neutral_13_h.mp4\t       sitdown_angry_1_h.mp4\t    takeoffglasses_happy_7_l.mp4\n",
            "drink_neutral_14_t.mp4\t       sitdown_angry_2_w.mp4\t    takeoffglasses_happy_8_t.mp4\n",
            "drink_neutral_15_s.mp4\t       sitdown_angry_3_j.mp4\t    takeoffglasses_happy_9_j.mp4\n",
            "drink_neutral_16_t.mp4\t       sitdown_angry_4_j.mp4\t    takeoffglasses_neutral_10_a.mp4\n",
            "drink_neutral_17_h.mp4\t       sitdown_angry_5_j.mp4\t    takeoffglasses_neutral_11_l.mp4\n",
            "drink_neutral_1_a.mp4\t       sitdown_angry_6_m.mp4\t    takeoffglasses_neutral_12_m.mp4\n",
            "drink_neutral_2_l.mp4\t       sitdown_angry_7_h.mp4\t    takeoffglasses_neutral_13_m.mp4\n",
            "drink_neutral_3_j.mp4\t       sitdown_angry_8_h.mp4\t    takeoffglasses_neutral_14_h.mp4\n",
            "drink_neutral_4_j.mp4\t       sitdown_angry_9_l.mp4\t    takeoffglasses_neutral_15_j.mp4\n",
            "drink_neutral_5_s.mp4\t       sitdown_happy_10_l.mp4\t    takeoffglasses_neutral_16_a.mp4\n",
            "drink_neutral_6_m.mp4\t       sitdown_happy_11_w.mp4\t    takeoffglasses_neutral_17_a.mp4\n",
            "drink_neutral_7_a.mp4\t       sitdown_happy_12_y.mp4\t    takeoffglasses_neutral_1_s.mp4\n",
            "drink_neutral_8_j.mp4\t       sitdown_happy_13_j.mp4\t    takeoffglasses_neutral_2_w.mp4\n",
            "drink_neutral_9_l.mp4\t       sitdown_happy_14_s.mp4\t    takeoffglasses_neutral_3_t.mp4\n",
            "drink_sad_10_s.mp4\t       sitdown_happy_15_h.mp4\t    takeoffglasses_neutral_4_h.mp4\n",
            "drink_sad_1_w.mp4\t       sitdown_happy_16_k.mp4\t    takeoffglasses_neutral_5_w.mp4\n",
            "drink_sad_2_l.mp4\t       sitdown_happy_18_t.mp4\t    takeoffglasses_neutral_6_l.mp4\n",
            "drink_sad_3_s.mp4\t       sitdown_happy_1_a.mp4\t    takeoffglasses_neutral_7_t.mp4\n",
            "drink_sad_4_m.mp4\t       sitdown_happy_20_h.mp4\t    takeoffglasses_neutral_8_J.mp4\n",
            "drink_sad_5_l.mp4\t       sitdown_happy_2_w.mp4\t    takeoffglasses_neutral_9_s.mp4\n",
            "drink_sad_6_m.mp4\t       sitdown_happy_3_j.mp4\t    takeoffglasses_sad_10_s.mp4\n",
            "drink_sad_7_w.mp4\t       sitdown_happy_4_j.mp4\t    takeoffglasses_sad_11_a.mp4\n",
            "drink_sad_8_w.mp4\t       sitdown_happy_5_m.mp4\t    takeoffglasses_sad_12_l.mp4\n",
            "drink_sad_9_k.mp4\t       sitdown_happy_6_s.mp4\t    takeoffglasses_sad_13_m.mp4\n",
            "putonglasses_angry_10_m.mp4    sitdown_happy_7_a.mp4\t    takeoffglasses_sad_14_h.mp4\n",
            "putonglasses_angry_11_h.mp4    sitdown_happy_8_l.mp4\t    takeoffglasses_sad_15_j.mp4\n",
            "putonglasses_angry_12_j.mp4    sitdown_happy_9_m.mp4\t    takeoffglasses_sad_1_s.mp4\n",
            "putonglasses_angry_1_s.mp4     sitdown_neutral_10_l.mp4     takeoffglasses_sad_2_w.mp4\n",
            "putonglasses_angry_2_w.mp4     sitdown_neutral_11_l.mp4     takeoffglasses_sad_3_t.mp4\n",
            "putonglasses_angry_3_h.mp4     sitdown_neutral_12_w.mp4     takeoffglasses_sad_4_h.mp4\n",
            "putonglasses_angry_4_m.mp4     sitdown_neutral_13_s.mp4     takeoffglasses_sad_5_m.mp4\n",
            "putonglasses_angry_5_w.mp4     sitdown_neutral_14_h.mp4     takeoffglasses_sad_6_w.mp4\n",
            "putonglasses_angry_6_l.mp4     sitdown_neutral_15_k.mp4     takeoffglasses_sad_7_l.mp4\n",
            "putonglasses_angry_7_j.mp4     sitdown_neutral_16_y.mp4     takeoffglasses_sad_8_t.mp4\n",
            "putonglasses_angry_8_s.mp4     sitdown_neutral_17_t.mp4     takeoffglasses_sad_9_j.mp4\n",
            "putonglasses_angry_9_l.mp4     sitdown_neutral_18_t.mp4     takeoffjacket_angry_1_a.mp4\n",
            "putonglasses_happy_10_s.mp4    sitdown_neutral_19_y.mp4     takeoffjacket_angry_2_m.mp4\n",
            "putonglasses_happy_11_a.mp4    sitdown_neutral_1_a.mp4\t    takeoffjacket_angry_3_k.mp4\n",
            "putonglasses_happy_12_l.mp4    sitdown_neutral_20_t.mp4     takeoffjacket_angry_4_a.mp4\n",
            "putonglasses_happy_13_m.mp4    sitdown_neutral_21_t.mp4     takeoffjacket_angry_5_j.mp4\n",
            "putonglasses_happy_14_h.mp4    sitdown_neutral_22_h.mp4     takeoffjacket_angry_6_k.mp4\n",
            "putonglasses_happy_15_j.mp4    sitdown_neutral_2_a.mp4\t    takeoffjacket_angry_7_k.mp4\n",
            "putonglasses_happy_16_a.mp4    sitdown_neutral_3_w.mp4\t    takeoffjacket_angry_8_k.mp4\n",
            "putonglasses_happy_1_s.mp4     sitdown_neutral_4_j.mp4\t    takeoffjacket_happy_10_a.mp4\n",
            "putonglasses_happy_2_w.mp4     sitdown_neutral_5_j.mp4\t    takeoffjacket_happy_1_a.mp4\n",
            "putonglasses_happy_3_t.mp4     sitdown_neutral_6_s.mp4\t    takeoffjacket_happy_2_m.mp4\n",
            "putonglasses_happy_4_h.mp4     sitdown_neutral_7_s.mp4\t    takeoffjacket_happy_3_j.mp4\n",
            "putonglasses_happy_5_m.mp4     sitdown_neutral_8_h.mp4\t    takeoffjacket_happy_4_a.mp4\n",
            "putonglasses_happy_6_w.mp4     sitdown_neutral_9_h.mp4\t    takeoffjacket_happy_5_j.mp4\n",
            "putonglasses_happy_7_l.mp4     sitdown_sad_10_l.mp4\t    takeoffjacket_happy_6_k.mp4\n",
            "putonglasses_happy_8_t.mp4     sitdown_sad_11_s.mp4\t    takeoffjacket_happy_7_m.mp4\n",
            "putonglasses_happy_9_j.mp4     sitdown_sad_12_s.mp4\t    takeoffjacket_happy_8_a.mp4\n",
            "putonglasses_neutral_10_m.mp4  sitdown_sad_13_j.mp4\t    takeoffjacket_happy_9_k.mp4\n",
            "putonglasses_neutral_11_m.mp4  sitdown_sad_14_h.mp4\t    takeoffjacket_neutral_1_a.mp4\n",
            "putonglasses_neutral_12_h.mp4  sitdown_sad_1_h.mp4\t    takeoffjacket_neutral_2_m.mp4\n",
            "putonglasses_neutral_13_j.mp4  sitdown_sad_2_a.mp4\t    takeoffjacket_neutral_3_j.mp4\n",
            "putonglasses_neutral_14_a.mp4  sitdown_sad_3_w.mp4\t    takeoffjacket_neutral_4_a.mp4\n",
            "putonglasses_neutral_1_s.mp4   sitdown_sad_4_m.mp4\t    takeoffjacket_neutral_5_a.mp4\n",
            "putonglasses_neutral_2_w.mp4   sitdown_sad_5_s.mp4\t    takeoffjacket_neutral_6_j.mp4\n",
            "putonglasses_neutral_3_t.mp4   sitdown_sad_6_h.mp4\t    takeoffjacket_neutral_7_k.mp4\n",
            "putonglasses_neutral_4_h.mp4   sitdown_sad_7_a.mp4\t    takeoffjacket_neutral_8_m.mp4\n",
            "putonglasses_neutral_5_w.mp4   sitdown_sad_8_l.mp4\t    takeoffjacket_neutral_9_k.mp4\n",
            "putonglasses_neutral_6_t.mp4   sitdown_sad_9_m.mp4\t    takeoffjacket_sad_1_a.mp4\n",
            "putonglasses_neutral_7_j.mp4   standup_angry_10_w.mp4\t    takeoffjacket_sad_2_j.mp4\n",
            "putonglasses_neutral_8_s.mp4   standup_angry_11_s.mp4\t    takeoffjacket_sad_3_j.mp4\n",
            "putonglasses_neutral_9_l.mp4   standup_angry_12_h.mp4\t    takeoffjacket_sad_4_k.mp4\n",
            "putonglasses_sad_10_s.mp4      standup_angry_1_h.mp4\t    takeoffjacket_sad_5_m.mp4\n",
            "putonglasses_sad_11_a.mp4      standup_angry_2_w.mp4\t    takeoffjacket_sad_6_k.mp4\n",
            "putonglasses_sad_12_l.mp4      standup_angry_3_j.mp4\t    takeoffjacket_sad_7_k.mp4\n",
            "putonglasses_sad_13_m.mp4      standup_angry_4_j.mp4\t    write_angry_10_s.mp4\n",
            "putonglasses_sad_14_h.mp4      standup_angry_5_j.mp4\t    write_angry_11_l.mp4\n",
            "putonglasses_sad_15_j.mp4      standup_angry_6_m.mp4\t    write_angry_12_l.mp4\n",
            "putonglasses_sad_16_a.mp4      standup_angry_7_h.mp4\t    write_angry_13_l.mp4\n",
            "putonglasses_sad_1_s.mp4       standup_angry_8_l.mp4\t    write_angry_14_t.mp4\n",
            "putonglasses_sad_2_w.mp4       standup_angry_9_w.mp4\t    write_angry_1_w.mp4\n",
            "putonglasses_sad_3_t.mp4       standup_happy_10_l.mp4\t    write_angry_2_w.mp4\n",
            "putonglasses_sad_4_h.mp4       standup_happy_11_m.mp4\t    write_angry_3_j.mp4\n",
            "putonglasses_sad_5_m.mp4       standup_happy_12_l.mp4\t    write_angry_4_s.mp4\n",
            "putonglasses_sad_6_w.mp4       standup_happy_13_y.mp4\t    write_angry_5_s.mp4\n",
            "putonglasses_sad_7_l.mp4       standup_happy_14_j.mp4\t    write_angry_6_w.mp4\n",
            "putonglasses_sad_8_t.mp4       standup_happy_15_s.mp4\t    write_angry_7_w.mp4\n",
            "putonglasses_sad_9_j.mp4       standup_happy_16_h.mp4\t    write_angry_8_w.mp4\n",
            "putonjacket_angry_1_a.mp4      standup_happy_17_k.mp4\t    write_angry_9_s.mp4\n",
            "putonjacket_angry_2_m.mp4      standup_happy_18_y.mp4\t    write_happy_10_j.mp4\n",
            "putonjacket_angry_3_j.mp4      standup_happy_19_y.mp4\t    write_happy_11_t.mp4\n",
            "putonjacket_angry_4_a.mp4      standup_happy_1_a.mp4\t    write_happy_12_t.mp4\n",
            "putonjacket_angry_5_j.mp4      standup_happy_20_y.mp4\t    write_happy_1_w.mp4\n",
            "putonjacket_angry_6_k.mp4      standup_happy_21_t.mp4\t    write_happy_2_w.mp4\n",
            "putonjacket_angry_7_m.mp4      standup_happy_22_y.mp4\t    write_happy_3_j.mp4\n",
            "putonjacket_angry_8_k.mp4      standup_happy_23_t.mp4\t    write_happy_4_s.mp4\n",
            "putonjacket_happy_1_a.mp4      standup_happy_24_h.mp4\t    write_happy_5_w.mp4\n",
            "putonjacket_happy_2_m.mp4      standup_happy_2_w.mp4\t    write_happy_6_s.mp4\n",
            "putonjacket_happy_3_j.mp4      standup_happy_3_j.mp4\t    write_happy_7_l.mp4\n",
            "putonjacket_happy_4_a.mp4      standup_happy_4_j.mp4\t    write_happy_8_l.mp4\n",
            "putonjacket_happy_5_j.mp4      standup_happy_5_m.mp4\t    write_happy_9_l.mp4\n",
            "putonjacket_happy_6_k.mp4      standup_happy_6_s.mp4\t    write_neutral_10_t.mp4\n",
            "putonjacket_happy_7_m.mp4      standup_happy_7_h.mp4\t    write_neutral_11_a.mp4\n",
            "putonjacket_happy_8_k.mp4      standup_happy_8_a.mp4\t    write_neutral_12_a.mp4\n",
            "putonjacket_neutral_10_a.mp4   standup_happy_9_h.mp4\t    write_neutral_1_w.mp4\n",
            "putonjacket_neutral_1_a.mp4    standup_neutral_10_l.mp4     write_neutral_2_j.mp4\n",
            "putonjacket_neutral_2_m.mp4    standup_neutral_11_m.mp4     write_neutral_3_s.mp4\n",
            "putonjacket_neutral_3_j.mp4    standup_neutral_12_l.mp4     write_neutral_4_s.mp4\n",
            "putonjacket_neutral_4_a.mp4    standup_neutral_13_y.mp4     write_neutral_5_s.mp4\n",
            "putonjacket_neutral_5_a.mp4    standup_neutral_14_s.mp4     write_neutral_6_l.mp4\n",
            "putonjacket_neutral_6_j.mp4    standup_neutral_15_h.mp4     write_neutral_7_j.mp4\n",
            "putonjacket_neutral_7_k.mp4    standup_neutral_16_k.mp4     write_neutral_8_a.mp4\n",
            "putonjacket_neutral_8_m.mp4    standup_neutral_17_y.mp4     write_neutral_9_t.mp4\n"
          ]
        }
      ]
    },
    {
      "cell_type": "code",
      "source": [
        "data['video_filename'] = data['file_name'] + '.mp4'  # Add the correct extension\n"
      ],
      "metadata": {
        "id": "fBUsY3m6xNes"
      },
      "execution_count": null,
      "outputs": []
    },
    {
      "cell_type": "code",
      "source": [
        "missing_files = [row['video_filename'] for idx, row in data.iterrows() if not os.path.exists(os.path.join(VIDEO_DIR, row['video_filename']))]\n",
        "print(\"Missing files:\", missing_files)\n"
      ],
      "metadata": {
        "colab": {
          "base_uri": "https://localhost:8080/"
        },
        "id": "q4wwnc4jxWvQ",
        "outputId": "1b16f7f3-6937-4b2e-e76d-a4a9f6c63179"
      },
      "execution_count": null,
      "outputs": [
        {
          "output_type": "stream",
          "name": "stdout",
          "text": [
            "Missing files: ['sitdown_happy_17_y.mp4', 'sitdown_happy_19_y.mp4']\n"
          ]
        }
      ]
    },
    {
      "cell_type": "code",
      "source": [
        "data = data[data['video_filename'].apply(lambda x: os.path.exists(os.path.join(VIDEO_DIR, x)))]\n",
        "data.reset_index(drop=True, inplace=True)\n",
        "print(f\"Updated dataset size: {len(data)}\")\n"
      ],
      "metadata": {
        "colab": {
          "base_uri": "https://localhost:8080/"
        },
        "id": "Lhb9kFmcxfS4",
        "outputId": "bd09da1a-7082-44b3-e7d5-335f230d8b23"
      },
      "execution_count": null,
      "outputs": [
        {
          "output_type": "stream",
          "name": "stdout",
          "text": [
            "Updated dataset size: 477\n"
          ]
        }
      ]
    },
    {
      "cell_type": "code",
      "source": [
        "for idx, row in data.iterrows():\n",
        "    video_path = os.path.join(VIDEO_DIR, row['video_filename'])\n",
        "    print(video_path, \"exists\" if os.path.exists(video_path) else \"does not exist\")\n"
      ],
      "metadata": {
        "colab": {
          "base_uri": "https://localhost:8080/"
        },
        "id": "E8TCp3flxl9q",
        "outputId": "a98fa314-4fc0-47cc-d26e-aa936ca7abc6"
      },
      "execution_count": null,
      "outputs": [
        {
          "output_type": "stream",
          "name": "stdout",
          "text": [
            "/content/drive/MyDrive/HACER/drink_angry_10_h.mp4 exists\n",
            "/content/drive/MyDrive/HACER/drink_angry_1_a.mp4 exists\n",
            "/content/drive/MyDrive/HACER/drink_angry_2_w.mp4 exists\n",
            "/content/drive/MyDrive/HACER/drink_angry_3_j.mp4 exists\n",
            "/content/drive/MyDrive/HACER/drink_angry_4_a.mp4 exists\n",
            "/content/drive/MyDrive/HACER/drink_angry_5_j.mp4 exists\n",
            "/content/drive/MyDrive/HACER/drink_angry_6_h.mp4 exists\n",
            "/content/drive/MyDrive/HACER/drink_angry_7_w.mp4 exists\n",
            "/content/drive/MyDrive/HACER/drink_angry_8_h.mp4 exists\n",
            "/content/drive/MyDrive/HACER/drink_angry_9_k.mp4 exists\n",
            "/content/drive/MyDrive/HACER/drink_disgust_10_m.mp4 exists\n",
            "/content/drive/MyDrive/HACER/drink_disgust_11_w.mp4 exists\n",
            "/content/drive/MyDrive/HACER/drink_disgust_12_h.mp4 exists\n",
            "/content/drive/MyDrive/HACER/drink_disgust_13_k.mp4 exists\n",
            "/content/drive/MyDrive/HACER/drink_disgust_14_t.mp4 exists\n",
            "/content/drive/MyDrive/HACER/drink_disgust_15_s.mp4 exists\n",
            "/content/drive/MyDrive/HACER/drink_disgust_16_t.mp4 exists\n",
            "/content/drive/MyDrive/HACER/drink_disgust_17_h.mp4 exists\n",
            "/content/drive/MyDrive/HACER/drink_disgust_18_k.mp4 exists\n",
            "/content/drive/MyDrive/HACER/drink_disgust_1_a.mp4 exists\n",
            "/content/drive/MyDrive/HACER/drink_disgust_2_w.mp4 exists\n",
            "/content/drive/MyDrive/HACER/drink_disgust_3_l.mp4 exists\n",
            "/content/drive/MyDrive/HACER/drink_disgust_4_j.mp4 exists\n",
            "/content/drive/MyDrive/HACER/drink_disgust_5_s.mp4 exists\n",
            "/content/drive/MyDrive/HACER/drink_disgust_6_m.mp4 exists\n",
            "/content/drive/MyDrive/HACER/drink_disgust_7_a.mp4 exists\n",
            "/content/drive/MyDrive/HACER/drink_disgust_8_j.mp4 exists\n",
            "/content/drive/MyDrive/HACER/drink_disgust_9_l.mp4 exists\n",
            "/content/drive/MyDrive/HACER/drink_happy_10_j.mp4 exists\n",
            "/content/drive/MyDrive/HACER/drink_happy_11_l.mp4 exists\n",
            "/content/drive/MyDrive/HACER/drink_happy_12_m.mp4 exists\n",
            "/content/drive/MyDrive/HACER/drink_happy_13_w.mp4 exists\n",
            "/content/drive/MyDrive/HACER/drink_happy_14_w.mp4 exists\n",
            "/content/drive/MyDrive/HACER/drink_happy_15_h.mp4 exists\n",
            "/content/drive/MyDrive/HACER/drink_happy_16_k.mp4 exists\n",
            "/content/drive/MyDrive/HACER/drink_happy_17_k.mp4 exists\n",
            "/content/drive/MyDrive/HACER/drink_happy_18_t.mp4 exists\n",
            "/content/drive/MyDrive/HACER/drink_happy_19_s.mp4 exists\n",
            "/content/drive/MyDrive/HACER/drink_happy_1_a.mp4 exists\n",
            "/content/drive/MyDrive/HACER/drink_happy_20_t.mp4 exists\n",
            "/content/drive/MyDrive/HACER/drink_happy_21_h.mp4 exists\n",
            "/content/drive/MyDrive/HACER/drink_happy_2_w.mp4 exists\n",
            "/content/drive/MyDrive/HACER/drink_happy_3_l.mp4 exists\n",
            "/content/drive/MyDrive/HACER/drink_happy_4_j.mp4 exists\n",
            "/content/drive/MyDrive/HACER/drink_happy_5_s.mp4 exists\n",
            "/content/drive/MyDrive/HACER/drink_happy_6_m.mp4 exists\n",
            "/content/drive/MyDrive/HACER/drink_happy_7_m.mp4 exists\n",
            "/content/drive/MyDrive/HACER/drink_happy_8_a.mp4 exists\n",
            "/content/drive/MyDrive/HACER/drink_happy_9_j.mp4 exists\n",
            "/content/drive/MyDrive/HACER/drink_neutral_10_m.mp4 exists\n",
            "/content/drive/MyDrive/HACER/drink_neutral_11_m.mp4 exists\n",
            "/content/drive/MyDrive/HACER/drink_neutral_12_w.mp4 exists\n",
            "/content/drive/MyDrive/HACER/drink_neutral_13_h.mp4 exists\n",
            "/content/drive/MyDrive/HACER/drink_neutral_14_t.mp4 exists\n",
            "/content/drive/MyDrive/HACER/drink_neutral_15_s.mp4 exists\n",
            "/content/drive/MyDrive/HACER/drink_neutral_16_t.mp4 exists\n",
            "/content/drive/MyDrive/HACER/drink_neutral_17_h.mp4 exists\n",
            "/content/drive/MyDrive/HACER/drink_neutral_1_a.mp4 exists\n",
            "/content/drive/MyDrive/HACER/drink_neutral_2_l.mp4 exists\n",
            "/content/drive/MyDrive/HACER/drink_neutral_3_j.mp4 exists\n",
            "/content/drive/MyDrive/HACER/drink_neutral_4_j.mp4 exists\n",
            "/content/drive/MyDrive/HACER/drink_neutral_5_s.mp4 exists\n",
            "/content/drive/MyDrive/HACER/drink_neutral_6_m.mp4 exists\n",
            "/content/drive/MyDrive/HACER/drink_neutral_7_a.mp4 exists\n",
            "/content/drive/MyDrive/HACER/drink_neutral_8_j.mp4 exists\n",
            "/content/drive/MyDrive/HACER/drink_neutral_9_l.mp4 exists\n",
            "/content/drive/MyDrive/HACER/drink_sad_10_s.mp4 exists\n",
            "/content/drive/MyDrive/HACER/drink_sad_1_w.mp4 exists\n",
            "/content/drive/MyDrive/HACER/drink_sad_2_l.mp4 exists\n",
            "/content/drive/MyDrive/HACER/drink_sad_3_s.mp4 exists\n",
            "/content/drive/MyDrive/HACER/drink_sad_4_m.mp4 exists\n",
            "/content/drive/MyDrive/HACER/drink_sad_5_l.mp4 exists\n",
            "/content/drive/MyDrive/HACER/drink_sad_6_m.mp4 exists\n",
            "/content/drive/MyDrive/HACER/drink_sad_7_w.mp4 exists\n",
            "/content/drive/MyDrive/HACER/drink_sad_8_w.mp4 exists\n",
            "/content/drive/MyDrive/HACER/drink_sad_9_k.mp4 exists\n",
            "/content/drive/MyDrive/HACER/putonglasses_angry_10_m.mp4 exists\n",
            "/content/drive/MyDrive/HACER/putonglasses_angry_11_h.mp4 exists\n",
            "/content/drive/MyDrive/HACER/putonglasses_angry_12_j.mp4 exists\n",
            "/content/drive/MyDrive/HACER/putonglasses_angry_1_s.mp4 exists\n",
            "/content/drive/MyDrive/HACER/putonglasses_angry_2_w.mp4 exists\n",
            "/content/drive/MyDrive/HACER/putonglasses_angry_3_h.mp4 exists\n",
            "/content/drive/MyDrive/HACER/putonglasses_angry_4_m.mp4 exists\n",
            "/content/drive/MyDrive/HACER/putonglasses_angry_5_w.mp4 exists\n",
            "/content/drive/MyDrive/HACER/putonglasses_angry_6_l.mp4 exists\n",
            "/content/drive/MyDrive/HACER/putonglasses_angry_7_j.mp4 exists\n",
            "/content/drive/MyDrive/HACER/putonglasses_angry_8_s.mp4 exists\n",
            "/content/drive/MyDrive/HACER/putonglasses_angry_9_l.mp4 exists\n",
            "/content/drive/MyDrive/HACER/putonglasses_happy_10_s.mp4 exists\n",
            "/content/drive/MyDrive/HACER/putonglasses_happy_11_a.mp4 exists\n",
            "/content/drive/MyDrive/HACER/putonglasses_happy_12_l.mp4 exists\n",
            "/content/drive/MyDrive/HACER/putonglasses_happy_13_m.mp4 exists\n",
            "/content/drive/MyDrive/HACER/putonglasses_happy_14_h.mp4 exists\n",
            "/content/drive/MyDrive/HACER/putonglasses_happy_15_j.mp4 exists\n",
            "/content/drive/MyDrive/HACER/putonglasses_happy_16_a.mp4 exists\n",
            "/content/drive/MyDrive/HACER/putonglasses_happy_1_s.mp4 exists\n",
            "/content/drive/MyDrive/HACER/putonglasses_happy_2_w.mp4 exists\n",
            "/content/drive/MyDrive/HACER/putonglasses_happy_3_t.mp4 exists\n",
            "/content/drive/MyDrive/HACER/putonglasses_happy_4_h.mp4 exists\n",
            "/content/drive/MyDrive/HACER/putonglasses_happy_5_m.mp4 exists\n",
            "/content/drive/MyDrive/HACER/putonglasses_happy_6_w.mp4 exists\n",
            "/content/drive/MyDrive/HACER/putonglasses_happy_7_l.mp4 exists\n",
            "/content/drive/MyDrive/HACER/putonglasses_happy_8_t.mp4 exists\n",
            "/content/drive/MyDrive/HACER/putonglasses_happy_9_j.mp4 exists\n",
            "/content/drive/MyDrive/HACER/putonglasses_neutral_10_m.mp4 exists\n",
            "/content/drive/MyDrive/HACER/putonglasses_neutral_11_m.mp4 exists\n",
            "/content/drive/MyDrive/HACER/putonglasses_neutral_12_h.mp4 exists\n",
            "/content/drive/MyDrive/HACER/putonglasses_neutral_13_j.mp4 exists\n",
            "/content/drive/MyDrive/HACER/putonglasses_neutral_14_a.mp4 exists\n",
            "/content/drive/MyDrive/HACER/putonglasses_neutral_1_s.mp4 exists\n",
            "/content/drive/MyDrive/HACER/putonglasses_neutral_2_w.mp4 exists\n",
            "/content/drive/MyDrive/HACER/putonglasses_neutral_3_t.mp4 exists\n",
            "/content/drive/MyDrive/HACER/putonglasses_neutral_4_h.mp4 exists\n",
            "/content/drive/MyDrive/HACER/putonglasses_neutral_5_w.mp4 exists\n",
            "/content/drive/MyDrive/HACER/putonglasses_neutral_6_t.mp4 exists\n",
            "/content/drive/MyDrive/HACER/putonglasses_neutral_7_j.mp4 exists\n",
            "/content/drive/MyDrive/HACER/putonglasses_neutral_8_s.mp4 exists\n",
            "/content/drive/MyDrive/HACER/putonglasses_neutral_9_l.mp4 exists\n",
            "/content/drive/MyDrive/HACER/putonglasses_sad_10_s.mp4 exists\n",
            "/content/drive/MyDrive/HACER/putonglasses_sad_11_a.mp4 exists\n",
            "/content/drive/MyDrive/HACER/putonglasses_sad_12_l.mp4 exists\n",
            "/content/drive/MyDrive/HACER/putonglasses_sad_13_m.mp4 exists\n",
            "/content/drive/MyDrive/HACER/putonglasses_sad_14_h.mp4 exists\n",
            "/content/drive/MyDrive/HACER/putonglasses_sad_15_j.mp4 exists\n",
            "/content/drive/MyDrive/HACER/putonglasses_sad_16_a.mp4 exists\n",
            "/content/drive/MyDrive/HACER/putonglasses_sad_1_s.mp4 exists\n",
            "/content/drive/MyDrive/HACER/putonglasses_sad_2_w.mp4 exists\n",
            "/content/drive/MyDrive/HACER/putonglasses_sad_3_t.mp4 exists\n",
            "/content/drive/MyDrive/HACER/putonglasses_sad_4_h.mp4 exists\n",
            "/content/drive/MyDrive/HACER/putonglasses_sad_5_m.mp4 exists\n",
            "/content/drive/MyDrive/HACER/putonglasses_sad_6_w.mp4 exists\n",
            "/content/drive/MyDrive/HACER/putonglasses_sad_7_l.mp4 exists\n",
            "/content/drive/MyDrive/HACER/putonglasses_sad_8_t.mp4 exists\n",
            "/content/drive/MyDrive/HACER/putonglasses_sad_9_j.mp4 exists\n",
            "/content/drive/MyDrive/HACER/putonjacket_angry_1_a.mp4 exists\n",
            "/content/drive/MyDrive/HACER/putonjacket_angry_2_m.mp4 exists\n",
            "/content/drive/MyDrive/HACER/putonjacket_angry_3_j.mp4 exists\n",
            "/content/drive/MyDrive/HACER/putonjacket_angry_4_a.mp4 exists\n",
            "/content/drive/MyDrive/HACER/putonjacket_angry_5_j.mp4 exists\n",
            "/content/drive/MyDrive/HACER/putonjacket_angry_6_k.mp4 exists\n",
            "/content/drive/MyDrive/HACER/putonjacket_angry_7_m.mp4 exists\n",
            "/content/drive/MyDrive/HACER/putonjacket_angry_8_k.mp4 exists\n",
            "/content/drive/MyDrive/HACER/putonjacket_happy_1_a.mp4 exists\n",
            "/content/drive/MyDrive/HACER/putonjacket_happy_2_m.mp4 exists\n",
            "/content/drive/MyDrive/HACER/putonjacket_happy_3_j.mp4 exists\n",
            "/content/drive/MyDrive/HACER/putonjacket_happy_4_a.mp4 exists\n",
            "/content/drive/MyDrive/HACER/putonjacket_happy_5_j.mp4 exists\n",
            "/content/drive/MyDrive/HACER/putonjacket_happy_6_k.mp4 exists\n",
            "/content/drive/MyDrive/HACER/putonjacket_happy_7_m.mp4 exists\n",
            "/content/drive/MyDrive/HACER/putonjacket_happy_8_k.mp4 exists\n",
            "/content/drive/MyDrive/HACER/putonjacket_neutral_10_a.mp4 exists\n",
            "/content/drive/MyDrive/HACER/putonjacket_neutral_1_a.mp4 exists\n",
            "/content/drive/MyDrive/HACER/putonjacket_neutral_2_m.mp4 exists\n",
            "/content/drive/MyDrive/HACER/putonjacket_neutral_3_j.mp4 exists\n",
            "/content/drive/MyDrive/HACER/putonjacket_neutral_4_a.mp4 exists\n",
            "/content/drive/MyDrive/HACER/putonjacket_neutral_5_a.mp4 exists\n",
            "/content/drive/MyDrive/HACER/putonjacket_neutral_6_j.mp4 exists\n",
            "/content/drive/MyDrive/HACER/putonjacket_neutral_7_k.mp4 exists\n",
            "/content/drive/MyDrive/HACER/putonjacket_neutral_8_m.mp4 exists\n",
            "/content/drive/MyDrive/HACER/putonjacket_neutral_9_k.mp4 exists\n",
            "/content/drive/MyDrive/HACER/putonjacket_sad_1_a.mp4 exists\n",
            "/content/drive/MyDrive/HACER/putonjacket_sad_2_m.mp4 exists\n",
            "/content/drive/MyDrive/HACER/putonjacket_sad_3_j.mp4 exists\n",
            "/content/drive/MyDrive/HACER/putonjacket_sad_4_j.mp4 exists\n",
            "/content/drive/MyDrive/HACER/putonjacket_sad_5_k.mp4 exists\n",
            "/content/drive/MyDrive/HACER/putonjacket_sad_6_m.mp4 exists\n",
            "/content/drive/MyDrive/HACER/read_angry_1_w.mp4 exists\n",
            "/content/drive/MyDrive/HACER/read_angry_2_j.mp4 exists\n",
            "/content/drive/MyDrive/HACER/read_angry_3_l.mp4 exists\n",
            "/content/drive/MyDrive/HACER/read_angry_4_w.mp4 exists\n",
            "/content/drive/MyDrive/HACER/read_angry_5_w.mp4 exists\n",
            "/content/drive/MyDrive/HACER/read_angry_6_l.mp4 exists\n",
            "/content/drive/MyDrive/HACER/read_angry_7_l.mp4 exists\n",
            "/content/drive/MyDrive/HACER/read_angry_8_h.mp4 exists\n",
            "/content/drive/MyDrive/HACER/read_angry_9_h.mp4 exists\n",
            "/content/drive/MyDrive/HACER/read_happy_10_j.mp4 exists\n",
            "/content/drive/MyDrive/HACER/read_happy_11_j.mp4 exists\n",
            "/content/drive/MyDrive/HACER/read_happy_1_w.mp4 exists\n",
            "/content/drive/MyDrive/HACER/read_happy_2_j.mp4 exists\n",
            "/content/drive/MyDrive/HACER/read_happy_3_l.mp4 exists\n",
            "/content/drive/MyDrive/HACER/read_happy_4_w.mp4 exists\n",
            "/content/drive/MyDrive/HACER/read_happy_5_w.mp4 exists\n",
            "/content/drive/MyDrive/HACER/read_happy_6_w.mp4 exists\n",
            "/content/drive/MyDrive/HACER/read_happy_7_l.mp4 exists\n",
            "/content/drive/MyDrive/HACER/read_happy_8_h.mp4 exists\n",
            "/content/drive/MyDrive/HACER/read_happy_9_h.mp4 exists\n",
            "/content/drive/MyDrive/HACER/read_neutral_10_h.mp4 exists\n",
            "/content/drive/MyDrive/HACER/read_neutral_11_a.mp4 exists\n",
            "/content/drive/MyDrive/HACER/read_neutral_12_t.mp4 exists\n",
            "/content/drive/MyDrive/HACER/read_neutral_13_k.mp4 exists\n",
            "/content/drive/MyDrive/HACER/read_neutral_14_a.mp4 exists\n",
            "/content/drive/MyDrive/HACER/read_neutral_15_a.mp4 exists\n",
            "/content/drive/MyDrive/HACER/read_neutral_16_k.mp4 exists\n",
            "/content/drive/MyDrive/HACER/read_neutral_17_t.mp4 exists\n",
            "/content/drive/MyDrive/HACER/read_neutral_1_w.mp4 exists\n",
            "/content/drive/MyDrive/HACER/read_neutral_2_l.mp4 exists\n",
            "/content/drive/MyDrive/HACER/read_neutral_3_l.mp4 exists\n",
            "/content/drive/MyDrive/HACER/read_neutral_4_w.mp4 exists\n",
            "/content/drive/MyDrive/HACER/read_neutral_5_w.mp4 exists\n",
            "/content/drive/MyDrive/HACER/read_neutral_6_l.mp4 exists\n",
            "/content/drive/MyDrive/HACER/read_neutral_7_l.mp4 exists\n",
            "/content/drive/MyDrive/HACER/read_neutral_8_h.mp4 exists\n",
            "/content/drive/MyDrive/HACER/read_neutral_9_h.mp4 exists\n",
            "/content/drive/MyDrive/HACER/read_sad_1_w.mp4 exists\n",
            "/content/drive/MyDrive/HACER/read_sad_2_w.mp4 exists\n",
            "/content/drive/MyDrive/HACER/read_sad_3_w.mp4 exists\n",
            "/content/drive/MyDrive/HACER/read_sad_4_h.mp4 exists\n",
            "/content/drive/MyDrive/HACER/read_sad_5_h.mp4 exists\n",
            "/content/drive/MyDrive/HACER/sitdown_angry_10_m.mp4 exists\n",
            "/content/drive/MyDrive/HACER/sitdown_angry_11_w.mp4 exists\n",
            "/content/drive/MyDrive/HACER/sitdown_angry_12_h.mp4 exists\n",
            "/content/drive/MyDrive/HACER/sitdown_angry_1_h.mp4 exists\n",
            "/content/drive/MyDrive/HACER/sitdown_angry_2_w.mp4 exists\n",
            "/content/drive/MyDrive/HACER/sitdown_angry_3_j.mp4 exists\n",
            "/content/drive/MyDrive/HACER/sitdown_angry_4_j.mp4 exists\n",
            "/content/drive/MyDrive/HACER/sitdown_angry_5_j.mp4 exists\n",
            "/content/drive/MyDrive/HACER/sitdown_angry_6_m.mp4 exists\n",
            "/content/drive/MyDrive/HACER/sitdown_angry_7_h.mp4 exists\n",
            "/content/drive/MyDrive/HACER/sitdown_angry_8_h.mp4 exists\n",
            "/content/drive/MyDrive/HACER/sitdown_angry_9_l.mp4 exists\n",
            "/content/drive/MyDrive/HACER/sitdown_happy_10_l.mp4 exists\n",
            "/content/drive/MyDrive/HACER/sitdown_happy_11_w.mp4 exists\n",
            "/content/drive/MyDrive/HACER/sitdown_happy_12_y.mp4 exists\n",
            "/content/drive/MyDrive/HACER/sitdown_happy_13_j.mp4 exists\n",
            "/content/drive/MyDrive/HACER/sitdown_happy_14_s.mp4 exists\n",
            "/content/drive/MyDrive/HACER/sitdown_happy_15_h.mp4 exists\n",
            "/content/drive/MyDrive/HACER/sitdown_happy_16_k.mp4 exists\n",
            "/content/drive/MyDrive/HACER/sitdown_happy_18_t.mp4 exists\n",
            "/content/drive/MyDrive/HACER/sitdown_happy_1_a.mp4 exists\n",
            "/content/drive/MyDrive/HACER/sitdown_happy_20_h.mp4 exists\n",
            "/content/drive/MyDrive/HACER/sitdown_happy_2_w.mp4 exists\n",
            "/content/drive/MyDrive/HACER/sitdown_happy_3_j.mp4 exists\n",
            "/content/drive/MyDrive/HACER/sitdown_happy_4_j.mp4 exists\n",
            "/content/drive/MyDrive/HACER/sitdown_happy_5_m.mp4 exists\n",
            "/content/drive/MyDrive/HACER/sitdown_happy_6_s.mp4 exists\n",
            "/content/drive/MyDrive/HACER/sitdown_happy_7_a.mp4 exists\n",
            "/content/drive/MyDrive/HACER/sitdown_happy_8_l.mp4 exists\n",
            "/content/drive/MyDrive/HACER/sitdown_happy_9_m.mp4 exists\n",
            "/content/drive/MyDrive/HACER/sitdown_neutral_10_l.mp4 exists\n",
            "/content/drive/MyDrive/HACER/sitdown_neutral_11_l.mp4 exists\n",
            "/content/drive/MyDrive/HACER/sitdown_neutral_12_w.mp4 exists\n",
            "/content/drive/MyDrive/HACER/sitdown_neutral_13_s.mp4 exists\n",
            "/content/drive/MyDrive/HACER/sitdown_neutral_14_h.mp4 exists\n",
            "/content/drive/MyDrive/HACER/sitdown_neutral_15_k.mp4 exists\n",
            "/content/drive/MyDrive/HACER/sitdown_neutral_16_y.mp4 exists\n",
            "/content/drive/MyDrive/HACER/sitdown_neutral_17_t.mp4 exists\n",
            "/content/drive/MyDrive/HACER/sitdown_neutral_18_t.mp4 exists\n",
            "/content/drive/MyDrive/HACER/sitdown_neutral_19_y.mp4 exists\n",
            "/content/drive/MyDrive/HACER/sitdown_neutral_1_a.mp4 exists\n",
            "/content/drive/MyDrive/HACER/sitdown_neutral_20_t.mp4 exists\n",
            "/content/drive/MyDrive/HACER/sitdown_neutral_21_t.mp4 exists\n",
            "/content/drive/MyDrive/HACER/sitdown_neutral_22_h.mp4 exists\n",
            "/content/drive/MyDrive/HACER/sitdown_neutral_2_a.mp4 exists\n",
            "/content/drive/MyDrive/HACER/sitdown_neutral_3_w.mp4 exists\n",
            "/content/drive/MyDrive/HACER/sitdown_neutral_4_j.mp4 exists\n",
            "/content/drive/MyDrive/HACER/sitdown_neutral_5_j.mp4 exists\n",
            "/content/drive/MyDrive/HACER/sitdown_neutral_6_s.mp4 exists\n",
            "/content/drive/MyDrive/HACER/sitdown_neutral_7_s.mp4 exists\n",
            "/content/drive/MyDrive/HACER/sitdown_neutral_8_h.mp4 exists\n",
            "/content/drive/MyDrive/HACER/sitdown_neutral_9_h.mp4 exists\n",
            "/content/drive/MyDrive/HACER/sitdown_sad_10_l.mp4 exists\n",
            "/content/drive/MyDrive/HACER/sitdown_sad_11_s.mp4 exists\n",
            "/content/drive/MyDrive/HACER/sitdown_sad_12_s.mp4 exists\n",
            "/content/drive/MyDrive/HACER/sitdown_sad_13_j.mp4 exists\n",
            "/content/drive/MyDrive/HACER/sitdown_sad_14_h.mp4 exists\n",
            "/content/drive/MyDrive/HACER/sitdown_sad_1_h.mp4 exists\n",
            "/content/drive/MyDrive/HACER/sitdown_sad_2_a.mp4 exists\n",
            "/content/drive/MyDrive/HACER/sitdown_sad_3_w.mp4 exists\n",
            "/content/drive/MyDrive/HACER/sitdown_sad_4_m.mp4 exists\n",
            "/content/drive/MyDrive/HACER/sitdown_sad_5_s.mp4 exists\n",
            "/content/drive/MyDrive/HACER/sitdown_sad_6_h.mp4 exists\n",
            "/content/drive/MyDrive/HACER/sitdown_sad_7_a.mp4 exists\n",
            "/content/drive/MyDrive/HACER/sitdown_sad_8_l.mp4 exists\n",
            "/content/drive/MyDrive/HACER/sitdown_sad_9_m.mp4 exists\n",
            "/content/drive/MyDrive/HACER/standup_angry_10_w.mp4 exists\n",
            "/content/drive/MyDrive/HACER/standup_angry_11_s.mp4 exists\n",
            "/content/drive/MyDrive/HACER/standup_angry_12_h.mp4 exists\n",
            "/content/drive/MyDrive/HACER/standup_angry_1_h.mp4 exists\n",
            "/content/drive/MyDrive/HACER/standup_angry_2_w.mp4 exists\n",
            "/content/drive/MyDrive/HACER/standup_angry_3_j.mp4 exists\n",
            "/content/drive/MyDrive/HACER/standup_angry_4_j.mp4 exists\n",
            "/content/drive/MyDrive/HACER/standup_angry_5_j.mp4 exists\n",
            "/content/drive/MyDrive/HACER/standup_angry_6_m.mp4 exists\n",
            "/content/drive/MyDrive/HACER/standup_angry_7_h.mp4 exists\n",
            "/content/drive/MyDrive/HACER/standup_angry_8_l.mp4 exists\n",
            "/content/drive/MyDrive/HACER/standup_angry_9_w.mp4 exists\n",
            "/content/drive/MyDrive/HACER/standup_happy_10_l.mp4 exists\n",
            "/content/drive/MyDrive/HACER/standup_happy_11_m.mp4 exists\n",
            "/content/drive/MyDrive/HACER/standup_happy_12_l.mp4 exists\n",
            "/content/drive/MyDrive/HACER/standup_happy_13_y.mp4 exists\n",
            "/content/drive/MyDrive/HACER/standup_happy_14_j.mp4 exists\n",
            "/content/drive/MyDrive/HACER/standup_happy_15_s.mp4 exists\n",
            "/content/drive/MyDrive/HACER/standup_happy_16_h.mp4 exists\n",
            "/content/drive/MyDrive/HACER/standup_happy_17_k.mp4 exists\n",
            "/content/drive/MyDrive/HACER/standup_happy_18_y.mp4 exists\n",
            "/content/drive/MyDrive/HACER/standup_happy_19_y.mp4 exists\n",
            "/content/drive/MyDrive/HACER/standup_happy_1_a.mp4 exists\n",
            "/content/drive/MyDrive/HACER/standup_happy_20_y.mp4 exists\n",
            "/content/drive/MyDrive/HACER/standup_happy_21_t.mp4 exists\n",
            "/content/drive/MyDrive/HACER/standup_happy_22_y.mp4 exists\n",
            "/content/drive/MyDrive/HACER/standup_happy_23_t.mp4 exists\n",
            "/content/drive/MyDrive/HACER/standup_happy_24_h.mp4 exists\n",
            "/content/drive/MyDrive/HACER/standup_happy_2_w.mp4 exists\n",
            "/content/drive/MyDrive/HACER/standup_happy_3_j.mp4 exists\n",
            "/content/drive/MyDrive/HACER/standup_happy_4_j.mp4 exists\n",
            "/content/drive/MyDrive/HACER/standup_happy_5_m.mp4 exists\n",
            "/content/drive/MyDrive/HACER/standup_happy_6_s.mp4 exists\n",
            "/content/drive/MyDrive/HACER/standup_happy_7_h.mp4 exists\n",
            "/content/drive/MyDrive/HACER/standup_happy_8_a.mp4 exists\n",
            "/content/drive/MyDrive/HACER/standup_happy_9_h.mp4 exists\n",
            "/content/drive/MyDrive/HACER/standup_neutral_10_l.mp4 exists\n",
            "/content/drive/MyDrive/HACER/standup_neutral_11_m.mp4 exists\n",
            "/content/drive/MyDrive/HACER/standup_neutral_12_l.mp4 exists\n",
            "/content/drive/MyDrive/HACER/standup_neutral_13_y.mp4 exists\n",
            "/content/drive/MyDrive/HACER/standup_neutral_14_s.mp4 exists\n",
            "/content/drive/MyDrive/HACER/standup_neutral_15_h.mp4 exists\n",
            "/content/drive/MyDrive/HACER/standup_neutral_16_k.mp4 exists\n",
            "/content/drive/MyDrive/HACER/standup_neutral_17_y.mp4 exists\n",
            "/content/drive/MyDrive/HACER/standup_neutral_18_t.mp4 exists\n",
            "/content/drive/MyDrive/HACER/standup_neutral_19_y.mp4 exists\n",
            "/content/drive/MyDrive/HACER/standup_neutral_1_a.mp4 exists\n",
            "/content/drive/MyDrive/HACER/standup_neutral_20_t.mp4 exists\n",
            "/content/drive/MyDrive/HACER/standup_neutral_2_w.mp4 exists\n",
            "/content/drive/MyDrive/HACER/standup_neutral_3_j.mp4 exists\n",
            "/content/drive/MyDrive/HACER/standup_neutral_4_j.mp4 exists\n",
            "/content/drive/MyDrive/HACER/standup_neutral_5_s.mp4 exists\n",
            "/content/drive/MyDrive/HACER/standup_neutral_6_s.mp4 exists\n",
            "/content/drive/MyDrive/HACER/standup_neutral_7_h.mp4 exists\n",
            "/content/drive/MyDrive/HACER/standup_neutral_8_a.mp4 exists\n",
            "/content/drive/MyDrive/HACER/standup_neutral_9_h.mp4 exists\n",
            "/content/drive/MyDrive/HACER/standup_sad_10_l.mp4 exists\n",
            "/content/drive/MyDrive/HACER/standup_sad_11_l.mp4 exists\n",
            "/content/drive/MyDrive/HACER/standup_sad_12_w.mp4 exists\n",
            "/content/drive/MyDrive/HACER/standup_sad_13_s.mp4 exists\n",
            "/content/drive/MyDrive/HACER/standup_sad_14_j.mp4 exists\n",
            "/content/drive/MyDrive/HACER/standup_sad_15_h.mp4 exists\n",
            "/content/drive/MyDrive/HACER/standup_sad_16_l.mp4 exists\n",
            "/content/drive/MyDrive/HACER/standup_sad_1_h.mp4 exists\n",
            "/content/drive/MyDrive/HACER/standup_sad_2_h.mp4 exists\n",
            "/content/drive/MyDrive/HACER/standup_sad_3_a.mp4 exists\n",
            "/content/drive/MyDrive/HACER/standup_sad_4_w.mp4 exists\n",
            "/content/drive/MyDrive/HACER/standup_sad_5_m.mp4 exists\n",
            "/content/drive/MyDrive/HACER/standup_sad_6_s.mp4 exists\n",
            "/content/drive/MyDrive/HACER/standup_sad_7_h.mp4 exists\n",
            "/content/drive/MyDrive/HACER/standup_sad_8_a.mp4 exists\n",
            "/content/drive/MyDrive/HACER/standup_sad_9_m.mp4 exists\n",
            "/content/drive/MyDrive/HACER/takeoffglasses_angry_10_m.mp4 exists\n",
            "/content/drive/MyDrive/HACER/takeoffglasses_angry_11_h.mp4 exists\n",
            "/content/drive/MyDrive/HACER/takeoffglasses_angry_12_j.mp4 exists\n",
            "/content/drive/MyDrive/HACER/takeoffglasses_angry_1_s.mp4 exists\n",
            "/content/drive/MyDrive/HACER/takeoffglasses_angry_2_w.mp4 exists\n",
            "/content/drive/MyDrive/HACER/takeoffglasses_angry_3_h.mp4 exists\n",
            "/content/drive/MyDrive/HACER/takeoffglasses_angry_4_m.mp4 exists\n",
            "/content/drive/MyDrive/HACER/takeoffglasses_angry_5_w.mp4 exists\n",
            "/content/drive/MyDrive/HACER/takeoffglasses_angry_6_l.mp4 exists\n",
            "/content/drive/MyDrive/HACER/takeoffglasses_angry_7_j.mp4 exists\n",
            "/content/drive/MyDrive/HACER/takeoffglasses_angry_8_s.mp4 exists\n",
            "/content/drive/MyDrive/HACER/takeoffglasses_angry_9_l.mp4 exists\n",
            "/content/drive/MyDrive/HACER/takeoffglasses_happy_10_s.mp4 exists\n",
            "/content/drive/MyDrive/HACER/takeoffglasses_happy_11_a.mp4 exists\n",
            "/content/drive/MyDrive/HACER/takeoffglasses_happy_12_l.mp4 exists\n",
            "/content/drive/MyDrive/HACER/takeoffglasses_happy_13_m.mp4 exists\n",
            "/content/drive/MyDrive/HACER/takeoffglasses_happy_14_h.mp4 exists\n",
            "/content/drive/MyDrive/HACER/takeoffglasses_happy_15_j.mp4 exists\n",
            "/content/drive/MyDrive/HACER/takeoffglasses_happy_1_s.mp4 exists\n",
            "/content/drive/MyDrive/HACER/takeoffglasses_happy_2_w.mp4 exists\n",
            "/content/drive/MyDrive/HACER/takeoffglasses_happy_3_t.mp4 exists\n",
            "/content/drive/MyDrive/HACER/takeoffglasses_happy_4_h.mp4 exists\n",
            "/content/drive/MyDrive/HACER/takeoffglasses_happy_5_m.mp4 exists\n",
            "/content/drive/MyDrive/HACER/takeoffglasses_happy_6_w.mp4 exists\n",
            "/content/drive/MyDrive/HACER/takeoffglasses_happy_7_l.mp4 exists\n",
            "/content/drive/MyDrive/HACER/takeoffglasses_happy_8_t.mp4 exists\n",
            "/content/drive/MyDrive/HACER/takeoffglasses_happy_9_j.mp4 exists\n",
            "/content/drive/MyDrive/HACER/takeoffglasses_neutral_10_a.mp4 exists\n",
            "/content/drive/MyDrive/HACER/takeoffglasses_neutral_11_l.mp4 exists\n",
            "/content/drive/MyDrive/HACER/takeoffglasses_neutral_12_m.mp4 exists\n",
            "/content/drive/MyDrive/HACER/takeoffglasses_neutral_13_m.mp4 exists\n",
            "/content/drive/MyDrive/HACER/takeoffglasses_neutral_14_h.mp4 exists\n",
            "/content/drive/MyDrive/HACER/takeoffglasses_neutral_15_j.mp4 exists\n",
            "/content/drive/MyDrive/HACER/takeoffglasses_neutral_16_a.mp4 exists\n",
            "/content/drive/MyDrive/HACER/takeoffglasses_neutral_17_a.mp4 exists\n",
            "/content/drive/MyDrive/HACER/takeoffglasses_neutral_1_s.mp4 exists\n",
            "/content/drive/MyDrive/HACER/takeoffglasses_neutral_2_w.mp4 exists\n",
            "/content/drive/MyDrive/HACER/takeoffglasses_neutral_3_t.mp4 exists\n",
            "/content/drive/MyDrive/HACER/takeoffglasses_neutral_4_h.mp4 exists\n",
            "/content/drive/MyDrive/HACER/takeoffglasses_neutral_5_w.mp4 exists\n",
            "/content/drive/MyDrive/HACER/takeoffglasses_neutral_6_l.mp4 exists\n",
            "/content/drive/MyDrive/HACER/takeoffglasses_neutral_7_t.mp4 exists\n",
            "/content/drive/MyDrive/HACER/takeoffglasses_neutral_8_J.mp4 exists\n",
            "/content/drive/MyDrive/HACER/takeoffglasses_neutral_9_s.mp4 exists\n",
            "/content/drive/MyDrive/HACER/takeoffglasses_sad_10_s.mp4 exists\n",
            "/content/drive/MyDrive/HACER/takeoffglasses_sad_11_a.mp4 exists\n",
            "/content/drive/MyDrive/HACER/takeoffglasses_sad_12_l.mp4 exists\n",
            "/content/drive/MyDrive/HACER/takeoffglasses_sad_13_m.mp4 exists\n",
            "/content/drive/MyDrive/HACER/takeoffglasses_sad_14_h.mp4 exists\n",
            "/content/drive/MyDrive/HACER/takeoffglasses_sad_15_j.mp4 exists\n",
            "/content/drive/MyDrive/HACER/takeoffglasses_sad_1_s.mp4 exists\n",
            "/content/drive/MyDrive/HACER/takeoffglasses_sad_2_w.mp4 exists\n",
            "/content/drive/MyDrive/HACER/takeoffglasses_sad_3_t.mp4 exists\n",
            "/content/drive/MyDrive/HACER/takeoffglasses_sad_4_h.mp4 exists\n",
            "/content/drive/MyDrive/HACER/takeoffglasses_sad_5_m.mp4 exists\n",
            "/content/drive/MyDrive/HACER/takeoffglasses_sad_6_w.mp4 exists\n",
            "/content/drive/MyDrive/HACER/takeoffglasses_sad_7_l.mp4 exists\n",
            "/content/drive/MyDrive/HACER/takeoffglasses_sad_8_t.mp4 exists\n",
            "/content/drive/MyDrive/HACER/takeoffglasses_sad_9_j.mp4 exists\n",
            "/content/drive/MyDrive/HACER/takeoffjacket_angry_1_a.mp4 exists\n",
            "/content/drive/MyDrive/HACER/takeoffjacket_angry_2_m.mp4 exists\n",
            "/content/drive/MyDrive/HACER/takeoffjacket_angry_3_k.mp4 exists\n",
            "/content/drive/MyDrive/HACER/takeoffjacket_angry_4_a.mp4 exists\n",
            "/content/drive/MyDrive/HACER/takeoffjacket_angry_5_j.mp4 exists\n",
            "/content/drive/MyDrive/HACER/takeoffjacket_angry_6_k.mp4 exists\n",
            "/content/drive/MyDrive/HACER/takeoffjacket_angry_7_k.mp4 exists\n",
            "/content/drive/MyDrive/HACER/takeoffjacket_angry_8_k.mp4 exists\n",
            "/content/drive/MyDrive/HACER/takeoffjacket_happy_10_a.mp4 exists\n",
            "/content/drive/MyDrive/HACER/takeoffjacket_happy_1_a.mp4 exists\n",
            "/content/drive/MyDrive/HACER/takeoffjacket_happy_2_m.mp4 exists\n",
            "/content/drive/MyDrive/HACER/takeoffjacket_happy_3_j.mp4 exists\n",
            "/content/drive/MyDrive/HACER/takeoffjacket_happy_4_a.mp4 exists\n",
            "/content/drive/MyDrive/HACER/takeoffjacket_happy_5_j.mp4 exists\n",
            "/content/drive/MyDrive/HACER/takeoffjacket_happy_6_k.mp4 exists\n",
            "/content/drive/MyDrive/HACER/takeoffjacket_happy_7_m.mp4 exists\n",
            "/content/drive/MyDrive/HACER/takeoffjacket_happy_8_a.mp4 exists\n",
            "/content/drive/MyDrive/HACER/takeoffjacket_happy_9_k.mp4 exists\n",
            "/content/drive/MyDrive/HACER/takeoffjacket_neutral_1_a.mp4 exists\n",
            "/content/drive/MyDrive/HACER/takeoffjacket_neutral_2_m.mp4 exists\n",
            "/content/drive/MyDrive/HACER/takeoffjacket_neutral_3_j.mp4 exists\n",
            "/content/drive/MyDrive/HACER/takeoffjacket_neutral_4_a.mp4 exists\n",
            "/content/drive/MyDrive/HACER/takeoffjacket_neutral_5_a.mp4 exists\n",
            "/content/drive/MyDrive/HACER/takeoffjacket_neutral_6_j.mp4 exists\n",
            "/content/drive/MyDrive/HACER/takeoffjacket_neutral_7_k.mp4 exists\n",
            "/content/drive/MyDrive/HACER/takeoffjacket_neutral_8_m.mp4 exists\n",
            "/content/drive/MyDrive/HACER/takeoffjacket_neutral_9_k.mp4 exists\n",
            "/content/drive/MyDrive/HACER/takeoffjacket_sad_1_a.mp4 exists\n",
            "/content/drive/MyDrive/HACER/takeoffjacket_sad_2_j.mp4 exists\n",
            "/content/drive/MyDrive/HACER/takeoffjacket_sad_3_j.mp4 exists\n",
            "/content/drive/MyDrive/HACER/takeoffjacket_sad_4_k.mp4 exists\n",
            "/content/drive/MyDrive/HACER/takeoffjacket_sad_5_m.mp4 exists\n",
            "/content/drive/MyDrive/HACER/takeoffjacket_sad_6_k.mp4 exists\n",
            "/content/drive/MyDrive/HACER/takeoffjacket_sad_7_k.mp4 exists\n",
            "/content/drive/MyDrive/HACER/write_angry_10_s.mp4 exists\n",
            "/content/drive/MyDrive/HACER/write_angry_11_l.mp4 exists\n",
            "/content/drive/MyDrive/HACER/write_angry_12_l.mp4 exists\n",
            "/content/drive/MyDrive/HACER/write_angry_13_l.mp4 exists\n",
            "/content/drive/MyDrive/HACER/write_angry_14_t.mp4 exists\n",
            "/content/drive/MyDrive/HACER/write_angry_1_w.mp4 exists\n",
            "/content/drive/MyDrive/HACER/write_angry_2_w.mp4 exists\n",
            "/content/drive/MyDrive/HACER/write_angry_3_j.mp4 exists\n",
            "/content/drive/MyDrive/HACER/write_angry_4_s.mp4 exists\n",
            "/content/drive/MyDrive/HACER/write_angry_5_s.mp4 exists\n",
            "/content/drive/MyDrive/HACER/write_angry_6_w.mp4 exists\n",
            "/content/drive/MyDrive/HACER/write_angry_7_w.mp4 exists\n",
            "/content/drive/MyDrive/HACER/write_angry_8_w.mp4 exists\n",
            "/content/drive/MyDrive/HACER/write_angry_9_s.mp4 exists\n",
            "/content/drive/MyDrive/HACER/write_happy_10_j.mp4 exists\n",
            "/content/drive/MyDrive/HACER/write_happy_11_t.mp4 exists\n",
            "/content/drive/MyDrive/HACER/write_happy_12_t.mp4 exists\n",
            "/content/drive/MyDrive/HACER/write_happy_1_w.mp4 exists\n",
            "/content/drive/MyDrive/HACER/write_happy_2_w.mp4 exists\n",
            "/content/drive/MyDrive/HACER/write_happy_3_j.mp4 exists\n",
            "/content/drive/MyDrive/HACER/write_happy_4_s.mp4 exists\n",
            "/content/drive/MyDrive/HACER/write_happy_5_w.mp4 exists\n",
            "/content/drive/MyDrive/HACER/write_happy_6_s.mp4 exists\n",
            "/content/drive/MyDrive/HACER/write_happy_7_l.mp4 exists\n",
            "/content/drive/MyDrive/HACER/write_happy_8_l.mp4 exists\n",
            "/content/drive/MyDrive/HACER/write_happy_9_l.mp4 exists\n",
            "/content/drive/MyDrive/HACER/write_neutral_10_t.mp4 exists\n",
            "/content/drive/MyDrive/HACER/write_neutral_11_a.mp4 exists\n",
            "/content/drive/MyDrive/HACER/write_neutral_12_a.mp4 exists\n",
            "/content/drive/MyDrive/HACER/write_neutral_1_w.mp4 exists\n",
            "/content/drive/MyDrive/HACER/write_neutral_2_j.mp4 exists\n",
            "/content/drive/MyDrive/HACER/write_neutral_3_s.mp4 exists\n",
            "/content/drive/MyDrive/HACER/write_neutral_4_s.mp4 exists\n",
            "/content/drive/MyDrive/HACER/write_neutral_5_s.mp4 exists\n",
            "/content/drive/MyDrive/HACER/write_neutral_6_l.mp4 exists\n",
            "/content/drive/MyDrive/HACER/write_neutral_7_j.mp4 exists\n",
            "/content/drive/MyDrive/HACER/write_neutral_8_a.mp4 exists\n",
            "/content/drive/MyDrive/HACER/write_neutral_9_t.mp4 exists\n"
          ]
        }
      ]
    },
    {
      "cell_type": "code",
      "source": [
        "# Extract frames for each video in the dataset\n",
        "for idx, row in tqdm(data.iterrows(), total=len(data)):\n",
        "    video_path = os.path.join(VIDEO_DIR, row['video_filename'])  # Replace 'video_filename' with correct column name\n",
        "    output_dir = os.path.join(PROCESSED_FRAMES_DIR, f\"video_{idx}\")\n",
        "    os.makedirs(output_dir, exist_ok=True)\n",
        "    extract_frames(video_path, output_dir)\n",
        "\n",
        "print(\"Frame extraction complete.\")"
      ],
      "metadata": {
        "colab": {
          "base_uri": "https://localhost:8080/"
        },
        "id": "MWDsEpfryEG0",
        "outputId": "dd3c17cc-89c4-41a7-d216-c8b14731a6e3"
      },
      "execution_count": null,
      "outputs": [
        {
          "metadata": {
            "tags": null
          },
          "name": "stderr",
          "output_type": "stream",
          "text": [
            "\r  0%|          | 0/477 [00:00<?, ?it/s]"
          ]
        },
        {
          "metadata": {
            "tags": null
          },
          "name": "stdout",
          "output_type": "stream",
          "text": [
            "Processing video: /content/drive/MyDrive/HACER/drink_angry_10_h.mp4, Total frames: 141\n",
            "Saved frame: processed_frames/video_0/frame_0.jpg\n",
            "Saved frame: processed_frames/video_0/frame_1.jpg\n",
            "Saved frame: processed_frames/video_0/frame_2.jpg\n",
            "Saved frame: processed_frames/video_0/frame_3.jpg\n",
            "Saved frame: processed_frames/video_0/frame_4.jpg\n",
            "Saved frame: processed_frames/video_0/frame_5.jpg\n",
            "Saved frame: processed_frames/video_0/frame_6.jpg\n",
            "Saved frame: processed_frames/video_0/frame_7.jpg\n",
            "Saved frame: processed_frames/video_0/frame_8.jpg\n"
          ]
        },
        {
          "metadata": {
            "tags": null
          },
          "name": "stderr",
          "output_type": "stream",
          "text": [
            "\r  0%|          | 1/477 [00:05<42:26,  5.35s/it]"
          ]
        },
        {
          "metadata": {
            "tags": null
          },
          "name": "stdout",
          "output_type": "stream",
          "text": [
            "Saved frame: processed_frames/video_0/frame_9.jpg\n",
            "Processing video: /content/drive/MyDrive/HACER/drink_angry_1_a.mp4, Total frames: 320\n",
            "Saved frame: processed_frames/video_1/frame_0.jpg\n",
            "Saved frame: processed_frames/video_1/frame_1.jpg\n",
            "Saved frame: processed_frames/video_1/frame_2.jpg\n",
            "Saved frame: processed_frames/video_1/frame_3.jpg\n",
            "Saved frame: processed_frames/video_1/frame_4.jpg\n",
            "Saved frame: processed_frames/video_1/frame_5.jpg\n",
            "Saved frame: processed_frames/video_1/frame_6.jpg\n",
            "Saved frame: processed_frames/video_1/frame_7.jpg\n",
            "Saved frame: processed_frames/video_1/frame_8.jpg\n"
          ]
        },
        {
          "metadata": {
            "tags": null
          },
          "name": "stderr",
          "output_type": "stream",
          "text": [
            "\r  0%|          | 2/477 [00:12<52:16,  6.60s/it]"
          ]
        },
        {
          "metadata": {
            "tags": null
          },
          "name": "stdout",
          "output_type": "stream",
          "text": [
            "Saved frame: processed_frames/video_1/frame_9.jpg\n",
            "Processing video: /content/drive/MyDrive/HACER/drink_angry_2_w.mp4, Total frames: 213\n",
            "Saved frame: processed_frames/video_2/frame_0.jpg\n",
            "Saved frame: processed_frames/video_2/frame_1.jpg\n",
            "Saved frame: processed_frames/video_2/frame_2.jpg\n",
            "Saved frame: processed_frames/video_2/frame_3.jpg\n",
            "Saved frame: processed_frames/video_2/frame_4.jpg\n",
            "Saved frame: processed_frames/video_2/frame_5.jpg\n",
            "Saved frame: processed_frames/video_2/frame_6.jpg\n",
            "Saved frame: processed_frames/video_2/frame_7.jpg\n",
            "Saved frame: processed_frames/video_2/frame_8.jpg\n"
          ]
        },
        {
          "metadata": {
            "tags": null
          },
          "name": "stderr",
          "output_type": "stream",
          "text": [
            "\r  1%|          | 3/477 [00:17<45:23,  5.74s/it]"
          ]
        },
        {
          "metadata": {
            "tags": null
          },
          "name": "stdout",
          "output_type": "stream",
          "text": [
            "Saved frame: processed_frames/video_2/frame_9.jpg\n",
            "Processing video: /content/drive/MyDrive/HACER/drink_angry_3_j.mp4, Total frames: 371\n",
            "Saved frame: processed_frames/video_3/frame_0.jpg\n",
            "Saved frame: processed_frames/video_3/frame_1.jpg\n",
            "Saved frame: processed_frames/video_3/frame_2.jpg\n",
            "Saved frame: processed_frames/video_3/frame_3.jpg\n",
            "Saved frame: processed_frames/video_3/frame_4.jpg\n",
            "Saved frame: processed_frames/video_3/frame_5.jpg\n",
            "Saved frame: processed_frames/video_3/frame_6.jpg\n",
            "Saved frame: processed_frames/video_3/frame_7.jpg\n",
            "Saved frame: processed_frames/video_3/frame_8.jpg\n"
          ]
        },
        {
          "metadata": {
            "tags": null
          },
          "name": "stderr",
          "output_type": "stream",
          "text": [
            "\r  1%|          | 4/477 [00:21<40:44,  5.17s/it]"
          ]
        },
        {
          "metadata": {
            "tags": null
          },
          "name": "stdout",
          "output_type": "stream",
          "text": [
            "Saved frame: processed_frames/video_3/frame_9.jpg\n",
            "Processing video: /content/drive/MyDrive/HACER/drink_angry_4_a.mp4, Total frames: 262\n",
            "Saved frame: processed_frames/video_4/frame_0.jpg\n",
            "Saved frame: processed_frames/video_4/frame_1.jpg\n",
            "Saved frame: processed_frames/video_4/frame_2.jpg\n",
            "Saved frame: processed_frames/video_4/frame_3.jpg\n",
            "Saved frame: processed_frames/video_4/frame_4.jpg\n",
            "Saved frame: processed_frames/video_4/frame_5.jpg\n",
            "Saved frame: processed_frames/video_4/frame_6.jpg\n",
            "Saved frame: processed_frames/video_4/frame_7.jpg\n",
            "Saved frame: processed_frames/video_4/frame_8.jpg\n"
          ]
        },
        {
          "metadata": {
            "tags": null
          },
          "name": "stderr",
          "output_type": "stream",
          "text": [
            "\r  1%|          | 5/477 [01:07<2:34:19, 19.62s/it]"
          ]
        },
        {
          "metadata": {
            "tags": null
          },
          "name": "stdout",
          "output_type": "stream",
          "text": [
            "Saved frame: processed_frames/video_4/frame_9.jpg\n",
            "Processing video: /content/drive/MyDrive/HACER/drink_angry_5_j.mp4, Total frames: 314\n",
            "Saved frame: processed_frames/video_5/frame_0.jpg\n",
            "Saved frame: processed_frames/video_5/frame_1.jpg\n",
            "Saved frame: processed_frames/video_5/frame_2.jpg\n",
            "Saved frame: processed_frames/video_5/frame_3.jpg\n",
            "Saved frame: processed_frames/video_5/frame_4.jpg\n",
            "Saved frame: processed_frames/video_5/frame_5.jpg\n",
            "Saved frame: processed_frames/video_5/frame_6.jpg\n",
            "Saved frame: processed_frames/video_5/frame_7.jpg\n"
          ]
        },
        {
          "metadata": {
            "tags": null
          },
          "name": "stderr",
          "output_type": "stream",
          "text": [
            "\r  1%|▏         | 6/477 [01:10<1:49:37, 13.97s/it]"
          ]
        },
        {
          "metadata": {
            "tags": null
          },
          "name": "stdout",
          "output_type": "stream",
          "text": [
            "Saved frame: processed_frames/video_5/frame_8.jpg\n",
            "Saved frame: processed_frames/video_5/frame_9.jpg\n",
            "Processing video: /content/drive/MyDrive/HACER/drink_angry_6_h.mp4, Total frames: 58\n",
            "Saved frame: processed_frames/video_6/frame_0.jpg\n",
            "Saved frame: processed_frames/video_6/frame_1.jpg\n",
            "Saved frame: processed_frames/video_6/frame_2.jpg\n",
            "Saved frame: processed_frames/video_6/frame_3.jpg\n",
            "Saved frame: processed_frames/video_6/frame_4.jpg\n",
            "Saved frame: processed_frames/video_6/frame_5.jpg\n",
            "Saved frame: processed_frames/video_6/frame_6.jpg\n",
            "Saved frame: processed_frames/video_6/frame_7.jpg\n",
            "Saved frame: processed_frames/video_6/frame_8.jpg\n"
          ]
        },
        {
          "metadata": {
            "tags": null
          },
          "name": "stderr",
          "output_type": "stream",
          "text": [
            "\r  1%|▏         | 7/477 [01:11<1:17:03,  9.84s/it]"
          ]
        },
        {
          "metadata": {
            "tags": null
          },
          "name": "stdout",
          "output_type": "stream",
          "text": [
            "Saved frame: processed_frames/video_6/frame_9.jpg\n",
            "Processing video: /content/drive/MyDrive/HACER/drink_angry_7_w.mp4, Total frames: 199\n",
            "Saved frame: processed_frames/video_7/frame_0.jpg\n",
            "Saved frame: processed_frames/video_7/frame_1.jpg\n",
            "Saved frame: processed_frames/video_7/frame_2.jpg\n",
            "Saved frame: processed_frames/video_7/frame_3.jpg\n",
            "Saved frame: processed_frames/video_7/frame_4.jpg\n",
            "Saved frame: processed_frames/video_7/frame_5.jpg\n",
            "Saved frame: processed_frames/video_7/frame_6.jpg\n",
            "Saved frame: processed_frames/video_7/frame_7.jpg\n",
            "Saved frame: processed_frames/video_7/frame_8.jpg\n"
          ]
        },
        {
          "metadata": {
            "tags": null
          },
          "name": "stderr",
          "output_type": "stream",
          "text": [
            "\r  2%|▏         | 8/477 [01:14<1:00:05,  7.69s/it]"
          ]
        },
        {
          "metadata": {
            "tags": null
          },
          "name": "stdout",
          "output_type": "stream",
          "text": [
            "Saved frame: processed_frames/video_7/frame_9.jpg\n",
            "Processing video: /content/drive/MyDrive/HACER/drink_angry_8_h.mp4, Total frames: 154\n",
            "Saved frame: processed_frames/video_8/frame_0.jpg\n",
            "Saved frame: processed_frames/video_8/frame_1.jpg\n",
            "Saved frame: processed_frames/video_8/frame_2.jpg\n",
            "Saved frame: processed_frames/video_8/frame_3.jpg\n",
            "Saved frame: processed_frames/video_8/frame_4.jpg\n",
            "Saved frame: processed_frames/video_8/frame_5.jpg\n",
            "Saved frame: processed_frames/video_8/frame_6.jpg\n",
            "Saved frame: processed_frames/video_8/frame_7.jpg\n",
            "Saved frame: processed_frames/video_8/frame_8.jpg\n"
          ]
        },
        {
          "metadata": {
            "tags": null
          },
          "name": "stderr",
          "output_type": "stream",
          "text": [
            "\r  2%|▏         | 9/477 [01:18<50:07,  6.43s/it]  "
          ]
        },
        {
          "metadata": {
            "tags": null
          },
          "name": "stdout",
          "output_type": "stream",
          "text": [
            "Saved frame: processed_frames/video_8/frame_9.jpg\n",
            "Processing video: /content/drive/MyDrive/HACER/drink_angry_9_k.mp4, Total frames: 157\n",
            "Saved frame: processed_frames/video_9/frame_0.jpg\n",
            "Saved frame: processed_frames/video_9/frame_1.jpg\n",
            "Saved frame: processed_frames/video_9/frame_2.jpg\n",
            "Saved frame: processed_frames/video_9/frame_3.jpg\n",
            "Saved frame: processed_frames/video_9/frame_4.jpg\n",
            "Saved frame: processed_frames/video_9/frame_5.jpg\n",
            "Saved frame: processed_frames/video_9/frame_6.jpg\n",
            "Saved frame: processed_frames/video_9/frame_7.jpg\n",
            "Saved frame: processed_frames/video_9/frame_8.jpg\n"
          ]
        },
        {
          "metadata": {
            "tags": null
          },
          "name": "stderr",
          "output_type": "stream",
          "text": [
            "\r  2%|▏         | 10/477 [01:24<49:31,  6.36s/it]"
          ]
        },
        {
          "metadata": {
            "tags": null
          },
          "name": "stdout",
          "output_type": "stream",
          "text": [
            "Saved frame: processed_frames/video_9/frame_9.jpg\n",
            "Processing video: /content/drive/MyDrive/HACER/drink_disgust_10_m.mp4, Total frames: 330\n",
            "Saved frame: processed_frames/video_10/frame_0.jpg\n",
            "Saved frame: processed_frames/video_10/frame_1.jpg\n",
            "Saved frame: processed_frames/video_10/frame_2.jpg\n",
            "Saved frame: processed_frames/video_10/frame_3.jpg\n",
            "Saved frame: processed_frames/video_10/frame_4.jpg\n",
            "Saved frame: processed_frames/video_10/frame_5.jpg\n",
            "Saved frame: processed_frames/video_10/frame_6.jpg\n",
            "Saved frame: processed_frames/video_10/frame_7.jpg\n",
            "Saved frame: processed_frames/video_10/frame_8.jpg\n"
          ]
        },
        {
          "metadata": {
            "tags": null
          },
          "name": "stderr",
          "output_type": "stream",
          "text": [
            "\r  2%|▏         | 11/477 [01:28<43:03,  5.54s/it]"
          ]
        },
        {
          "metadata": {
            "tags": null
          },
          "name": "stdout",
          "output_type": "stream",
          "text": [
            "Saved frame: processed_frames/video_10/frame_9.jpg\n",
            "Processing video: /content/drive/MyDrive/HACER/drink_disgust_11_w.mp4, Total frames: 199\n",
            "Saved frame: processed_frames/video_11/frame_0.jpg\n",
            "Saved frame: processed_frames/video_11/frame_1.jpg\n",
            "Saved frame: processed_frames/video_11/frame_2.jpg\n",
            "Saved frame: processed_frames/video_11/frame_3.jpg\n",
            "Saved frame: processed_frames/video_11/frame_4.jpg\n",
            "Saved frame: processed_frames/video_11/frame_5.jpg\n",
            "Saved frame: processed_frames/video_11/frame_6.jpg\n",
            "Saved frame: processed_frames/video_11/frame_7.jpg\n",
            "Saved frame: processed_frames/video_11/frame_8.jpg\n"
          ]
        },
        {
          "metadata": {
            "tags": null
          },
          "name": "stderr",
          "output_type": "stream",
          "text": [
            "\r  3%|▎         | 12/477 [01:30<36:30,  4.71s/it]"
          ]
        },
        {
          "metadata": {
            "tags": null
          },
          "name": "stdout",
          "output_type": "stream",
          "text": [
            "Saved frame: processed_frames/video_11/frame_9.jpg\n",
            "Processing video: /content/drive/MyDrive/HACER/drink_disgust_12_h.mp4, Total frames: 267\n",
            "Saved frame: processed_frames/video_12/frame_0.jpg\n",
            "Saved frame: processed_frames/video_12/frame_1.jpg\n",
            "Saved frame: processed_frames/video_12/frame_2.jpg\n",
            "Saved frame: processed_frames/video_12/frame_3.jpg\n",
            "Saved frame: processed_frames/video_12/frame_4.jpg\n",
            "Saved frame: processed_frames/video_12/frame_5.jpg\n",
            "Saved frame: processed_frames/video_12/frame_6.jpg\n",
            "Saved frame: processed_frames/video_12/frame_7.jpg\n",
            "Saved frame: processed_frames/video_12/frame_8.jpg\n"
          ]
        },
        {
          "metadata": {
            "tags": null
          },
          "name": "stderr",
          "output_type": "stream",
          "text": [
            "\r  3%|▎         | 13/477 [01:33<32:42,  4.23s/it]"
          ]
        },
        {
          "metadata": {
            "tags": null
          },
          "name": "stdout",
          "output_type": "stream",
          "text": [
            "Saved frame: processed_frames/video_12/frame_9.jpg\n",
            "Processing video: /content/drive/MyDrive/HACER/drink_disgust_13_k.mp4, Total frames: 156\n",
            "Saved frame: processed_frames/video_13/frame_0.jpg\n",
            "Saved frame: processed_frames/video_13/frame_1.jpg\n",
            "Saved frame: processed_frames/video_13/frame_2.jpg\n",
            "Saved frame: processed_frames/video_13/frame_3.jpg\n",
            "Saved frame: processed_frames/video_13/frame_4.jpg\n",
            "Saved frame: processed_frames/video_13/frame_5.jpg\n",
            "Saved frame: processed_frames/video_13/frame_6.jpg\n",
            "Saved frame: processed_frames/video_13/frame_7.jpg\n",
            "Saved frame: processed_frames/video_13/frame_8.jpg\n"
          ]
        },
        {
          "metadata": {
            "tags": null
          },
          "name": "stderr",
          "output_type": "stream",
          "text": [
            "\r  3%|▎         | 14/477 [01:39<35:18,  4.58s/it]"
          ]
        },
        {
          "metadata": {
            "tags": null
          },
          "name": "stdout",
          "output_type": "stream",
          "text": [
            "Saved frame: processed_frames/video_13/frame_9.jpg\n",
            "Processing video: /content/drive/MyDrive/HACER/drink_disgust_14_t.mp4, Total frames: 267\n",
            "Saved frame: processed_frames/video_14/frame_0.jpg\n",
            "Saved frame: processed_frames/video_14/frame_1.jpg\n",
            "Saved frame: processed_frames/video_14/frame_2.jpg\n",
            "Saved frame: processed_frames/video_14/frame_3.jpg\n",
            "Saved frame: processed_frames/video_14/frame_4.jpg\n",
            "Saved frame: processed_frames/video_14/frame_5.jpg\n",
            "Saved frame: processed_frames/video_14/frame_6.jpg\n",
            "Saved frame: processed_frames/video_14/frame_7.jpg\n",
            "Saved frame: processed_frames/video_14/frame_8.jpg\n"
          ]
        },
        {
          "metadata": {
            "tags": null
          },
          "name": "stderr",
          "output_type": "stream",
          "text": [
            "\r  3%|▎         | 15/477 [01:43<34:49,  4.52s/it]"
          ]
        },
        {
          "metadata": {
            "tags": null
          },
          "name": "stdout",
          "output_type": "stream",
          "text": [
            "Saved frame: processed_frames/video_14/frame_9.jpg\n",
            "Processing video: /content/drive/MyDrive/HACER/drink_disgust_15_s.mp4, Total frames: 274\n",
            "Saved frame: processed_frames/video_15/frame_0.jpg\n",
            "Saved frame: processed_frames/video_15/frame_1.jpg\n",
            "Saved frame: processed_frames/video_15/frame_2.jpg\n",
            "Saved frame: processed_frames/video_15/frame_3.jpg\n",
            "Saved frame: processed_frames/video_15/frame_4.jpg\n",
            "Saved frame: processed_frames/video_15/frame_5.jpg\n",
            "Saved frame: processed_frames/video_15/frame_6.jpg\n",
            "Saved frame: processed_frames/video_15/frame_7.jpg\n",
            "Saved frame: processed_frames/video_15/frame_8.jpg\n"
          ]
        },
        {
          "metadata": {
            "tags": null
          },
          "name": "stderr",
          "output_type": "stream",
          "text": [
            "\r  3%|▎         | 16/477 [01:47<32:17,  4.20s/it]"
          ]
        },
        {
          "metadata": {
            "tags": null
          },
          "name": "stdout",
          "output_type": "stream",
          "text": [
            "Saved frame: processed_frames/video_15/frame_9.jpg\n",
            "Processing video: /content/drive/MyDrive/HACER/drink_disgust_16_t.mp4, Total frames: 203\n",
            "Saved frame: processed_frames/video_16/frame_0.jpg\n",
            "Saved frame: processed_frames/video_16/frame_1.jpg\n",
            "Saved frame: processed_frames/video_16/frame_2.jpg\n",
            "Saved frame: processed_frames/video_16/frame_3.jpg\n",
            "Saved frame: processed_frames/video_16/frame_4.jpg\n",
            "Saved frame: processed_frames/video_16/frame_5.jpg\n",
            "Saved frame: processed_frames/video_16/frame_6.jpg\n",
            "Saved frame: processed_frames/video_16/frame_7.jpg\n",
            "Saved frame: processed_frames/video_16/frame_8.jpg\n"
          ]
        },
        {
          "metadata": {
            "tags": null
          },
          "name": "stderr",
          "output_type": "stream",
          "text": [
            "\r  4%|▎         | 17/477 [01:50<31:15,  4.08s/it]"
          ]
        },
        {
          "metadata": {
            "tags": null
          },
          "name": "stdout",
          "output_type": "stream",
          "text": [
            "Saved frame: processed_frames/video_16/frame_9.jpg\n",
            "Processing video: /content/drive/MyDrive/HACER/drink_disgust_17_h.mp4, Total frames: 256\n",
            "Saved frame: processed_frames/video_17/frame_0.jpg\n",
            "Saved frame: processed_frames/video_17/frame_1.jpg\n",
            "Saved frame: processed_frames/video_17/frame_2.jpg\n",
            "Saved frame: processed_frames/video_17/frame_3.jpg\n",
            "Saved frame: processed_frames/video_17/frame_4.jpg\n",
            "Saved frame: processed_frames/video_17/frame_5.jpg\n",
            "Saved frame: processed_frames/video_17/frame_6.jpg\n",
            "Saved frame: processed_frames/video_17/frame_7.jpg\n",
            "Saved frame: processed_frames/video_17/frame_8.jpg\n"
          ]
        },
        {
          "metadata": {
            "tags": null
          },
          "name": "stderr",
          "output_type": "stream",
          "text": [
            "\r  4%|▍         | 18/477 [01:56<35:19,  4.62s/it]"
          ]
        },
        {
          "metadata": {
            "tags": null
          },
          "name": "stdout",
          "output_type": "stream",
          "text": [
            "Saved frame: processed_frames/video_17/frame_9.jpg\n",
            "Processing video: /content/drive/MyDrive/HACER/drink_disgust_18_k.mp4, Total frames: 30\n",
            "Saved frame: processed_frames/video_18/frame_0.jpg\n",
            "Saved frame: processed_frames/video_18/frame_1.jpg\n",
            "Saved frame: processed_frames/video_18/frame_2.jpg\n",
            "Saved frame: processed_frames/video_18/frame_3.jpg\n",
            "Saved frame: processed_frames/video_18/frame_4.jpg\n",
            "Saved frame: processed_frames/video_18/frame_5.jpg\n",
            "Saved frame: processed_frames/video_18/frame_6.jpg\n",
            "Saved frame: processed_frames/video_18/frame_7.jpg\n"
          ]
        },
        {
          "metadata": {
            "tags": null
          },
          "name": "stderr",
          "output_type": "stream",
          "text": [
            "\r  4%|▍         | 19/477 [01:57<26:53,  3.52s/it]"
          ]
        },
        {
          "metadata": {
            "tags": null
          },
          "name": "stdout",
          "output_type": "stream",
          "text": [
            "Saved frame: processed_frames/video_18/frame_8.jpg\n",
            "Saved frame: processed_frames/video_18/frame_9.jpg\n",
            "Processing video: /content/drive/MyDrive/HACER/drink_disgust_1_a.mp4, Total frames: 581\n",
            "Saved frame: processed_frames/video_19/frame_0.jpg\n",
            "Saved frame: processed_frames/video_19/frame_1.jpg\n",
            "Saved frame: processed_frames/video_19/frame_2.jpg\n",
            "Saved frame: processed_frames/video_19/frame_3.jpg\n",
            "Saved frame: processed_frames/video_19/frame_4.jpg\n",
            "Saved frame: processed_frames/video_19/frame_5.jpg\n",
            "Saved frame: processed_frames/video_19/frame_6.jpg\n",
            "Saved frame: processed_frames/video_19/frame_7.jpg\n",
            "Saved frame: processed_frames/video_19/frame_8.jpg\n"
          ]
        },
        {
          "metadata": {
            "tags": null
          },
          "name": "stderr",
          "output_type": "stream",
          "text": [
            "\r  4%|▍         | 20/477 [02:04<33:36,  4.41s/it]"
          ]
        },
        {
          "metadata": {
            "tags": null
          },
          "name": "stdout",
          "output_type": "stream",
          "text": [
            "Saved frame: processed_frames/video_19/frame_9.jpg\n",
            "Processing video: /content/drive/MyDrive/HACER/drink_disgust_2_w.mp4, Total frames: 188\n",
            "Saved frame: processed_frames/video_20/frame_0.jpg\n",
            "Saved frame: processed_frames/video_20/frame_1.jpg\n",
            "Saved frame: processed_frames/video_20/frame_2.jpg\n",
            "Saved frame: processed_frames/video_20/frame_3.jpg\n",
            "Saved frame: processed_frames/video_20/frame_4.jpg\n",
            "Saved frame: processed_frames/video_20/frame_5.jpg\n",
            "Saved frame: processed_frames/video_20/frame_6.jpg\n",
            "Saved frame: processed_frames/video_20/frame_7.jpg\n",
            "Saved frame: processed_frames/video_20/frame_8.jpg\n"
          ]
        },
        {
          "metadata": {
            "tags": null
          },
          "name": "stderr",
          "output_type": "stream",
          "text": [
            "\r  4%|▍         | 21/477 [02:08<33:59,  4.47s/it]"
          ]
        },
        {
          "metadata": {
            "tags": null
          },
          "name": "stdout",
          "output_type": "stream",
          "text": [
            "Saved frame: processed_frames/video_20/frame_9.jpg\n",
            "Processing video: /content/drive/MyDrive/HACER/drink_disgust_3_l.mp4, Total frames: 302\n",
            "Saved frame: processed_frames/video_21/frame_0.jpg\n",
            "Saved frame: processed_frames/video_21/frame_1.jpg\n",
            "Saved frame: processed_frames/video_21/frame_2.jpg\n",
            "Saved frame: processed_frames/video_21/frame_3.jpg\n",
            "Saved frame: processed_frames/video_21/frame_4.jpg\n",
            "Saved frame: processed_frames/video_21/frame_5.jpg\n",
            "Saved frame: processed_frames/video_21/frame_6.jpg\n",
            "Saved frame: processed_frames/video_21/frame_7.jpg\n",
            "Saved frame: processed_frames/video_21/frame_8.jpg\n"
          ]
        },
        {
          "metadata": {
            "tags": null
          },
          "name": "stderr",
          "output_type": "stream",
          "text": [
            "\r  5%|▍         | 22/477 [02:14<37:10,  4.90s/it]"
          ]
        },
        {
          "metadata": {
            "tags": null
          },
          "name": "stdout",
          "output_type": "stream",
          "text": [
            "Saved frame: processed_frames/video_21/frame_9.jpg\n",
            "Processing video: /content/drive/MyDrive/HACER/drink_disgust_4_j.mp4, Total frames: 393\n",
            "Saved frame: processed_frames/video_22/frame_0.jpg\n",
            "Saved frame: processed_frames/video_22/frame_1.jpg\n",
            "Saved frame: processed_frames/video_22/frame_2.jpg\n",
            "Saved frame: processed_frames/video_22/frame_3.jpg\n",
            "Saved frame: processed_frames/video_22/frame_4.jpg\n",
            "Saved frame: processed_frames/video_22/frame_5.jpg\n",
            "Saved frame: processed_frames/video_22/frame_6.jpg\n",
            "Saved frame: processed_frames/video_22/frame_7.jpg\n",
            "Saved frame: processed_frames/video_22/frame_8.jpg\n"
          ]
        },
        {
          "metadata": {
            "tags": null
          },
          "name": "stderr",
          "output_type": "stream",
          "text": [
            "\r  5%|▍         | 23/477 [02:18<33:23,  4.41s/it]"
          ]
        },
        {
          "metadata": {
            "tags": null
          },
          "name": "stdout",
          "output_type": "stream",
          "text": [
            "Saved frame: processed_frames/video_22/frame_9.jpg\n",
            "Processing video: /content/drive/MyDrive/HACER/drink_disgust_5_s.mp4, Total frames: 284\n",
            "Saved frame: processed_frames/video_23/frame_0.jpg\n",
            "Saved frame: processed_frames/video_23/frame_1.jpg\n",
            "Saved frame: processed_frames/video_23/frame_2.jpg\n",
            "Saved frame: processed_frames/video_23/frame_3.jpg\n",
            "Saved frame: processed_frames/video_23/frame_4.jpg\n",
            "Saved frame: processed_frames/video_23/frame_5.jpg\n",
            "Saved frame: processed_frames/video_23/frame_6.jpg\n",
            "Saved frame: processed_frames/video_23/frame_7.jpg\n",
            "Saved frame: processed_frames/video_23/frame_8.jpg\n"
          ]
        },
        {
          "metadata": {
            "tags": null
          },
          "name": "stderr",
          "output_type": "stream",
          "text": [
            "\r  5%|▌         | 24/477 [02:22<32:07,  4.26s/it]"
          ]
        },
        {
          "metadata": {
            "tags": null
          },
          "name": "stdout",
          "output_type": "stream",
          "text": [
            "Saved frame: processed_frames/video_23/frame_9.jpg\n",
            "Processing video: /content/drive/MyDrive/HACER/drink_disgust_6_m.mp4, Total frames: 407\n",
            "Saved frame: processed_frames/video_24/frame_0.jpg\n",
            "Saved frame: processed_frames/video_24/frame_1.jpg\n",
            "Saved frame: processed_frames/video_24/frame_2.jpg\n",
            "Saved frame: processed_frames/video_24/frame_3.jpg\n",
            "Saved frame: processed_frames/video_24/frame_4.jpg\n",
            "Saved frame: processed_frames/video_24/frame_5.jpg\n",
            "Saved frame: processed_frames/video_24/frame_6.jpg\n",
            "Saved frame: processed_frames/video_24/frame_7.jpg\n",
            "Saved frame: processed_frames/video_24/frame_8.jpg\n"
          ]
        },
        {
          "metadata": {
            "tags": null
          },
          "name": "stderr",
          "output_type": "stream",
          "text": [
            "\r  5%|▌         | 25/477 [02:28<36:45,  4.88s/it]"
          ]
        },
        {
          "metadata": {
            "tags": null
          },
          "name": "stdout",
          "output_type": "stream",
          "text": [
            "Saved frame: processed_frames/video_24/frame_9.jpg\n",
            "Processing video: /content/drive/MyDrive/HACER/drink_disgust_7_a.mp4, Total frames: 450\n",
            "Saved frame: processed_frames/video_25/frame_0.jpg\n",
            "Saved frame: processed_frames/video_25/frame_1.jpg\n",
            "Saved frame: processed_frames/video_25/frame_2.jpg\n",
            "Saved frame: processed_frames/video_25/frame_3.jpg\n",
            "Saved frame: processed_frames/video_25/frame_4.jpg\n",
            "Saved frame: processed_frames/video_25/frame_5.jpg\n",
            "Saved frame: processed_frames/video_25/frame_6.jpg\n",
            "Saved frame: processed_frames/video_25/frame_7.jpg\n"
          ]
        },
        {
          "metadata": {
            "tags": null
          },
          "name": "stderr",
          "output_type": "stream",
          "text": [
            "\r  5%|▌         | 26/477 [02:34<39:16,  5.22s/it]"
          ]
        },
        {
          "metadata": {
            "tags": null
          },
          "name": "stdout",
          "output_type": "stream",
          "text": [
            "Saved frame: processed_frames/video_25/frame_8.jpg\n",
            "Saved frame: processed_frames/video_25/frame_9.jpg\n",
            "Processing video: /content/drive/MyDrive/HACER/drink_disgust_8_j.mp4, Total frames: 314\n",
            "Saved frame: processed_frames/video_26/frame_0.jpg\n",
            "Saved frame: processed_frames/video_26/frame_1.jpg\n",
            "Saved frame: processed_frames/video_26/frame_2.jpg\n",
            "Saved frame: processed_frames/video_26/frame_3.jpg\n",
            "Saved frame: processed_frames/video_26/frame_4.jpg\n",
            "Saved frame: processed_frames/video_26/frame_5.jpg\n",
            "Saved frame: processed_frames/video_26/frame_6.jpg\n",
            "Saved frame: processed_frames/video_26/frame_7.jpg\n"
          ]
        },
        {
          "metadata": {
            "tags": null
          },
          "name": "stderr",
          "output_type": "stream",
          "text": [
            "\r  6%|▌         | 27/477 [02:37<34:21,  4.58s/it]"
          ]
        },
        {
          "metadata": {
            "tags": null
          },
          "name": "stdout",
          "output_type": "stream",
          "text": [
            "Saved frame: processed_frames/video_26/frame_8.jpg\n",
            "Saved frame: processed_frames/video_26/frame_9.jpg\n",
            "Processing video: /content/drive/MyDrive/HACER/drink_disgust_9_l.mp4, Total frames: 343\n",
            "Saved frame: processed_frames/video_27/frame_0.jpg\n",
            "Saved frame: processed_frames/video_27/frame_1.jpg\n",
            "Saved frame: processed_frames/video_27/frame_2.jpg\n",
            "Saved frame: processed_frames/video_27/frame_3.jpg\n",
            "Saved frame: processed_frames/video_27/frame_4.jpg\n",
            "Saved frame: processed_frames/video_27/frame_5.jpg\n",
            "Saved frame: processed_frames/video_27/frame_6.jpg\n",
            "Saved frame: processed_frames/video_27/frame_7.jpg\n",
            "Saved frame: processed_frames/video_27/frame_8.jpg\n"
          ]
        },
        {
          "metadata": {
            "tags": null
          },
          "name": "stderr",
          "output_type": "stream",
          "text": [
            "\r  6%|▌         | 28/477 [02:43<37:32,  5.02s/it]"
          ]
        },
        {
          "metadata": {
            "tags": null
          },
          "name": "stdout",
          "output_type": "stream",
          "text": [
            "Saved frame: processed_frames/video_27/frame_9.jpg\n",
            "Processing video: /content/drive/MyDrive/HACER/drink_happy_10_j.mp4, Total frames: 146\n",
            "Saved frame: processed_frames/video_28/frame_0.jpg\n",
            "Saved frame: processed_frames/video_28/frame_1.jpg\n",
            "Saved frame: processed_frames/video_28/frame_2.jpg\n",
            "Saved frame: processed_frames/video_28/frame_3.jpg\n",
            "Saved frame: processed_frames/video_28/frame_4.jpg\n",
            "Saved frame: processed_frames/video_28/frame_5.jpg\n",
            "Saved frame: processed_frames/video_28/frame_6.jpg\n",
            "Saved frame: processed_frames/video_28/frame_7.jpg\n",
            "Saved frame: processed_frames/video_28/frame_8.jpg\n"
          ]
        },
        {
          "metadata": {
            "tags": null
          },
          "name": "stderr",
          "output_type": "stream",
          "text": [
            "\r  6%|▌         | 29/477 [02:46<32:32,  4.36s/it]"
          ]
        },
        {
          "metadata": {
            "tags": null
          },
          "name": "stdout",
          "output_type": "stream",
          "text": [
            "Saved frame: processed_frames/video_28/frame_9.jpg\n",
            "Processing video: /content/drive/MyDrive/HACER/drink_happy_11_l.mp4, Total frames: 242\n",
            "Saved frame: processed_frames/video_29/frame_0.jpg\n",
            "Saved frame: processed_frames/video_29/frame_1.jpg\n",
            "Saved frame: processed_frames/video_29/frame_2.jpg\n",
            "Saved frame: processed_frames/video_29/frame_3.jpg\n",
            "Saved frame: processed_frames/video_29/frame_4.jpg\n",
            "Saved frame: processed_frames/video_29/frame_5.jpg\n",
            "Saved frame: processed_frames/video_29/frame_6.jpg\n",
            "Saved frame: processed_frames/video_29/frame_7.jpg\n",
            "Saved frame: processed_frames/video_29/frame_8.jpg\n"
          ]
        },
        {
          "metadata": {
            "tags": null
          },
          "name": "stderr",
          "output_type": "stream",
          "text": [
            "\r  6%|▋         | 30/477 [02:49<30:34,  4.10s/it]"
          ]
        },
        {
          "metadata": {
            "tags": null
          },
          "name": "stdout",
          "output_type": "stream",
          "text": [
            "Saved frame: processed_frames/video_29/frame_9.jpg\n",
            "Processing video: /content/drive/MyDrive/HACER/drink_happy_12_m.mp4, Total frames: 207\n",
            "Saved frame: processed_frames/video_30/frame_0.jpg\n",
            "Saved frame: processed_frames/video_30/frame_1.jpg\n",
            "Saved frame: processed_frames/video_30/frame_2.jpg\n",
            "Saved frame: processed_frames/video_30/frame_3.jpg\n",
            "Saved frame: processed_frames/video_30/frame_4.jpg\n",
            "Saved frame: processed_frames/video_30/frame_5.jpg\n",
            "Saved frame: processed_frames/video_30/frame_6.jpg\n",
            "Saved frame: processed_frames/video_30/frame_7.jpg\n",
            "Saved frame: processed_frames/video_30/frame_8.jpg\n"
          ]
        },
        {
          "metadata": {
            "tags": null
          },
          "name": "stderr",
          "output_type": "stream",
          "text": [
            "\r  6%|▋         | 31/477 [02:53<28:51,  3.88s/it]"
          ]
        },
        {
          "metadata": {
            "tags": null
          },
          "name": "stdout",
          "output_type": "stream",
          "text": [
            "Saved frame: processed_frames/video_30/frame_9.jpg\n",
            "Processing video: /content/drive/MyDrive/HACER/drink_happy_13_w.mp4, Total frames: 137\n",
            "Saved frame: processed_frames/video_31/frame_0.jpg\n",
            "Saved frame: processed_frames/video_31/frame_1.jpg\n",
            "Saved frame: processed_frames/video_31/frame_2.jpg\n",
            "Saved frame: processed_frames/video_31/frame_3.jpg\n",
            "Saved frame: processed_frames/video_31/frame_4.jpg\n",
            "Saved frame: processed_frames/video_31/frame_5.jpg\n",
            "Saved frame: processed_frames/video_31/frame_6.jpg\n",
            "Saved frame: processed_frames/video_31/frame_7.jpg\n",
            "Saved frame: processed_frames/video_31/frame_8.jpg\n"
          ]
        },
        {
          "metadata": {
            "tags": null
          },
          "name": "stderr",
          "output_type": "stream",
          "text": [
            "\r  7%|▋         | 32/477 [02:58<31:16,  4.22s/it]"
          ]
        },
        {
          "metadata": {
            "tags": null
          },
          "name": "stdout",
          "output_type": "stream",
          "text": [
            "Saved frame: processed_frames/video_31/frame_9.jpg\n",
            "Processing video: /content/drive/MyDrive/HACER/drink_happy_14_w.mp4, Total frames: 137\n",
            "Saved frame: processed_frames/video_32/frame_0.jpg\n",
            "Saved frame: processed_frames/video_32/frame_1.jpg\n",
            "Saved frame: processed_frames/video_32/frame_2.jpg\n",
            "Saved frame: processed_frames/video_32/frame_3.jpg\n",
            "Saved frame: processed_frames/video_32/frame_4.jpg\n",
            "Saved frame: processed_frames/video_32/frame_5.jpg\n",
            "Saved frame: processed_frames/video_32/frame_6.jpg\n",
            "Saved frame: processed_frames/video_32/frame_7.jpg\n",
            "Saved frame: processed_frames/video_32/frame_8.jpg\n"
          ]
        },
        {
          "metadata": {
            "tags": null
          },
          "name": "stderr",
          "output_type": "stream",
          "text": [
            "\r  7%|▋         | 33/477 [03:01<28:44,  3.88s/it]"
          ]
        },
        {
          "metadata": {
            "tags": null
          },
          "name": "stdout",
          "output_type": "stream",
          "text": [
            "Saved frame: processed_frames/video_32/frame_9.jpg\n",
            "Processing video: /content/drive/MyDrive/HACER/drink_happy_15_h.mp4, Total frames: 244\n",
            "Saved frame: processed_frames/video_33/frame_0.jpg\n",
            "Saved frame: processed_frames/video_33/frame_1.jpg\n",
            "Saved frame: processed_frames/video_33/frame_2.jpg\n",
            "Saved frame: processed_frames/video_33/frame_3.jpg\n",
            "Saved frame: processed_frames/video_33/frame_4.jpg\n",
            "Saved frame: processed_frames/video_33/frame_5.jpg\n",
            "Saved frame: processed_frames/video_33/frame_6.jpg\n",
            "Saved frame: processed_frames/video_33/frame_7.jpg\n",
            "Saved frame: processed_frames/video_33/frame_8.jpg\n"
          ]
        },
        {
          "metadata": {
            "tags": null
          },
          "name": "stderr",
          "output_type": "stream",
          "text": [
            "\r  7%|▋         | 34/477 [03:04<26:08,  3.54s/it]"
          ]
        },
        {
          "metadata": {
            "tags": null
          },
          "name": "stdout",
          "output_type": "stream",
          "text": [
            "Saved frame: processed_frames/video_33/frame_9.jpg\n",
            "Processing video: /content/drive/MyDrive/HACER/drink_happy_16_k.mp4, Total frames: 157\n",
            "Saved frame: processed_frames/video_34/frame_0.jpg\n",
            "Saved frame: processed_frames/video_34/frame_1.jpg\n",
            "Saved frame: processed_frames/video_34/frame_2.jpg\n",
            "Saved frame: processed_frames/video_34/frame_3.jpg\n",
            "Saved frame: processed_frames/video_34/frame_4.jpg\n",
            "Saved frame: processed_frames/video_34/frame_5.jpg\n",
            "Saved frame: processed_frames/video_34/frame_6.jpg\n",
            "Saved frame: processed_frames/video_34/frame_7.jpg\n",
            "Saved frame: processed_frames/video_34/frame_8.jpg\n"
          ]
        },
        {
          "metadata": {
            "tags": null
          },
          "name": "stderr",
          "output_type": "stream",
          "text": [
            "\r  7%|▋         | 35/477 [03:07<26:16,  3.57s/it]"
          ]
        },
        {
          "metadata": {
            "tags": null
          },
          "name": "stdout",
          "output_type": "stream",
          "text": [
            "Saved frame: processed_frames/video_34/frame_9.jpg\n",
            "Processing video: /content/drive/MyDrive/HACER/drink_happy_17_k.mp4, Total frames: 167\n",
            "Saved frame: processed_frames/video_35/frame_0.jpg\n",
            "Saved frame: processed_frames/video_35/frame_1.jpg\n",
            "Saved frame: processed_frames/video_35/frame_2.jpg\n",
            "Saved frame: processed_frames/video_35/frame_3.jpg\n",
            "Saved frame: processed_frames/video_35/frame_4.jpg\n",
            "Saved frame: processed_frames/video_35/frame_5.jpg\n",
            "Saved frame: processed_frames/video_35/frame_6.jpg\n",
            "Saved frame: processed_frames/video_35/frame_7.jpg\n",
            "Saved frame: processed_frames/video_35/frame_8.jpg\n"
          ]
        },
        {
          "metadata": {
            "tags": null
          },
          "name": "stderr",
          "output_type": "stream",
          "text": [
            "\r  8%|▊         | 36/477 [03:13<31:37,  4.30s/it]"
          ]
        },
        {
          "metadata": {
            "tags": null
          },
          "name": "stdout",
          "output_type": "stream",
          "text": [
            "Saved frame: processed_frames/video_35/frame_9.jpg\n",
            "Processing video: /content/drive/MyDrive/HACER/drink_happy_18_t.mp4, Total frames: 267\n",
            "Saved frame: processed_frames/video_36/frame_0.jpg\n",
            "Saved frame: processed_frames/video_36/frame_1.jpg\n",
            "Saved frame: processed_frames/video_36/frame_2.jpg\n",
            "Saved frame: processed_frames/video_36/frame_3.jpg\n",
            "Saved frame: processed_frames/video_36/frame_4.jpg\n",
            "Saved frame: processed_frames/video_36/frame_5.jpg\n",
            "Saved frame: processed_frames/video_36/frame_6.jpg\n",
            "Saved frame: processed_frames/video_36/frame_7.jpg\n",
            "Saved frame: processed_frames/video_36/frame_8.jpg\n"
          ]
        },
        {
          "metadata": {
            "tags": null
          },
          "name": "stderr",
          "output_type": "stream",
          "text": [
            "\r  8%|▊         | 37/477 [03:17<31:18,  4.27s/it]"
          ]
        },
        {
          "metadata": {
            "tags": null
          },
          "name": "stdout",
          "output_type": "stream",
          "text": [
            "Saved frame: processed_frames/video_36/frame_9.jpg\n",
            "Processing video: /content/drive/MyDrive/HACER/drink_happy_19_s.mp4, Total frames: 159\n",
            "Saved frame: processed_frames/video_37/frame_0.jpg\n",
            "Saved frame: processed_frames/video_37/frame_1.jpg\n",
            "Saved frame: processed_frames/video_37/frame_2.jpg\n",
            "Saved frame: processed_frames/video_37/frame_3.jpg\n",
            "Saved frame: processed_frames/video_37/frame_4.jpg\n",
            "Saved frame: processed_frames/video_37/frame_5.jpg\n",
            "Saved frame: processed_frames/video_37/frame_6.jpg\n",
            "Saved frame: processed_frames/video_37/frame_7.jpg\n",
            "Saved frame: processed_frames/video_37/frame_8.jpg\n"
          ]
        },
        {
          "metadata": {
            "tags": null
          },
          "name": "stderr",
          "output_type": "stream",
          "text": [
            "\r  8%|▊         | 38/477 [03:20<28:40,  3.92s/it]"
          ]
        },
        {
          "metadata": {
            "tags": null
          },
          "name": "stdout",
          "output_type": "stream",
          "text": [
            "Saved frame: processed_frames/video_37/frame_9.jpg\n",
            "Processing video: /content/drive/MyDrive/HACER/drink_happy_1_a.mp4, Total frames: 364\n",
            "Saved frame: processed_frames/video_38/frame_0.jpg\n",
            "Saved frame: processed_frames/video_38/frame_1.jpg\n",
            "Saved frame: processed_frames/video_38/frame_2.jpg\n",
            "Saved frame: processed_frames/video_38/frame_3.jpg\n",
            "Saved frame: processed_frames/video_38/frame_4.jpg\n",
            "Saved frame: processed_frames/video_38/frame_5.jpg\n",
            "Saved frame: processed_frames/video_38/frame_6.jpg\n",
            "Saved frame: processed_frames/video_38/frame_7.jpg\n",
            "Saved frame: processed_frames/video_38/frame_8.jpg\n"
          ]
        },
        {
          "metadata": {
            "tags": null
          },
          "name": "stderr",
          "output_type": "stream",
          "text": [
            "\r  8%|▊         | 39/477 [03:26<32:21,  4.43s/it]"
          ]
        },
        {
          "metadata": {
            "tags": null
          },
          "name": "stdout",
          "output_type": "stream",
          "text": [
            "Saved frame: processed_frames/video_38/frame_9.jpg\n",
            "Processing video: /content/drive/MyDrive/HACER/drink_happy_20_t.mp4, Total frames: 203\n",
            "Saved frame: processed_frames/video_39/frame_0.jpg\n",
            "Saved frame: processed_frames/video_39/frame_1.jpg\n",
            "Saved frame: processed_frames/video_39/frame_2.jpg\n",
            "Saved frame: processed_frames/video_39/frame_3.jpg\n",
            "Saved frame: processed_frames/video_39/frame_4.jpg\n",
            "Saved frame: processed_frames/video_39/frame_5.jpg\n",
            "Saved frame: processed_frames/video_39/frame_6.jpg\n",
            "Saved frame: processed_frames/video_39/frame_7.jpg\n",
            "Saved frame: processed_frames/video_39/frame_8.jpg\n"
          ]
        },
        {
          "metadata": {
            "tags": null
          },
          "name": "stderr",
          "output_type": "stream",
          "text": [
            "\r  8%|▊         | 40/477 [03:31<34:11,  4.69s/it]"
          ]
        },
        {
          "metadata": {
            "tags": null
          },
          "name": "stdout",
          "output_type": "stream",
          "text": [
            "Saved frame: processed_frames/video_39/frame_9.jpg\n",
            "Processing video: /content/drive/MyDrive/HACER/drink_happy_21_h.mp4, Total frames: 193\n",
            "Saved frame: processed_frames/video_40/frame_0.jpg\n",
            "Saved frame: processed_frames/video_40/frame_1.jpg\n",
            "Saved frame: processed_frames/video_40/frame_2.jpg\n",
            "Saved frame: processed_frames/video_40/frame_3.jpg\n",
            "Saved frame: processed_frames/video_40/frame_4.jpg\n",
            "Saved frame: processed_frames/video_40/frame_5.jpg\n",
            "Saved frame: processed_frames/video_40/frame_6.jpg\n",
            "Saved frame: processed_frames/video_40/frame_7.jpg\n",
            "Saved frame: processed_frames/video_40/frame_8.jpg\n"
          ]
        },
        {
          "metadata": {
            "tags": null
          },
          "name": "stderr",
          "output_type": "stream",
          "text": [
            "\r  9%|▊         | 41/477 [03:35<31:23,  4.32s/it]"
          ]
        },
        {
          "metadata": {
            "tags": null
          },
          "name": "stdout",
          "output_type": "stream",
          "text": [
            "Saved frame: processed_frames/video_40/frame_9.jpg\n",
            "Processing video: /content/drive/MyDrive/HACER/drink_happy_2_w.mp4, Total frames: 172\n",
            "Saved frame: processed_frames/video_41/frame_0.jpg\n",
            "Saved frame: processed_frames/video_41/frame_1.jpg\n",
            "Saved frame: processed_frames/video_41/frame_2.jpg\n",
            "Saved frame: processed_frames/video_41/frame_3.jpg\n",
            "Saved frame: processed_frames/video_41/frame_4.jpg\n",
            "Saved frame: processed_frames/video_41/frame_5.jpg\n",
            "Saved frame: processed_frames/video_41/frame_6.jpg\n",
            "Saved frame: processed_frames/video_41/frame_7.jpg\n"
          ]
        },
        {
          "metadata": {
            "tags": null
          },
          "name": "stderr",
          "output_type": "stream",
          "text": [
            "\r  9%|▉         | 42/477 [03:39<29:59,  4.14s/it]"
          ]
        },
        {
          "metadata": {
            "tags": null
          },
          "name": "stdout",
          "output_type": "stream",
          "text": [
            "Saved frame: processed_frames/video_41/frame_8.jpg\n",
            "Saved frame: processed_frames/video_41/frame_9.jpg\n",
            "Processing video: /content/drive/MyDrive/HACER/drink_happy_3_l.mp4, Total frames: 274\n",
            "Saved frame: processed_frames/video_42/frame_0.jpg\n",
            "Saved frame: processed_frames/video_42/frame_1.jpg\n",
            "Saved frame: processed_frames/video_42/frame_2.jpg\n",
            "Saved frame: processed_frames/video_42/frame_3.jpg\n",
            "Saved frame: processed_frames/video_42/frame_4.jpg\n",
            "Saved frame: processed_frames/video_42/frame_5.jpg\n",
            "Saved frame: processed_frames/video_42/frame_6.jpg\n",
            "Saved frame: processed_frames/video_42/frame_7.jpg\n",
            "Saved frame: processed_frames/video_42/frame_8.jpg\n"
          ]
        },
        {
          "metadata": {
            "tags": null
          },
          "name": "stderr",
          "output_type": "stream",
          "text": [
            "\r  9%|▉         | 43/477 [03:45<35:44,  4.94s/it]"
          ]
        },
        {
          "metadata": {
            "tags": null
          },
          "name": "stdout",
          "output_type": "stream",
          "text": [
            "Saved frame: processed_frames/video_42/frame_9.jpg\n",
            "Processing video: /content/drive/MyDrive/HACER/drink_happy_4_j.mp4, Total frames: 197\n",
            "Saved frame: processed_frames/video_43/frame_0.jpg\n",
            "Saved frame: processed_frames/video_43/frame_1.jpg\n",
            "Saved frame: processed_frames/video_43/frame_2.jpg\n",
            "Saved frame: processed_frames/video_43/frame_3.jpg\n",
            "Saved frame: processed_frames/video_43/frame_4.jpg\n",
            "Saved frame: processed_frames/video_43/frame_5.jpg\n",
            "Saved frame: processed_frames/video_43/frame_6.jpg\n",
            "Saved frame: processed_frames/video_43/frame_7.jpg\n",
            "Saved frame: processed_frames/video_43/frame_8.jpg\n"
          ]
        },
        {
          "metadata": {
            "tags": null
          },
          "name": "stderr",
          "output_type": "stream",
          "text": [
            "\r  9%|▉         | 44/477 [03:49<32:13,  4.47s/it]"
          ]
        },
        {
          "metadata": {
            "tags": null
          },
          "name": "stdout",
          "output_type": "stream",
          "text": [
            "Saved frame: processed_frames/video_43/frame_9.jpg\n",
            "Processing video: /content/drive/MyDrive/HACER/drink_happy_5_s.mp4, Total frames: 171\n",
            "Saved frame: processed_frames/video_44/frame_0.jpg\n",
            "Saved frame: processed_frames/video_44/frame_1.jpg\n",
            "Saved frame: processed_frames/video_44/frame_2.jpg\n",
            "Saved frame: processed_frames/video_44/frame_3.jpg\n",
            "Saved frame: processed_frames/video_44/frame_4.jpg\n",
            "Saved frame: processed_frames/video_44/frame_5.jpg\n",
            "Saved frame: processed_frames/video_44/frame_6.jpg\n",
            "Saved frame: processed_frames/video_44/frame_7.jpg\n"
          ]
        },
        {
          "metadata": {
            "tags": null
          },
          "name": "stderr",
          "output_type": "stream",
          "text": [
            "\r  9%|▉         | 45/477 [03:52<29:48,  4.14s/it]"
          ]
        },
        {
          "metadata": {
            "tags": null
          },
          "name": "stdout",
          "output_type": "stream",
          "text": [
            "Saved frame: processed_frames/video_44/frame_8.jpg\n",
            "Saved frame: processed_frames/video_44/frame_9.jpg\n",
            "Processing video: /content/drive/MyDrive/HACER/drink_happy_6_m.mp4, Total frames: 155\n",
            "Saved frame: processed_frames/video_45/frame_0.jpg\n",
            "Saved frame: processed_frames/video_45/frame_1.jpg\n",
            "Saved frame: processed_frames/video_45/frame_2.jpg\n",
            "Saved frame: processed_frames/video_45/frame_3.jpg\n",
            "Saved frame: processed_frames/video_45/frame_4.jpg\n",
            "Saved frame: processed_frames/video_45/frame_5.jpg\n",
            "Saved frame: processed_frames/video_45/frame_6.jpg\n",
            "Saved frame: processed_frames/video_45/frame_7.jpg\n",
            "Saved frame: processed_frames/video_45/frame_8.jpg\n"
          ]
        },
        {
          "metadata": {
            "tags": null
          },
          "name": "stderr",
          "output_type": "stream",
          "text": [
            "\r 10%|▉         | 46/477 [03:57<31:26,  4.38s/it]"
          ]
        },
        {
          "metadata": {
            "tags": null
          },
          "name": "stdout",
          "output_type": "stream",
          "text": [
            "Saved frame: processed_frames/video_45/frame_9.jpg\n",
            "Processing video: /content/drive/MyDrive/HACER/drink_happy_7_m.mp4, Total frames: 212\n",
            "Saved frame: processed_frames/video_46/frame_0.jpg\n",
            "Saved frame: processed_frames/video_46/frame_1.jpg\n",
            "Saved frame: processed_frames/video_46/frame_2.jpg\n",
            "Saved frame: processed_frames/video_46/frame_3.jpg\n",
            "Saved frame: processed_frames/video_46/frame_4.jpg\n",
            "Saved frame: processed_frames/video_46/frame_5.jpg\n",
            "Saved frame: processed_frames/video_46/frame_6.jpg\n",
            "Saved frame: processed_frames/video_46/frame_7.jpg\n",
            "Saved frame: processed_frames/video_46/frame_8.jpg\n"
          ]
        },
        {
          "metadata": {
            "tags": null
          },
          "name": "stderr",
          "output_type": "stream",
          "text": [
            "\r 10%|▉         | 47/477 [04:02<32:27,  4.53s/it]"
          ]
        },
        {
          "metadata": {
            "tags": null
          },
          "name": "stdout",
          "output_type": "stream",
          "text": [
            "Saved frame: processed_frames/video_46/frame_9.jpg\n",
            "Processing video: /content/drive/MyDrive/HACER/drink_happy_8_a.mp4, Total frames: 312\n",
            "Saved frame: processed_frames/video_47/frame_0.jpg\n",
            "Saved frame: processed_frames/video_47/frame_1.jpg\n",
            "Saved frame: processed_frames/video_47/frame_2.jpg\n",
            "Saved frame: processed_frames/video_47/frame_3.jpg\n",
            "Saved frame: processed_frames/video_47/frame_4.jpg\n",
            "Saved frame: processed_frames/video_47/frame_5.jpg\n",
            "Saved frame: processed_frames/video_47/frame_6.jpg\n",
            "Saved frame: processed_frames/video_47/frame_7.jpg\n",
            "Saved frame: processed_frames/video_47/frame_8.jpg\n",
            "Saved frame: processed_frames/video_47/frame_9.jpg\n"
          ]
        },
        {
          "metadata": {
            "tags": null
          },
          "name": "stderr",
          "output_type": "stream",
          "text": [
            "\r 10%|█         | 48/477 [04:07<33:54,  4.74s/it]"
          ]
        },
        {
          "metadata": {
            "tags": null
          },
          "name": "stdout",
          "output_type": "stream",
          "text": [
            "Processing video: /content/drive/MyDrive/HACER/drink_happy_9_j.mp4, Total frames: 146\n",
            "Saved frame: processed_frames/video_48/frame_0.jpg\n",
            "Saved frame: processed_frames/video_48/frame_1.jpg\n",
            "Saved frame: processed_frames/video_48/frame_2.jpg\n",
            "Saved frame: processed_frames/video_48/frame_3.jpg\n",
            "Saved frame: processed_frames/video_48/frame_4.jpg\n",
            "Saved frame: processed_frames/video_48/frame_5.jpg\n",
            "Saved frame: processed_frames/video_48/frame_6.jpg\n",
            "Saved frame: processed_frames/video_48/frame_7.jpg\n",
            "Saved frame: processed_frames/video_48/frame_8.jpg\n"
          ]
        },
        {
          "metadata": {
            "tags": null
          },
          "name": "stderr",
          "output_type": "stream",
          "text": [
            "\r 10%|█         | 49/477 [04:10<30:15,  4.24s/it]"
          ]
        },
        {
          "metadata": {
            "tags": null
          },
          "name": "stdout",
          "output_type": "stream",
          "text": [
            "Saved frame: processed_frames/video_48/frame_9.jpg\n",
            "Processing video: /content/drive/MyDrive/HACER/drink_neutral_10_m.mp4, Total frames: 264\n",
            "Saved frame: processed_frames/video_49/frame_0.jpg\n",
            "Saved frame: processed_frames/video_49/frame_1.jpg\n",
            "Saved frame: processed_frames/video_49/frame_2.jpg\n",
            "Saved frame: processed_frames/video_49/frame_3.jpg\n",
            "Saved frame: processed_frames/video_49/frame_4.jpg\n",
            "Saved frame: processed_frames/video_49/frame_5.jpg\n",
            "Saved frame: processed_frames/video_49/frame_6.jpg\n",
            "Saved frame: processed_frames/video_49/frame_7.jpg\n",
            "Saved frame: processed_frames/video_49/frame_8.jpg\n"
          ]
        },
        {
          "metadata": {
            "tags": null
          },
          "name": "stderr",
          "output_type": "stream",
          "text": [
            "\r 10%|█         | 50/477 [04:16<33:35,  4.72s/it]"
          ]
        },
        {
          "metadata": {
            "tags": null
          },
          "name": "stdout",
          "output_type": "stream",
          "text": [
            "Saved frame: processed_frames/video_49/frame_9.jpg\n",
            "Processing video: /content/drive/MyDrive/HACER/drink_neutral_11_m.mp4, Total frames: 183\n",
            "Saved frame: processed_frames/video_50/frame_0.jpg\n",
            "Saved frame: processed_frames/video_50/frame_1.jpg\n",
            "Saved frame: processed_frames/video_50/frame_2.jpg\n",
            "Saved frame: processed_frames/video_50/frame_3.jpg\n",
            "Saved frame: processed_frames/video_50/frame_4.jpg\n",
            "Saved frame: processed_frames/video_50/frame_5.jpg\n",
            "Saved frame: processed_frames/video_50/frame_6.jpg\n",
            "Saved frame: processed_frames/video_50/frame_7.jpg\n",
            "Saved frame: processed_frames/video_50/frame_8.jpg\n"
          ]
        },
        {
          "metadata": {
            "tags": null
          },
          "name": "stderr",
          "output_type": "stream",
          "text": [
            "\r 11%|█         | 51/477 [04:19<29:25,  4.14s/it]"
          ]
        },
        {
          "metadata": {
            "tags": null
          },
          "name": "stdout",
          "output_type": "stream",
          "text": [
            "Saved frame: processed_frames/video_50/frame_9.jpg\n",
            "Processing video: /content/drive/MyDrive/HACER/drink_neutral_12_w.mp4, Total frames: 136\n",
            "Saved frame: processed_frames/video_51/frame_0.jpg\n",
            "Saved frame: processed_frames/video_51/frame_1.jpg\n",
            "Saved frame: processed_frames/video_51/frame_2.jpg\n",
            "Saved frame: processed_frames/video_51/frame_3.jpg\n",
            "Saved frame: processed_frames/video_51/frame_4.jpg\n",
            "Saved frame: processed_frames/video_51/frame_5.jpg\n",
            "Saved frame: processed_frames/video_51/frame_6.jpg\n",
            "Saved frame: processed_frames/video_51/frame_7.jpg\n",
            "Saved frame: processed_frames/video_51/frame_8.jpg\n"
          ]
        },
        {
          "metadata": {
            "tags": null
          },
          "name": "stderr",
          "output_type": "stream",
          "text": [
            "\r 11%|█         | 52/477 [04:22<26:52,  3.79s/it]"
          ]
        },
        {
          "metadata": {
            "tags": null
          },
          "name": "stdout",
          "output_type": "stream",
          "text": [
            "Saved frame: processed_frames/video_51/frame_9.jpg\n",
            "Processing video: /content/drive/MyDrive/HACER/drink_neutral_13_h.mp4, Total frames: 220\n",
            "Saved frame: processed_frames/video_52/frame_0.jpg\n",
            "Saved frame: processed_frames/video_52/frame_1.jpg\n",
            "Saved frame: processed_frames/video_52/frame_2.jpg\n",
            "Saved frame: processed_frames/video_52/frame_3.jpg\n",
            "Saved frame: processed_frames/video_52/frame_4.jpg\n",
            "Saved frame: processed_frames/video_52/frame_5.jpg\n",
            "Saved frame: processed_frames/video_52/frame_6.jpg\n",
            "Saved frame: processed_frames/video_52/frame_7.jpg\n",
            "Saved frame: processed_frames/video_52/frame_8.jpg\n"
          ]
        },
        {
          "metadata": {
            "tags": null
          },
          "name": "stderr",
          "output_type": "stream",
          "text": [
            "\r 11%|█         | 53/477 [04:25<25:21,  3.59s/it]"
          ]
        },
        {
          "metadata": {
            "tags": null
          },
          "name": "stdout",
          "output_type": "stream",
          "text": [
            "Saved frame: processed_frames/video_52/frame_9.jpg\n",
            "Processing video: /content/drive/MyDrive/HACER/drink_neutral_14_t.mp4, Total frames: 157\n",
            "Saved frame: processed_frames/video_53/frame_0.jpg\n",
            "Saved frame: processed_frames/video_53/frame_1.jpg\n",
            "Saved frame: processed_frames/video_53/frame_2.jpg\n",
            "Saved frame: processed_frames/video_53/frame_3.jpg\n",
            "Saved frame: processed_frames/video_53/frame_4.jpg\n",
            "Saved frame: processed_frames/video_53/frame_5.jpg\n",
            "Saved frame: processed_frames/video_53/frame_6.jpg\n",
            "Saved frame: processed_frames/video_53/frame_7.jpg\n",
            "Saved frame: processed_frames/video_53/frame_8.jpg\n"
          ]
        },
        {
          "metadata": {
            "tags": null
          },
          "name": "stderr",
          "output_type": "stream",
          "text": [
            "\r 11%|█▏        | 54/477 [04:32<31:42,  4.50s/it]"
          ]
        },
        {
          "metadata": {
            "tags": null
          },
          "name": "stdout",
          "output_type": "stream",
          "text": [
            "Saved frame: processed_frames/video_53/frame_9.jpg\n",
            "Processing video: /content/drive/MyDrive/HACER/drink_neutral_15_s.mp4, Total frames: 159\n",
            "Saved frame: processed_frames/video_54/frame_0.jpg\n",
            "Saved frame: processed_frames/video_54/frame_1.jpg\n",
            "Saved frame: processed_frames/video_54/frame_2.jpg\n",
            "Saved frame: processed_frames/video_54/frame_3.jpg\n",
            "Saved frame: processed_frames/video_54/frame_4.jpg\n",
            "Saved frame: processed_frames/video_54/frame_5.jpg\n",
            "Saved frame: processed_frames/video_54/frame_6.jpg\n",
            "Saved frame: processed_frames/video_54/frame_7.jpg\n",
            "Saved frame: processed_frames/video_54/frame_8.jpg\n"
          ]
        },
        {
          "metadata": {
            "tags": null
          },
          "name": "stderr",
          "output_type": "stream",
          "text": [
            "\r 12%|█▏        | 55/477 [04:35<28:58,  4.12s/it]"
          ]
        },
        {
          "metadata": {
            "tags": null
          },
          "name": "stdout",
          "output_type": "stream",
          "text": [
            "Saved frame: processed_frames/video_54/frame_9.jpg\n",
            "Processing video: /content/drive/MyDrive/HACER/drink_neutral_16_t.mp4, Total frames: 142\n",
            "Saved frame: processed_frames/video_55/frame_0.jpg\n",
            "Saved frame: processed_frames/video_55/frame_1.jpg\n",
            "Saved frame: processed_frames/video_55/frame_2.jpg\n",
            "Saved frame: processed_frames/video_55/frame_3.jpg\n",
            "Saved frame: processed_frames/video_55/frame_4.jpg\n",
            "Saved frame: processed_frames/video_55/frame_5.jpg\n",
            "Saved frame: processed_frames/video_55/frame_6.jpg\n",
            "Saved frame: processed_frames/video_55/frame_7.jpg\n",
            "Saved frame: processed_frames/video_55/frame_8.jpg\n"
          ]
        },
        {
          "metadata": {
            "tags": null
          },
          "name": "stderr",
          "output_type": "stream",
          "text": [
            "\r 12%|█▏        | 56/477 [04:38<27:52,  3.97s/it]"
          ]
        },
        {
          "metadata": {
            "tags": null
          },
          "name": "stdout",
          "output_type": "stream",
          "text": [
            "Saved frame: processed_frames/video_55/frame_9.jpg\n",
            "Processing video: /content/drive/MyDrive/HACER/drink_neutral_17_h.mp4, Total frames: 106\n",
            "Saved frame: processed_frames/video_56/frame_0.jpg\n",
            "Saved frame: processed_frames/video_56/frame_1.jpg\n",
            "Saved frame: processed_frames/video_56/frame_2.jpg\n",
            "Saved frame: processed_frames/video_56/frame_3.jpg\n",
            "Saved frame: processed_frames/video_56/frame_4.jpg\n",
            "Saved frame: processed_frames/video_56/frame_5.jpg\n",
            "Saved frame: processed_frames/video_56/frame_6.jpg\n",
            "Saved frame: processed_frames/video_56/frame_7.jpg\n",
            "Saved frame: processed_frames/video_56/frame_8.jpg\n"
          ]
        },
        {
          "metadata": {
            "tags": null
          },
          "name": "stderr",
          "output_type": "stream",
          "text": [
            "\r 12%|█▏        | 57/477 [04:41<25:09,  3.59s/it]"
          ]
        },
        {
          "metadata": {
            "tags": null
          },
          "name": "stdout",
          "output_type": "stream",
          "text": [
            "Saved frame: processed_frames/video_56/frame_9.jpg\n",
            "Processing video: /content/drive/MyDrive/HACER/drink_neutral_1_a.mp4, Total frames: 303\n",
            "Saved frame: processed_frames/video_57/frame_0.jpg\n",
            "Saved frame: processed_frames/video_57/frame_1.jpg\n",
            "Saved frame: processed_frames/video_57/frame_2.jpg\n",
            "Saved frame: processed_frames/video_57/frame_3.jpg\n",
            "Saved frame: processed_frames/video_57/frame_4.jpg\n",
            "Saved frame: processed_frames/video_57/frame_5.jpg\n",
            "Saved frame: processed_frames/video_57/frame_6.jpg\n",
            "Saved frame: processed_frames/video_57/frame_7.jpg\n",
            "Saved frame: processed_frames/video_57/frame_8.jpg\n"
          ]
        },
        {
          "metadata": {
            "tags": null
          },
          "name": "stderr",
          "output_type": "stream",
          "text": [
            "\r 12%|█▏        | 58/477 [04:48<32:35,  4.67s/it]"
          ]
        },
        {
          "metadata": {
            "tags": null
          },
          "name": "stdout",
          "output_type": "stream",
          "text": [
            "Saved frame: processed_frames/video_57/frame_9.jpg\n",
            "Processing video: /content/drive/MyDrive/HACER/drink_neutral_2_l.mp4, Total frames: 248\n",
            "Saved frame: processed_frames/video_58/frame_0.jpg\n",
            "Saved frame: processed_frames/video_58/frame_1.jpg\n",
            "Saved frame: processed_frames/video_58/frame_2.jpg\n",
            "Saved frame: processed_frames/video_58/frame_3.jpg\n",
            "Saved frame: processed_frames/video_58/frame_4.jpg\n",
            "Saved frame: processed_frames/video_58/frame_5.jpg\n",
            "Saved frame: processed_frames/video_58/frame_6.jpg\n",
            "Saved frame: processed_frames/video_58/frame_7.jpg\n",
            "Saved frame: processed_frames/video_58/frame_8.jpg\n"
          ]
        },
        {
          "metadata": {
            "tags": null
          },
          "name": "stderr",
          "output_type": "stream",
          "text": [
            "\r 12%|█▏        | 59/477 [04:52<30:43,  4.41s/it]"
          ]
        },
        {
          "metadata": {
            "tags": null
          },
          "name": "stdout",
          "output_type": "stream",
          "text": [
            "Saved frame: processed_frames/video_58/frame_9.jpg\n",
            "Processing video: /content/drive/MyDrive/HACER/drink_neutral_3_j.mp4, Total frames: 128\n",
            "Saved frame: processed_frames/video_59/frame_0.jpg\n",
            "Saved frame: processed_frames/video_59/frame_1.jpg\n",
            "Saved frame: processed_frames/video_59/frame_2.jpg\n",
            "Saved frame: processed_frames/video_59/frame_3.jpg\n",
            "Saved frame: processed_frames/video_59/frame_4.jpg\n",
            "Saved frame: processed_frames/video_59/frame_5.jpg\n",
            "Saved frame: processed_frames/video_59/frame_6.jpg\n",
            "Saved frame: processed_frames/video_59/frame_7.jpg\n",
            "Saved frame: processed_frames/video_59/frame_8.jpg\n"
          ]
        },
        {
          "metadata": {
            "tags": null
          },
          "name": "stderr",
          "output_type": "stream",
          "text": [
            "\r 13%|█▎        | 60/477 [04:55<27:42,  3.99s/it]"
          ]
        },
        {
          "metadata": {
            "tags": null
          },
          "name": "stdout",
          "output_type": "stream",
          "text": [
            "Saved frame: processed_frames/video_59/frame_9.jpg\n",
            "Processing video: /content/drive/MyDrive/HACER/drink_neutral_4_j.mp4, Total frames: 128\n",
            "Saved frame: processed_frames/video_60/frame_0.jpg\n",
            "Saved frame: processed_frames/video_60/frame_1.jpg\n",
            "Saved frame: processed_frames/video_60/frame_2.jpg\n",
            "Saved frame: processed_frames/video_60/frame_3.jpg\n",
            "Saved frame: processed_frames/video_60/frame_4.jpg\n",
            "Saved frame: processed_frames/video_60/frame_5.jpg\n",
            "Saved frame: processed_frames/video_60/frame_6.jpg\n",
            "Saved frame: processed_frames/video_60/frame_7.jpg\n",
            "Saved frame: processed_frames/video_60/frame_8.jpg\n"
          ]
        },
        {
          "metadata": {
            "tags": null
          },
          "name": "stderr",
          "output_type": "stream",
          "text": [
            "\r 13%|█▎        | 61/477 [04:59<27:02,  3.90s/it]"
          ]
        },
        {
          "metadata": {
            "tags": null
          },
          "name": "stdout",
          "output_type": "stream",
          "text": [
            "Saved frame: processed_frames/video_60/frame_9.jpg\n",
            "Processing video: /content/drive/MyDrive/HACER/drink_neutral_5_s.mp4, Total frames: 182\n",
            "Saved frame: processed_frames/video_61/frame_0.jpg\n",
            "Saved frame: processed_frames/video_61/frame_1.jpg\n",
            "Saved frame: processed_frames/video_61/frame_2.jpg\n",
            "Saved frame: processed_frames/video_61/frame_3.jpg\n",
            "Saved frame: processed_frames/video_61/frame_4.jpg\n",
            "Saved frame: processed_frames/video_61/frame_5.jpg\n",
            "Saved frame: processed_frames/video_61/frame_6.jpg\n",
            "Saved frame: processed_frames/video_61/frame_7.jpg\n",
            "Saved frame: processed_frames/video_61/frame_8.jpg\n"
          ]
        },
        {
          "metadata": {
            "tags": null
          },
          "name": "stderr",
          "output_type": "stream",
          "text": [
            "\r 13%|█▎        | 62/477 [05:03<28:17,  4.09s/it]"
          ]
        },
        {
          "metadata": {
            "tags": null
          },
          "name": "stdout",
          "output_type": "stream",
          "text": [
            "Saved frame: processed_frames/video_61/frame_9.jpg\n",
            "Processing video: /content/drive/MyDrive/HACER/drink_neutral_6_m.mp4, Total frames: 118\n",
            "Saved frame: processed_frames/video_62/frame_0.jpg\n",
            "Saved frame: processed_frames/video_62/frame_1.jpg\n",
            "Saved frame: processed_frames/video_62/frame_2.jpg\n",
            "Saved frame: processed_frames/video_62/frame_3.jpg\n",
            "Saved frame: processed_frames/video_62/frame_4.jpg\n",
            "Saved frame: processed_frames/video_62/frame_5.jpg\n",
            "Saved frame: processed_frames/video_62/frame_6.jpg\n",
            "Saved frame: processed_frames/video_62/frame_7.jpg\n",
            "Saved frame: processed_frames/video_62/frame_8.jpg\n"
          ]
        },
        {
          "metadata": {
            "tags": null
          },
          "name": "stderr",
          "output_type": "stream",
          "text": [
            "\r 13%|█▎        | 63/477 [05:06<25:48,  3.74s/it]"
          ]
        },
        {
          "metadata": {
            "tags": null
          },
          "name": "stdout",
          "output_type": "stream",
          "text": [
            "Saved frame: processed_frames/video_62/frame_9.jpg\n",
            "Processing video: /content/drive/MyDrive/HACER/drink_neutral_7_a.mp4, Total frames: 319\n",
            "Saved frame: processed_frames/video_63/frame_0.jpg\n",
            "Saved frame: processed_frames/video_63/frame_1.jpg\n",
            "Saved frame: processed_frames/video_63/frame_2.jpg\n",
            "Saved frame: processed_frames/video_63/frame_3.jpg\n",
            "Saved frame: processed_frames/video_63/frame_4.jpg\n",
            "Saved frame: processed_frames/video_63/frame_5.jpg\n",
            "Saved frame: processed_frames/video_63/frame_6.jpg\n",
            "Saved frame: processed_frames/video_63/frame_7.jpg\n"
          ]
        },
        {
          "metadata": {
            "tags": null
          },
          "name": "stderr",
          "output_type": "stream",
          "text": [
            "\r 13%|█▎        | 64/477 [05:11<28:07,  4.09s/it]"
          ]
        },
        {
          "metadata": {
            "tags": null
          },
          "name": "stdout",
          "output_type": "stream",
          "text": [
            "Saved frame: processed_frames/video_63/frame_8.jpg\n",
            "Saved frame: processed_frames/video_63/frame_9.jpg\n",
            "Processing video: /content/drive/MyDrive/HACER/drink_neutral_8_j.mp4, Total frames: 232\n",
            "Saved frame: processed_frames/video_64/frame_0.jpg\n",
            "Saved frame: processed_frames/video_64/frame_1.jpg\n",
            "Saved frame: processed_frames/video_64/frame_2.jpg\n",
            "Saved frame: processed_frames/video_64/frame_3.jpg\n",
            "Saved frame: processed_frames/video_64/frame_4.jpg\n",
            "Saved frame: processed_frames/video_64/frame_5.jpg\n",
            "Saved frame: processed_frames/video_64/frame_6.jpg\n",
            "Saved frame: processed_frames/video_64/frame_7.jpg\n",
            "Saved frame: processed_frames/video_64/frame_8.jpg\n"
          ]
        },
        {
          "metadata": {
            "tags": null
          },
          "name": "stderr",
          "output_type": "stream",
          "text": [
            "\r 14%|█▎        | 65/477 [05:15<27:50,  4.06s/it]"
          ]
        },
        {
          "metadata": {
            "tags": null
          },
          "name": "stdout",
          "output_type": "stream",
          "text": [
            "Saved frame: processed_frames/video_64/frame_9.jpg\n",
            "Processing video: /content/drive/MyDrive/HACER/drink_neutral_9_l.mp4, Total frames: 177\n",
            "Saved frame: processed_frames/video_65/frame_0.jpg\n",
            "Saved frame: processed_frames/video_65/frame_1.jpg\n",
            "Saved frame: processed_frames/video_65/frame_2.jpg\n",
            "Saved frame: processed_frames/video_65/frame_3.jpg\n",
            "Saved frame: processed_frames/video_65/frame_4.jpg\n",
            "Saved frame: processed_frames/video_65/frame_5.jpg\n",
            "Saved frame: processed_frames/video_65/frame_6.jpg\n",
            "Saved frame: processed_frames/video_65/frame_7.jpg\n"
          ]
        },
        {
          "metadata": {
            "tags": null
          },
          "name": "stderr",
          "output_type": "stream",
          "text": [
            "\r 14%|█▍        | 66/477 [05:20<29:31,  4.31s/it]"
          ]
        },
        {
          "metadata": {
            "tags": null
          },
          "name": "stdout",
          "output_type": "stream",
          "text": [
            "Saved frame: processed_frames/video_65/frame_8.jpg\n",
            "Saved frame: processed_frames/video_65/frame_9.jpg\n",
            "Processing video: /content/drive/MyDrive/HACER/drink_sad_10_s.mp4, Total frames: 274\n",
            "Saved frame: processed_frames/video_66/frame_0.jpg\n",
            "Saved frame: processed_frames/video_66/frame_1.jpg\n",
            "Saved frame: processed_frames/video_66/frame_2.jpg\n",
            "Saved frame: processed_frames/video_66/frame_3.jpg\n",
            "Saved frame: processed_frames/video_66/frame_4.jpg\n",
            "Saved frame: processed_frames/video_66/frame_5.jpg\n",
            "Saved frame: processed_frames/video_66/frame_6.jpg\n",
            "Saved frame: processed_frames/video_66/frame_7.jpg\n",
            "Saved frame: processed_frames/video_66/frame_8.jpg\n"
          ]
        },
        {
          "metadata": {
            "tags": null
          },
          "name": "stderr",
          "output_type": "stream",
          "text": [
            "\r 14%|█▍        | 67/477 [05:24<27:44,  4.06s/it]"
          ]
        },
        {
          "metadata": {
            "tags": null
          },
          "name": "stdout",
          "output_type": "stream",
          "text": [
            "Saved frame: processed_frames/video_66/frame_9.jpg\n",
            "Processing video: /content/drive/MyDrive/HACER/drink_sad_1_w.mp4, Total frames: 648\n",
            "Saved frame: processed_frames/video_67/frame_0.jpg\n",
            "Saved frame: processed_frames/video_67/frame_1.jpg\n",
            "Saved frame: processed_frames/video_67/frame_2.jpg\n",
            "Saved frame: processed_frames/video_67/frame_3.jpg\n",
            "Saved frame: processed_frames/video_67/frame_4.jpg\n",
            "Saved frame: processed_frames/video_67/frame_5.jpg\n",
            "Saved frame: processed_frames/video_67/frame_6.jpg\n",
            "Saved frame: processed_frames/video_67/frame_7.jpg\n",
            "Saved frame: processed_frames/video_67/frame_8.jpg\n"
          ]
        },
        {
          "metadata": {
            "tags": null
          },
          "name": "stderr",
          "output_type": "stream",
          "text": [
            "\r 14%|█▍        | 68/477 [05:29<29:37,  4.35s/it]"
          ]
        },
        {
          "metadata": {
            "tags": null
          },
          "name": "stdout",
          "output_type": "stream",
          "text": [
            "Saved frame: processed_frames/video_67/frame_9.jpg\n",
            "Processing video: /content/drive/MyDrive/HACER/drink_sad_2_l.mp4, Total frames: 281\n",
            "Saved frame: processed_frames/video_68/frame_0.jpg\n",
            "Saved frame: processed_frames/video_68/frame_1.jpg\n",
            "Saved frame: processed_frames/video_68/frame_2.jpg\n",
            "Saved frame: processed_frames/video_68/frame_3.jpg\n",
            "Saved frame: processed_frames/video_68/frame_4.jpg\n",
            "Saved frame: processed_frames/video_68/frame_5.jpg\n",
            "Saved frame: processed_frames/video_68/frame_6.jpg\n",
            "Saved frame: processed_frames/video_68/frame_7.jpg\n",
            "Saved frame: processed_frames/video_68/frame_8.jpg\n"
          ]
        },
        {
          "metadata": {
            "tags": null
          },
          "name": "stderr",
          "output_type": "stream",
          "text": [
            "\r 14%|█▍        | 69/477 [05:36<35:19,  5.19s/it]"
          ]
        },
        {
          "metadata": {
            "tags": null
          },
          "name": "stdout",
          "output_type": "stream",
          "text": [
            "Saved frame: processed_frames/video_68/frame_9.jpg\n",
            "Processing video: /content/drive/MyDrive/HACER/drink_sad_3_s.mp4, Total frames: 258\n",
            "Saved frame: processed_frames/video_69/frame_0.jpg\n",
            "Saved frame: processed_frames/video_69/frame_1.jpg\n",
            "Saved frame: processed_frames/video_69/frame_2.jpg\n",
            "Saved frame: processed_frames/video_69/frame_3.jpg\n",
            "Saved frame: processed_frames/video_69/frame_4.jpg\n",
            "Saved frame: processed_frames/video_69/frame_5.jpg\n",
            "Saved frame: processed_frames/video_69/frame_6.jpg\n",
            "Saved frame: processed_frames/video_69/frame_7.jpg\n",
            "Saved frame: processed_frames/video_69/frame_8.jpg\n"
          ]
        },
        {
          "metadata": {
            "tags": null
          },
          "name": "stderr",
          "output_type": "stream",
          "text": [
            "\r 15%|█▍        | 70/477 [05:39<31:05,  4.58s/it]"
          ]
        },
        {
          "metadata": {
            "tags": null
          },
          "name": "stdout",
          "output_type": "stream",
          "text": [
            "Saved frame: processed_frames/video_69/frame_9.jpg\n",
            "Processing video: /content/drive/MyDrive/HACER/drink_sad_4_m.mp4, Total frames: 315\n",
            "Saved frame: processed_frames/video_70/frame_0.jpg\n",
            "Saved frame: processed_frames/video_70/frame_1.jpg\n",
            "Saved frame: processed_frames/video_70/frame_2.jpg\n",
            "Saved frame: processed_frames/video_70/frame_3.jpg\n",
            "Saved frame: processed_frames/video_70/frame_4.jpg\n",
            "Saved frame: processed_frames/video_70/frame_5.jpg\n",
            "Saved frame: processed_frames/video_70/frame_6.jpg\n",
            "Saved frame: processed_frames/video_70/frame_7.jpg\n"
          ]
        },
        {
          "metadata": {
            "tags": null
          },
          "name": "stderr",
          "output_type": "stream",
          "text": [
            "\r 15%|█▍        | 71/477 [05:43<29:05,  4.30s/it]"
          ]
        },
        {
          "metadata": {
            "tags": null
          },
          "name": "stdout",
          "output_type": "stream",
          "text": [
            "Saved frame: processed_frames/video_70/frame_8.jpg\n",
            "Saved frame: processed_frames/video_70/frame_9.jpg\n",
            "Processing video: /content/drive/MyDrive/HACER/drink_sad_5_l.mp4, Total frames: 193\n",
            "Saved frame: processed_frames/video_71/frame_0.jpg\n",
            "Saved frame: processed_frames/video_71/frame_1.jpg\n",
            "Saved frame: processed_frames/video_71/frame_2.jpg\n",
            "Saved frame: processed_frames/video_71/frame_3.jpg\n",
            "Saved frame: processed_frames/video_71/frame_4.jpg\n",
            "Saved frame: processed_frames/video_71/frame_5.jpg\n",
            "Saved frame: processed_frames/video_71/frame_6.jpg\n",
            "Saved frame: processed_frames/video_71/frame_7.jpg\n",
            "Saved frame: processed_frames/video_71/frame_8.jpg\n"
          ]
        },
        {
          "metadata": {
            "tags": null
          },
          "name": "stderr",
          "output_type": "stream",
          "text": [
            "\r 15%|█▌        | 72/477 [05:48<31:23,  4.65s/it]"
          ]
        },
        {
          "metadata": {
            "tags": null
          },
          "name": "stdout",
          "output_type": "stream",
          "text": [
            "Saved frame: processed_frames/video_71/frame_9.jpg\n",
            "Processing video: /content/drive/MyDrive/HACER/drink_sad_6_m.mp4, Total frames: 287\n",
            "Saved frame: processed_frames/video_72/frame_0.jpg\n",
            "Saved frame: processed_frames/video_72/frame_1.jpg\n",
            "Saved frame: processed_frames/video_72/frame_2.jpg\n",
            "Saved frame: processed_frames/video_72/frame_3.jpg\n",
            "Saved frame: processed_frames/video_72/frame_4.jpg\n",
            "Saved frame: processed_frames/video_72/frame_5.jpg\n",
            "Saved frame: processed_frames/video_72/frame_6.jpg\n",
            "Saved frame: processed_frames/video_72/frame_7.jpg\n",
            "Saved frame: processed_frames/video_72/frame_8.jpg\n"
          ]
        },
        {
          "metadata": {
            "tags": null
          },
          "name": "stderr",
          "output_type": "stream",
          "text": [
            "\r 15%|█▌        | 73/477 [05:52<29:35,  4.40s/it]"
          ]
        },
        {
          "metadata": {
            "tags": null
          },
          "name": "stdout",
          "output_type": "stream",
          "text": [
            "Saved frame: processed_frames/video_72/frame_9.jpg\n",
            "Processing video: /content/drive/MyDrive/HACER/drink_sad_7_w.mp4, Total frames: 137\n",
            "Saved frame: processed_frames/video_73/frame_0.jpg\n",
            "Saved frame: processed_frames/video_73/frame_1.jpg\n",
            "Saved frame: processed_frames/video_73/frame_2.jpg\n",
            "Saved frame: processed_frames/video_73/frame_3.jpg\n",
            "Saved frame: processed_frames/video_73/frame_4.jpg\n",
            "Saved frame: processed_frames/video_73/frame_5.jpg\n",
            "Saved frame: processed_frames/video_73/frame_6.jpg\n",
            "Saved frame: processed_frames/video_73/frame_7.jpg\n",
            "Saved frame: processed_frames/video_73/frame_8.jpg\n"
          ]
        },
        {
          "metadata": {
            "tags": null
          },
          "name": "stderr",
          "output_type": "stream",
          "text": [
            "\r 16%|█▌        | 74/477 [05:55<26:25,  3.93s/it]"
          ]
        },
        {
          "metadata": {
            "tags": null
          },
          "name": "stdout",
          "output_type": "stream",
          "text": [
            "Saved frame: processed_frames/video_73/frame_9.jpg\n",
            "Processing video: /content/drive/MyDrive/HACER/drink_sad_8_w.mp4, Total frames: 137\n",
            "Saved frame: processed_frames/video_74/frame_0.jpg\n",
            "Saved frame: processed_frames/video_74/frame_1.jpg\n",
            "Saved frame: processed_frames/video_74/frame_2.jpg\n",
            "Saved frame: processed_frames/video_74/frame_3.jpg\n",
            "Saved frame: processed_frames/video_74/frame_4.jpg\n",
            "Saved frame: processed_frames/video_74/frame_5.jpg\n",
            "Saved frame: processed_frames/video_74/frame_6.jpg\n",
            "Saved frame: processed_frames/video_74/frame_7.jpg\n",
            "Saved frame: processed_frames/video_74/frame_8.jpg\n"
          ]
        },
        {
          "metadata": {
            "tags": null
          },
          "name": "stderr",
          "output_type": "stream",
          "text": [
            "\r 16%|█▌        | 75/477 [05:57<23:49,  3.56s/it]"
          ]
        },
        {
          "metadata": {
            "tags": null
          },
          "name": "stdout",
          "output_type": "stream",
          "text": [
            "Saved frame: processed_frames/video_74/frame_9.jpg\n",
            "Processing video: /content/drive/MyDrive/HACER/drink_sad_9_k.mp4, Total frames: 245\n",
            "Saved frame: processed_frames/video_75/frame_0.jpg\n",
            "Saved frame: processed_frames/video_75/frame_1.jpg\n",
            "Saved frame: processed_frames/video_75/frame_2.jpg\n",
            "Saved frame: processed_frames/video_75/frame_3.jpg\n",
            "Saved frame: processed_frames/video_75/frame_4.jpg\n",
            "Saved frame: processed_frames/video_75/frame_5.jpg\n",
            "Saved frame: processed_frames/video_75/frame_6.jpg\n",
            "Saved frame: processed_frames/video_75/frame_7.jpg\n",
            "Saved frame: processed_frames/video_75/frame_8.jpg\n"
          ]
        },
        {
          "metadata": {
            "tags": null
          },
          "name": "stderr",
          "output_type": "stream",
          "text": [
            "\r 16%|█▌        | 76/477 [06:03<28:23,  4.25s/it]"
          ]
        },
        {
          "metadata": {
            "tags": null
          },
          "name": "stdout",
          "output_type": "stream",
          "text": [
            "Saved frame: processed_frames/video_75/frame_9.jpg\n",
            "Processing video: /content/drive/MyDrive/HACER/putonglasses_angry_10_m.mp4, Total frames: 153\n",
            "Saved frame: processed_frames/video_76/frame_0.jpg\n",
            "Saved frame: processed_frames/video_76/frame_1.jpg\n",
            "Saved frame: processed_frames/video_76/frame_2.jpg\n",
            "Saved frame: processed_frames/video_76/frame_3.jpg\n",
            "Saved frame: processed_frames/video_76/frame_4.jpg\n",
            "Saved frame: processed_frames/video_76/frame_5.jpg\n",
            "Saved frame: processed_frames/video_76/frame_6.jpg\n",
            "Saved frame: processed_frames/video_76/frame_7.jpg\n",
            "Saved frame: processed_frames/video_76/frame_8.jpg\n"
          ]
        },
        {
          "metadata": {
            "tags": null
          },
          "name": "stderr",
          "output_type": "stream",
          "text": [
            "\r 16%|█▌        | 77/477 [06:07<28:06,  4.22s/it]"
          ]
        },
        {
          "metadata": {
            "tags": null
          },
          "name": "stdout",
          "output_type": "stream",
          "text": [
            "Saved frame: processed_frames/video_76/frame_9.jpg\n",
            "Processing video: /content/drive/MyDrive/HACER/putonglasses_angry_11_h.mp4, Total frames: 92\n",
            "Saved frame: processed_frames/video_77/frame_0.jpg\n",
            "Saved frame: processed_frames/video_77/frame_1.jpg\n",
            "Saved frame: processed_frames/video_77/frame_2.jpg\n",
            "Saved frame: processed_frames/video_77/frame_3.jpg\n",
            "Saved frame: processed_frames/video_77/frame_4.jpg\n",
            "Saved frame: processed_frames/video_77/frame_5.jpg\n",
            "Saved frame: processed_frames/video_77/frame_6.jpg\n",
            "Saved frame: processed_frames/video_77/frame_7.jpg\n",
            "Saved frame: processed_frames/video_77/frame_8.jpg\n"
          ]
        },
        {
          "metadata": {
            "tags": null
          },
          "name": "stderr",
          "output_type": "stream",
          "text": [
            "\r 16%|█▋        | 78/477 [06:10<24:16,  3.65s/it]"
          ]
        },
        {
          "metadata": {
            "tags": null
          },
          "name": "stdout",
          "output_type": "stream",
          "text": [
            "Saved frame: processed_frames/video_77/frame_9.jpg\n",
            "Processing video: /content/drive/MyDrive/HACER/putonglasses_angry_12_j.mp4, Total frames: 97\n",
            "Saved frame: processed_frames/video_78/frame_0.jpg\n",
            "Saved frame: processed_frames/video_78/frame_1.jpg\n",
            "Saved frame: processed_frames/video_78/frame_2.jpg\n",
            "Saved frame: processed_frames/video_78/frame_3.jpg\n",
            "Saved frame: processed_frames/video_78/frame_4.jpg\n",
            "Saved frame: processed_frames/video_78/frame_5.jpg\n",
            "Saved frame: processed_frames/video_78/frame_6.jpg\n",
            "Saved frame: processed_frames/video_78/frame_7.jpg\n",
            "Saved frame: processed_frames/video_78/frame_8.jpg\n"
          ]
        },
        {
          "metadata": {
            "tags": null
          },
          "name": "stderr",
          "output_type": "stream",
          "text": [
            "\r 17%|█▋        | 79/477 [06:12<21:05,  3.18s/it]"
          ]
        },
        {
          "metadata": {
            "tags": null
          },
          "name": "stdout",
          "output_type": "stream",
          "text": [
            "Saved frame: processed_frames/video_78/frame_9.jpg\n",
            "Processing video: /content/drive/MyDrive/HACER/putonglasses_angry_1_s.mp4, Total frames: 135\n",
            "Saved frame: processed_frames/video_79/frame_0.jpg\n",
            "Saved frame: processed_frames/video_79/frame_1.jpg\n",
            "Saved frame: processed_frames/video_79/frame_2.jpg\n",
            "Saved frame: processed_frames/video_79/frame_3.jpg\n",
            "Saved frame: processed_frames/video_79/frame_4.jpg\n",
            "Saved frame: processed_frames/video_79/frame_5.jpg\n",
            "Saved frame: processed_frames/video_79/frame_6.jpg\n",
            "Saved frame: processed_frames/video_79/frame_7.jpg\n",
            "Saved frame: processed_frames/video_79/frame_8.jpg\n"
          ]
        },
        {
          "metadata": {
            "tags": null
          },
          "name": "stderr",
          "output_type": "stream",
          "text": [
            "\r 17%|█▋        | 80/477 [06:15<21:31,  3.25s/it]"
          ]
        },
        {
          "metadata": {
            "tags": null
          },
          "name": "stdout",
          "output_type": "stream",
          "text": [
            "Saved frame: processed_frames/video_79/frame_9.jpg\n",
            "Processing video: /content/drive/MyDrive/HACER/putonglasses_angry_2_w.mp4, Total frames: 144\n",
            "Saved frame: processed_frames/video_80/frame_0.jpg\n",
            "Saved frame: processed_frames/video_80/frame_1.jpg\n",
            "Saved frame: processed_frames/video_80/frame_2.jpg\n",
            "Saved frame: processed_frames/video_80/frame_3.jpg\n",
            "Saved frame: processed_frames/video_80/frame_4.jpg\n",
            "Saved frame: processed_frames/video_80/frame_5.jpg\n",
            "Saved frame: processed_frames/video_80/frame_6.jpg\n",
            "Saved frame: processed_frames/video_80/frame_7.jpg\n",
            "Saved frame: processed_frames/video_80/frame_8.jpg\n"
          ]
        },
        {
          "metadata": {
            "tags": null
          },
          "name": "stderr",
          "output_type": "stream",
          "text": [
            "\r 17%|█▋        | 81/477 [06:20<24:56,  3.78s/it]"
          ]
        },
        {
          "metadata": {
            "tags": null
          },
          "name": "stdout",
          "output_type": "stream",
          "text": [
            "Saved frame: processed_frames/video_80/frame_9.jpg\n",
            "Processing video: /content/drive/MyDrive/HACER/putonglasses_angry_3_h.mp4, Total frames: 106\n",
            "Saved frame: processed_frames/video_81/frame_0.jpg\n",
            "Saved frame: processed_frames/video_81/frame_1.jpg\n",
            "Saved frame: processed_frames/video_81/frame_2.jpg\n",
            "Saved frame: processed_frames/video_81/frame_3.jpg\n",
            "Saved frame: processed_frames/video_81/frame_4.jpg\n",
            "Saved frame: processed_frames/video_81/frame_5.jpg\n",
            "Saved frame: processed_frames/video_81/frame_6.jpg\n",
            "Saved frame: processed_frames/video_81/frame_7.jpg\n",
            "Saved frame: processed_frames/video_81/frame_8.jpg\n"
          ]
        },
        {
          "metadata": {
            "tags": null
          },
          "name": "stderr",
          "output_type": "stream",
          "text": [
            "\r 17%|█▋        | 82/477 [06:23<21:58,  3.34s/it]"
          ]
        },
        {
          "metadata": {
            "tags": null
          },
          "name": "stdout",
          "output_type": "stream",
          "text": [
            "Saved frame: processed_frames/video_81/frame_9.jpg\n",
            "Processing video: /content/drive/MyDrive/HACER/putonglasses_angry_4_m.mp4, Total frames: 162\n",
            "Saved frame: processed_frames/video_82/frame_0.jpg\n",
            "Saved frame: processed_frames/video_82/frame_1.jpg\n",
            "Saved frame: processed_frames/video_82/frame_2.jpg\n",
            "Saved frame: processed_frames/video_82/frame_3.jpg\n",
            "Saved frame: processed_frames/video_82/frame_4.jpg\n",
            "Saved frame: processed_frames/video_82/frame_5.jpg\n",
            "Saved frame: processed_frames/video_82/frame_6.jpg\n",
            "Saved frame: processed_frames/video_82/frame_7.jpg\n"
          ]
        },
        {
          "metadata": {
            "tags": null
          },
          "name": "stderr",
          "output_type": "stream",
          "text": [
            "\r 17%|█▋        | 83/477 [06:26<21:55,  3.34s/it]"
          ]
        },
        {
          "metadata": {
            "tags": null
          },
          "name": "stdout",
          "output_type": "stream",
          "text": [
            "Saved frame: processed_frames/video_82/frame_8.jpg\n",
            "Saved frame: processed_frames/video_82/frame_9.jpg\n",
            "Processing video: /content/drive/MyDrive/HACER/putonglasses_angry_5_w.mp4, Total frames: 136\n",
            "Saved frame: processed_frames/video_83/frame_0.jpg\n",
            "Saved frame: processed_frames/video_83/frame_1.jpg\n",
            "Saved frame: processed_frames/video_83/frame_2.jpg\n",
            "Saved frame: processed_frames/video_83/frame_3.jpg\n",
            "Saved frame: processed_frames/video_83/frame_4.jpg\n",
            "Saved frame: processed_frames/video_83/frame_5.jpg\n",
            "Saved frame: processed_frames/video_83/frame_6.jpg\n",
            "Saved frame: processed_frames/video_83/frame_7.jpg\n",
            "Saved frame: processed_frames/video_83/frame_8.jpg\n"
          ]
        },
        {
          "metadata": {
            "tags": null
          },
          "name": "stderr",
          "output_type": "stream",
          "text": [
            "\r 18%|█▊        | 84/477 [06:29<21:06,  3.22s/it]"
          ]
        },
        {
          "metadata": {
            "tags": null
          },
          "name": "stdout",
          "output_type": "stream",
          "text": [
            "Saved frame: processed_frames/video_83/frame_9.jpg\n",
            "Processing video: /content/drive/MyDrive/HACER/putonglasses_angry_6_l.mp4, Total frames: 112\n",
            "Saved frame: processed_frames/video_84/frame_0.jpg\n",
            "Saved frame: processed_frames/video_84/frame_1.jpg\n",
            "Saved frame: processed_frames/video_84/frame_2.jpg\n",
            "Saved frame: processed_frames/video_84/frame_3.jpg\n",
            "Saved frame: processed_frames/video_84/frame_4.jpg\n",
            "Saved frame: processed_frames/video_84/frame_5.jpg\n",
            "Saved frame: processed_frames/video_84/frame_6.jpg\n",
            "Saved frame: processed_frames/video_84/frame_7.jpg\n",
            "Saved frame: processed_frames/video_84/frame_8.jpg\n"
          ]
        },
        {
          "metadata": {
            "tags": null
          },
          "name": "stderr",
          "output_type": "stream",
          "text": [
            "\r 18%|█▊        | 85/477 [06:34<25:05,  3.84s/it]"
          ]
        },
        {
          "metadata": {
            "tags": null
          },
          "name": "stdout",
          "output_type": "stream",
          "text": [
            "Saved frame: processed_frames/video_84/frame_9.jpg\n",
            "Processing video: /content/drive/MyDrive/HACER/putonglasses_angry_7_j.mp4, Total frames: 99\n",
            "Saved frame: processed_frames/video_85/frame_0.jpg\n",
            "Saved frame: processed_frames/video_85/frame_1.jpg\n",
            "Saved frame: processed_frames/video_85/frame_2.jpg\n",
            "Saved frame: processed_frames/video_85/frame_3.jpg\n",
            "Saved frame: processed_frames/video_85/frame_4.jpg\n",
            "Saved frame: processed_frames/video_85/frame_5.jpg\n",
            "Saved frame: processed_frames/video_85/frame_6.jpg\n",
            "Saved frame: processed_frames/video_85/frame_7.jpg\n",
            "Saved frame: processed_frames/video_85/frame_8.jpg\n"
          ]
        },
        {
          "metadata": {
            "tags": null
          },
          "name": "stderr",
          "output_type": "stream",
          "text": [
            "\r 18%|█▊        | 86/477 [06:36<21:55,  3.36s/it]"
          ]
        },
        {
          "metadata": {
            "tags": null
          },
          "name": "stdout",
          "output_type": "stream",
          "text": [
            "Saved frame: processed_frames/video_85/frame_9.jpg\n",
            "Processing video: /content/drive/MyDrive/HACER/putonglasses_angry_8_s.mp4, Total frames: 122\n",
            "Saved frame: processed_frames/video_86/frame_0.jpg\n",
            "Saved frame: processed_frames/video_86/frame_1.jpg\n",
            "Saved frame: processed_frames/video_86/frame_2.jpg\n",
            "Saved frame: processed_frames/video_86/frame_3.jpg\n",
            "Saved frame: processed_frames/video_86/frame_4.jpg\n",
            "Saved frame: processed_frames/video_86/frame_5.jpg\n",
            "Saved frame: processed_frames/video_86/frame_6.jpg\n",
            "Saved frame: processed_frames/video_86/frame_7.jpg\n",
            "Saved frame: processed_frames/video_86/frame_8.jpg\n"
          ]
        },
        {
          "metadata": {
            "tags": null
          },
          "name": "stderr",
          "output_type": "stream",
          "text": [
            "\r 18%|█▊        | 87/477 [06:39<20:38,  3.17s/it]"
          ]
        },
        {
          "metadata": {
            "tags": null
          },
          "name": "stdout",
          "output_type": "stream",
          "text": [
            "Saved frame: processed_frames/video_86/frame_9.jpg\n",
            "Processing video: /content/drive/MyDrive/HACER/putonglasses_angry_9_l.mp4, Total frames: 75\n",
            "Saved frame: processed_frames/video_87/frame_0.jpg\n",
            "Saved frame: processed_frames/video_87/frame_1.jpg\n",
            "Saved frame: processed_frames/video_87/frame_2.jpg\n",
            "Saved frame: processed_frames/video_87/frame_3.jpg\n",
            "Saved frame: processed_frames/video_87/frame_4.jpg\n",
            "Saved frame: processed_frames/video_87/frame_5.jpg\n",
            "Saved frame: processed_frames/video_87/frame_6.jpg\n",
            "Saved frame: processed_frames/video_87/frame_7.jpg\n",
            "Saved frame: processed_frames/video_87/frame_8.jpg\n"
          ]
        },
        {
          "metadata": {
            "tags": null
          },
          "name": "stderr",
          "output_type": "stream",
          "text": [
            "\r 18%|█▊        | 88/477 [06:41<18:17,  2.82s/it]"
          ]
        },
        {
          "metadata": {
            "tags": null
          },
          "name": "stdout",
          "output_type": "stream",
          "text": [
            "Saved frame: processed_frames/video_87/frame_9.jpg\n",
            "Processing video: /content/drive/MyDrive/HACER/putonglasses_happy_10_s.mp4, Total frames: 206\n",
            "Saved frame: processed_frames/video_88/frame_0.jpg\n",
            "Saved frame: processed_frames/video_88/frame_1.jpg\n",
            "Saved frame: processed_frames/video_88/frame_2.jpg\n",
            "Saved frame: processed_frames/video_88/frame_3.jpg\n",
            "Saved frame: processed_frames/video_88/frame_4.jpg\n",
            "Saved frame: processed_frames/video_88/frame_5.jpg\n",
            "Saved frame: processed_frames/video_88/frame_6.jpg\n",
            "Saved frame: processed_frames/video_88/frame_7.jpg\n",
            "Saved frame: processed_frames/video_88/frame_8.jpg\n"
          ]
        },
        {
          "metadata": {
            "tags": null
          },
          "name": "stderr",
          "output_type": "stream",
          "text": [
            "\r 19%|█▊        | 89/477 [06:45<19:44,  3.05s/it]"
          ]
        },
        {
          "metadata": {
            "tags": null
          },
          "name": "stdout",
          "output_type": "stream",
          "text": [
            "Saved frame: processed_frames/video_88/frame_9.jpg\n",
            "Processing video: /content/drive/MyDrive/HACER/putonglasses_happy_11_a.mp4, Total frames: 131\n",
            "Saved frame: processed_frames/video_89/frame_0.jpg\n",
            "Saved frame: processed_frames/video_89/frame_1.jpg\n",
            "Saved frame: processed_frames/video_89/frame_2.jpg\n",
            "Saved frame: processed_frames/video_89/frame_3.jpg\n",
            "Saved frame: processed_frames/video_89/frame_4.jpg\n",
            "Saved frame: processed_frames/video_89/frame_5.jpg\n",
            "Saved frame: processed_frames/video_89/frame_6.jpg\n",
            "Saved frame: processed_frames/video_89/frame_7.jpg\n",
            "Saved frame: processed_frames/video_89/frame_8.jpg\n"
          ]
        },
        {
          "metadata": {
            "tags": null
          },
          "name": "stderr",
          "output_type": "stream",
          "text": [
            "\r 19%|█▉        | 90/477 [06:50<24:25,  3.79s/it]"
          ]
        },
        {
          "metadata": {
            "tags": null
          },
          "name": "stdout",
          "output_type": "stream",
          "text": [
            "Saved frame: processed_frames/video_89/frame_9.jpg\n",
            "Processing video: /content/drive/MyDrive/HACER/putonglasses_happy_12_l.mp4, Total frames: 110\n",
            "Saved frame: processed_frames/video_90/frame_0.jpg\n",
            "Saved frame: processed_frames/video_90/frame_1.jpg\n",
            "Saved frame: processed_frames/video_90/frame_2.jpg\n",
            "Saved frame: processed_frames/video_90/frame_3.jpg\n",
            "Saved frame: processed_frames/video_90/frame_4.jpg\n",
            "Saved frame: processed_frames/video_90/frame_5.jpg\n",
            "Saved frame: processed_frames/video_90/frame_6.jpg\n",
            "Saved frame: processed_frames/video_90/frame_7.jpg\n",
            "Saved frame: processed_frames/video_90/frame_8.jpg\n"
          ]
        },
        {
          "metadata": {
            "tags": null
          },
          "name": "stderr",
          "output_type": "stream",
          "text": [
            "\r 19%|█▉        | 91/477 [06:53<22:39,  3.52s/it]"
          ]
        },
        {
          "metadata": {
            "tags": null
          },
          "name": "stdout",
          "output_type": "stream",
          "text": [
            "Saved frame: processed_frames/video_90/frame_9.jpg\n",
            "Processing video: /content/drive/MyDrive/HACER/putonglasses_happy_13_m.mp4, Total frames: 153\n",
            "Saved frame: processed_frames/video_91/frame_0.jpg\n",
            "Saved frame: processed_frames/video_91/frame_1.jpg\n",
            "Saved frame: processed_frames/video_91/frame_2.jpg\n",
            "Saved frame: processed_frames/video_91/frame_3.jpg\n",
            "Saved frame: processed_frames/video_91/frame_4.jpg\n",
            "Saved frame: processed_frames/video_91/frame_5.jpg\n",
            "Saved frame: processed_frames/video_91/frame_6.jpg\n",
            "Saved frame: processed_frames/video_91/frame_7.jpg\n",
            "Saved frame: processed_frames/video_91/frame_8.jpg\n"
          ]
        },
        {
          "metadata": {
            "tags": null
          },
          "name": "stderr",
          "output_type": "stream",
          "text": [
            "\r 19%|█▉        | 92/477 [06:57<23:49,  3.71s/it]"
          ]
        },
        {
          "metadata": {
            "tags": null
          },
          "name": "stdout",
          "output_type": "stream",
          "text": [
            "Saved frame: processed_frames/video_91/frame_9.jpg\n",
            "Processing video: /content/drive/MyDrive/HACER/putonglasses_happy_14_h.mp4, Total frames: 92\n",
            "Saved frame: processed_frames/video_92/frame_0.jpg\n",
            "Saved frame: processed_frames/video_92/frame_1.jpg\n",
            "Saved frame: processed_frames/video_92/frame_2.jpg\n",
            "Saved frame: processed_frames/video_92/frame_3.jpg\n",
            "Saved frame: processed_frames/video_92/frame_4.jpg\n",
            "Saved frame: processed_frames/video_92/frame_5.jpg\n",
            "Saved frame: processed_frames/video_92/frame_6.jpg\n",
            "Saved frame: processed_frames/video_92/frame_7.jpg\n",
            "Saved frame: processed_frames/video_92/frame_8.jpg\n"
          ]
        },
        {
          "metadata": {
            "tags": null
          },
          "name": "stderr",
          "output_type": "stream",
          "text": [
            "\r 19%|█▉        | 93/477 [07:00<21:57,  3.43s/it]"
          ]
        },
        {
          "metadata": {
            "tags": null
          },
          "name": "stdout",
          "output_type": "stream",
          "text": [
            "Saved frame: processed_frames/video_92/frame_9.jpg\n",
            "Processing video: /content/drive/MyDrive/HACER/putonglasses_happy_15_j.mp4, Total frames: 97\n",
            "Saved frame: processed_frames/video_93/frame_0.jpg\n",
            "Saved frame: processed_frames/video_93/frame_1.jpg\n",
            "Saved frame: processed_frames/video_93/frame_2.jpg\n",
            "Saved frame: processed_frames/video_93/frame_3.jpg\n",
            "Saved frame: processed_frames/video_93/frame_4.jpg\n",
            "Saved frame: processed_frames/video_93/frame_5.jpg\n",
            "Saved frame: processed_frames/video_93/frame_6.jpg\n",
            "Saved frame: processed_frames/video_93/frame_7.jpg\n",
            "Saved frame: processed_frames/video_93/frame_8.jpg\n"
          ]
        },
        {
          "metadata": {
            "tags": null
          },
          "name": "stderr",
          "output_type": "stream",
          "text": [
            "\r 20%|█▉        | 94/477 [07:04<22:11,  3.48s/it]"
          ]
        },
        {
          "metadata": {
            "tags": null
          },
          "name": "stdout",
          "output_type": "stream",
          "text": [
            "Saved frame: processed_frames/video_93/frame_9.jpg\n",
            "Processing video: /content/drive/MyDrive/HACER/putonglasses_happy_16_a.mp4, Total frames: 131\n",
            "Saved frame: processed_frames/video_94/frame_0.jpg\n",
            "Saved frame: processed_frames/video_94/frame_1.jpg\n",
            "Saved frame: processed_frames/video_94/frame_2.jpg\n",
            "Saved frame: processed_frames/video_94/frame_3.jpg\n",
            "Saved frame: processed_frames/video_94/frame_4.jpg\n",
            "Saved frame: processed_frames/video_94/frame_5.jpg\n",
            "Saved frame: processed_frames/video_94/frame_6.jpg\n",
            "Saved frame: processed_frames/video_94/frame_7.jpg\n",
            "Saved frame: processed_frames/video_94/frame_8.jpg\n"
          ]
        },
        {
          "metadata": {
            "tags": null
          },
          "name": "stderr",
          "output_type": "stream",
          "text": [
            "\r 20%|█▉        | 95/477 [07:08<24:13,  3.80s/it]"
          ]
        },
        {
          "metadata": {
            "tags": null
          },
          "name": "stdout",
          "output_type": "stream",
          "text": [
            "Saved frame: processed_frames/video_94/frame_9.jpg\n",
            "Processing video: /content/drive/MyDrive/HACER/putonglasses_happy_1_s.mp4, Total frames: 192\n",
            "Saved frame: processed_frames/video_95/frame_0.jpg\n",
            "Saved frame: processed_frames/video_95/frame_1.jpg\n",
            "Saved frame: processed_frames/video_95/frame_2.jpg\n",
            "Saved frame: processed_frames/video_95/frame_3.jpg\n",
            "Saved frame: processed_frames/video_95/frame_4.jpg\n",
            "Saved frame: processed_frames/video_95/frame_5.jpg\n",
            "Saved frame: processed_frames/video_95/frame_6.jpg\n",
            "Saved frame: processed_frames/video_95/frame_7.jpg\n",
            "Saved frame: processed_frames/video_95/frame_8.jpg\n"
          ]
        },
        {
          "metadata": {
            "tags": null
          },
          "name": "stderr",
          "output_type": "stream",
          "text": [
            "\r 20%|██        | 96/477 [07:11<22:52,  3.60s/it]"
          ]
        },
        {
          "metadata": {
            "tags": null
          },
          "name": "stdout",
          "output_type": "stream",
          "text": [
            "Saved frame: processed_frames/video_95/frame_9.jpg\n",
            "Processing video: /content/drive/MyDrive/HACER/putonglasses_happy_2_w.mp4, Total frames: 124\n",
            "Saved frame: processed_frames/video_96/frame_0.jpg\n",
            "Saved frame: processed_frames/video_96/frame_1.jpg\n",
            "Saved frame: processed_frames/video_96/frame_2.jpg\n",
            "Saved frame: processed_frames/video_96/frame_3.jpg\n",
            "Saved frame: processed_frames/video_96/frame_4.jpg\n",
            "Saved frame: processed_frames/video_96/frame_5.jpg\n",
            "Saved frame: processed_frames/video_96/frame_6.jpg\n",
            "Saved frame: processed_frames/video_96/frame_7.jpg\n",
            "Saved frame: processed_frames/video_96/frame_8.jpg\n"
          ]
        },
        {
          "metadata": {
            "tags": null
          },
          "name": "stderr",
          "output_type": "stream",
          "text": [
            "\r 20%|██        | 97/477 [07:14<21:21,  3.37s/it]"
          ]
        },
        {
          "metadata": {
            "tags": null
          },
          "name": "stdout",
          "output_type": "stream",
          "text": [
            "Saved frame: processed_frames/video_96/frame_9.jpg\n",
            "Processing video: /content/drive/MyDrive/HACER/putonglasses_happy_3_t.mp4, Total frames: 65\n",
            "Saved frame: processed_frames/video_97/frame_0.jpg\n",
            "Saved frame: processed_frames/video_97/frame_1.jpg\n",
            "Saved frame: processed_frames/video_97/frame_2.jpg\n",
            "Saved frame: processed_frames/video_97/frame_3.jpg\n",
            "Saved frame: processed_frames/video_97/frame_4.jpg\n",
            "Saved frame: processed_frames/video_97/frame_5.jpg\n",
            "Saved frame: processed_frames/video_97/frame_6.jpg\n",
            "Saved frame: processed_frames/video_97/frame_7.jpg\n",
            "Saved frame: processed_frames/video_97/frame_8.jpg\n"
          ]
        },
        {
          "metadata": {
            "tags": null
          },
          "name": "stderr",
          "output_type": "stream",
          "text": [
            "\r 21%|██        | 98/477 [07:17<19:44,  3.13s/it]"
          ]
        },
        {
          "metadata": {
            "tags": null
          },
          "name": "stdout",
          "output_type": "stream",
          "text": [
            "Saved frame: processed_frames/video_97/frame_9.jpg\n",
            "Processing video: /content/drive/MyDrive/HACER/putonglasses_happy_4_h.mp4, Total frames: 130\n",
            "Saved frame: processed_frames/video_98/frame_0.jpg\n",
            "Saved frame: processed_frames/video_98/frame_1.jpg\n",
            "Saved frame: processed_frames/video_98/frame_2.jpg\n",
            "Saved frame: processed_frames/video_98/frame_3.jpg\n",
            "Saved frame: processed_frames/video_98/frame_4.jpg\n",
            "Saved frame: processed_frames/video_98/frame_5.jpg\n",
            "Saved frame: processed_frames/video_98/frame_6.jpg\n",
            "Saved frame: processed_frames/video_98/frame_7.jpg\n",
            "Saved frame: processed_frames/video_98/frame_8.jpg\n"
          ]
        },
        {
          "metadata": {
            "tags": null
          },
          "name": "stderr",
          "output_type": "stream",
          "text": [
            "\r 21%|██        | 99/477 [07:21<22:14,  3.53s/it]"
          ]
        },
        {
          "metadata": {
            "tags": null
          },
          "name": "stdout",
          "output_type": "stream",
          "text": [
            "Saved frame: processed_frames/video_98/frame_9.jpg\n",
            "Processing video: /content/drive/MyDrive/HACER/putonglasses_happy_5_m.mp4, Total frames: 212\n",
            "Saved frame: processed_frames/video_99/frame_0.jpg\n",
            "Saved frame: processed_frames/video_99/frame_1.jpg\n",
            "Saved frame: processed_frames/video_99/frame_2.jpg\n",
            "Saved frame: processed_frames/video_99/frame_3.jpg\n",
            "Saved frame: processed_frames/video_99/frame_4.jpg\n",
            "Saved frame: processed_frames/video_99/frame_5.jpg\n",
            "Saved frame: processed_frames/video_99/frame_6.jpg\n",
            "Saved frame: processed_frames/video_99/frame_7.jpg\n",
            "Saved frame: processed_frames/video_99/frame_8.jpg\n"
          ]
        },
        {
          "metadata": {
            "tags": null
          },
          "name": "stderr",
          "output_type": "stream",
          "text": [
            "\r 21%|██        | 100/477 [07:24<20:47,  3.31s/it]"
          ]
        },
        {
          "metadata": {
            "tags": null
          },
          "name": "stdout",
          "output_type": "stream",
          "text": [
            "Saved frame: processed_frames/video_99/frame_9.jpg\n",
            "Processing video: /content/drive/MyDrive/HACER/putonglasses_happy_6_w.mp4, Total frames: 136\n",
            "Saved frame: processed_frames/video_100/frame_0.jpg\n",
            "Saved frame: processed_frames/video_100/frame_1.jpg\n",
            "Saved frame: processed_frames/video_100/frame_2.jpg\n",
            "Saved frame: processed_frames/video_100/frame_3.jpg\n",
            "Saved frame: processed_frames/video_100/frame_4.jpg\n",
            "Saved frame: processed_frames/video_100/frame_5.jpg\n",
            "Saved frame: processed_frames/video_100/frame_6.jpg\n",
            "Saved frame: processed_frames/video_100/frame_7.jpg\n",
            "Saved frame: processed_frames/video_100/frame_8.jpg\n"
          ]
        },
        {
          "metadata": {
            "tags": null
          },
          "name": "stderr",
          "output_type": "stream",
          "text": [
            "\r 21%|██        | 101/477 [07:27<19:54,  3.18s/it]"
          ]
        },
        {
          "metadata": {
            "tags": null
          },
          "name": "stdout",
          "output_type": "stream",
          "text": [
            "Saved frame: processed_frames/video_100/frame_9.jpg\n",
            "Processing video: /content/drive/MyDrive/HACER/putonglasses_happy_7_l.mp4, Total frames: 112\n",
            "Saved frame: processed_frames/video_101/frame_0.jpg\n",
            "Saved frame: processed_frames/video_101/frame_1.jpg\n",
            "Saved frame: processed_frames/video_101/frame_2.jpg\n",
            "Saved frame: processed_frames/video_101/frame_3.jpg\n",
            "Saved frame: processed_frames/video_101/frame_4.jpg\n",
            "Saved frame: processed_frames/video_101/frame_5.jpg\n",
            "Saved frame: processed_frames/video_101/frame_6.jpg\n",
            "Saved frame: processed_frames/video_101/frame_7.jpg\n",
            "Saved frame: processed_frames/video_101/frame_8.jpg\n"
          ]
        },
        {
          "metadata": {
            "tags": null
          },
          "name": "stderr",
          "output_type": "stream",
          "text": [
            "\r 21%|██▏       | 102/477 [07:30<19:43,  3.16s/it]"
          ]
        },
        {
          "metadata": {
            "tags": null
          },
          "name": "stdout",
          "output_type": "stream",
          "text": [
            "Saved frame: processed_frames/video_101/frame_9.jpg\n",
            "Processing video: /content/drive/MyDrive/HACER/putonglasses_happy_8_t.mp4, Total frames: 76\n",
            "Saved frame: processed_frames/video_102/frame_0.jpg\n",
            "Saved frame: processed_frames/video_102/frame_1.jpg\n",
            "Saved frame: processed_frames/video_102/frame_2.jpg\n",
            "Saved frame: processed_frames/video_102/frame_3.jpg\n",
            "Saved frame: processed_frames/video_102/frame_4.jpg\n",
            "Saved frame: processed_frames/video_102/frame_5.jpg\n",
            "Saved frame: processed_frames/video_102/frame_6.jpg\n",
            "Saved frame: processed_frames/video_102/frame_7.jpg\n",
            "Saved frame: processed_frames/video_102/frame_8.jpg\n"
          ]
        },
        {
          "metadata": {
            "tags": null
          },
          "name": "stderr",
          "output_type": "stream",
          "text": [
            "\r 22%|██▏       | 103/477 [07:35<22:35,  3.63s/it]"
          ]
        },
        {
          "metadata": {
            "tags": null
          },
          "name": "stdout",
          "output_type": "stream",
          "text": [
            "Saved frame: processed_frames/video_102/frame_9.jpg\n",
            "Processing video: /content/drive/MyDrive/HACER/putonglasses_happy_9_j.mp4, Total frames: 107\n",
            "Saved frame: processed_frames/video_103/frame_0.jpg\n",
            "Saved frame: processed_frames/video_103/frame_1.jpg\n",
            "Saved frame: processed_frames/video_103/frame_2.jpg\n",
            "Saved frame: processed_frames/video_103/frame_3.jpg\n",
            "Saved frame: processed_frames/video_103/frame_4.jpg\n",
            "Saved frame: processed_frames/video_103/frame_5.jpg\n",
            "Saved frame: processed_frames/video_103/frame_6.jpg\n",
            "Saved frame: processed_frames/video_103/frame_7.jpg\n",
            "Saved frame: processed_frames/video_103/frame_8.jpg\n"
          ]
        },
        {
          "metadata": {
            "tags": null
          },
          "name": "stderr",
          "output_type": "stream",
          "text": [
            "\r 22%|██▏       | 104/477 [07:37<20:54,  3.36s/it]"
          ]
        },
        {
          "metadata": {
            "tags": null
          },
          "name": "stdout",
          "output_type": "stream",
          "text": [
            "Saved frame: processed_frames/video_103/frame_9.jpg\n",
            "Processing video: /content/drive/MyDrive/HACER/putonglasses_neutral_10_m.mp4, Total frames: 127\n",
            "Saved frame: processed_frames/video_104/frame_0.jpg\n",
            "Saved frame: processed_frames/video_104/frame_1.jpg\n",
            "Saved frame: processed_frames/video_104/frame_2.jpg\n",
            "Saved frame: processed_frames/video_104/frame_3.jpg\n",
            "Saved frame: processed_frames/video_104/frame_4.jpg\n",
            "Saved frame: processed_frames/video_104/frame_5.jpg\n",
            "Saved frame: processed_frames/video_104/frame_6.jpg\n",
            "Saved frame: processed_frames/video_104/frame_7.jpg\n",
            "Saved frame: processed_frames/video_104/frame_8.jpg\n"
          ]
        },
        {
          "metadata": {
            "tags": null
          },
          "name": "stderr",
          "output_type": "stream",
          "text": [
            "\r 22%|██▏       | 105/477 [07:41<21:01,  3.39s/it]"
          ]
        },
        {
          "metadata": {
            "tags": null
          },
          "name": "stdout",
          "output_type": "stream",
          "text": [
            "Saved frame: processed_frames/video_104/frame_9.jpg\n",
            "Processing video: /content/drive/MyDrive/HACER/putonglasses_neutral_11_m.mp4, Total frames: 124\n",
            "Saved frame: processed_frames/video_105/frame_0.jpg\n",
            "Saved frame: processed_frames/video_105/frame_1.jpg\n",
            "Saved frame: processed_frames/video_105/frame_2.jpg\n",
            "Saved frame: processed_frames/video_105/frame_3.jpg\n",
            "Saved frame: processed_frames/video_105/frame_4.jpg\n",
            "Saved frame: processed_frames/video_105/frame_5.jpg\n",
            "Saved frame: processed_frames/video_105/frame_6.jpg\n",
            "Saved frame: processed_frames/video_105/frame_7.jpg\n",
            "Saved frame: processed_frames/video_105/frame_8.jpg\n"
          ]
        },
        {
          "metadata": {
            "tags": null
          },
          "name": "stderr",
          "output_type": "stream",
          "text": [
            "\r 22%|██▏       | 106/477 [07:44<19:53,  3.22s/it]"
          ]
        },
        {
          "metadata": {
            "tags": null
          },
          "name": "stdout",
          "output_type": "stream",
          "text": [
            "Saved frame: processed_frames/video_105/frame_9.jpg\n",
            "Processing video: /content/drive/MyDrive/HACER/putonglasses_neutral_12_h.mp4, Total frames: 107\n",
            "Saved frame: processed_frames/video_106/frame_0.jpg\n",
            "Saved frame: processed_frames/video_106/frame_1.jpg\n",
            "Saved frame: processed_frames/video_106/frame_2.jpg\n",
            "Saved frame: processed_frames/video_106/frame_3.jpg\n",
            "Saved frame: processed_frames/video_106/frame_4.jpg\n",
            "Saved frame: processed_frames/video_106/frame_5.jpg\n",
            "Saved frame: processed_frames/video_106/frame_6.jpg\n",
            "Saved frame: processed_frames/video_106/frame_7.jpg\n",
            "Saved frame: processed_frames/video_106/frame_8.jpg\n"
          ]
        },
        {
          "metadata": {
            "tags": null
          },
          "name": "stderr",
          "output_type": "stream",
          "text": [
            "\r 22%|██▏       | 107/477 [07:47<20:38,  3.35s/it]"
          ]
        },
        {
          "metadata": {
            "tags": null
          },
          "name": "stdout",
          "output_type": "stream",
          "text": [
            "Saved frame: processed_frames/video_106/frame_9.jpg\n",
            "Processing video: /content/drive/MyDrive/HACER/putonglasses_neutral_13_j.mp4, Total frames: 97\n",
            "Saved frame: processed_frames/video_107/frame_0.jpg\n",
            "Saved frame: processed_frames/video_107/frame_1.jpg\n",
            "Saved frame: processed_frames/video_107/frame_2.jpg\n",
            "Saved frame: processed_frames/video_107/frame_3.jpg\n",
            "Saved frame: processed_frames/video_107/frame_4.jpg\n",
            "Saved frame: processed_frames/video_107/frame_5.jpg\n",
            "Saved frame: processed_frames/video_107/frame_6.jpg\n",
            "Saved frame: processed_frames/video_107/frame_7.jpg\n",
            "Saved frame: processed_frames/video_107/frame_8.jpg\n"
          ]
        },
        {
          "metadata": {
            "tags": null
          },
          "name": "stderr",
          "output_type": "stream",
          "text": [
            "\r 23%|██▎       | 108/477 [07:51<20:28,  3.33s/it]"
          ]
        },
        {
          "metadata": {
            "tags": null
          },
          "name": "stdout",
          "output_type": "stream",
          "text": [
            "Saved frame: processed_frames/video_107/frame_9.jpg\n",
            "Processing video: /content/drive/MyDrive/HACER/putonglasses_neutral_14_a.mp4, Total frames: 228\n",
            "Saved frame: processed_frames/video_108/frame_0.jpg\n",
            "Saved frame: processed_frames/video_108/frame_1.jpg\n",
            "Saved frame: processed_frames/video_108/frame_2.jpg\n",
            "Saved frame: processed_frames/video_108/frame_3.jpg\n",
            "Saved frame: processed_frames/video_108/frame_4.jpg\n",
            "Saved frame: processed_frames/video_108/frame_5.jpg\n",
            "Saved frame: processed_frames/video_108/frame_6.jpg\n",
            "Saved frame: processed_frames/video_108/frame_7.jpg\n",
            "Saved frame: processed_frames/video_108/frame_8.jpg\n"
          ]
        },
        {
          "metadata": {
            "tags": null
          },
          "name": "stderr",
          "output_type": "stream",
          "text": [
            "\r 23%|██▎       | 109/477 [07:55<22:12,  3.62s/it]"
          ]
        },
        {
          "metadata": {
            "tags": null
          },
          "name": "stdout",
          "output_type": "stream",
          "text": [
            "Saved frame: processed_frames/video_108/frame_9.jpg\n",
            "Processing video: /content/drive/MyDrive/HACER/putonglasses_neutral_1_s.mp4, Total frames: 209\n",
            "Saved frame: processed_frames/video_109/frame_0.jpg\n",
            "Saved frame: processed_frames/video_109/frame_1.jpg\n",
            "Saved frame: processed_frames/video_109/frame_2.jpg\n",
            "Saved frame: processed_frames/video_109/frame_3.jpg\n",
            "Saved frame: processed_frames/video_109/frame_4.jpg\n",
            "Saved frame: processed_frames/video_109/frame_5.jpg\n",
            "Saved frame: processed_frames/video_109/frame_6.jpg\n",
            "Saved frame: processed_frames/video_109/frame_7.jpg\n",
            "Saved frame: processed_frames/video_109/frame_8.jpg\n"
          ]
        },
        {
          "metadata": {
            "tags": null
          },
          "name": "stderr",
          "output_type": "stream",
          "text": [
            "\r 23%|██▎       | 110/477 [07:58<21:22,  3.50s/it]"
          ]
        },
        {
          "metadata": {
            "tags": null
          },
          "name": "stdout",
          "output_type": "stream",
          "text": [
            "Saved frame: processed_frames/video_109/frame_9.jpg\n",
            "Processing video: /content/drive/MyDrive/HACER/putonglasses_neutral_2_w.mp4, Total frames: 201\n",
            "Saved frame: processed_frames/video_110/frame_0.jpg\n",
            "Saved frame: processed_frames/video_110/frame_1.jpg\n",
            "Saved frame: processed_frames/video_110/frame_2.jpg\n",
            "Saved frame: processed_frames/video_110/frame_3.jpg\n",
            "Saved frame: processed_frames/video_110/frame_4.jpg\n",
            "Saved frame: processed_frames/video_110/frame_5.jpg\n",
            "Saved frame: processed_frames/video_110/frame_6.jpg\n",
            "Saved frame: processed_frames/video_110/frame_7.jpg\n",
            "Saved frame: processed_frames/video_110/frame_8.jpg\n"
          ]
        },
        {
          "metadata": {
            "tags": null
          },
          "name": "stderr",
          "output_type": "stream",
          "text": [
            "\r 23%|██▎       | 111/477 [08:03<23:34,  3.87s/it]"
          ]
        },
        {
          "metadata": {
            "tags": null
          },
          "name": "stdout",
          "output_type": "stream",
          "text": [
            "Saved frame: processed_frames/video_110/frame_9.jpg\n",
            "Processing video: /content/drive/MyDrive/HACER/putonglasses_neutral_3_t.mp4, Total frames: 117\n",
            "Saved frame: processed_frames/video_111/frame_0.jpg\n",
            "Saved frame: processed_frames/video_111/frame_1.jpg\n",
            "Saved frame: processed_frames/video_111/frame_2.jpg\n",
            "Saved frame: processed_frames/video_111/frame_3.jpg\n",
            "Saved frame: processed_frames/video_111/frame_4.jpg\n",
            "Saved frame: processed_frames/video_111/frame_5.jpg\n",
            "Saved frame: processed_frames/video_111/frame_6.jpg\n",
            "Saved frame: processed_frames/video_111/frame_7.jpg\n",
            "Saved frame: processed_frames/video_111/frame_8.jpg\n"
          ]
        },
        {
          "metadata": {
            "tags": null
          },
          "name": "stderr",
          "output_type": "stream",
          "text": [
            "\r 23%|██▎       | 112/477 [08:07<23:59,  3.94s/it]"
          ]
        },
        {
          "metadata": {
            "tags": null
          },
          "name": "stdout",
          "output_type": "stream",
          "text": [
            "Saved frame: processed_frames/video_111/frame_9.jpg\n",
            "Processing video: /content/drive/MyDrive/HACER/putonglasses_neutral_4_h.mp4, Total frames: 152\n",
            "Saved frame: processed_frames/video_112/frame_0.jpg\n",
            "Saved frame: processed_frames/video_112/frame_1.jpg\n",
            "Saved frame: processed_frames/video_112/frame_2.jpg\n",
            "Saved frame: processed_frames/video_112/frame_3.jpg\n",
            "Saved frame: processed_frames/video_112/frame_4.jpg\n",
            "Saved frame: processed_frames/video_112/frame_5.jpg\n",
            "Saved frame: processed_frames/video_112/frame_6.jpg\n",
            "Saved frame: processed_frames/video_112/frame_7.jpg\n",
            "Saved frame: processed_frames/video_112/frame_8.jpg\n"
          ]
        },
        {
          "metadata": {
            "tags": null
          },
          "name": "stderr",
          "output_type": "stream",
          "text": [
            "\r 24%|██▎       | 113/477 [08:10<22:51,  3.77s/it]"
          ]
        },
        {
          "metadata": {
            "tags": null
          },
          "name": "stdout",
          "output_type": "stream",
          "text": [
            "Saved frame: processed_frames/video_112/frame_9.jpg\n",
            "Processing video: /content/drive/MyDrive/HACER/putonglasses_neutral_5_w.mp4, Total frames: 198\n",
            "Saved frame: processed_frames/video_113/frame_0.jpg\n",
            "Saved frame: processed_frames/video_113/frame_1.jpg\n",
            "Saved frame: processed_frames/video_113/frame_2.jpg\n",
            "Saved frame: processed_frames/video_113/frame_3.jpg\n",
            "Saved frame: processed_frames/video_113/frame_4.jpg\n",
            "Saved frame: processed_frames/video_113/frame_5.jpg\n",
            "Saved frame: processed_frames/video_113/frame_6.jpg\n",
            "Saved frame: processed_frames/video_113/frame_7.jpg\n",
            "Saved frame: processed_frames/video_113/frame_8.jpg\n"
          ]
        },
        {
          "metadata": {
            "tags": null
          },
          "name": "stderr",
          "output_type": "stream",
          "text": [
            "\r 24%|██▍       | 114/477 [08:13<21:28,  3.55s/it]"
          ]
        },
        {
          "metadata": {
            "tags": null
          },
          "name": "stdout",
          "output_type": "stream",
          "text": [
            "Saved frame: processed_frames/video_113/frame_9.jpg\n",
            "Processing video: /content/drive/MyDrive/HACER/putonglasses_neutral_6_t.mp4, Total frames: 123\n",
            "Saved frame: processed_frames/video_114/frame_0.jpg\n",
            "Saved frame: processed_frames/video_114/frame_1.jpg\n",
            "Saved frame: processed_frames/video_114/frame_2.jpg\n",
            "Saved frame: processed_frames/video_114/frame_3.jpg\n",
            "Saved frame: processed_frames/video_114/frame_4.jpg\n",
            "Saved frame: processed_frames/video_114/frame_5.jpg\n",
            "Saved frame: processed_frames/video_114/frame_6.jpg\n",
            "Saved frame: processed_frames/video_114/frame_7.jpg\n",
            "Saved frame: processed_frames/video_114/frame_8.jpg\n"
          ]
        },
        {
          "metadata": {
            "tags": null
          },
          "name": "stderr",
          "output_type": "stream",
          "text": [
            "\r 24%|██▍       | 115/477 [08:20<26:14,  4.35s/it]"
          ]
        },
        {
          "metadata": {
            "tags": null
          },
          "name": "stdout",
          "output_type": "stream",
          "text": [
            "Saved frame: processed_frames/video_114/frame_9.jpg\n",
            "Processing video: /content/drive/MyDrive/HACER/putonglasses_neutral_7_j.mp4, Total frames: 99\n",
            "Saved frame: processed_frames/video_115/frame_0.jpg\n",
            "Saved frame: processed_frames/video_115/frame_1.jpg\n",
            "Saved frame: processed_frames/video_115/frame_2.jpg\n",
            "Saved frame: processed_frames/video_115/frame_3.jpg\n",
            "Saved frame: processed_frames/video_115/frame_4.jpg\n",
            "Saved frame: processed_frames/video_115/frame_5.jpg\n",
            "Saved frame: processed_frames/video_115/frame_6.jpg\n",
            "Saved frame: processed_frames/video_115/frame_7.jpg\n",
            "Saved frame: processed_frames/video_115/frame_8.jpg\n"
          ]
        },
        {
          "metadata": {
            "tags": null
          },
          "name": "stderr",
          "output_type": "stream",
          "text": [
            "\r 24%|██▍       | 116/477 [08:22<23:15,  3.86s/it]"
          ]
        },
        {
          "metadata": {
            "tags": null
          },
          "name": "stdout",
          "output_type": "stream",
          "text": [
            "Saved frame: processed_frames/video_115/frame_9.jpg\n",
            "Processing video: /content/drive/MyDrive/HACER/putonglasses_neutral_8_s.mp4, Total frames: 211\n",
            "Saved frame: processed_frames/video_116/frame_0.jpg\n",
            "Saved frame: processed_frames/video_116/frame_1.jpg\n",
            "Saved frame: processed_frames/video_116/frame_2.jpg\n",
            "Saved frame: processed_frames/video_116/frame_3.jpg\n",
            "Saved frame: processed_frames/video_116/frame_4.jpg\n",
            "Saved frame: processed_frames/video_116/frame_5.jpg\n",
            "Saved frame: processed_frames/video_116/frame_6.jpg\n",
            "Saved frame: processed_frames/video_116/frame_7.jpg\n",
            "Saved frame: processed_frames/video_116/frame_8.jpg\n"
          ]
        },
        {
          "metadata": {
            "tags": null
          },
          "name": "stderr",
          "output_type": "stream",
          "text": [
            "\r 25%|██▍       | 117/477 [08:25<21:18,  3.55s/it]"
          ]
        },
        {
          "metadata": {
            "tags": null
          },
          "name": "stdout",
          "output_type": "stream",
          "text": [
            "Saved frame: processed_frames/video_116/frame_9.jpg\n",
            "Processing video: /content/drive/MyDrive/HACER/putonglasses_neutral_9_l.mp4, Total frames: 48\n",
            "Saved frame: processed_frames/video_117/frame_0.jpg\n",
            "Saved frame: processed_frames/video_117/frame_1.jpg\n",
            "Saved frame: processed_frames/video_117/frame_2.jpg\n",
            "Saved frame: processed_frames/video_117/frame_3.jpg\n",
            "Saved frame: processed_frames/video_117/frame_4.jpg\n",
            "Saved frame: processed_frames/video_117/frame_5.jpg\n",
            "Saved frame: processed_frames/video_117/frame_6.jpg\n",
            "Saved frame: processed_frames/video_117/frame_7.jpg\n",
            "Saved frame: processed_frames/video_117/frame_8.jpg\n"
          ]
        },
        {
          "metadata": {
            "tags": null
          },
          "name": "stderr",
          "output_type": "stream",
          "text": [
            "\r 25%|██▍       | 118/477 [08:26<17:14,  2.88s/it]"
          ]
        },
        {
          "metadata": {
            "tags": null
          },
          "name": "stdout",
          "output_type": "stream",
          "text": [
            "Saved frame: processed_frames/video_117/frame_9.jpg\n",
            "Processing video: /content/drive/MyDrive/HACER/putonglasses_sad_10_s.mp4, Total frames: 317\n",
            "Saved frame: processed_frames/video_118/frame_0.jpg\n",
            "Saved frame: processed_frames/video_118/frame_1.jpg\n",
            "Saved frame: processed_frames/video_118/frame_2.jpg\n",
            "Saved frame: processed_frames/video_118/frame_3.jpg\n",
            "Saved frame: processed_frames/video_118/frame_4.jpg\n",
            "Saved frame: processed_frames/video_118/frame_5.jpg\n",
            "Saved frame: processed_frames/video_118/frame_6.jpg\n",
            "Saved frame: processed_frames/video_118/frame_7.jpg\n"
          ]
        },
        {
          "metadata": {
            "tags": null
          },
          "name": "stderr",
          "output_type": "stream",
          "text": [
            "\r 25%|██▍       | 119/477 [08:30<17:55,  3.00s/it]"
          ]
        },
        {
          "metadata": {
            "tags": null
          },
          "name": "stdout",
          "output_type": "stream",
          "text": [
            "Saved frame: processed_frames/video_118/frame_8.jpg\n",
            "Saved frame: processed_frames/video_118/frame_9.jpg\n",
            "Processing video: /content/drive/MyDrive/HACER/putonglasses_sad_11_a.mp4, Total frames: 205\n",
            "Saved frame: processed_frames/video_119/frame_0.jpg\n",
            "Saved frame: processed_frames/video_119/frame_1.jpg\n",
            "Saved frame: processed_frames/video_119/frame_2.jpg\n",
            "Saved frame: processed_frames/video_119/frame_3.jpg\n",
            "Saved frame: processed_frames/video_119/frame_4.jpg\n",
            "Saved frame: processed_frames/video_119/frame_5.jpg\n",
            "Saved frame: processed_frames/video_119/frame_6.jpg\n",
            "Saved frame: processed_frames/video_119/frame_7.jpg\n",
            "Saved frame: processed_frames/video_119/frame_8.jpg\n"
          ]
        },
        {
          "metadata": {
            "tags": null
          },
          "name": "stderr",
          "output_type": "stream",
          "text": [
            "\r 25%|██▌       | 120/477 [08:35<22:37,  3.80s/it]"
          ]
        },
        {
          "metadata": {
            "tags": null
          },
          "name": "stdout",
          "output_type": "stream",
          "text": [
            "Saved frame: processed_frames/video_119/frame_9.jpg\n",
            "Processing video: /content/drive/MyDrive/HACER/putonglasses_sad_12_l.mp4, Total frames: 108\n",
            "Saved frame: processed_frames/video_120/frame_0.jpg\n",
            "Saved frame: processed_frames/video_120/frame_1.jpg\n",
            "Saved frame: processed_frames/video_120/frame_2.jpg\n",
            "Saved frame: processed_frames/video_120/frame_3.jpg\n",
            "Saved frame: processed_frames/video_120/frame_4.jpg\n",
            "Saved frame: processed_frames/video_120/frame_5.jpg\n",
            "Saved frame: processed_frames/video_120/frame_6.jpg\n",
            "Saved frame: processed_frames/video_120/frame_7.jpg\n",
            "Saved frame: processed_frames/video_120/frame_8.jpg\n"
          ]
        },
        {
          "metadata": {
            "tags": null
          },
          "name": "stderr",
          "output_type": "stream",
          "text": [
            "\r 25%|██▌       | 121/477 [08:38<21:02,  3.55s/it]"
          ]
        },
        {
          "metadata": {
            "tags": null
          },
          "name": "stdout",
          "output_type": "stream",
          "text": [
            "Saved frame: processed_frames/video_120/frame_9.jpg\n",
            "Processing video: /content/drive/MyDrive/HACER/putonglasses_sad_13_m.mp4, Total frames: 172\n",
            "Saved frame: processed_frames/video_121/frame_0.jpg\n",
            "Saved frame: processed_frames/video_121/frame_1.jpg\n",
            "Saved frame: processed_frames/video_121/frame_2.jpg\n",
            "Saved frame: processed_frames/video_121/frame_3.jpg\n",
            "Saved frame: processed_frames/video_121/frame_4.jpg\n",
            "Saved frame: processed_frames/video_121/frame_5.jpg\n",
            "Saved frame: processed_frames/video_121/frame_6.jpg\n",
            "Saved frame: processed_frames/video_121/frame_7.jpg\n"
          ]
        },
        {
          "metadata": {
            "tags": null
          },
          "name": "stderr",
          "output_type": "stream",
          "text": [
            "\r 26%|██▌       | 122/477 [08:42<21:21,  3.61s/it]"
          ]
        },
        {
          "metadata": {
            "tags": null
          },
          "name": "stdout",
          "output_type": "stream",
          "text": [
            "Saved frame: processed_frames/video_121/frame_8.jpg\n",
            "Saved frame: processed_frames/video_121/frame_9.jpg\n",
            "Processing video: /content/drive/MyDrive/HACER/putonglasses_sad_14_h.mp4, Total frames: 131\n",
            "Saved frame: processed_frames/video_122/frame_0.jpg\n",
            "Saved frame: processed_frames/video_122/frame_1.jpg\n",
            "Saved frame: processed_frames/video_122/frame_2.jpg\n",
            "Saved frame: processed_frames/video_122/frame_3.jpg\n",
            "Saved frame: processed_frames/video_122/frame_4.jpg\n",
            "Saved frame: processed_frames/video_122/frame_5.jpg\n",
            "Saved frame: processed_frames/video_122/frame_6.jpg\n",
            "Saved frame: processed_frames/video_122/frame_7.jpg\n",
            "Saved frame: processed_frames/video_122/frame_8.jpg\n"
          ]
        },
        {
          "metadata": {
            "tags": null
          },
          "name": "stderr",
          "output_type": "stream",
          "text": [
            "\r 26%|██▌       | 123/477 [08:45<20:55,  3.55s/it]"
          ]
        },
        {
          "metadata": {
            "tags": null
          },
          "name": "stdout",
          "output_type": "stream",
          "text": [
            "Saved frame: processed_frames/video_122/frame_9.jpg\n",
            "Processing video: /content/drive/MyDrive/HACER/putonglasses_sad_15_j.mp4, Total frames: 97\n",
            "Saved frame: processed_frames/video_123/frame_0.jpg\n",
            "Saved frame: processed_frames/video_123/frame_1.jpg\n",
            "Saved frame: processed_frames/video_123/frame_2.jpg\n",
            "Saved frame: processed_frames/video_123/frame_3.jpg\n",
            "Saved frame: processed_frames/video_123/frame_4.jpg\n",
            "Saved frame: processed_frames/video_123/frame_5.jpg\n",
            "Saved frame: processed_frames/video_123/frame_6.jpg\n",
            "Saved frame: processed_frames/video_123/frame_7.jpg\n",
            "Saved frame: processed_frames/video_123/frame_8.jpg\n"
          ]
        },
        {
          "metadata": {
            "tags": null
          },
          "name": "stderr",
          "output_type": "stream",
          "text": [
            "\r 26%|██▌       | 124/477 [08:49<20:22,  3.46s/it]"
          ]
        },
        {
          "metadata": {
            "tags": null
          },
          "name": "stdout",
          "output_type": "stream",
          "text": [
            "Saved frame: processed_frames/video_123/frame_9.jpg\n",
            "Processing video: /content/drive/MyDrive/HACER/putonglasses_sad_16_a.mp4, Total frames: 299\n",
            "Saved frame: processed_frames/video_124/frame_0.jpg\n",
            "Saved frame: processed_frames/video_124/frame_1.jpg\n",
            "Saved frame: processed_frames/video_124/frame_2.jpg\n",
            "Saved frame: processed_frames/video_124/frame_3.jpg\n",
            "Saved frame: processed_frames/video_124/frame_4.jpg\n",
            "Saved frame: processed_frames/video_124/frame_5.jpg\n",
            "Saved frame: processed_frames/video_124/frame_6.jpg\n",
            "Saved frame: processed_frames/video_124/frame_7.jpg\n",
            "Saved frame: processed_frames/video_124/frame_8.jpg\n"
          ]
        },
        {
          "metadata": {
            "tags": null
          },
          "name": "stderr",
          "output_type": "stream",
          "text": [
            "\r 26%|██▌       | 125/477 [08:55<24:41,  4.21s/it]"
          ]
        },
        {
          "metadata": {
            "tags": null
          },
          "name": "stdout",
          "output_type": "stream",
          "text": [
            "Saved frame: processed_frames/video_124/frame_9.jpg\n",
            "Processing video: /content/drive/MyDrive/HACER/putonglasses_sad_1_s.mp4, Total frames: 236\n",
            "Saved frame: processed_frames/video_125/frame_0.jpg\n",
            "Saved frame: processed_frames/video_125/frame_1.jpg\n",
            "Saved frame: processed_frames/video_125/frame_2.jpg\n",
            "Saved frame: processed_frames/video_125/frame_3.jpg\n",
            "Saved frame: processed_frames/video_125/frame_4.jpg\n",
            "Saved frame: processed_frames/video_125/frame_5.jpg\n",
            "Saved frame: processed_frames/video_125/frame_6.jpg\n",
            "Saved frame: processed_frames/video_125/frame_7.jpg\n",
            "Saved frame: processed_frames/video_125/frame_8.jpg\n"
          ]
        },
        {
          "metadata": {
            "tags": null
          },
          "name": "stderr",
          "output_type": "stream",
          "text": [
            "\r 26%|██▋       | 126/477 [08:58<22:41,  3.88s/it]"
          ]
        },
        {
          "metadata": {
            "tags": null
          },
          "name": "stdout",
          "output_type": "stream",
          "text": [
            "Saved frame: processed_frames/video_125/frame_9.jpg\n",
            "Processing video: /content/drive/MyDrive/HACER/putonglasses_sad_2_w.mp4, Total frames: 170\n",
            "Saved frame: processed_frames/video_126/frame_0.jpg\n",
            "Saved frame: processed_frames/video_126/frame_1.jpg\n",
            "Saved frame: processed_frames/video_126/frame_2.jpg\n",
            "Saved frame: processed_frames/video_126/frame_3.jpg\n",
            "Saved frame: processed_frames/video_126/frame_4.jpg\n",
            "Saved frame: processed_frames/video_126/frame_5.jpg\n",
            "Saved frame: processed_frames/video_126/frame_6.jpg\n",
            "Saved frame: processed_frames/video_126/frame_7.jpg\n"
          ]
        },
        {
          "metadata": {
            "tags": null
          },
          "name": "stderr",
          "output_type": "stream",
          "text": [
            "\r 27%|██▋       | 127/477 [09:01<21:43,  3.72s/it]"
          ]
        },
        {
          "metadata": {
            "tags": null
          },
          "name": "stdout",
          "output_type": "stream",
          "text": [
            "Saved frame: processed_frames/video_126/frame_8.jpg\n",
            "Saved frame: processed_frames/video_126/frame_9.jpg\n",
            "Processing video: /content/drive/MyDrive/HACER/putonglasses_sad_3_t.mp4, Total frames: 134\n",
            "Saved frame: processed_frames/video_127/frame_0.jpg\n",
            "Saved frame: processed_frames/video_127/frame_1.jpg\n",
            "Saved frame: processed_frames/video_127/frame_2.jpg\n",
            "Saved frame: processed_frames/video_127/frame_3.jpg\n",
            "Saved frame: processed_frames/video_127/frame_4.jpg\n",
            "Saved frame: processed_frames/video_127/frame_5.jpg\n",
            "Saved frame: processed_frames/video_127/frame_6.jpg\n",
            "Saved frame: processed_frames/video_127/frame_7.jpg\n",
            "Saved frame: processed_frames/video_127/frame_8.jpg\n"
          ]
        },
        {
          "metadata": {
            "tags": null
          },
          "name": "stderr",
          "output_type": "stream",
          "text": [
            "\r 27%|██▋       | 128/477 [09:07<25:15,  4.34s/it]"
          ]
        },
        {
          "metadata": {
            "tags": null
          },
          "name": "stdout",
          "output_type": "stream",
          "text": [
            "Saved frame: processed_frames/video_127/frame_9.jpg\n",
            "Processing video: /content/drive/MyDrive/HACER/putonglasses_sad_4_h.mp4, Total frames: 130\n",
            "Saved frame: processed_frames/video_128/frame_0.jpg\n",
            "Saved frame: processed_frames/video_128/frame_1.jpg\n",
            "Saved frame: processed_frames/video_128/frame_2.jpg\n",
            "Saved frame: processed_frames/video_128/frame_3.jpg\n",
            "Saved frame: processed_frames/video_128/frame_4.jpg\n",
            "Saved frame: processed_frames/video_128/frame_5.jpg\n",
            "Saved frame: processed_frames/video_128/frame_6.jpg\n",
            "Saved frame: processed_frames/video_128/frame_7.jpg\n",
            "Saved frame: processed_frames/video_128/frame_8.jpg\n"
          ]
        },
        {
          "metadata": {
            "tags": null
          },
          "name": "stderr",
          "output_type": "stream",
          "text": [
            "\r 27%|██▋       | 129/477 [09:10<22:31,  3.88s/it]"
          ]
        },
        {
          "metadata": {
            "tags": null
          },
          "name": "stdout",
          "output_type": "stream",
          "text": [
            "Saved frame: processed_frames/video_128/frame_9.jpg\n",
            "Processing video: /content/drive/MyDrive/HACER/putonglasses_sad_5_m.mp4, Total frames: 104\n",
            "Saved frame: processed_frames/video_129/frame_0.jpg\n",
            "Saved frame: processed_frames/video_129/frame_1.jpg\n",
            "Saved frame: processed_frames/video_129/frame_2.jpg\n",
            "Saved frame: processed_frames/video_129/frame_3.jpg\n",
            "Saved frame: processed_frames/video_129/frame_4.jpg\n",
            "Saved frame: processed_frames/video_129/frame_5.jpg\n",
            "Saved frame: processed_frames/video_129/frame_6.jpg\n",
            "Saved frame: processed_frames/video_129/frame_7.jpg\n",
            "Saved frame: processed_frames/video_129/frame_8.jpg\n"
          ]
        },
        {
          "metadata": {
            "tags": null
          },
          "name": "stderr",
          "output_type": "stream",
          "text": [
            "\r 27%|██▋       | 130/477 [09:12<19:43,  3.41s/it]"
          ]
        },
        {
          "metadata": {
            "tags": null
          },
          "name": "stdout",
          "output_type": "stream",
          "text": [
            "Saved frame: processed_frames/video_129/frame_9.jpg\n",
            "Processing video: /content/drive/MyDrive/HACER/putonglasses_sad_6_w.mp4, Total frames: 136\n",
            "Saved frame: processed_frames/video_130/frame_0.jpg\n",
            "Saved frame: processed_frames/video_130/frame_1.jpg\n",
            "Saved frame: processed_frames/video_130/frame_2.jpg\n",
            "Saved frame: processed_frames/video_130/frame_3.jpg\n",
            "Saved frame: processed_frames/video_130/frame_4.jpg\n",
            "Saved frame: processed_frames/video_130/frame_5.jpg\n",
            "Saved frame: processed_frames/video_130/frame_6.jpg\n",
            "Saved frame: processed_frames/video_130/frame_7.jpg\n",
            "Saved frame: processed_frames/video_130/frame_8.jpg\n"
          ]
        },
        {
          "metadata": {
            "tags": null
          },
          "name": "stderr",
          "output_type": "stream",
          "text": [
            "\r 27%|██▋       | 131/477 [09:15<18:55,  3.28s/it]"
          ]
        },
        {
          "metadata": {
            "tags": null
          },
          "name": "stdout",
          "output_type": "stream",
          "text": [
            "Saved frame: processed_frames/video_130/frame_9.jpg\n",
            "Processing video: /content/drive/MyDrive/HACER/putonglasses_sad_7_l.mp4, Total frames: 112\n",
            "Saved frame: processed_frames/video_131/frame_0.jpg\n",
            "Saved frame: processed_frames/video_131/frame_1.jpg\n",
            "Saved frame: processed_frames/video_131/frame_2.jpg\n",
            "Saved frame: processed_frames/video_131/frame_3.jpg\n",
            "Saved frame: processed_frames/video_131/frame_4.jpg\n",
            "Saved frame: processed_frames/video_131/frame_5.jpg\n",
            "Saved frame: processed_frames/video_131/frame_6.jpg\n",
            "Saved frame: processed_frames/video_131/frame_7.jpg\n",
            "Saved frame: processed_frames/video_131/frame_8.jpg\n"
          ]
        },
        {
          "metadata": {
            "tags": null
          },
          "name": "stderr",
          "output_type": "stream",
          "text": [
            "\r 28%|██▊       | 132/477 [09:19<19:55,  3.46s/it]"
          ]
        },
        {
          "metadata": {
            "tags": null
          },
          "name": "stdout",
          "output_type": "stream",
          "text": [
            "Saved frame: processed_frames/video_131/frame_9.jpg\n",
            "Processing video: /content/drive/MyDrive/HACER/putonglasses_sad_8_t.mp4, Total frames: 98\n",
            "Saved frame: processed_frames/video_132/frame_0.jpg\n",
            "Saved frame: processed_frames/video_132/frame_1.jpg\n",
            "Saved frame: processed_frames/video_132/frame_2.jpg\n",
            "Saved frame: processed_frames/video_132/frame_3.jpg\n",
            "Saved frame: processed_frames/video_132/frame_4.jpg\n",
            "Saved frame: processed_frames/video_132/frame_5.jpg\n",
            "Saved frame: processed_frames/video_132/frame_6.jpg\n",
            "Saved frame: processed_frames/video_132/frame_7.jpg\n",
            "Saved frame: processed_frames/video_132/frame_8.jpg\n"
          ]
        },
        {
          "metadata": {
            "tags": null
          },
          "name": "stderr",
          "output_type": "stream",
          "text": [
            "\r 28%|██▊       | 133/477 [09:23<21:39,  3.78s/it]"
          ]
        },
        {
          "metadata": {
            "tags": null
          },
          "name": "stdout",
          "output_type": "stream",
          "text": [
            "Saved frame: processed_frames/video_132/frame_9.jpg\n",
            "Processing video: /content/drive/MyDrive/HACER/putonglasses_sad_9_j.mp4, Total frames: 162\n",
            "Saved frame: processed_frames/video_133/frame_0.jpg\n",
            "Saved frame: processed_frames/video_133/frame_1.jpg\n",
            "Saved frame: processed_frames/video_133/frame_2.jpg\n",
            "Saved frame: processed_frames/video_133/frame_3.jpg\n",
            "Saved frame: processed_frames/video_133/frame_4.jpg\n",
            "Saved frame: processed_frames/video_133/frame_5.jpg\n",
            "Saved frame: processed_frames/video_133/frame_6.jpg\n",
            "Saved frame: processed_frames/video_133/frame_7.jpg\n"
          ]
        },
        {
          "metadata": {
            "tags": null
          },
          "name": "stderr",
          "output_type": "stream",
          "text": [
            "\r 28%|██▊       | 134/477 [09:27<20:20,  3.56s/it]"
          ]
        },
        {
          "metadata": {
            "tags": null
          },
          "name": "stdout",
          "output_type": "stream",
          "text": [
            "Saved frame: processed_frames/video_133/frame_8.jpg\n",
            "Saved frame: processed_frames/video_133/frame_9.jpg\n",
            "Processing video: /content/drive/MyDrive/HACER/putonjacket_angry_1_a.mp4, Total frames: 274\n",
            "Saved frame: processed_frames/video_134/frame_0.jpg\n",
            "Saved frame: processed_frames/video_134/frame_1.jpg\n",
            "Saved frame: processed_frames/video_134/frame_2.jpg\n",
            "Saved frame: processed_frames/video_134/frame_3.jpg\n",
            "Saved frame: processed_frames/video_134/frame_4.jpg\n",
            "Saved frame: processed_frames/video_134/frame_5.jpg\n",
            "Saved frame: processed_frames/video_134/frame_6.jpg\n",
            "Saved frame: processed_frames/video_134/frame_7.jpg\n",
            "Saved frame: processed_frames/video_134/frame_8.jpg\n"
          ]
        },
        {
          "metadata": {
            "tags": null
          },
          "name": "stderr",
          "output_type": "stream",
          "text": [
            "\r 28%|██▊       | 135/477 [09:31<21:12,  3.72s/it]"
          ]
        },
        {
          "metadata": {
            "tags": null
          },
          "name": "stdout",
          "output_type": "stream",
          "text": [
            "Saved frame: processed_frames/video_134/frame_9.jpg\n",
            "Processing video: /content/drive/MyDrive/HACER/putonjacket_angry_2_m.mp4, Total frames: 181\n",
            "Saved frame: processed_frames/video_135/frame_0.jpg\n",
            "Saved frame: processed_frames/video_135/frame_1.jpg\n",
            "Saved frame: processed_frames/video_135/frame_2.jpg\n",
            "Saved frame: processed_frames/video_135/frame_3.jpg\n",
            "Saved frame: processed_frames/video_135/frame_4.jpg\n",
            "Saved frame: processed_frames/video_135/frame_5.jpg\n",
            "Saved frame: processed_frames/video_135/frame_6.jpg\n",
            "Saved frame: processed_frames/video_135/frame_7.jpg\n",
            "Saved frame: processed_frames/video_135/frame_8.jpg\n"
          ]
        },
        {
          "metadata": {
            "tags": null
          },
          "name": "stderr",
          "output_type": "stream",
          "text": [
            "\r 29%|██▊       | 136/477 [09:36<23:39,  4.16s/it]"
          ]
        },
        {
          "metadata": {
            "tags": null
          },
          "name": "stdout",
          "output_type": "stream",
          "text": [
            "Saved frame: processed_frames/video_135/frame_9.jpg\n",
            "Processing video: /content/drive/MyDrive/HACER/putonjacket_angry_3_j.mp4, Total frames: 288\n",
            "Saved frame: processed_frames/video_136/frame_0.jpg\n",
            "Saved frame: processed_frames/video_136/frame_1.jpg\n",
            "Saved frame: processed_frames/video_136/frame_2.jpg\n",
            "Saved frame: processed_frames/video_136/frame_3.jpg\n",
            "Saved frame: processed_frames/video_136/frame_4.jpg\n",
            "Saved frame: processed_frames/video_136/frame_5.jpg\n",
            "Saved frame: processed_frames/video_136/frame_6.jpg\n",
            "Saved frame: processed_frames/video_136/frame_7.jpg\n",
            "Saved frame: processed_frames/video_136/frame_8.jpg\n"
          ]
        },
        {
          "metadata": {
            "tags": null
          },
          "name": "stderr",
          "output_type": "stream",
          "text": [
            "\r 29%|██▊       | 137/477 [09:41<25:14,  4.45s/it]"
          ]
        },
        {
          "metadata": {
            "tags": null
          },
          "name": "stdout",
          "output_type": "stream",
          "text": [
            "Saved frame: processed_frames/video_136/frame_9.jpg\n",
            "Processing video: /content/drive/MyDrive/HACER/putonjacket_angry_4_a.mp4, Total frames: 279\n",
            "Saved frame: processed_frames/video_137/frame_0.jpg\n",
            "Saved frame: processed_frames/video_137/frame_1.jpg\n",
            "Saved frame: processed_frames/video_137/frame_2.jpg\n",
            "Saved frame: processed_frames/video_137/frame_3.jpg\n",
            "Saved frame: processed_frames/video_137/frame_4.jpg\n",
            "Saved frame: processed_frames/video_137/frame_5.jpg\n",
            "Saved frame: processed_frames/video_137/frame_6.jpg\n",
            "Saved frame: processed_frames/video_137/frame_7.jpg\n",
            "Saved frame: processed_frames/video_137/frame_8.jpg\n"
          ]
        },
        {
          "metadata": {
            "tags": null
          },
          "name": "stderr",
          "output_type": "stream",
          "text": [
            "\r 29%|██▉       | 138/477 [09:46<25:41,  4.55s/it]"
          ]
        },
        {
          "metadata": {
            "tags": null
          },
          "name": "stdout",
          "output_type": "stream",
          "text": [
            "Saved frame: processed_frames/video_137/frame_9.jpg\n",
            "Processing video: /content/drive/MyDrive/HACER/putonjacket_angry_5_j.mp4, Total frames: 237\n",
            "Saved frame: processed_frames/video_138/frame_0.jpg\n",
            "Saved frame: processed_frames/video_138/frame_1.jpg\n",
            "Saved frame: processed_frames/video_138/frame_2.jpg\n",
            "Saved frame: processed_frames/video_138/frame_3.jpg\n",
            "Saved frame: processed_frames/video_138/frame_4.jpg\n",
            "Saved frame: processed_frames/video_138/frame_5.jpg\n",
            "Saved frame: processed_frames/video_138/frame_6.jpg\n",
            "Saved frame: processed_frames/video_138/frame_7.jpg\n",
            "Saved frame: processed_frames/video_138/frame_8.jpg\n"
          ]
        },
        {
          "metadata": {
            "tags": null
          },
          "name": "stderr",
          "output_type": "stream",
          "text": [
            "\r 29%|██▉       | 139/477 [09:51<26:17,  4.67s/it]"
          ]
        },
        {
          "metadata": {
            "tags": null
          },
          "name": "stdout",
          "output_type": "stream",
          "text": [
            "Saved frame: processed_frames/video_138/frame_9.jpg\n",
            "Processing video: /content/drive/MyDrive/HACER/putonjacket_angry_6_k.mp4, Total frames: 191\n",
            "Saved frame: processed_frames/video_139/frame_0.jpg\n",
            "Saved frame: processed_frames/video_139/frame_1.jpg\n",
            "Saved frame: processed_frames/video_139/frame_2.jpg\n",
            "Saved frame: processed_frames/video_139/frame_3.jpg\n",
            "Saved frame: processed_frames/video_139/frame_4.jpg\n",
            "Saved frame: processed_frames/video_139/frame_5.jpg\n",
            "Saved frame: processed_frames/video_139/frame_6.jpg\n",
            "Saved frame: processed_frames/video_139/frame_7.jpg\n",
            "Saved frame: processed_frames/video_139/frame_8.jpg\n"
          ]
        },
        {
          "metadata": {
            "tags": null
          },
          "name": "stderr",
          "output_type": "stream",
          "text": [
            "\r 29%|██▉       | 140/477 [09:55<26:03,  4.64s/it]"
          ]
        },
        {
          "metadata": {
            "tags": null
          },
          "name": "stdout",
          "output_type": "stream",
          "text": [
            "Saved frame: processed_frames/video_139/frame_9.jpg\n",
            "Processing video: /content/drive/MyDrive/HACER/putonjacket_angry_7_m.mp4, Total frames: 187\n",
            "Saved frame: processed_frames/video_140/frame_0.jpg\n",
            "Saved frame: processed_frames/video_140/frame_1.jpg\n",
            "Saved frame: processed_frames/video_140/frame_2.jpg\n",
            "Saved frame: processed_frames/video_140/frame_3.jpg\n",
            "Saved frame: processed_frames/video_140/frame_4.jpg\n",
            "Saved frame: processed_frames/video_140/frame_5.jpg\n",
            "Saved frame: processed_frames/video_140/frame_6.jpg\n",
            "Saved frame: processed_frames/video_140/frame_7.jpg\n",
            "Saved frame: processed_frames/video_140/frame_8.jpg\n"
          ]
        },
        {
          "metadata": {
            "tags": null
          },
          "name": "stderr",
          "output_type": "stream",
          "text": [
            "\r 30%|██▉       | 141/477 [09:59<24:03,  4.30s/it]"
          ]
        },
        {
          "metadata": {
            "tags": null
          },
          "name": "stdout",
          "output_type": "stream",
          "text": [
            "Saved frame: processed_frames/video_140/frame_9.jpg\n",
            "Processing video: /content/drive/MyDrive/HACER/putonjacket_angry_8_k.mp4, Total frames: 78\n",
            "Saved frame: processed_frames/video_141/frame_0.jpg\n",
            "Saved frame: processed_frames/video_141/frame_1.jpg\n",
            "Saved frame: processed_frames/video_141/frame_2.jpg\n",
            "Saved frame: processed_frames/video_141/frame_3.jpg\n",
            "Saved frame: processed_frames/video_141/frame_4.jpg\n",
            "Saved frame: processed_frames/video_141/frame_5.jpg\n",
            "Saved frame: processed_frames/video_141/frame_6.jpg\n",
            "Saved frame: processed_frames/video_141/frame_7.jpg\n",
            "Saved frame: processed_frames/video_141/frame_8.jpg\n"
          ]
        },
        {
          "metadata": {
            "tags": null
          },
          "name": "stderr",
          "output_type": "stream",
          "text": [
            "\r 30%|██▉       | 142/477 [10:01<20:06,  3.60s/it]"
          ]
        },
        {
          "metadata": {
            "tags": null
          },
          "name": "stdout",
          "output_type": "stream",
          "text": [
            "Saved frame: processed_frames/video_141/frame_9.jpg\n",
            "Processing video: /content/drive/MyDrive/HACER/putonjacket_happy_1_a.mp4, Total frames: 295\n",
            "Saved frame: processed_frames/video_142/frame_0.jpg\n",
            "Saved frame: processed_frames/video_142/frame_1.jpg\n",
            "Saved frame: processed_frames/video_142/frame_2.jpg\n",
            "Saved frame: processed_frames/video_142/frame_3.jpg\n",
            "Saved frame: processed_frames/video_142/frame_4.jpg\n",
            "Saved frame: processed_frames/video_142/frame_5.jpg\n",
            "Saved frame: processed_frames/video_142/frame_6.jpg\n",
            "Saved frame: processed_frames/video_142/frame_7.jpg\n",
            "Saved frame: processed_frames/video_142/frame_8.jpg\n"
          ]
        },
        {
          "metadata": {
            "tags": null
          },
          "name": "stderr",
          "output_type": "stream",
          "text": [
            "\r 30%|██▉       | 143/477 [10:08<26:28,  4.76s/it]"
          ]
        },
        {
          "metadata": {
            "tags": null
          },
          "name": "stdout",
          "output_type": "stream",
          "text": [
            "Saved frame: processed_frames/video_142/frame_9.jpg\n",
            "Processing video: /content/drive/MyDrive/HACER/putonjacket_happy_2_m.mp4, Total frames: 255\n",
            "Saved frame: processed_frames/video_143/frame_0.jpg\n",
            "Saved frame: processed_frames/video_143/frame_1.jpg\n",
            "Saved frame: processed_frames/video_143/frame_2.jpg\n",
            "Saved frame: processed_frames/video_143/frame_3.jpg\n",
            "Saved frame: processed_frames/video_143/frame_4.jpg\n",
            "Saved frame: processed_frames/video_143/frame_5.jpg\n",
            "Saved frame: processed_frames/video_143/frame_6.jpg\n",
            "Saved frame: processed_frames/video_143/frame_7.jpg\n",
            "Saved frame: processed_frames/video_143/frame_8.jpg\n"
          ]
        },
        {
          "metadata": {
            "tags": null
          },
          "name": "stderr",
          "output_type": "stream",
          "text": [
            "\r 30%|███       | 144/477 [10:12<24:32,  4.42s/it]"
          ]
        },
        {
          "metadata": {
            "tags": null
          },
          "name": "stdout",
          "output_type": "stream",
          "text": [
            "Saved frame: processed_frames/video_143/frame_9.jpg\n",
            "Processing video: /content/drive/MyDrive/HACER/putonjacket_happy_3_j.mp4, Total frames: 220\n",
            "Saved frame: processed_frames/video_144/frame_0.jpg\n",
            "Saved frame: processed_frames/video_144/frame_1.jpg\n",
            "Saved frame: processed_frames/video_144/frame_2.jpg\n",
            "Saved frame: processed_frames/video_144/frame_3.jpg\n",
            "Saved frame: processed_frames/video_144/frame_4.jpg\n",
            "Saved frame: processed_frames/video_144/frame_5.jpg\n",
            "Saved frame: processed_frames/video_144/frame_6.jpg\n",
            "Saved frame: processed_frames/video_144/frame_7.jpg\n",
            "Saved frame: processed_frames/video_144/frame_8.jpg\n"
          ]
        },
        {
          "metadata": {
            "tags": null
          },
          "name": "stderr",
          "output_type": "stream",
          "text": [
            "\r 30%|███       | 145/477 [10:15<23:00,  4.16s/it]"
          ]
        },
        {
          "metadata": {
            "tags": null
          },
          "name": "stdout",
          "output_type": "stream",
          "text": [
            "Saved frame: processed_frames/video_144/frame_9.jpg\n",
            "Processing video: /content/drive/MyDrive/HACER/putonjacket_happy_4_a.mp4, Total frames: 302\n",
            "Saved frame: processed_frames/video_145/frame_0.jpg\n",
            "Saved frame: processed_frames/video_145/frame_1.jpg\n",
            "Saved frame: processed_frames/video_145/frame_2.jpg\n",
            "Saved frame: processed_frames/video_145/frame_3.jpg\n",
            "Saved frame: processed_frames/video_145/frame_4.jpg\n",
            "Saved frame: processed_frames/video_145/frame_5.jpg\n",
            "Saved frame: processed_frames/video_145/frame_6.jpg\n",
            "Saved frame: processed_frames/video_145/frame_7.jpg\n",
            "Saved frame: processed_frames/video_145/frame_8.jpg\n"
          ]
        },
        {
          "metadata": {
            "tags": null
          },
          "name": "stderr",
          "output_type": "stream",
          "text": [
            "\r 31%|███       | 146/477 [10:22<26:47,  4.86s/it]"
          ]
        },
        {
          "metadata": {
            "tags": null
          },
          "name": "stdout",
          "output_type": "stream",
          "text": [
            "Saved frame: processed_frames/video_145/frame_9.jpg\n",
            "Processing video: /content/drive/MyDrive/HACER/putonjacket_happy_5_j.mp4, Total frames: 213\n",
            "Saved frame: processed_frames/video_146/frame_0.jpg\n",
            "Saved frame: processed_frames/video_146/frame_1.jpg\n",
            "Saved frame: processed_frames/video_146/frame_2.jpg\n",
            "Saved frame: processed_frames/video_146/frame_3.jpg\n",
            "Saved frame: processed_frames/video_146/frame_4.jpg\n",
            "Saved frame: processed_frames/video_146/frame_5.jpg\n",
            "Saved frame: processed_frames/video_146/frame_6.jpg\n",
            "Saved frame: processed_frames/video_146/frame_7.jpg\n",
            "Saved frame: processed_frames/video_146/frame_8.jpg\n"
          ]
        },
        {
          "metadata": {
            "tags": null
          },
          "name": "stderr",
          "output_type": "stream",
          "text": [
            "\r 31%|███       | 147/477 [10:26<24:50,  4.52s/it]"
          ]
        },
        {
          "metadata": {
            "tags": null
          },
          "name": "stdout",
          "output_type": "stream",
          "text": [
            "Saved frame: processed_frames/video_146/frame_9.jpg\n",
            "Processing video: /content/drive/MyDrive/HACER/putonjacket_happy_6_k.mp4, Total frames: 191\n",
            "Saved frame: processed_frames/video_147/frame_0.jpg\n",
            "Saved frame: processed_frames/video_147/frame_1.jpg\n",
            "Saved frame: processed_frames/video_147/frame_2.jpg\n",
            "Saved frame: processed_frames/video_147/frame_3.jpg\n",
            "Saved frame: processed_frames/video_147/frame_4.jpg\n",
            "Saved frame: processed_frames/video_147/frame_5.jpg\n",
            "Saved frame: processed_frames/video_147/frame_6.jpg\n",
            "Saved frame: processed_frames/video_147/frame_7.jpg\n",
            "Saved frame: processed_frames/video_147/frame_8.jpg\n"
          ]
        },
        {
          "metadata": {
            "tags": null
          },
          "name": "stderr",
          "output_type": "stream",
          "text": [
            "\r 31%|███       | 148/477 [10:29<23:13,  4.24s/it]"
          ]
        },
        {
          "metadata": {
            "tags": null
          },
          "name": "stdout",
          "output_type": "stream",
          "text": [
            "Saved frame: processed_frames/video_147/frame_9.jpg\n",
            "Processing video: /content/drive/MyDrive/HACER/putonjacket_happy_7_m.mp4, Total frames: 182\n",
            "Saved frame: processed_frames/video_148/frame_0.jpg\n",
            "Saved frame: processed_frames/video_148/frame_1.jpg\n",
            "Saved frame: processed_frames/video_148/frame_2.jpg\n",
            "Saved frame: processed_frames/video_148/frame_3.jpg\n",
            "Saved frame: processed_frames/video_148/frame_4.jpg\n",
            "Saved frame: processed_frames/video_148/frame_5.jpg\n",
            "Saved frame: processed_frames/video_148/frame_6.jpg\n",
            "Saved frame: processed_frames/video_148/frame_7.jpg\n",
            "Saved frame: processed_frames/video_148/frame_8.jpg\n"
          ]
        },
        {
          "metadata": {
            "tags": null
          },
          "name": "stderr",
          "output_type": "stream",
          "text": [
            "\r 31%|███       | 149/477 [10:33<21:51,  4.00s/it]"
          ]
        },
        {
          "metadata": {
            "tags": null
          },
          "name": "stdout",
          "output_type": "stream",
          "text": [
            "Saved frame: processed_frames/video_148/frame_9.jpg\n",
            "Processing video: /content/drive/MyDrive/HACER/putonjacket_happy_8_k.mp4, Total frames: 173\n",
            "Saved frame: processed_frames/video_149/frame_0.jpg\n",
            "Saved frame: processed_frames/video_149/frame_1.jpg\n",
            "Saved frame: processed_frames/video_149/frame_2.jpg\n",
            "Saved frame: processed_frames/video_149/frame_3.jpg\n",
            "Saved frame: processed_frames/video_149/frame_4.jpg\n",
            "Saved frame: processed_frames/video_149/frame_5.jpg\n",
            "Saved frame: processed_frames/video_149/frame_6.jpg\n",
            "Saved frame: processed_frames/video_149/frame_7.jpg\n"
          ]
        },
        {
          "metadata": {
            "tags": null
          },
          "name": "stderr",
          "output_type": "stream",
          "text": [
            "\r 31%|███▏      | 150/477 [10:39<25:15,  4.64s/it]"
          ]
        },
        {
          "metadata": {
            "tags": null
          },
          "name": "stdout",
          "output_type": "stream",
          "text": [
            "Saved frame: processed_frames/video_149/frame_8.jpg\n",
            "Saved frame: processed_frames/video_149/frame_9.jpg\n",
            "Processing video: /content/drive/MyDrive/HACER/putonjacket_neutral_10_a.mp4, Total frames: 130\n",
            "Saved frame: processed_frames/video_150/frame_0.jpg\n",
            "Saved frame: processed_frames/video_150/frame_1.jpg\n",
            "Saved frame: processed_frames/video_150/frame_2.jpg\n",
            "Saved frame: processed_frames/video_150/frame_3.jpg\n",
            "Saved frame: processed_frames/video_150/frame_4.jpg\n",
            "Saved frame: processed_frames/video_150/frame_5.jpg\n",
            "Saved frame: processed_frames/video_150/frame_6.jpg\n",
            "Saved frame: processed_frames/video_150/frame_7.jpg\n",
            "Saved frame: processed_frames/video_150/frame_8.jpg\n"
          ]
        },
        {
          "metadata": {
            "tags": null
          },
          "name": "stderr",
          "output_type": "stream",
          "text": [
            "\r 32%|███▏      | 151/477 [10:47<31:05,  5.72s/it]"
          ]
        },
        {
          "metadata": {
            "tags": null
          },
          "name": "stdout",
          "output_type": "stream",
          "text": [
            "Saved frame: processed_frames/video_150/frame_9.jpg\n",
            "Processing video: /content/drive/MyDrive/HACER/putonjacket_neutral_1_a.mp4, Total frames: 348\n",
            "Saved frame: processed_frames/video_151/frame_0.jpg\n",
            "Saved frame: processed_frames/video_151/frame_1.jpg\n",
            "Saved frame: processed_frames/video_151/frame_2.jpg\n",
            "Saved frame: processed_frames/video_151/frame_3.jpg\n",
            "Saved frame: processed_frames/video_151/frame_4.jpg\n",
            "Saved frame: processed_frames/video_151/frame_5.jpg\n",
            "Saved frame: processed_frames/video_151/frame_6.jpg\n",
            "Saved frame: processed_frames/video_151/frame_7.jpg\n",
            "Saved frame: processed_frames/video_151/frame_8.jpg\n"
          ]
        },
        {
          "metadata": {
            "tags": null
          },
          "name": "stderr",
          "output_type": "stream",
          "text": [
            "\r 32%|███▏      | 152/477 [10:57<37:37,  6.95s/it]"
          ]
        },
        {
          "metadata": {
            "tags": null
          },
          "name": "stdout",
          "output_type": "stream",
          "text": [
            "Saved frame: processed_frames/video_151/frame_9.jpg\n",
            "Processing video: /content/drive/MyDrive/HACER/putonjacket_neutral_2_m.mp4, Total frames: 252\n",
            "Saved frame: processed_frames/video_152/frame_0.jpg\n",
            "Saved frame: processed_frames/video_152/frame_1.jpg\n",
            "Saved frame: processed_frames/video_152/frame_2.jpg\n",
            "Saved frame: processed_frames/video_152/frame_3.jpg\n",
            "Saved frame: processed_frames/video_152/frame_4.jpg\n",
            "Saved frame: processed_frames/video_152/frame_5.jpg\n",
            "Saved frame: processed_frames/video_152/frame_6.jpg\n",
            "Saved frame: processed_frames/video_152/frame_7.jpg\n",
            "Saved frame: processed_frames/video_152/frame_8.jpg\n"
          ]
        },
        {
          "metadata": {
            "tags": null
          },
          "name": "stderr",
          "output_type": "stream",
          "text": [
            "\r 32%|███▏      | 153/477 [11:01<32:57,  6.10s/it]"
          ]
        },
        {
          "metadata": {
            "tags": null
          },
          "name": "stdout",
          "output_type": "stream",
          "text": [
            "Saved frame: processed_frames/video_152/frame_9.jpg\n",
            "Processing video: /content/drive/MyDrive/HACER/putonjacket_neutral_3_j.mp4, Total frames: 196\n",
            "Saved frame: processed_frames/video_153/frame_0.jpg\n",
            "Saved frame: processed_frames/video_153/frame_1.jpg\n",
            "Saved frame: processed_frames/video_153/frame_2.jpg\n",
            "Saved frame: processed_frames/video_153/frame_3.jpg\n",
            "Saved frame: processed_frames/video_153/frame_4.jpg\n",
            "Saved frame: processed_frames/video_153/frame_5.jpg\n",
            "Saved frame: processed_frames/video_153/frame_6.jpg\n",
            "Saved frame: processed_frames/video_153/frame_7.jpg\n",
            "Saved frame: processed_frames/video_153/frame_8.jpg\n"
          ]
        },
        {
          "metadata": {
            "tags": null
          },
          "name": "stderr",
          "output_type": "stream",
          "text": [
            "\r 32%|███▏      | 154/477 [11:04<28:46,  5.34s/it]"
          ]
        },
        {
          "metadata": {
            "tags": null
          },
          "name": "stdout",
          "output_type": "stream",
          "text": [
            "Saved frame: processed_frames/video_153/frame_9.jpg\n",
            "Processing video: /content/drive/MyDrive/HACER/putonjacket_neutral_4_a.mp4, Total frames: 214\n",
            "Saved frame: processed_frames/video_154/frame_0.jpg\n",
            "Saved frame: processed_frames/video_154/frame_1.jpg\n",
            "Saved frame: processed_frames/video_154/frame_2.jpg\n",
            "Saved frame: processed_frames/video_154/frame_3.jpg\n",
            "Saved frame: processed_frames/video_154/frame_4.jpg\n",
            "Saved frame: processed_frames/video_154/frame_5.jpg\n",
            "Saved frame: processed_frames/video_154/frame_6.jpg\n",
            "Saved frame: processed_frames/video_154/frame_7.jpg\n",
            "Saved frame: processed_frames/video_154/frame_8.jpg\n"
          ]
        },
        {
          "metadata": {
            "tags": null
          },
          "name": "stderr",
          "output_type": "stream",
          "text": [
            "\r 32%|███▏      | 155/477 [11:09<27:30,  5.13s/it]"
          ]
        },
        {
          "metadata": {
            "tags": null
          },
          "name": "stdout",
          "output_type": "stream",
          "text": [
            "Saved frame: processed_frames/video_154/frame_9.jpg\n",
            "Processing video: /content/drive/MyDrive/HACER/putonjacket_neutral_5_a.mp4, Total frames: 166\n",
            "Saved frame: processed_frames/video_155/frame_0.jpg\n",
            "Saved frame: processed_frames/video_155/frame_1.jpg\n",
            "Saved frame: processed_frames/video_155/frame_2.jpg\n",
            "Saved frame: processed_frames/video_155/frame_3.jpg\n",
            "Saved frame: processed_frames/video_155/frame_4.jpg\n",
            "Saved frame: processed_frames/video_155/frame_5.jpg\n",
            "Saved frame: processed_frames/video_155/frame_6.jpg\n",
            "Saved frame: processed_frames/video_155/frame_7.jpg\n"
          ]
        },
        {
          "metadata": {
            "tags": null
          },
          "name": "stderr",
          "output_type": "stream",
          "text": [
            "\r 33%|███▎      | 156/477 [11:15<28:00,  5.23s/it]"
          ]
        },
        {
          "metadata": {
            "tags": null
          },
          "name": "stdout",
          "output_type": "stream",
          "text": [
            "Saved frame: processed_frames/video_155/frame_8.jpg\n",
            "Saved frame: processed_frames/video_155/frame_9.jpg\n",
            "Processing video: /content/drive/MyDrive/HACER/putonjacket_neutral_6_j.mp4, Total frames: 237\n",
            "Saved frame: processed_frames/video_156/frame_0.jpg\n",
            "Saved frame: processed_frames/video_156/frame_1.jpg\n",
            "Saved frame: processed_frames/video_156/frame_2.jpg\n",
            "Saved frame: processed_frames/video_156/frame_3.jpg\n",
            "Saved frame: processed_frames/video_156/frame_4.jpg\n",
            "Saved frame: processed_frames/video_156/frame_5.jpg\n",
            "Saved frame: processed_frames/video_156/frame_6.jpg\n",
            "Saved frame: processed_frames/video_156/frame_7.jpg\n",
            "Saved frame: processed_frames/video_156/frame_8.jpg\n"
          ]
        },
        {
          "metadata": {
            "tags": null
          },
          "name": "stderr",
          "output_type": "stream",
          "text": [
            "\r 33%|███▎      | 157/477 [11:18<25:08,  4.71s/it]"
          ]
        },
        {
          "metadata": {
            "tags": null
          },
          "name": "stdout",
          "output_type": "stream",
          "text": [
            "Saved frame: processed_frames/video_156/frame_9.jpg\n",
            "Processing video: /content/drive/MyDrive/HACER/putonjacket_neutral_7_k.mp4, Total frames: 226\n",
            "Saved frame: processed_frames/video_157/frame_0.jpg\n",
            "Saved frame: processed_frames/video_157/frame_1.jpg\n",
            "Saved frame: processed_frames/video_157/frame_2.jpg\n",
            "Saved frame: processed_frames/video_157/frame_3.jpg\n",
            "Saved frame: processed_frames/video_157/frame_4.jpg\n",
            "Saved frame: processed_frames/video_157/frame_5.jpg\n",
            "Saved frame: processed_frames/video_157/frame_6.jpg\n",
            "Saved frame: processed_frames/video_157/frame_7.jpg\n",
            "Saved frame: processed_frames/video_157/frame_8.jpg\n"
          ]
        },
        {
          "metadata": {
            "tags": null
          },
          "name": "stderr",
          "output_type": "stream",
          "text": [
            "\r 33%|███▎      | 158/477 [11:22<23:23,  4.40s/it]"
          ]
        },
        {
          "metadata": {
            "tags": null
          },
          "name": "stdout",
          "output_type": "stream",
          "text": [
            "Saved frame: processed_frames/video_157/frame_9.jpg\n",
            "Processing video: /content/drive/MyDrive/HACER/putonjacket_neutral_8_m.mp4, Total frames: 270\n",
            "Saved frame: processed_frames/video_158/frame_0.jpg\n",
            "Saved frame: processed_frames/video_158/frame_1.jpg\n",
            "Saved frame: processed_frames/video_158/frame_2.jpg\n",
            "Saved frame: processed_frames/video_158/frame_3.jpg\n",
            "Saved frame: processed_frames/video_158/frame_4.jpg\n",
            "Saved frame: processed_frames/video_158/frame_5.jpg\n",
            "Saved frame: processed_frames/video_158/frame_6.jpg\n",
            "Saved frame: processed_frames/video_158/frame_7.jpg\n",
            "Saved frame: processed_frames/video_158/frame_8.jpg\n"
          ]
        },
        {
          "metadata": {
            "tags": null
          },
          "name": "stderr",
          "output_type": "stream",
          "text": [
            "\r 33%|███▎      | 159/477 [11:28<26:48,  5.06s/it]"
          ]
        },
        {
          "metadata": {
            "tags": null
          },
          "name": "stdout",
          "output_type": "stream",
          "text": [
            "Saved frame: processed_frames/video_158/frame_9.jpg\n",
            "Processing video: /content/drive/MyDrive/HACER/putonjacket_neutral_9_k.mp4, Total frames: 173\n",
            "Saved frame: processed_frames/video_159/frame_0.jpg\n",
            "Saved frame: processed_frames/video_159/frame_1.jpg\n",
            "Saved frame: processed_frames/video_159/frame_2.jpg\n",
            "Saved frame: processed_frames/video_159/frame_3.jpg\n",
            "Saved frame: processed_frames/video_159/frame_4.jpg\n",
            "Saved frame: processed_frames/video_159/frame_5.jpg\n",
            "Saved frame: processed_frames/video_159/frame_6.jpg\n",
            "Saved frame: processed_frames/video_159/frame_7.jpg\n"
          ]
        },
        {
          "metadata": {
            "tags": null
          },
          "name": "stderr",
          "output_type": "stream",
          "text": [
            "\r 34%|███▎      | 160/477 [11:32<24:36,  4.66s/it]"
          ]
        },
        {
          "metadata": {
            "tags": null
          },
          "name": "stdout",
          "output_type": "stream",
          "text": [
            "Saved frame: processed_frames/video_159/frame_8.jpg\n",
            "Saved frame: processed_frames/video_159/frame_9.jpg\n",
            "Processing video: /content/drive/MyDrive/HACER/putonjacket_sad_1_a.mp4, Total frames: 462\n",
            "Saved frame: processed_frames/video_160/frame_0.jpg\n",
            "Saved frame: processed_frames/video_160/frame_1.jpg\n",
            "Saved frame: processed_frames/video_160/frame_2.jpg\n",
            "Saved frame: processed_frames/video_160/frame_3.jpg\n",
            "Saved frame: processed_frames/video_160/frame_4.jpg\n",
            "Saved frame: processed_frames/video_160/frame_5.jpg\n",
            "Saved frame: processed_frames/video_160/frame_6.jpg\n",
            "Saved frame: processed_frames/video_160/frame_7.jpg\n",
            "Saved frame: processed_frames/video_160/frame_8.jpg\n"
          ]
        },
        {
          "metadata": {
            "tags": null
          },
          "name": "stderr",
          "output_type": "stream",
          "text": [
            "\r 34%|███▍      | 161/477 [11:36<22:49,  4.33s/it]"
          ]
        },
        {
          "metadata": {
            "tags": null
          },
          "name": "stdout",
          "output_type": "stream",
          "text": [
            "Saved frame: processed_frames/video_160/frame_9.jpg\n",
            "Processing video: /content/drive/MyDrive/HACER/putonjacket_sad_2_m.mp4, Total frames: 273\n",
            "Saved frame: processed_frames/video_161/frame_0.jpg\n",
            "Saved frame: processed_frames/video_161/frame_1.jpg\n",
            "Saved frame: processed_frames/video_161/frame_2.jpg\n",
            "Saved frame: processed_frames/video_161/frame_3.jpg\n",
            "Saved frame: processed_frames/video_161/frame_4.jpg\n",
            "Saved frame: processed_frames/video_161/frame_5.jpg\n",
            "Saved frame: processed_frames/video_161/frame_6.jpg\n",
            "Saved frame: processed_frames/video_161/frame_7.jpg\n",
            "Saved frame: processed_frames/video_161/frame_8.jpg\n"
          ]
        },
        {
          "metadata": {
            "tags": null
          },
          "name": "stderr",
          "output_type": "stream",
          "text": [
            "\r 34%|███▍      | 162/477 [11:41<23:42,  4.51s/it]"
          ]
        },
        {
          "metadata": {
            "tags": null
          },
          "name": "stdout",
          "output_type": "stream",
          "text": [
            "Saved frame: processed_frames/video_161/frame_9.jpg\n",
            "Processing video: /content/drive/MyDrive/HACER/putonjacket_sad_3_j.mp4, Total frames: 260\n",
            "Saved frame: processed_frames/video_162/frame_0.jpg\n",
            "Saved frame: processed_frames/video_162/frame_1.jpg\n",
            "Saved frame: processed_frames/video_162/frame_2.jpg\n",
            "Saved frame: processed_frames/video_162/frame_3.jpg\n",
            "Saved frame: processed_frames/video_162/frame_4.jpg\n",
            "Saved frame: processed_frames/video_162/frame_5.jpg\n",
            "Saved frame: processed_frames/video_162/frame_6.jpg\n",
            "Saved frame: processed_frames/video_162/frame_7.jpg\n",
            "Saved frame: processed_frames/video_162/frame_8.jpg\n"
          ]
        },
        {
          "metadata": {
            "tags": null
          },
          "name": "stderr",
          "output_type": "stream",
          "text": [
            "\r 34%|███▍      | 163/477 [11:46<24:28,  4.68s/it]"
          ]
        },
        {
          "metadata": {
            "tags": null
          },
          "name": "stdout",
          "output_type": "stream",
          "text": [
            "Saved frame: processed_frames/video_162/frame_9.jpg\n",
            "Processing video: /content/drive/MyDrive/HACER/putonjacket_sad_4_j.mp4, Total frames: 318\n",
            "Saved frame: processed_frames/video_163/frame_0.jpg\n",
            "Saved frame: processed_frames/video_163/frame_1.jpg\n",
            "Saved frame: processed_frames/video_163/frame_2.jpg\n",
            "Saved frame: processed_frames/video_163/frame_3.jpg\n",
            "Saved frame: processed_frames/video_163/frame_4.jpg\n",
            "Saved frame: processed_frames/video_163/frame_5.jpg\n",
            "Saved frame: processed_frames/video_163/frame_6.jpg\n",
            "Saved frame: processed_frames/video_163/frame_7.jpg\n"
          ]
        },
        {
          "metadata": {
            "tags": null
          },
          "name": "stderr",
          "output_type": "stream",
          "text": [
            "\r 34%|███▍      | 164/477 [11:49<22:27,  4.30s/it]"
          ]
        },
        {
          "metadata": {
            "tags": null
          },
          "name": "stdout",
          "output_type": "stream",
          "text": [
            "Saved frame: processed_frames/video_163/frame_8.jpg\n",
            "Saved frame: processed_frames/video_163/frame_9.jpg\n",
            "Processing video: /content/drive/MyDrive/HACER/putonjacket_sad_5_k.mp4, Total frames: 250\n",
            "Saved frame: processed_frames/video_164/frame_0.jpg\n",
            "Saved frame: processed_frames/video_164/frame_1.jpg\n",
            "Saved frame: processed_frames/video_164/frame_2.jpg\n",
            "Saved frame: processed_frames/video_164/frame_3.jpg\n",
            "Saved frame: processed_frames/video_164/frame_4.jpg\n",
            "Saved frame: processed_frames/video_164/frame_5.jpg\n",
            "Saved frame: processed_frames/video_164/frame_6.jpg\n",
            "Saved frame: processed_frames/video_164/frame_7.jpg\n",
            "Saved frame: processed_frames/video_164/frame_8.jpg\n"
          ]
        },
        {
          "metadata": {
            "tags": null
          },
          "name": "stderr",
          "output_type": "stream",
          "text": [
            "\r 35%|███▍      | 165/477 [11:53<21:04,  4.05s/it]"
          ]
        },
        {
          "metadata": {
            "tags": null
          },
          "name": "stdout",
          "output_type": "stream",
          "text": [
            "Saved frame: processed_frames/video_164/frame_9.jpg\n",
            "Processing video: /content/drive/MyDrive/HACER/putonjacket_sad_6_m.mp4, Total frames: 276\n",
            "Saved frame: processed_frames/video_165/frame_0.jpg\n",
            "Saved frame: processed_frames/video_165/frame_1.jpg\n",
            "Saved frame: processed_frames/video_165/frame_2.jpg\n",
            "Saved frame: processed_frames/video_165/frame_3.jpg\n",
            "Saved frame: processed_frames/video_165/frame_4.jpg\n",
            "Saved frame: processed_frames/video_165/frame_5.jpg\n",
            "Saved frame: processed_frames/video_165/frame_6.jpg\n",
            "Saved frame: processed_frames/video_165/frame_7.jpg\n",
            "Saved frame: processed_frames/video_165/frame_8.jpg\n"
          ]
        },
        {
          "metadata": {
            "tags": null
          },
          "name": "stderr",
          "output_type": "stream",
          "text": [
            "\r 35%|███▍      | 166/477 [11:59<24:26,  4.72s/it]"
          ]
        },
        {
          "metadata": {
            "tags": null
          },
          "name": "stdout",
          "output_type": "stream",
          "text": [
            "Saved frame: processed_frames/video_165/frame_9.jpg\n",
            "Processing video: /content/drive/MyDrive/HACER/read_angry_1_w.mp4, Total frames: 187\n",
            "Saved frame: processed_frames/video_166/frame_0.jpg\n",
            "Saved frame: processed_frames/video_166/frame_1.jpg\n",
            "Saved frame: processed_frames/video_166/frame_2.jpg\n",
            "Saved frame: processed_frames/video_166/frame_3.jpg\n",
            "Saved frame: processed_frames/video_166/frame_4.jpg\n",
            "Saved frame: processed_frames/video_166/frame_5.jpg\n",
            "Saved frame: processed_frames/video_166/frame_6.jpg\n",
            "Saved frame: processed_frames/video_166/frame_7.jpg\n",
            "Saved frame: processed_frames/video_166/frame_8.jpg\n"
          ]
        },
        {
          "metadata": {
            "tags": null
          },
          "name": "stderr",
          "output_type": "stream",
          "text": [
            "\r 35%|███▌      | 167/477 [12:02<21:28,  4.16s/it]"
          ]
        },
        {
          "metadata": {
            "tags": null
          },
          "name": "stdout",
          "output_type": "stream",
          "text": [
            "Saved frame: processed_frames/video_166/frame_9.jpg\n",
            "Processing video: /content/drive/MyDrive/HACER/read_angry_2_j.mp4, Total frames: 191\n",
            "Saved frame: processed_frames/video_167/frame_0.jpg\n",
            "Saved frame: processed_frames/video_167/frame_1.jpg\n",
            "Saved frame: processed_frames/video_167/frame_2.jpg\n",
            "Saved frame: processed_frames/video_167/frame_3.jpg\n",
            "Saved frame: processed_frames/video_167/frame_4.jpg\n",
            "Saved frame: processed_frames/video_167/frame_5.jpg\n",
            "Saved frame: processed_frames/video_167/frame_6.jpg\n",
            "Saved frame: processed_frames/video_167/frame_7.jpg\n",
            "Saved frame: processed_frames/video_167/frame_8.jpg\n"
          ]
        },
        {
          "metadata": {
            "tags": null
          },
          "name": "stderr",
          "output_type": "stream",
          "text": [
            "\r 35%|███▌      | 168/477 [12:05<19:40,  3.82s/it]"
          ]
        },
        {
          "metadata": {
            "tags": null
          },
          "name": "stdout",
          "output_type": "stream",
          "text": [
            "Saved frame: processed_frames/video_167/frame_9.jpg\n",
            "Processing video: /content/drive/MyDrive/HACER/read_angry_3_l.mp4, Total frames: 116\n",
            "Saved frame: processed_frames/video_168/frame_0.jpg\n",
            "Saved frame: processed_frames/video_168/frame_1.jpg\n",
            "Saved frame: processed_frames/video_168/frame_2.jpg\n",
            "Saved frame: processed_frames/video_168/frame_3.jpg\n",
            "Saved frame: processed_frames/video_168/frame_4.jpg\n",
            "Saved frame: processed_frames/video_168/frame_5.jpg\n",
            "Saved frame: processed_frames/video_168/frame_6.jpg\n",
            "Saved frame: processed_frames/video_168/frame_7.jpg\n",
            "Saved frame: processed_frames/video_168/frame_8.jpg\n"
          ]
        },
        {
          "metadata": {
            "tags": null
          },
          "name": "stderr",
          "output_type": "stream",
          "text": [
            "\r 35%|███▌      | 169/477 [12:08<18:26,  3.59s/it]"
          ]
        },
        {
          "metadata": {
            "tags": null
          },
          "name": "stdout",
          "output_type": "stream",
          "text": [
            "Saved frame: processed_frames/video_168/frame_9.jpg\n",
            "Processing video: /content/drive/MyDrive/HACER/read_angry_4_w.mp4, Total frames: 135\n",
            "Saved frame: processed_frames/video_169/frame_0.jpg\n",
            "Saved frame: processed_frames/video_169/frame_1.jpg\n",
            "Saved frame: processed_frames/video_169/frame_2.jpg\n",
            "Saved frame: processed_frames/video_169/frame_3.jpg\n",
            "Saved frame: processed_frames/video_169/frame_4.jpg\n",
            "Saved frame: processed_frames/video_169/frame_5.jpg\n",
            "Saved frame: processed_frames/video_169/frame_6.jpg\n",
            "Saved frame: processed_frames/video_169/frame_7.jpg\n",
            "Saved frame: processed_frames/video_169/frame_8.jpg\n"
          ]
        },
        {
          "metadata": {
            "tags": null
          },
          "name": "stderr",
          "output_type": "stream",
          "text": [
            "\r 36%|███▌      | 170/477 [12:12<20:06,  3.93s/it]"
          ]
        },
        {
          "metadata": {
            "tags": null
          },
          "name": "stdout",
          "output_type": "stream",
          "text": [
            "Saved frame: processed_frames/video_169/frame_9.jpg\n",
            "Processing video: /content/drive/MyDrive/HACER/read_angry_5_w.mp4, Total frames: 135\n",
            "Saved frame: processed_frames/video_170/frame_0.jpg\n",
            "Saved frame: processed_frames/video_170/frame_1.jpg\n",
            "Saved frame: processed_frames/video_170/frame_2.jpg\n",
            "Saved frame: processed_frames/video_170/frame_3.jpg\n",
            "Saved frame: processed_frames/video_170/frame_4.jpg\n",
            "Saved frame: processed_frames/video_170/frame_5.jpg\n",
            "Saved frame: processed_frames/video_170/frame_6.jpg\n",
            "Saved frame: processed_frames/video_170/frame_7.jpg\n",
            "Saved frame: processed_frames/video_170/frame_8.jpg\n"
          ]
        },
        {
          "metadata": {
            "tags": null
          },
          "name": "stderr",
          "output_type": "stream",
          "text": [
            "\r 36%|███▌      | 171/477 [12:16<19:45,  3.87s/it]"
          ]
        },
        {
          "metadata": {
            "tags": null
          },
          "name": "stdout",
          "output_type": "stream",
          "text": [
            "Saved frame: processed_frames/video_170/frame_9.jpg\n",
            "Processing video: /content/drive/MyDrive/HACER/read_angry_6_l.mp4, Total frames: 72\n",
            "Saved frame: processed_frames/video_171/frame_0.jpg\n",
            "Saved frame: processed_frames/video_171/frame_1.jpg\n",
            "Saved frame: processed_frames/video_171/frame_2.jpg\n",
            "Saved frame: processed_frames/video_171/frame_3.jpg\n",
            "Saved frame: processed_frames/video_171/frame_4.jpg\n",
            "Saved frame: processed_frames/video_171/frame_5.jpg\n",
            "Saved frame: processed_frames/video_171/frame_6.jpg\n",
            "Saved frame: processed_frames/video_171/frame_7.jpg\n",
            "Saved frame: processed_frames/video_171/frame_8.jpg\n"
          ]
        },
        {
          "metadata": {
            "tags": null
          },
          "name": "stderr",
          "output_type": "stream",
          "text": [
            "\r 36%|███▌      | 172/477 [12:18<17:14,  3.39s/it]"
          ]
        },
        {
          "metadata": {
            "tags": null
          },
          "name": "stdout",
          "output_type": "stream",
          "text": [
            "Saved frame: processed_frames/video_171/frame_9.jpg\n",
            "Processing video: /content/drive/MyDrive/HACER/read_angry_7_l.mp4, Total frames: 72\n",
            "Saved frame: processed_frames/video_172/frame_0.jpg\n",
            "Saved frame: processed_frames/video_172/frame_1.jpg\n",
            "Saved frame: processed_frames/video_172/frame_2.jpg\n",
            "Saved frame: processed_frames/video_172/frame_3.jpg\n",
            "Saved frame: processed_frames/video_172/frame_4.jpg\n",
            "Saved frame: processed_frames/video_172/frame_5.jpg\n",
            "Saved frame: processed_frames/video_172/frame_6.jpg\n",
            "Saved frame: processed_frames/video_172/frame_7.jpg\n",
            "Saved frame: processed_frames/video_172/frame_8.jpg\n"
          ]
        },
        {
          "metadata": {
            "tags": null
          },
          "name": "stderr",
          "output_type": "stream",
          "text": [
            "\r 36%|███▋      | 173/477 [12:20<14:59,  2.96s/it]"
          ]
        },
        {
          "metadata": {
            "tags": null
          },
          "name": "stdout",
          "output_type": "stream",
          "text": [
            "Saved frame: processed_frames/video_172/frame_9.jpg\n",
            "Processing video: /content/drive/MyDrive/HACER/read_angry_8_h.mp4, Total frames: 350\n",
            "Saved frame: processed_frames/video_173/frame_0.jpg\n",
            "Saved frame: processed_frames/video_173/frame_1.jpg\n",
            "Saved frame: processed_frames/video_173/frame_2.jpg\n",
            "Saved frame: processed_frames/video_173/frame_3.jpg\n",
            "Saved frame: processed_frames/video_173/frame_4.jpg\n",
            "Saved frame: processed_frames/video_173/frame_5.jpg\n",
            "Saved frame: processed_frames/video_173/frame_6.jpg\n",
            "Saved frame: processed_frames/video_173/frame_7.jpg\n",
            "Saved frame: processed_frames/video_173/frame_8.jpg\n"
          ]
        },
        {
          "metadata": {
            "tags": null
          },
          "name": "stderr",
          "output_type": "stream",
          "text": [
            "\r 36%|███▋      | 174/477 [12:24<16:37,  3.29s/it]"
          ]
        },
        {
          "metadata": {
            "tags": null
          },
          "name": "stdout",
          "output_type": "stream",
          "text": [
            "Saved frame: processed_frames/video_173/frame_9.jpg\n",
            "Processing video: /content/drive/MyDrive/HACER/read_angry_9_h.mp4, Total frames: 300\n",
            "Saved frame: processed_frames/video_174/frame_0.jpg\n",
            "Saved frame: processed_frames/video_174/frame_1.jpg\n",
            "Saved frame: processed_frames/video_174/frame_2.jpg\n",
            "Saved frame: processed_frames/video_174/frame_3.jpg\n",
            "Saved frame: processed_frames/video_174/frame_4.jpg\n",
            "Saved frame: processed_frames/video_174/frame_5.jpg\n",
            "Saved frame: processed_frames/video_174/frame_6.jpg\n",
            "Saved frame: processed_frames/video_174/frame_7.jpg\n",
            "Saved frame: processed_frames/video_174/frame_8.jpg\n"
          ]
        },
        {
          "metadata": {
            "tags": null
          },
          "name": "stderr",
          "output_type": "stream",
          "text": [
            "\r 37%|███▋      | 175/477 [12:30<20:34,  4.09s/it]"
          ]
        },
        {
          "metadata": {
            "tags": null
          },
          "name": "stdout",
          "output_type": "stream",
          "text": [
            "Saved frame: processed_frames/video_174/frame_9.jpg\n",
            "Processing video: /content/drive/MyDrive/HACER/read_happy_10_j.mp4, Total frames: 157\n",
            "Saved frame: processed_frames/video_175/frame_0.jpg\n",
            "Saved frame: processed_frames/video_175/frame_1.jpg\n",
            "Saved frame: processed_frames/video_175/frame_2.jpg\n",
            "Saved frame: processed_frames/video_175/frame_3.jpg\n",
            "Saved frame: processed_frames/video_175/frame_4.jpg\n",
            "Saved frame: processed_frames/video_175/frame_5.jpg\n",
            "Saved frame: processed_frames/video_175/frame_6.jpg\n",
            "Saved frame: processed_frames/video_175/frame_7.jpg\n",
            "Saved frame: processed_frames/video_175/frame_8.jpg\n"
          ]
        },
        {
          "metadata": {
            "tags": null
          },
          "name": "stderr",
          "output_type": "stream",
          "text": [
            "\r 37%|███▋      | 176/477 [12:34<19:43,  3.93s/it]"
          ]
        },
        {
          "metadata": {
            "tags": null
          },
          "name": "stdout",
          "output_type": "stream",
          "text": [
            "Saved frame: processed_frames/video_175/frame_9.jpg\n",
            "Processing video: /content/drive/MyDrive/HACER/read_happy_11_j.mp4, Total frames: 157\n",
            "Saved frame: processed_frames/video_176/frame_0.jpg\n",
            "Saved frame: processed_frames/video_176/frame_1.jpg\n",
            "Saved frame: processed_frames/video_176/frame_2.jpg\n",
            "Saved frame: processed_frames/video_176/frame_3.jpg\n",
            "Saved frame: processed_frames/video_176/frame_4.jpg\n",
            "Saved frame: processed_frames/video_176/frame_5.jpg\n",
            "Saved frame: processed_frames/video_176/frame_6.jpg\n",
            "Saved frame: processed_frames/video_176/frame_7.jpg\n",
            "Saved frame: processed_frames/video_176/frame_8.jpg\n"
          ]
        },
        {
          "metadata": {
            "tags": null
          },
          "name": "stderr",
          "output_type": "stream",
          "text": [
            "\r 37%|███▋      | 177/477 [12:38<19:04,  3.81s/it]"
          ]
        },
        {
          "metadata": {
            "tags": null
          },
          "name": "stdout",
          "output_type": "stream",
          "text": [
            "Saved frame: processed_frames/video_176/frame_9.jpg\n",
            "Processing video: /content/drive/MyDrive/HACER/read_happy_1_w.mp4, Total frames: 241\n",
            "Saved frame: processed_frames/video_177/frame_0.jpg\n",
            "Saved frame: processed_frames/video_177/frame_1.jpg\n",
            "Saved frame: processed_frames/video_177/frame_2.jpg\n",
            "Saved frame: processed_frames/video_177/frame_3.jpg\n",
            "Saved frame: processed_frames/video_177/frame_4.jpg\n",
            "Saved frame: processed_frames/video_177/frame_5.jpg\n",
            "Saved frame: processed_frames/video_177/frame_6.jpg\n",
            "Saved frame: processed_frames/video_177/frame_7.jpg\n",
            "Saved frame: processed_frames/video_177/frame_8.jpg\n"
          ]
        },
        {
          "metadata": {
            "tags": null
          },
          "name": "stderr",
          "output_type": "stream",
          "text": [
            "\r 37%|███▋      | 178/477 [12:42<19:36,  3.93s/it]"
          ]
        },
        {
          "metadata": {
            "tags": null
          },
          "name": "stdout",
          "output_type": "stream",
          "text": [
            "Saved frame: processed_frames/video_177/frame_9.jpg\n",
            "Processing video: /content/drive/MyDrive/HACER/read_happy_2_j.mp4, Total frames: 356\n",
            "Saved frame: processed_frames/video_178/frame_0.jpg\n",
            "Saved frame: processed_frames/video_178/frame_1.jpg\n",
            "Saved frame: processed_frames/video_178/frame_2.jpg\n",
            "Saved frame: processed_frames/video_178/frame_3.jpg\n",
            "Saved frame: processed_frames/video_178/frame_4.jpg\n",
            "Saved frame: processed_frames/video_178/frame_5.jpg\n",
            "Saved frame: processed_frames/video_178/frame_6.jpg\n",
            "Saved frame: processed_frames/video_178/frame_7.jpg\n",
            "Saved frame: processed_frames/video_178/frame_8.jpg\n"
          ]
        },
        {
          "metadata": {
            "tags": null
          },
          "name": "stderr",
          "output_type": "stream",
          "text": [
            "\r 38%|███▊      | 179/477 [12:47<21:02,  4.24s/it]"
          ]
        },
        {
          "metadata": {
            "tags": null
          },
          "name": "stdout",
          "output_type": "stream",
          "text": [
            "Saved frame: processed_frames/video_178/frame_9.jpg\n",
            "Processing video: /content/drive/MyDrive/HACER/read_happy_3_l.mp4, Total frames: 116\n",
            "Saved frame: processed_frames/video_179/frame_0.jpg\n",
            "Saved frame: processed_frames/video_179/frame_1.jpg\n",
            "Saved frame: processed_frames/video_179/frame_2.jpg\n",
            "Saved frame: processed_frames/video_179/frame_3.jpg\n",
            "Saved frame: processed_frames/video_179/frame_4.jpg\n",
            "Saved frame: processed_frames/video_179/frame_5.jpg\n",
            "Saved frame: processed_frames/video_179/frame_6.jpg\n",
            "Saved frame: processed_frames/video_179/frame_7.jpg\n",
            "Saved frame: processed_frames/video_179/frame_8.jpg\n"
          ]
        },
        {
          "metadata": {
            "tags": null
          },
          "name": "stderr",
          "output_type": "stream",
          "text": [
            "\r 38%|███▊      | 180/477 [12:50<19:03,  3.85s/it]"
          ]
        },
        {
          "metadata": {
            "tags": null
          },
          "name": "stdout",
          "output_type": "stream",
          "text": [
            "Saved frame: processed_frames/video_179/frame_9.jpg\n",
            "Processing video: /content/drive/MyDrive/HACER/read_happy_4_w.mp4, Total frames: 149\n",
            "Saved frame: processed_frames/video_180/frame_0.jpg\n",
            "Saved frame: processed_frames/video_180/frame_1.jpg\n",
            "Saved frame: processed_frames/video_180/frame_2.jpg\n",
            "Saved frame: processed_frames/video_180/frame_3.jpg\n",
            "Saved frame: processed_frames/video_180/frame_4.jpg\n",
            "Saved frame: processed_frames/video_180/frame_5.jpg\n",
            "Saved frame: processed_frames/video_180/frame_6.jpg\n",
            "Saved frame: processed_frames/video_180/frame_7.jpg\n",
            "Saved frame: processed_frames/video_180/frame_8.jpg\n"
          ]
        },
        {
          "metadata": {
            "tags": null
          },
          "name": "stderr",
          "output_type": "stream",
          "text": [
            "\r 38%|███▊      | 181/477 [12:53<18:00,  3.65s/it]"
          ]
        },
        {
          "metadata": {
            "tags": null
          },
          "name": "stdout",
          "output_type": "stream",
          "text": [
            "Saved frame: processed_frames/video_180/frame_9.jpg\n",
            "Processing video: /content/drive/MyDrive/HACER/read_happy_5_w.mp4, Total frames: 87\n",
            "Saved frame: processed_frames/video_181/frame_0.jpg\n",
            "Saved frame: processed_frames/video_181/frame_1.jpg\n",
            "Saved frame: processed_frames/video_181/frame_2.jpg\n",
            "Saved frame: processed_frames/video_181/frame_3.jpg\n",
            "Saved frame: processed_frames/video_181/frame_4.jpg\n",
            "Saved frame: processed_frames/video_181/frame_5.jpg\n",
            "Saved frame: processed_frames/video_181/frame_6.jpg\n",
            "Saved frame: processed_frames/video_181/frame_7.jpg\n",
            "Saved frame: processed_frames/video_181/frame_8.jpg\n"
          ]
        },
        {
          "metadata": {
            "tags": null
          },
          "name": "stderr",
          "output_type": "stream",
          "text": [
            "\r 38%|███▊      | 182/477 [12:55<16:00,  3.26s/it]"
          ]
        },
        {
          "metadata": {
            "tags": null
          },
          "name": "stdout",
          "output_type": "stream",
          "text": [
            "Saved frame: processed_frames/video_181/frame_9.jpg\n",
            "Processing video: /content/drive/MyDrive/HACER/read_happy_6_w.mp4, Total frames: 87\n",
            "Saved frame: processed_frames/video_182/frame_0.jpg\n",
            "Saved frame: processed_frames/video_182/frame_1.jpg\n",
            "Saved frame: processed_frames/video_182/frame_2.jpg\n",
            "Saved frame: processed_frames/video_182/frame_3.jpg\n",
            "Saved frame: processed_frames/video_182/frame_4.jpg\n",
            "Saved frame: processed_frames/video_182/frame_5.jpg\n",
            "Saved frame: processed_frames/video_182/frame_6.jpg\n",
            "Saved frame: processed_frames/video_182/frame_7.jpg\n",
            "Saved frame: processed_frames/video_182/frame_8.jpg\n"
          ]
        },
        {
          "metadata": {
            "tags": null
          },
          "name": "stderr",
          "output_type": "stream",
          "text": [
            "\r 38%|███▊      | 183/477 [12:58<16:02,  3.28s/it]"
          ]
        },
        {
          "metadata": {
            "tags": null
          },
          "name": "stdout",
          "output_type": "stream",
          "text": [
            "Saved frame: processed_frames/video_182/frame_9.jpg\n",
            "Processing video: /content/drive/MyDrive/HACER/read_happy_7_l.mp4, Total frames: 72\n",
            "Saved frame: processed_frames/video_183/frame_0.jpg\n",
            "Saved frame: processed_frames/video_183/frame_1.jpg\n",
            "Saved frame: processed_frames/video_183/frame_2.jpg\n",
            "Saved frame: processed_frames/video_183/frame_3.jpg\n",
            "Saved frame: processed_frames/video_183/frame_4.jpg\n",
            "Saved frame: processed_frames/video_183/frame_5.jpg\n",
            "Saved frame: processed_frames/video_183/frame_6.jpg\n",
            "Saved frame: processed_frames/video_183/frame_7.jpg\n",
            "Saved frame: processed_frames/video_183/frame_8.jpg\n"
          ]
        },
        {
          "metadata": {
            "tags": null
          },
          "name": "stderr",
          "output_type": "stream",
          "text": [
            "\r 39%|███▊      | 184/477 [13:01<15:07,  3.10s/it]"
          ]
        },
        {
          "metadata": {
            "tags": null
          },
          "name": "stdout",
          "output_type": "stream",
          "text": [
            "Saved frame: processed_frames/video_183/frame_9.jpg\n",
            "Processing video: /content/drive/MyDrive/HACER/read_happy_8_h.mp4, Total frames: 350\n",
            "Saved frame: processed_frames/video_184/frame_0.jpg\n",
            "Saved frame: processed_frames/video_184/frame_1.jpg\n",
            "Saved frame: processed_frames/video_184/frame_2.jpg\n",
            "Saved frame: processed_frames/video_184/frame_3.jpg\n",
            "Saved frame: processed_frames/video_184/frame_4.jpg\n",
            "Saved frame: processed_frames/video_184/frame_5.jpg\n",
            "Saved frame: processed_frames/video_184/frame_6.jpg\n",
            "Saved frame: processed_frames/video_184/frame_7.jpg\n",
            "Saved frame: processed_frames/video_184/frame_8.jpg\n"
          ]
        },
        {
          "metadata": {
            "tags": null
          },
          "name": "stderr",
          "output_type": "stream",
          "text": [
            "\r 39%|███▉      | 185/477 [13:05<16:04,  3.30s/it]"
          ]
        },
        {
          "metadata": {
            "tags": null
          },
          "name": "stdout",
          "output_type": "stream",
          "text": [
            "Saved frame: processed_frames/video_184/frame_9.jpg\n",
            "Processing video: /content/drive/MyDrive/HACER/read_happy_9_h.mp4, Total frames: 329\n",
            "Saved frame: processed_frames/video_185/frame_0.jpg\n",
            "Saved frame: processed_frames/video_185/frame_1.jpg\n",
            "Saved frame: processed_frames/video_185/frame_2.jpg\n",
            "Saved frame: processed_frames/video_185/frame_3.jpg\n",
            "Saved frame: processed_frames/video_185/frame_4.jpg\n",
            "Saved frame: processed_frames/video_185/frame_5.jpg\n",
            "Saved frame: processed_frames/video_185/frame_6.jpg\n",
            "Saved frame: processed_frames/video_185/frame_7.jpg\n"
          ]
        },
        {
          "metadata": {
            "tags": null
          },
          "name": "stderr",
          "output_type": "stream",
          "text": [
            "\r 39%|███▉      | 186/477 [13:09<16:26,  3.39s/it]"
          ]
        },
        {
          "metadata": {
            "tags": null
          },
          "name": "stdout",
          "output_type": "stream",
          "text": [
            "Saved frame: processed_frames/video_185/frame_8.jpg\n",
            "Saved frame: processed_frames/video_185/frame_9.jpg\n",
            "Processing video: /content/drive/MyDrive/HACER/read_neutral_10_h.mp4, Total frames: 220\n",
            "Saved frame: processed_frames/video_186/frame_0.jpg\n",
            "Saved frame: processed_frames/video_186/frame_1.jpg\n",
            "Saved frame: processed_frames/video_186/frame_2.jpg\n",
            "Saved frame: processed_frames/video_186/frame_3.jpg\n",
            "Saved frame: processed_frames/video_186/frame_4.jpg\n",
            "Saved frame: processed_frames/video_186/frame_5.jpg\n",
            "Saved frame: processed_frames/video_186/frame_6.jpg\n",
            "Saved frame: processed_frames/video_186/frame_7.jpg\n",
            "Saved frame: processed_frames/video_186/frame_8.jpg\n"
          ]
        },
        {
          "metadata": {
            "tags": null
          },
          "name": "stderr",
          "output_type": "stream",
          "text": [
            "\r 39%|███▉      | 187/477 [13:13<18:11,  3.76s/it]"
          ]
        },
        {
          "metadata": {
            "tags": null
          },
          "name": "stdout",
          "output_type": "stream",
          "text": [
            "Saved frame: processed_frames/video_186/frame_9.jpg\n",
            "Processing video: /content/drive/MyDrive/HACER/read_neutral_11_a.mp4, Total frames: 157\n",
            "Saved frame: processed_frames/video_187/frame_0.jpg\n",
            "Saved frame: processed_frames/video_187/frame_1.jpg\n",
            "Saved frame: processed_frames/video_187/frame_2.jpg\n",
            "Saved frame: processed_frames/video_187/frame_3.jpg\n",
            "Saved frame: processed_frames/video_187/frame_4.jpg\n",
            "Saved frame: processed_frames/video_187/frame_5.jpg\n",
            "Saved frame: processed_frames/video_187/frame_6.jpg\n",
            "Saved frame: processed_frames/video_187/frame_7.jpg\n",
            "Saved frame: processed_frames/video_187/frame_8.jpg\n"
          ]
        },
        {
          "metadata": {
            "tags": null
          },
          "name": "stderr",
          "output_type": "stream",
          "text": [
            "\r 39%|███▉      | 188/477 [13:19<21:43,  4.51s/it]"
          ]
        },
        {
          "metadata": {
            "tags": null
          },
          "name": "stdout",
          "output_type": "stream",
          "text": [
            "Saved frame: processed_frames/video_187/frame_9.jpg\n",
            "Processing video: /content/drive/MyDrive/HACER/read_neutral_12_t.mp4, Total frames: 378\n",
            "Saved frame: processed_frames/video_188/frame_0.jpg\n",
            "Saved frame: processed_frames/video_188/frame_1.jpg\n",
            "Saved frame: processed_frames/video_188/frame_2.jpg\n",
            "Saved frame: processed_frames/video_188/frame_3.jpg\n",
            "Saved frame: processed_frames/video_188/frame_4.jpg\n",
            "Saved frame: processed_frames/video_188/frame_5.jpg\n",
            "Saved frame: processed_frames/video_188/frame_6.jpg\n",
            "Saved frame: processed_frames/video_188/frame_7.jpg\n",
            "Saved frame: processed_frames/video_188/frame_8.jpg\n"
          ]
        },
        {
          "metadata": {
            "tags": null
          },
          "name": "stderr",
          "output_type": "stream",
          "text": [
            "\r 40%|███▉      | 189/477 [13:23<20:30,  4.27s/it]"
          ]
        },
        {
          "metadata": {
            "tags": null
          },
          "name": "stdout",
          "output_type": "stream",
          "text": [
            "Saved frame: processed_frames/video_188/frame_9.jpg\n",
            "Processing video: /content/drive/MyDrive/HACER/read_neutral_13_k.mp4, Total frames: 262\n",
            "Saved frame: processed_frames/video_189/frame_0.jpg\n",
            "Saved frame: processed_frames/video_189/frame_1.jpg\n",
            "Saved frame: processed_frames/video_189/frame_2.jpg\n",
            "Saved frame: processed_frames/video_189/frame_3.jpg\n",
            "Saved frame: processed_frames/video_189/frame_4.jpg\n",
            "Saved frame: processed_frames/video_189/frame_5.jpg\n",
            "Saved frame: processed_frames/video_189/frame_6.jpg\n",
            "Saved frame: processed_frames/video_189/frame_7.jpg\n",
            "Saved frame: processed_frames/video_189/frame_8.jpg\n"
          ]
        },
        {
          "metadata": {
            "tags": null
          },
          "name": "stderr",
          "output_type": "stream",
          "text": [
            "\r 40%|███▉      | 190/477 [13:28<20:59,  4.39s/it]"
          ]
        },
        {
          "metadata": {
            "tags": null
          },
          "name": "stdout",
          "output_type": "stream",
          "text": [
            "Saved frame: processed_frames/video_189/frame_9.jpg\n",
            "Processing video: /content/drive/MyDrive/HACER/read_neutral_14_a.mp4, Total frames: 101\n",
            "Saved frame: processed_frames/video_190/frame_0.jpg\n",
            "Saved frame: processed_frames/video_190/frame_1.jpg\n",
            "Saved frame: processed_frames/video_190/frame_2.jpg\n",
            "Saved frame: processed_frames/video_190/frame_3.jpg\n",
            "Saved frame: processed_frames/video_190/frame_4.jpg\n",
            "Saved frame: processed_frames/video_190/frame_5.jpg\n",
            "Saved frame: processed_frames/video_190/frame_6.jpg\n",
            "Saved frame: processed_frames/video_190/frame_7.jpg\n",
            "Saved frame: processed_frames/video_190/frame_8.jpg\n"
          ]
        },
        {
          "metadata": {
            "tags": null
          },
          "name": "stderr",
          "output_type": "stream",
          "text": [
            "\r 40%|████      | 191/477 [13:33<21:31,  4.51s/it]"
          ]
        },
        {
          "metadata": {
            "tags": null
          },
          "name": "stdout",
          "output_type": "stream",
          "text": [
            "Saved frame: processed_frames/video_190/frame_9.jpg\n",
            "Processing video: /content/drive/MyDrive/HACER/read_neutral_15_a.mp4, Total frames: 101\n",
            "Saved frame: processed_frames/video_191/frame_0.jpg\n",
            "Saved frame: processed_frames/video_191/frame_1.jpg\n",
            "Saved frame: processed_frames/video_191/frame_2.jpg\n",
            "Saved frame: processed_frames/video_191/frame_3.jpg\n",
            "Saved frame: processed_frames/video_191/frame_4.jpg\n",
            "Saved frame: processed_frames/video_191/frame_5.jpg\n",
            "Saved frame: processed_frames/video_191/frame_6.jpg\n",
            "Saved frame: processed_frames/video_191/frame_7.jpg\n",
            "Saved frame: processed_frames/video_191/frame_8.jpg\n"
          ]
        },
        {
          "metadata": {
            "tags": null
          },
          "name": "stderr",
          "output_type": "stream",
          "text": [
            "\r 40%|████      | 192/477 [13:36<20:13,  4.26s/it]"
          ]
        },
        {
          "metadata": {
            "tags": null
          },
          "name": "stdout",
          "output_type": "stream",
          "text": [
            "Saved frame: processed_frames/video_191/frame_9.jpg\n",
            "Processing video: /content/drive/MyDrive/HACER/read_neutral_16_k.mp4, Total frames: 134\n",
            "Saved frame: processed_frames/video_192/frame_0.jpg\n",
            "Saved frame: processed_frames/video_192/frame_1.jpg\n",
            "Saved frame: processed_frames/video_192/frame_2.jpg\n",
            "Saved frame: processed_frames/video_192/frame_3.jpg\n",
            "Saved frame: processed_frames/video_192/frame_4.jpg\n",
            "Saved frame: processed_frames/video_192/frame_5.jpg\n",
            "Saved frame: processed_frames/video_192/frame_6.jpg\n",
            "Saved frame: processed_frames/video_192/frame_7.jpg\n",
            "Saved frame: processed_frames/video_192/frame_8.jpg\n"
          ]
        },
        {
          "metadata": {
            "tags": null
          },
          "name": "stderr",
          "output_type": "stream",
          "text": [
            "\r 40%|████      | 193/477 [13:40<19:36,  4.14s/it]"
          ]
        },
        {
          "metadata": {
            "tags": null
          },
          "name": "stdout",
          "output_type": "stream",
          "text": [
            "Saved frame: processed_frames/video_192/frame_9.jpg\n",
            "Processing video: /content/drive/MyDrive/HACER/read_neutral_17_t.mp4, Total frames: 142\n",
            "Saved frame: processed_frames/video_193/frame_0.jpg\n",
            "Saved frame: processed_frames/video_193/frame_1.jpg\n",
            "Saved frame: processed_frames/video_193/frame_2.jpg\n",
            "Saved frame: processed_frames/video_193/frame_3.jpg\n",
            "Saved frame: processed_frames/video_193/frame_4.jpg\n",
            "Saved frame: processed_frames/video_193/frame_5.jpg\n",
            "Saved frame: processed_frames/video_193/frame_6.jpg\n",
            "Saved frame: processed_frames/video_193/frame_7.jpg\n",
            "Saved frame: processed_frames/video_193/frame_8.jpg\n"
          ]
        },
        {
          "metadata": {
            "tags": null
          },
          "name": "stderr",
          "output_type": "stream",
          "text": [
            "\r 41%|████      | 194/477 [13:46<21:28,  4.55s/it]"
          ]
        },
        {
          "metadata": {
            "tags": null
          },
          "name": "stdout",
          "output_type": "stream",
          "text": [
            "Saved frame: processed_frames/video_193/frame_9.jpg\n",
            "Processing video: /content/drive/MyDrive/HACER/read_neutral_1_w.mp4, Total frames: 115\n",
            "Saved frame: processed_frames/video_194/frame_0.jpg\n",
            "Saved frame: processed_frames/video_194/frame_1.jpg\n",
            "Saved frame: processed_frames/video_194/frame_2.jpg\n",
            "Saved frame: processed_frames/video_194/frame_3.jpg\n",
            "Saved frame: processed_frames/video_194/frame_4.jpg\n",
            "Saved frame: processed_frames/video_194/frame_5.jpg\n",
            "Saved frame: processed_frames/video_194/frame_6.jpg\n",
            "Saved frame: processed_frames/video_194/frame_7.jpg\n",
            "Saved frame: processed_frames/video_194/frame_8.jpg\n"
          ]
        },
        {
          "metadata": {
            "tags": null
          },
          "name": "stderr",
          "output_type": "stream",
          "text": [
            "\r 41%|████      | 195/477 [13:48<18:49,  4.01s/it]"
          ]
        },
        {
          "metadata": {
            "tags": null
          },
          "name": "stdout",
          "output_type": "stream",
          "text": [
            "Saved frame: processed_frames/video_194/frame_9.jpg\n",
            "Processing video: /content/drive/MyDrive/HACER/read_neutral_2_l.mp4, Total frames: 116\n",
            "Saved frame: processed_frames/video_195/frame_0.jpg\n",
            "Saved frame: processed_frames/video_195/frame_1.jpg\n",
            "Saved frame: processed_frames/video_195/frame_2.jpg\n",
            "Saved frame: processed_frames/video_195/frame_3.jpg\n",
            "Saved frame: processed_frames/video_195/frame_4.jpg\n",
            "Saved frame: processed_frames/video_195/frame_5.jpg\n",
            "Saved frame: processed_frames/video_195/frame_6.jpg\n",
            "Saved frame: processed_frames/video_195/frame_7.jpg\n",
            "Saved frame: processed_frames/video_195/frame_8.jpg\n"
          ]
        },
        {
          "metadata": {
            "tags": null
          },
          "name": "stderr",
          "output_type": "stream",
          "text": [
            "\r 41%|████      | 196/477 [13:51<17:30,  3.74s/it]"
          ]
        },
        {
          "metadata": {
            "tags": null
          },
          "name": "stdout",
          "output_type": "stream",
          "text": [
            "Saved frame: processed_frames/video_195/frame_9.jpg\n",
            "Processing video: /content/drive/MyDrive/HACER/read_neutral_3_l.mp4, Total frames: 103\n",
            "Saved frame: processed_frames/video_196/frame_0.jpg\n",
            "Saved frame: processed_frames/video_196/frame_1.jpg\n",
            "Saved frame: processed_frames/video_196/frame_2.jpg\n",
            "Saved frame: processed_frames/video_196/frame_3.jpg\n",
            "Saved frame: processed_frames/video_196/frame_4.jpg\n",
            "Saved frame: processed_frames/video_196/frame_5.jpg\n",
            "Saved frame: processed_frames/video_196/frame_6.jpg\n",
            "Saved frame: processed_frames/video_196/frame_7.jpg\n",
            "Saved frame: processed_frames/video_196/frame_8.jpg\n"
          ]
        },
        {
          "metadata": {
            "tags": null
          },
          "name": "stderr",
          "output_type": "stream",
          "text": [
            "\r 41%|████▏     | 197/477 [13:54<16:01,  3.43s/it]"
          ]
        },
        {
          "metadata": {
            "tags": null
          },
          "name": "stdout",
          "output_type": "stream",
          "text": [
            "Saved frame: processed_frames/video_196/frame_9.jpg\n",
            "Processing video: /content/drive/MyDrive/HACER/read_neutral_4_w.mp4, Total frames: 90\n",
            "Saved frame: processed_frames/video_197/frame_0.jpg\n",
            "Saved frame: processed_frames/video_197/frame_1.jpg\n",
            "Saved frame: processed_frames/video_197/frame_2.jpg\n",
            "Saved frame: processed_frames/video_197/frame_3.jpg\n",
            "Saved frame: processed_frames/video_197/frame_4.jpg\n",
            "Saved frame: processed_frames/video_197/frame_5.jpg\n",
            "Saved frame: processed_frames/video_197/frame_6.jpg\n",
            "Saved frame: processed_frames/video_197/frame_7.jpg\n",
            "Saved frame: processed_frames/video_197/frame_8.jpg\n"
          ]
        },
        {
          "metadata": {
            "tags": null
          },
          "name": "stderr",
          "output_type": "stream",
          "text": [
            "\r 42%|████▏     | 198/477 [13:57<15:02,  3.23s/it]"
          ]
        },
        {
          "metadata": {
            "tags": null
          },
          "name": "stdout",
          "output_type": "stream",
          "text": [
            "Saved frame: processed_frames/video_197/frame_9.jpg\n",
            "Processing video: /content/drive/MyDrive/HACER/read_neutral_5_w.mp4, Total frames: 87\n",
            "Saved frame: processed_frames/video_198/frame_0.jpg\n",
            "Saved frame: processed_frames/video_198/frame_1.jpg\n",
            "Saved frame: processed_frames/video_198/frame_2.jpg\n",
            "Saved frame: processed_frames/video_198/frame_3.jpg\n",
            "Saved frame: processed_frames/video_198/frame_4.jpg\n",
            "Saved frame: processed_frames/video_198/frame_5.jpg\n",
            "Saved frame: processed_frames/video_198/frame_6.jpg\n",
            "Saved frame: processed_frames/video_198/frame_7.jpg\n",
            "Saved frame: processed_frames/video_198/frame_8.jpg\n"
          ]
        },
        {
          "metadata": {
            "tags": null
          },
          "name": "stderr",
          "output_type": "stream",
          "text": [
            "\r 42%|████▏     | 199/477 [14:00<15:00,  3.24s/it]"
          ]
        },
        {
          "metadata": {
            "tags": null
          },
          "name": "stdout",
          "output_type": "stream",
          "text": [
            "Saved frame: processed_frames/video_198/frame_9.jpg\n",
            "Processing video: /content/drive/MyDrive/HACER/read_neutral_6_l.mp4, Total frames: 72\n",
            "Saved frame: processed_frames/video_199/frame_0.jpg\n",
            "Saved frame: processed_frames/video_199/frame_1.jpg\n",
            "Saved frame: processed_frames/video_199/frame_2.jpg\n",
            "Saved frame: processed_frames/video_199/frame_3.jpg\n",
            "Saved frame: processed_frames/video_199/frame_4.jpg\n",
            "Saved frame: processed_frames/video_199/frame_5.jpg\n",
            "Saved frame: processed_frames/video_199/frame_6.jpg\n",
            "Saved frame: processed_frames/video_199/frame_7.jpg\n",
            "Saved frame: processed_frames/video_199/frame_8.jpg\n"
          ]
        },
        {
          "metadata": {
            "tags": null
          },
          "name": "stderr",
          "output_type": "stream",
          "text": [
            "\r 42%|████▏     | 200/477 [14:02<13:02,  2.83s/it]"
          ]
        },
        {
          "metadata": {
            "tags": null
          },
          "name": "stdout",
          "output_type": "stream",
          "text": [
            "Saved frame: processed_frames/video_199/frame_9.jpg\n",
            "Processing video: /content/drive/MyDrive/HACER/read_neutral_7_l.mp4, Total frames: 72\n",
            "Saved frame: processed_frames/video_200/frame_0.jpg\n",
            "Saved frame: processed_frames/video_200/frame_1.jpg\n",
            "Saved frame: processed_frames/video_200/frame_2.jpg\n",
            "Saved frame: processed_frames/video_200/frame_3.jpg\n",
            "Saved frame: processed_frames/video_200/frame_4.jpg\n",
            "Saved frame: processed_frames/video_200/frame_5.jpg\n",
            "Saved frame: processed_frames/video_200/frame_6.jpg\n",
            "Saved frame: processed_frames/video_200/frame_7.jpg\n",
            "Saved frame: processed_frames/video_200/frame_8.jpg\n"
          ]
        },
        {
          "metadata": {
            "tags": null
          },
          "name": "stderr",
          "output_type": "stream",
          "text": [
            "\r 42%|████▏     | 201/477 [14:04<11:35,  2.52s/it]"
          ]
        },
        {
          "metadata": {
            "tags": null
          },
          "name": "stdout",
          "output_type": "stream",
          "text": [
            "Saved frame: processed_frames/video_200/frame_9.jpg\n",
            "Processing video: /content/drive/MyDrive/HACER/read_neutral_8_h.mp4, Total frames: 305\n",
            "Saved frame: processed_frames/video_201/frame_0.jpg\n",
            "Saved frame: processed_frames/video_201/frame_1.jpg\n",
            "Saved frame: processed_frames/video_201/frame_2.jpg\n",
            "Saved frame: processed_frames/video_201/frame_3.jpg\n",
            "Saved frame: processed_frames/video_201/frame_4.jpg\n",
            "Saved frame: processed_frames/video_201/frame_5.jpg\n",
            "Saved frame: processed_frames/video_201/frame_6.jpg\n",
            "Saved frame: processed_frames/video_201/frame_7.jpg\n",
            "Saved frame: processed_frames/video_201/frame_8.jpg\n"
          ]
        },
        {
          "metadata": {
            "tags": null
          },
          "name": "stderr",
          "output_type": "stream",
          "text": [
            "\r 42%|████▏     | 202/477 [14:08<13:32,  2.95s/it]"
          ]
        },
        {
          "metadata": {
            "tags": null
          },
          "name": "stdout",
          "output_type": "stream",
          "text": [
            "Saved frame: processed_frames/video_201/frame_9.jpg\n",
            "Processing video: /content/drive/MyDrive/HACER/read_neutral_9_h.mp4, Total frames: 271\n",
            "Saved frame: processed_frames/video_202/frame_0.jpg\n",
            "Saved frame: processed_frames/video_202/frame_1.jpg\n",
            "Saved frame: processed_frames/video_202/frame_2.jpg\n",
            "Saved frame: processed_frames/video_202/frame_3.jpg\n",
            "Saved frame: processed_frames/video_202/frame_4.jpg\n",
            "Saved frame: processed_frames/video_202/frame_5.jpg\n",
            "Saved frame: processed_frames/video_202/frame_6.jpg\n",
            "Saved frame: processed_frames/video_202/frame_7.jpg\n",
            "Saved frame: processed_frames/video_202/frame_8.jpg\n"
          ]
        },
        {
          "metadata": {
            "tags": null
          },
          "name": "stderr",
          "output_type": "stream",
          "text": [
            "\r 43%|████▎     | 203/477 [14:13<16:29,  3.61s/it]"
          ]
        },
        {
          "metadata": {
            "tags": null
          },
          "name": "stdout",
          "output_type": "stream",
          "text": [
            "Saved frame: processed_frames/video_202/frame_9.jpg\n",
            "Processing video: /content/drive/MyDrive/HACER/read_sad_1_w.mp4, Total frames: 187\n",
            "Saved frame: processed_frames/video_203/frame_0.jpg\n",
            "Saved frame: processed_frames/video_203/frame_1.jpg\n",
            "Saved frame: processed_frames/video_203/frame_2.jpg\n",
            "Saved frame: processed_frames/video_203/frame_3.jpg\n",
            "Saved frame: processed_frames/video_203/frame_4.jpg\n",
            "Saved frame: processed_frames/video_203/frame_5.jpg\n",
            "Saved frame: processed_frames/video_203/frame_6.jpg\n",
            "Saved frame: processed_frames/video_203/frame_7.jpg\n",
            "Saved frame: processed_frames/video_203/frame_8.jpg\n"
          ]
        },
        {
          "metadata": {
            "tags": null
          },
          "name": "stderr",
          "output_type": "stream",
          "text": [
            "\r 43%|████▎     | 204/477 [14:17<16:59,  3.74s/it]"
          ]
        },
        {
          "metadata": {
            "tags": null
          },
          "name": "stdout",
          "output_type": "stream",
          "text": [
            "Saved frame: processed_frames/video_203/frame_9.jpg\n",
            "Processing video: /content/drive/MyDrive/HACER/read_sad_2_w.mp4, Total frames: 135\n",
            "Saved frame: processed_frames/video_204/frame_0.jpg\n",
            "Saved frame: processed_frames/video_204/frame_1.jpg\n",
            "Saved frame: processed_frames/video_204/frame_2.jpg\n",
            "Saved frame: processed_frames/video_204/frame_3.jpg\n",
            "Saved frame: processed_frames/video_204/frame_4.jpg\n",
            "Saved frame: processed_frames/video_204/frame_5.jpg\n",
            "Saved frame: processed_frames/video_204/frame_6.jpg\n",
            "Saved frame: processed_frames/video_204/frame_7.jpg\n",
            "Saved frame: processed_frames/video_204/frame_8.jpg\n"
          ]
        },
        {
          "metadata": {
            "tags": null
          },
          "name": "stderr",
          "output_type": "stream",
          "text": [
            "\r 43%|████▎     | 205/477 [14:20<15:38,  3.45s/it]"
          ]
        },
        {
          "metadata": {
            "tags": null
          },
          "name": "stdout",
          "output_type": "stream",
          "text": [
            "Saved frame: processed_frames/video_204/frame_9.jpg\n",
            "Processing video: /content/drive/MyDrive/HACER/read_sad_3_w.mp4, Total frames: 91\n",
            "Saved frame: processed_frames/video_205/frame_0.jpg\n",
            "Saved frame: processed_frames/video_205/frame_1.jpg\n",
            "Saved frame: processed_frames/video_205/frame_2.jpg\n",
            "Saved frame: processed_frames/video_205/frame_3.jpg\n",
            "Saved frame: processed_frames/video_205/frame_4.jpg\n",
            "Saved frame: processed_frames/video_205/frame_5.jpg\n",
            "Saved frame: processed_frames/video_205/frame_6.jpg\n",
            "Saved frame: processed_frames/video_205/frame_7.jpg\n",
            "Saved frame: processed_frames/video_205/frame_8.jpg\n"
          ]
        },
        {
          "metadata": {
            "tags": null
          },
          "name": "stderr",
          "output_type": "stream",
          "text": [
            "\r 43%|████▎     | 206/477 [14:22<13:42,  3.04s/it]"
          ]
        },
        {
          "metadata": {
            "tags": null
          },
          "name": "stdout",
          "output_type": "stream",
          "text": [
            "Saved frame: processed_frames/video_205/frame_9.jpg\n",
            "Processing video: /content/drive/MyDrive/HACER/read_sad_4_h.mp4, Total frames: 350\n",
            "Saved frame: processed_frames/video_206/frame_0.jpg\n",
            "Saved frame: processed_frames/video_206/frame_1.jpg\n",
            "Saved frame: processed_frames/video_206/frame_2.jpg\n",
            "Saved frame: processed_frames/video_206/frame_3.jpg\n",
            "Saved frame: processed_frames/video_206/frame_4.jpg\n",
            "Saved frame: processed_frames/video_206/frame_5.jpg\n",
            "Saved frame: processed_frames/video_206/frame_6.jpg\n",
            "Saved frame: processed_frames/video_206/frame_7.jpg\n",
            "Saved frame: processed_frames/video_206/frame_8.jpg\n"
          ]
        },
        {
          "metadata": {
            "tags": null
          },
          "name": "stderr",
          "output_type": "stream",
          "text": [
            "\r 43%|████▎     | 207/477 [14:26<15:07,  3.36s/it]"
          ]
        },
        {
          "metadata": {
            "tags": null
          },
          "name": "stdout",
          "output_type": "stream",
          "text": [
            "Saved frame: processed_frames/video_206/frame_9.jpg\n",
            "Processing video: /content/drive/MyDrive/HACER/read_sad_5_h.mp4, Total frames: 300\n",
            "Saved frame: processed_frames/video_207/frame_0.jpg\n",
            "Saved frame: processed_frames/video_207/frame_1.jpg\n",
            "Saved frame: processed_frames/video_207/frame_2.jpg\n",
            "Saved frame: processed_frames/video_207/frame_3.jpg\n",
            "Saved frame: processed_frames/video_207/frame_4.jpg\n",
            "Saved frame: processed_frames/video_207/frame_5.jpg\n",
            "Saved frame: processed_frames/video_207/frame_6.jpg\n",
            "Saved frame: processed_frames/video_207/frame_7.jpg\n",
            "Saved frame: processed_frames/video_207/frame_8.jpg\n"
          ]
        },
        {
          "metadata": {
            "tags": null
          },
          "name": "stderr",
          "output_type": "stream",
          "text": [
            "\r 44%|████▎     | 208/477 [14:32<18:17,  4.08s/it]"
          ]
        },
        {
          "metadata": {
            "tags": null
          },
          "name": "stdout",
          "output_type": "stream",
          "text": [
            "Saved frame: processed_frames/video_207/frame_9.jpg\n",
            "Processing video: /content/drive/MyDrive/HACER/sitdown_angry_10_m.mp4, Total frames: 164\n",
            "Saved frame: processed_frames/video_208/frame_0.jpg\n",
            "Saved frame: processed_frames/video_208/frame_1.jpg\n",
            "Saved frame: processed_frames/video_208/frame_2.jpg\n",
            "Saved frame: processed_frames/video_208/frame_3.jpg\n",
            "Saved frame: processed_frames/video_208/frame_4.jpg\n",
            "Saved frame: processed_frames/video_208/frame_5.jpg\n",
            "Saved frame: processed_frames/video_208/frame_6.jpg\n",
            "Saved frame: processed_frames/video_208/frame_7.jpg\n"
          ]
        },
        {
          "metadata": {
            "tags": null
          },
          "name": "stderr",
          "output_type": "stream",
          "text": [
            "\r 44%|████▍     | 209/477 [14:35<16:48,  3.76s/it]"
          ]
        },
        {
          "metadata": {
            "tags": null
          },
          "name": "stdout",
          "output_type": "stream",
          "text": [
            "Saved frame: processed_frames/video_208/frame_8.jpg\n",
            "Saved frame: processed_frames/video_208/frame_9.jpg\n",
            "Processing video: /content/drive/MyDrive/HACER/sitdown_angry_11_w.mp4, Total frames: 147\n",
            "Saved frame: processed_frames/video_209/frame_0.jpg\n",
            "Saved frame: processed_frames/video_209/frame_1.jpg\n",
            "Saved frame: processed_frames/video_209/frame_2.jpg\n",
            "Saved frame: processed_frames/video_209/frame_3.jpg\n",
            "Saved frame: processed_frames/video_209/frame_4.jpg\n",
            "Saved frame: processed_frames/video_209/frame_5.jpg\n",
            "Saved frame: processed_frames/video_209/frame_6.jpg\n",
            "Saved frame: processed_frames/video_209/frame_7.jpg\n",
            "Saved frame: processed_frames/video_209/frame_8.jpg\n"
          ]
        },
        {
          "metadata": {
            "tags": null
          },
          "name": "stderr",
          "output_type": "stream",
          "text": [
            "\r 44%|████▍     | 210/477 [14:38<16:08,  3.63s/it]"
          ]
        },
        {
          "metadata": {
            "tags": null
          },
          "name": "stdout",
          "output_type": "stream",
          "text": [
            "Saved frame: processed_frames/video_209/frame_9.jpg\n",
            "Processing video: /content/drive/MyDrive/HACER/sitdown_angry_12_h.mp4, Total frames: 156\n",
            "Saved frame: processed_frames/video_210/frame_0.jpg\n",
            "Saved frame: processed_frames/video_210/frame_1.jpg\n",
            "Saved frame: processed_frames/video_210/frame_2.jpg\n",
            "Saved frame: processed_frames/video_210/frame_3.jpg\n",
            "Saved frame: processed_frames/video_210/frame_4.jpg\n",
            "Saved frame: processed_frames/video_210/frame_5.jpg\n",
            "Saved frame: processed_frames/video_210/frame_6.jpg\n",
            "Saved frame: processed_frames/video_210/frame_7.jpg\n",
            "Saved frame: processed_frames/video_210/frame_8.jpg\n"
          ]
        },
        {
          "metadata": {
            "tags": null
          },
          "name": "stderr",
          "output_type": "stream",
          "text": [
            "\r 44%|████▍     | 211/477 [14:42<16:34,  3.74s/it]"
          ]
        },
        {
          "metadata": {
            "tags": null
          },
          "name": "stdout",
          "output_type": "stream",
          "text": [
            "Saved frame: processed_frames/video_210/frame_9.jpg\n",
            "Processing video: /content/drive/MyDrive/HACER/sitdown_angry_1_h.mp4, Total frames: 122\n",
            "Saved frame: processed_frames/video_211/frame_0.jpg\n",
            "Saved frame: processed_frames/video_211/frame_1.jpg\n",
            "Saved frame: processed_frames/video_211/frame_2.jpg\n",
            "Saved frame: processed_frames/video_211/frame_3.jpg\n",
            "Saved frame: processed_frames/video_211/frame_4.jpg\n",
            "Saved frame: processed_frames/video_211/frame_5.jpg\n",
            "Saved frame: processed_frames/video_211/frame_6.jpg\n",
            "Saved frame: processed_frames/video_211/frame_7.jpg\n",
            "Saved frame: processed_frames/video_211/frame_8.jpg\n"
          ]
        },
        {
          "metadata": {
            "tags": null
          },
          "name": "stderr",
          "output_type": "stream",
          "text": [
            "\r 44%|████▍     | 212/477 [14:47<17:44,  4.02s/it]"
          ]
        },
        {
          "metadata": {
            "tags": null
          },
          "name": "stdout",
          "output_type": "stream",
          "text": [
            "Saved frame: processed_frames/video_211/frame_9.jpg\n",
            "Processing video: /content/drive/MyDrive/HACER/sitdown_angry_2_w.mp4, Total frames: 190\n",
            "Saved frame: processed_frames/video_212/frame_0.jpg\n",
            "Saved frame: processed_frames/video_212/frame_1.jpg\n",
            "Saved frame: processed_frames/video_212/frame_2.jpg\n",
            "Saved frame: processed_frames/video_212/frame_3.jpg\n",
            "Saved frame: processed_frames/video_212/frame_4.jpg\n",
            "Saved frame: processed_frames/video_212/frame_5.jpg\n",
            "Saved frame: processed_frames/video_212/frame_6.jpg\n",
            "Saved frame: processed_frames/video_212/frame_7.jpg\n",
            "Saved frame: processed_frames/video_212/frame_8.jpg\n"
          ]
        },
        {
          "metadata": {
            "tags": null
          },
          "name": "stderr",
          "output_type": "stream",
          "text": [
            "\r 45%|████▍     | 213/477 [14:50<16:55,  3.85s/it]"
          ]
        },
        {
          "metadata": {
            "tags": null
          },
          "name": "stdout",
          "output_type": "stream",
          "text": [
            "Saved frame: processed_frames/video_212/frame_9.jpg\n",
            "Processing video: /content/drive/MyDrive/HACER/sitdown_angry_3_j.mp4, Total frames: 152\n",
            "Saved frame: processed_frames/video_213/frame_0.jpg\n",
            "Saved frame: processed_frames/video_213/frame_1.jpg\n",
            "Saved frame: processed_frames/video_213/frame_2.jpg\n",
            "Saved frame: processed_frames/video_213/frame_3.jpg\n",
            "Saved frame: processed_frames/video_213/frame_4.jpg\n",
            "Saved frame: processed_frames/video_213/frame_5.jpg\n",
            "Saved frame: processed_frames/video_213/frame_6.jpg\n",
            "Saved frame: processed_frames/video_213/frame_7.jpg\n",
            "Saved frame: processed_frames/video_213/frame_8.jpg\n"
          ]
        },
        {
          "metadata": {
            "tags": null
          },
          "name": "stderr",
          "output_type": "stream",
          "text": [
            "\r 45%|████▍     | 214/477 [14:54<16:40,  3.80s/it]"
          ]
        },
        {
          "metadata": {
            "tags": null
          },
          "name": "stdout",
          "output_type": "stream",
          "text": [
            "Saved frame: processed_frames/video_213/frame_9.jpg\n",
            "Processing video: /content/drive/MyDrive/HACER/sitdown_angry_4_j.mp4, Total frames: 150\n",
            "Saved frame: processed_frames/video_214/frame_0.jpg\n",
            "Saved frame: processed_frames/video_214/frame_1.jpg\n",
            "Saved frame: processed_frames/video_214/frame_2.jpg\n",
            "Saved frame: processed_frames/video_214/frame_3.jpg\n",
            "Saved frame: processed_frames/video_214/frame_4.jpg\n",
            "Saved frame: processed_frames/video_214/frame_5.jpg\n",
            "Saved frame: processed_frames/video_214/frame_6.jpg\n",
            "Saved frame: processed_frames/video_214/frame_7.jpg\n",
            "Saved frame: processed_frames/video_214/frame_8.jpg\n"
          ]
        },
        {
          "metadata": {
            "tags": null
          },
          "name": "stderr",
          "output_type": "stream",
          "text": [
            "\r 45%|████▌     | 215/477 [14:59<18:19,  4.20s/it]"
          ]
        },
        {
          "metadata": {
            "tags": null
          },
          "name": "stdout",
          "output_type": "stream",
          "text": [
            "Saved frame: processed_frames/video_214/frame_9.jpg\n",
            "Processing video: /content/drive/MyDrive/HACER/sitdown_angry_5_j.mp4, Total frames: 121\n",
            "Saved frame: processed_frames/video_215/frame_0.jpg\n",
            "Saved frame: processed_frames/video_215/frame_1.jpg\n",
            "Saved frame: processed_frames/video_215/frame_2.jpg\n",
            "Saved frame: processed_frames/video_215/frame_3.jpg\n",
            "Saved frame: processed_frames/video_215/frame_4.jpg\n",
            "Saved frame: processed_frames/video_215/frame_5.jpg\n",
            "Saved frame: processed_frames/video_215/frame_6.jpg\n",
            "Saved frame: processed_frames/video_215/frame_7.jpg\n",
            "Saved frame: processed_frames/video_215/frame_8.jpg\n"
          ]
        },
        {
          "metadata": {
            "tags": null
          },
          "name": "stderr",
          "output_type": "stream",
          "text": [
            "\r 45%|████▌     | 216/477 [15:03<17:57,  4.13s/it]"
          ]
        },
        {
          "metadata": {
            "tags": null
          },
          "name": "stdout",
          "output_type": "stream",
          "text": [
            "Saved frame: processed_frames/video_215/frame_9.jpg\n",
            "Processing video: /content/drive/MyDrive/HACER/sitdown_angry_6_m.mp4, Total frames: 194\n",
            "Saved frame: processed_frames/video_216/frame_0.jpg\n",
            "Saved frame: processed_frames/video_216/frame_1.jpg\n",
            "Saved frame: processed_frames/video_216/frame_2.jpg\n",
            "Saved frame: processed_frames/video_216/frame_3.jpg\n",
            "Saved frame: processed_frames/video_216/frame_4.jpg\n",
            "Saved frame: processed_frames/video_216/frame_5.jpg\n",
            "Saved frame: processed_frames/video_216/frame_6.jpg\n",
            "Saved frame: processed_frames/video_216/frame_7.jpg\n",
            "Saved frame: processed_frames/video_216/frame_8.jpg\n"
          ]
        },
        {
          "metadata": {
            "tags": null
          },
          "name": "stderr",
          "output_type": "stream",
          "text": [
            "\r 45%|████▌     | 217/477 [15:06<17:02,  3.93s/it]"
          ]
        },
        {
          "metadata": {
            "tags": null
          },
          "name": "stdout",
          "output_type": "stream",
          "text": [
            "Saved frame: processed_frames/video_216/frame_9.jpg\n",
            "Processing video: /content/drive/MyDrive/HACER/sitdown_angry_7_h.mp4, Total frames: 110\n",
            "Saved frame: processed_frames/video_217/frame_0.jpg\n",
            "Saved frame: processed_frames/video_217/frame_1.jpg\n",
            "Saved frame: processed_frames/video_217/frame_2.jpg\n",
            "Saved frame: processed_frames/video_217/frame_3.jpg\n",
            "Saved frame: processed_frames/video_217/frame_4.jpg\n",
            "Saved frame: processed_frames/video_217/frame_5.jpg\n",
            "Saved frame: processed_frames/video_217/frame_6.jpg\n",
            "Saved frame: processed_frames/video_217/frame_7.jpg\n",
            "Saved frame: processed_frames/video_217/frame_8.jpg\n"
          ]
        },
        {
          "metadata": {
            "tags": null
          },
          "name": "stderr",
          "output_type": "stream",
          "text": [
            "\r 46%|████▌     | 218/477 [15:09<15:25,  3.57s/it]"
          ]
        },
        {
          "metadata": {
            "tags": null
          },
          "name": "stdout",
          "output_type": "stream",
          "text": [
            "Saved frame: processed_frames/video_217/frame_9.jpg\n",
            "Processing video: /content/drive/MyDrive/HACER/sitdown_angry_8_h.mp4, Total frames: 69\n",
            "Saved frame: processed_frames/video_218/frame_0.jpg\n",
            "Saved frame: processed_frames/video_218/frame_1.jpg\n",
            "Saved frame: processed_frames/video_218/frame_2.jpg\n",
            "Saved frame: processed_frames/video_218/frame_3.jpg\n",
            "Saved frame: processed_frames/video_218/frame_4.jpg\n",
            "Saved frame: processed_frames/video_218/frame_5.jpg\n",
            "Saved frame: processed_frames/video_218/frame_6.jpg\n",
            "Saved frame: processed_frames/video_218/frame_7.jpg\n",
            "Saved frame: processed_frames/video_218/frame_8.jpg\n"
          ]
        },
        {
          "metadata": {
            "tags": null
          },
          "name": "stderr",
          "output_type": "stream",
          "text": [
            "\r 46%|████▌     | 219/477 [15:11<12:55,  3.01s/it]"
          ]
        },
        {
          "metadata": {
            "tags": null
          },
          "name": "stdout",
          "output_type": "stream",
          "text": [
            "Saved frame: processed_frames/video_218/frame_9.jpg\n",
            "Processing video: /content/drive/MyDrive/HACER/sitdown_angry_9_l.mp4, Total frames: 161\n",
            "Saved frame: processed_frames/video_219/frame_0.jpg\n",
            "Saved frame: processed_frames/video_219/frame_1.jpg\n",
            "Saved frame: processed_frames/video_219/frame_2.jpg\n",
            "Saved frame: processed_frames/video_219/frame_3.jpg\n",
            "Saved frame: processed_frames/video_219/frame_4.jpg\n",
            "Saved frame: processed_frames/video_219/frame_5.jpg\n",
            "Saved frame: processed_frames/video_219/frame_6.jpg\n",
            "Saved frame: processed_frames/video_219/frame_7.jpg\n"
          ]
        },
        {
          "metadata": {
            "tags": null
          },
          "name": "stderr",
          "output_type": "stream",
          "text": [
            "\r 46%|████▌     | 220/477 [15:17<16:31,  3.86s/it]"
          ]
        },
        {
          "metadata": {
            "tags": null
          },
          "name": "stdout",
          "output_type": "stream",
          "text": [
            "Saved frame: processed_frames/video_219/frame_8.jpg\n",
            "Saved frame: processed_frames/video_219/frame_9.jpg\n",
            "Processing video: /content/drive/MyDrive/HACER/sitdown_happy_10_l.mp4, Total frames: 117\n",
            "Saved frame: processed_frames/video_220/frame_0.jpg\n",
            "Saved frame: processed_frames/video_220/frame_1.jpg\n",
            "Saved frame: processed_frames/video_220/frame_2.jpg\n",
            "Saved frame: processed_frames/video_220/frame_3.jpg\n",
            "Saved frame: processed_frames/video_220/frame_4.jpg\n",
            "Saved frame: processed_frames/video_220/frame_5.jpg\n",
            "Saved frame: processed_frames/video_220/frame_6.jpg\n",
            "Saved frame: processed_frames/video_220/frame_7.jpg\n",
            "Saved frame: processed_frames/video_220/frame_8.jpg\n"
          ]
        },
        {
          "metadata": {
            "tags": null
          },
          "name": "stderr",
          "output_type": "stream",
          "text": [
            "\r 46%|████▋     | 221/477 [15:20<15:30,  3.64s/it]"
          ]
        },
        {
          "metadata": {
            "tags": null
          },
          "name": "stdout",
          "output_type": "stream",
          "text": [
            "Saved frame: processed_frames/video_220/frame_9.jpg\n",
            "Processing video: /content/drive/MyDrive/HACER/sitdown_happy_11_w.mp4, Total frames: 104\n",
            "Saved frame: processed_frames/video_221/frame_0.jpg\n",
            "Saved frame: processed_frames/video_221/frame_1.jpg\n",
            "Saved frame: processed_frames/video_221/frame_2.jpg\n",
            "Saved frame: processed_frames/video_221/frame_3.jpg\n",
            "Saved frame: processed_frames/video_221/frame_4.jpg\n",
            "Saved frame: processed_frames/video_221/frame_5.jpg\n",
            "Saved frame: processed_frames/video_221/frame_6.jpg\n",
            "Saved frame: processed_frames/video_221/frame_7.jpg\n",
            "Saved frame: processed_frames/video_221/frame_8.jpg\n"
          ]
        },
        {
          "metadata": {
            "tags": null
          },
          "name": "stderr",
          "output_type": "stream",
          "text": [
            "\r 47%|████▋     | 222/477 [15:22<13:54,  3.27s/it]"
          ]
        },
        {
          "metadata": {
            "tags": null
          },
          "name": "stdout",
          "output_type": "stream",
          "text": [
            "Saved frame: processed_frames/video_221/frame_9.jpg\n",
            "Processing video: /content/drive/MyDrive/HACER/sitdown_happy_12_y.mp4, Total frames: 114\n",
            "Saved frame: processed_frames/video_222/frame_0.jpg\n",
            "Saved frame: processed_frames/video_222/frame_1.jpg\n",
            "Saved frame: processed_frames/video_222/frame_2.jpg\n",
            "Saved frame: processed_frames/video_222/frame_3.jpg\n",
            "Saved frame: processed_frames/video_222/frame_4.jpg\n",
            "Saved frame: processed_frames/video_222/frame_5.jpg\n",
            "Saved frame: processed_frames/video_222/frame_6.jpg\n",
            "Saved frame: processed_frames/video_222/frame_7.jpg\n",
            "Saved frame: processed_frames/video_222/frame_8.jpg\n"
          ]
        },
        {
          "metadata": {
            "tags": null
          },
          "name": "stderr",
          "output_type": "stream",
          "text": [
            "\r 47%|████▋     | 223/477 [15:25<12:52,  3.04s/it]"
          ]
        },
        {
          "metadata": {
            "tags": null
          },
          "name": "stdout",
          "output_type": "stream",
          "text": [
            "Saved frame: processed_frames/video_222/frame_9.jpg\n",
            "Processing video: /content/drive/MyDrive/HACER/sitdown_happy_13_j.mp4, Total frames: 93\n",
            "Saved frame: processed_frames/video_223/frame_0.jpg\n",
            "Saved frame: processed_frames/video_223/frame_1.jpg\n",
            "Saved frame: processed_frames/video_223/frame_2.jpg\n",
            "Saved frame: processed_frames/video_223/frame_3.jpg\n",
            "Saved frame: processed_frames/video_223/frame_4.jpg\n",
            "Saved frame: processed_frames/video_223/frame_5.jpg\n",
            "Saved frame: processed_frames/video_223/frame_6.jpg\n",
            "Saved frame: processed_frames/video_223/frame_7.jpg\n",
            "Saved frame: processed_frames/video_223/frame_8.jpg\n"
          ]
        },
        {
          "metadata": {
            "tags": null
          },
          "name": "stderr",
          "output_type": "stream",
          "text": [
            "\r 47%|████▋     | 224/477 [15:27<12:18,  2.92s/it]"
          ]
        },
        {
          "metadata": {
            "tags": null
          },
          "name": "stdout",
          "output_type": "stream",
          "text": [
            "Saved frame: processed_frames/video_223/frame_9.jpg\n",
            "Processing video: /content/drive/MyDrive/HACER/sitdown_happy_14_s.mp4, Total frames: 104\n",
            "Saved frame: processed_frames/video_224/frame_0.jpg\n",
            "Saved frame: processed_frames/video_224/frame_1.jpg\n",
            "Saved frame: processed_frames/video_224/frame_2.jpg\n",
            "Saved frame: processed_frames/video_224/frame_3.jpg\n",
            "Saved frame: processed_frames/video_224/frame_4.jpg\n",
            "Saved frame: processed_frames/video_224/frame_5.jpg\n",
            "Saved frame: processed_frames/video_224/frame_6.jpg\n",
            "Saved frame: processed_frames/video_224/frame_7.jpg\n",
            "Saved frame: processed_frames/video_224/frame_8.jpg\n"
          ]
        },
        {
          "metadata": {
            "tags": null
          },
          "name": "stderr",
          "output_type": "stream",
          "text": [
            "\r 47%|████▋     | 225/477 [15:32<14:24,  3.43s/it]"
          ]
        },
        {
          "metadata": {
            "tags": null
          },
          "name": "stdout",
          "output_type": "stream",
          "text": [
            "Saved frame: processed_frames/video_224/frame_9.jpg\n",
            "Processing video: /content/drive/MyDrive/HACER/sitdown_happy_15_h.mp4, Total frames: 106\n",
            "Saved frame: processed_frames/video_225/frame_0.jpg\n",
            "Saved frame: processed_frames/video_225/frame_1.jpg\n",
            "Saved frame: processed_frames/video_225/frame_2.jpg\n",
            "Saved frame: processed_frames/video_225/frame_3.jpg\n",
            "Saved frame: processed_frames/video_225/frame_4.jpg\n",
            "Saved frame: processed_frames/video_225/frame_5.jpg\n",
            "Saved frame: processed_frames/video_225/frame_6.jpg\n",
            "Saved frame: processed_frames/video_225/frame_7.jpg\n",
            "Saved frame: processed_frames/video_225/frame_8.jpg\n"
          ]
        },
        {
          "metadata": {
            "tags": null
          },
          "name": "stderr",
          "output_type": "stream",
          "text": [
            "\r 47%|████▋     | 226/477 [15:35<13:27,  3.22s/it]"
          ]
        },
        {
          "metadata": {
            "tags": null
          },
          "name": "stdout",
          "output_type": "stream",
          "text": [
            "Saved frame: processed_frames/video_225/frame_9.jpg\n",
            "Processing video: /content/drive/MyDrive/HACER/sitdown_happy_16_k.mp4, Total frames: 87\n",
            "Saved frame: processed_frames/video_226/frame_0.jpg\n",
            "Saved frame: processed_frames/video_226/frame_1.jpg\n",
            "Saved frame: processed_frames/video_226/frame_2.jpg\n",
            "Saved frame: processed_frames/video_226/frame_3.jpg\n",
            "Saved frame: processed_frames/video_226/frame_4.jpg\n",
            "Saved frame: processed_frames/video_226/frame_5.jpg\n",
            "Saved frame: processed_frames/video_226/frame_6.jpg\n",
            "Saved frame: processed_frames/video_226/frame_7.jpg\n",
            "Saved frame: processed_frames/video_226/frame_8.jpg\n"
          ]
        },
        {
          "metadata": {
            "tags": null
          },
          "name": "stderr",
          "output_type": "stream",
          "text": [
            "\r 48%|████▊     | 227/477 [15:37<11:54,  2.86s/it]"
          ]
        },
        {
          "metadata": {
            "tags": null
          },
          "name": "stdout",
          "output_type": "stream",
          "text": [
            "Saved frame: processed_frames/video_226/frame_9.jpg\n",
            "Processing video: /content/drive/MyDrive/HACER/sitdown_happy_18_t.mp4, Total frames: 67\n",
            "Saved frame: processed_frames/video_227/frame_0.jpg\n",
            "Saved frame: processed_frames/video_227/frame_1.jpg\n",
            "Saved frame: processed_frames/video_227/frame_2.jpg\n",
            "Saved frame: processed_frames/video_227/frame_3.jpg\n",
            "Saved frame: processed_frames/video_227/frame_4.jpg\n",
            "Saved frame: processed_frames/video_227/frame_5.jpg\n",
            "Saved frame: processed_frames/video_227/frame_6.jpg\n",
            "Saved frame: processed_frames/video_227/frame_7.jpg\n",
            "Saved frame: processed_frames/video_227/frame_8.jpg\n"
          ]
        },
        {
          "metadata": {
            "tags": null
          },
          "name": "stderr",
          "output_type": "stream",
          "text": [
            "\r 48%|████▊     | 228/477 [15:39<10:55,  2.63s/it]"
          ]
        },
        {
          "metadata": {
            "tags": null
          },
          "name": "stdout",
          "output_type": "stream",
          "text": [
            "Saved frame: processed_frames/video_227/frame_9.jpg\n",
            "Processing video: /content/drive/MyDrive/HACER/sitdown_happy_1_a.mp4, Total frames: 165\n",
            "Saved frame: processed_frames/video_228/frame_0.jpg\n",
            "Saved frame: processed_frames/video_228/frame_1.jpg\n",
            "Saved frame: processed_frames/video_228/frame_2.jpg\n",
            "Saved frame: processed_frames/video_228/frame_3.jpg\n",
            "Saved frame: processed_frames/video_228/frame_4.jpg\n",
            "Saved frame: processed_frames/video_228/frame_5.jpg\n",
            "Saved frame: processed_frames/video_228/frame_6.jpg\n",
            "Saved frame: processed_frames/video_228/frame_7.jpg\n",
            "Saved frame: processed_frames/video_228/frame_8.jpg\n"
          ]
        },
        {
          "metadata": {
            "tags": null
          },
          "name": "stderr",
          "output_type": "stream",
          "text": [
            "\r 48%|████▊     | 229/477 [15:42<12:02,  2.91s/it]"
          ]
        },
        {
          "metadata": {
            "tags": null
          },
          "name": "stdout",
          "output_type": "stream",
          "text": [
            "Saved frame: processed_frames/video_228/frame_9.jpg\n",
            "Processing video: /content/drive/MyDrive/HACER/sitdown_happy_20_h.mp4, Total frames: 127\n",
            "Saved frame: processed_frames/video_229/frame_0.jpg\n",
            "Saved frame: processed_frames/video_229/frame_1.jpg\n",
            "Saved frame: processed_frames/video_229/frame_2.jpg\n",
            "Saved frame: processed_frames/video_229/frame_3.jpg\n",
            "Saved frame: processed_frames/video_229/frame_4.jpg\n",
            "Saved frame: processed_frames/video_229/frame_5.jpg\n",
            "Saved frame: processed_frames/video_229/frame_6.jpg\n",
            "Saved frame: processed_frames/video_229/frame_7.jpg\n",
            "Saved frame: processed_frames/video_229/frame_8.jpg\n"
          ]
        },
        {
          "metadata": {
            "tags": null
          },
          "name": "stderr",
          "output_type": "stream",
          "text": [
            "\r 48%|████▊     | 230/477 [15:48<15:34,  3.78s/it]"
          ]
        },
        {
          "metadata": {
            "tags": null
          },
          "name": "stdout",
          "output_type": "stream",
          "text": [
            "Saved frame: processed_frames/video_229/frame_9.jpg\n",
            "Processing video: /content/drive/MyDrive/HACER/sitdown_happy_2_w.mp4, Total frames: 130\n",
            "Saved frame: processed_frames/video_230/frame_0.jpg\n",
            "Saved frame: processed_frames/video_230/frame_1.jpg\n",
            "Saved frame: processed_frames/video_230/frame_2.jpg\n",
            "Saved frame: processed_frames/video_230/frame_3.jpg\n",
            "Saved frame: processed_frames/video_230/frame_4.jpg\n",
            "Saved frame: processed_frames/video_230/frame_5.jpg\n",
            "Saved frame: processed_frames/video_230/frame_6.jpg\n",
            "Saved frame: processed_frames/video_230/frame_7.jpg\n",
            "Saved frame: processed_frames/video_230/frame_8.jpg\n"
          ]
        },
        {
          "metadata": {
            "tags": null
          },
          "name": "stderr",
          "output_type": "stream",
          "text": [
            "\r 48%|████▊     | 231/477 [15:52<14:53,  3.63s/it]"
          ]
        },
        {
          "metadata": {
            "tags": null
          },
          "name": "stdout",
          "output_type": "stream",
          "text": [
            "Saved frame: processed_frames/video_230/frame_9.jpg\n",
            "Processing video: /content/drive/MyDrive/HACER/sitdown_happy_3_j.mp4, Total frames: 140\n",
            "Saved frame: processed_frames/video_231/frame_0.jpg\n",
            "Saved frame: processed_frames/video_231/frame_1.jpg\n",
            "Saved frame: processed_frames/video_231/frame_2.jpg\n",
            "Saved frame: processed_frames/video_231/frame_3.jpg\n",
            "Saved frame: processed_frames/video_231/frame_4.jpg\n",
            "Saved frame: processed_frames/video_231/frame_5.jpg\n",
            "Saved frame: processed_frames/video_231/frame_6.jpg\n",
            "Saved frame: processed_frames/video_231/frame_7.jpg\n",
            "Saved frame: processed_frames/video_231/frame_8.jpg\n"
          ]
        },
        {
          "metadata": {
            "tags": null
          },
          "name": "stderr",
          "output_type": "stream",
          "text": [
            "\r 49%|████▊     | 232/477 [15:55<14:38,  3.59s/it]"
          ]
        },
        {
          "metadata": {
            "tags": null
          },
          "name": "stdout",
          "output_type": "stream",
          "text": [
            "Saved frame: processed_frames/video_231/frame_9.jpg\n",
            "Processing video: /content/drive/MyDrive/HACER/sitdown_happy_4_j.mp4, Total frames: 156\n",
            "Saved frame: processed_frames/video_232/frame_0.jpg\n",
            "Saved frame: processed_frames/video_232/frame_1.jpg\n",
            "Saved frame: processed_frames/video_232/frame_2.jpg\n",
            "Saved frame: processed_frames/video_232/frame_3.jpg\n",
            "Saved frame: processed_frames/video_232/frame_4.jpg\n",
            "Saved frame: processed_frames/video_232/frame_5.jpg\n",
            "Saved frame: processed_frames/video_232/frame_6.jpg\n",
            "Saved frame: processed_frames/video_232/frame_7.jpg\n",
            "Saved frame: processed_frames/video_232/frame_8.jpg\n"
          ]
        },
        {
          "metadata": {
            "tags": null
          },
          "name": "stderr",
          "output_type": "stream",
          "text": [
            "\r 49%|████▉     | 233/477 [16:00<15:57,  3.93s/it]"
          ]
        },
        {
          "metadata": {
            "tags": null
          },
          "name": "stdout",
          "output_type": "stream",
          "text": [
            "Saved frame: processed_frames/video_232/frame_9.jpg\n",
            "Processing video: /content/drive/MyDrive/HACER/sitdown_happy_5_m.mp4, Total frames: 166\n",
            "Saved frame: processed_frames/video_233/frame_0.jpg\n",
            "Saved frame: processed_frames/video_233/frame_1.jpg\n",
            "Saved frame: processed_frames/video_233/frame_2.jpg\n",
            "Saved frame: processed_frames/video_233/frame_3.jpg\n",
            "Saved frame: processed_frames/video_233/frame_4.jpg\n",
            "Saved frame: processed_frames/video_233/frame_5.jpg\n",
            "Saved frame: processed_frames/video_233/frame_6.jpg\n",
            "Saved frame: processed_frames/video_233/frame_7.jpg\n"
          ]
        },
        {
          "metadata": {
            "tags": null
          },
          "name": "stderr",
          "output_type": "stream",
          "text": [
            "\r 49%|████▉     | 234/477 [16:04<16:49,  4.15s/it]"
          ]
        },
        {
          "metadata": {
            "tags": null
          },
          "name": "stdout",
          "output_type": "stream",
          "text": [
            "Saved frame: processed_frames/video_233/frame_8.jpg\n",
            "Saved frame: processed_frames/video_233/frame_9.jpg\n",
            "Processing video: /content/drive/MyDrive/HACER/sitdown_happy_6_s.mp4, Total frames: 128\n",
            "Saved frame: processed_frames/video_234/frame_0.jpg\n",
            "Saved frame: processed_frames/video_234/frame_1.jpg\n",
            "Saved frame: processed_frames/video_234/frame_2.jpg\n",
            "Saved frame: processed_frames/video_234/frame_3.jpg\n",
            "Saved frame: processed_frames/video_234/frame_4.jpg\n",
            "Saved frame: processed_frames/video_234/frame_5.jpg\n",
            "Saved frame: processed_frames/video_234/frame_6.jpg\n",
            "Saved frame: processed_frames/video_234/frame_7.jpg\n",
            "Saved frame: processed_frames/video_234/frame_8.jpg\n"
          ]
        },
        {
          "metadata": {
            "tags": null
          },
          "name": "stderr",
          "output_type": "stream",
          "text": [
            "\r 49%|████▉     | 235/477 [16:07<15:16,  3.79s/it]"
          ]
        },
        {
          "metadata": {
            "tags": null
          },
          "name": "stdout",
          "output_type": "stream",
          "text": [
            "Saved frame: processed_frames/video_234/frame_9.jpg\n",
            "Processing video: /content/drive/MyDrive/HACER/sitdown_happy_7_a.mp4, Total frames: 155\n",
            "Saved frame: processed_frames/video_235/frame_0.jpg\n",
            "Saved frame: processed_frames/video_235/frame_1.jpg\n",
            "Saved frame: processed_frames/video_235/frame_2.jpg\n",
            "Saved frame: processed_frames/video_235/frame_3.jpg\n",
            "Saved frame: processed_frames/video_235/frame_4.jpg\n",
            "Saved frame: processed_frames/video_235/frame_5.jpg\n",
            "Saved frame: processed_frames/video_235/frame_6.jpg\n",
            "Saved frame: processed_frames/video_235/frame_7.jpg\n",
            "Saved frame: processed_frames/video_235/frame_8.jpg\n"
          ]
        },
        {
          "metadata": {
            "tags": null
          },
          "name": "stderr",
          "output_type": "stream",
          "text": [
            "\r 49%|████▉     | 236/477 [16:12<16:09,  4.02s/it]"
          ]
        },
        {
          "metadata": {
            "tags": null
          },
          "name": "stdout",
          "output_type": "stream",
          "text": [
            "Saved frame: processed_frames/video_235/frame_9.jpg\n",
            "Processing video: /content/drive/MyDrive/HACER/sitdown_happy_8_l.mp4, Total frames: 155\n",
            "Saved frame: processed_frames/video_236/frame_0.jpg\n",
            "Saved frame: processed_frames/video_236/frame_1.jpg\n",
            "Saved frame: processed_frames/video_236/frame_2.jpg\n",
            "Saved frame: processed_frames/video_236/frame_3.jpg\n",
            "Saved frame: processed_frames/video_236/frame_4.jpg\n",
            "Saved frame: processed_frames/video_236/frame_5.jpg\n",
            "Saved frame: processed_frames/video_236/frame_6.jpg\n",
            "Saved frame: processed_frames/video_236/frame_7.jpg\n",
            "Saved frame: processed_frames/video_236/frame_8.jpg\n"
          ]
        },
        {
          "metadata": {
            "tags": null
          },
          "name": "stderr",
          "output_type": "stream",
          "text": [
            "\r 50%|████▉     | 237/477 [16:18<19:00,  4.75s/it]"
          ]
        },
        {
          "metadata": {
            "tags": null
          },
          "name": "stdout",
          "output_type": "stream",
          "text": [
            "Saved frame: processed_frames/video_236/frame_9.jpg\n",
            "Processing video: /content/drive/MyDrive/HACER/sitdown_happy_9_m.mp4, Total frames: 101\n",
            "Saved frame: processed_frames/video_237/frame_0.jpg\n",
            "Saved frame: processed_frames/video_237/frame_1.jpg\n",
            "Saved frame: processed_frames/video_237/frame_2.jpg\n",
            "Saved frame: processed_frames/video_237/frame_3.jpg\n",
            "Saved frame: processed_frames/video_237/frame_4.jpg\n",
            "Saved frame: processed_frames/video_237/frame_5.jpg\n",
            "Saved frame: processed_frames/video_237/frame_6.jpg\n",
            "Saved frame: processed_frames/video_237/frame_7.jpg\n",
            "Saved frame: processed_frames/video_237/frame_8.jpg\n"
          ]
        },
        {
          "metadata": {
            "tags": null
          },
          "name": "stderr",
          "output_type": "stream",
          "text": [
            "\r 50%|████▉     | 238/477 [16:21<16:20,  4.10s/it]"
          ]
        },
        {
          "metadata": {
            "tags": null
          },
          "name": "stdout",
          "output_type": "stream",
          "text": [
            "Saved frame: processed_frames/video_237/frame_9.jpg\n",
            "Processing video: /content/drive/MyDrive/HACER/sitdown_neutral_10_l.mp4, Total frames: 116\n",
            "Saved frame: processed_frames/video_238/frame_0.jpg\n",
            "Saved frame: processed_frames/video_238/frame_1.jpg\n",
            "Saved frame: processed_frames/video_238/frame_2.jpg\n",
            "Saved frame: processed_frames/video_238/frame_3.jpg\n",
            "Saved frame: processed_frames/video_238/frame_4.jpg\n",
            "Saved frame: processed_frames/video_238/frame_5.jpg\n",
            "Saved frame: processed_frames/video_238/frame_6.jpg\n",
            "Saved frame: processed_frames/video_238/frame_7.jpg\n",
            "Saved frame: processed_frames/video_238/frame_8.jpg\n"
          ]
        },
        {
          "metadata": {
            "tags": null
          },
          "name": "stderr",
          "output_type": "stream",
          "text": [
            "\r 50%|█████     | 239/477 [16:24<15:11,  3.83s/it]"
          ]
        },
        {
          "metadata": {
            "tags": null
          },
          "name": "stdout",
          "output_type": "stream",
          "text": [
            "Saved frame: processed_frames/video_238/frame_9.jpg\n",
            "Processing video: /content/drive/MyDrive/HACER/sitdown_neutral_11_l.mp4, Total frames: 84\n",
            "Saved frame: processed_frames/video_239/frame_0.jpg\n",
            "Saved frame: processed_frames/video_239/frame_1.jpg\n",
            "Saved frame: processed_frames/video_239/frame_2.jpg\n",
            "Saved frame: processed_frames/video_239/frame_3.jpg\n",
            "Saved frame: processed_frames/video_239/frame_4.jpg\n",
            "Saved frame: processed_frames/video_239/frame_5.jpg\n",
            "Saved frame: processed_frames/video_239/frame_6.jpg\n",
            "Saved frame: processed_frames/video_239/frame_7.jpg\n",
            "Saved frame: processed_frames/video_239/frame_8.jpg\n"
          ]
        },
        {
          "metadata": {
            "tags": null
          },
          "name": "stderr",
          "output_type": "stream",
          "text": [
            "\r 50%|█████     | 240/477 [16:27<13:23,  3.39s/it]"
          ]
        },
        {
          "metadata": {
            "tags": null
          },
          "name": "stdout",
          "output_type": "stream",
          "text": [
            "Saved frame: processed_frames/video_239/frame_9.jpg\n",
            "Processing video: /content/drive/MyDrive/HACER/sitdown_neutral_12_w.mp4, Total frames: 134\n",
            "Saved frame: processed_frames/video_240/frame_0.jpg\n",
            "Saved frame: processed_frames/video_240/frame_1.jpg\n",
            "Saved frame: processed_frames/video_240/frame_2.jpg\n",
            "Saved frame: processed_frames/video_240/frame_3.jpg\n",
            "Saved frame: processed_frames/video_240/frame_4.jpg\n",
            "Saved frame: processed_frames/video_240/frame_5.jpg\n",
            "Saved frame: processed_frames/video_240/frame_6.jpg\n",
            "Saved frame: processed_frames/video_240/frame_7.jpg\n",
            "Saved frame: processed_frames/video_240/frame_8.jpg\n"
          ]
        },
        {
          "metadata": {
            "tags": null
          },
          "name": "stderr",
          "output_type": "stream",
          "text": [
            "\r 51%|█████     | 241/477 [16:30<13:54,  3.53s/it]"
          ]
        },
        {
          "metadata": {
            "tags": null
          },
          "name": "stdout",
          "output_type": "stream",
          "text": [
            "Saved frame: processed_frames/video_240/frame_9.jpg\n",
            "Processing video: /content/drive/MyDrive/HACER/sitdown_neutral_13_s.mp4, Total frames: 102\n",
            "Saved frame: processed_frames/video_241/frame_0.jpg\n",
            "Saved frame: processed_frames/video_241/frame_1.jpg\n",
            "Saved frame: processed_frames/video_241/frame_2.jpg\n",
            "Saved frame: processed_frames/video_241/frame_3.jpg\n",
            "Saved frame: processed_frames/video_241/frame_4.jpg\n",
            "Saved frame: processed_frames/video_241/frame_5.jpg\n",
            "Saved frame: processed_frames/video_241/frame_6.jpg\n",
            "Saved frame: processed_frames/video_241/frame_7.jpg\n",
            "Saved frame: processed_frames/video_241/frame_8.jpg\n"
          ]
        },
        {
          "metadata": {
            "tags": null
          },
          "name": "stderr",
          "output_type": "stream",
          "text": [
            "\r 51%|█████     | 242/477 [16:34<14:29,  3.70s/it]"
          ]
        },
        {
          "metadata": {
            "tags": null
          },
          "name": "stdout",
          "output_type": "stream",
          "text": [
            "Saved frame: processed_frames/video_241/frame_9.jpg\n",
            "Processing video: /content/drive/MyDrive/HACER/sitdown_neutral_14_h.mp4, Total frames: 73\n",
            "Saved frame: processed_frames/video_242/frame_0.jpg\n",
            "Saved frame: processed_frames/video_242/frame_1.jpg\n",
            "Saved frame: processed_frames/video_242/frame_2.jpg\n",
            "Saved frame: processed_frames/video_242/frame_3.jpg\n",
            "Saved frame: processed_frames/video_242/frame_4.jpg\n",
            "Saved frame: processed_frames/video_242/frame_5.jpg\n",
            "Saved frame: processed_frames/video_242/frame_6.jpg\n",
            "Saved frame: processed_frames/video_242/frame_7.jpg\n",
            "Saved frame: processed_frames/video_242/frame_8.jpg\n"
          ]
        },
        {
          "metadata": {
            "tags": null
          },
          "name": "stderr",
          "output_type": "stream",
          "text": [
            "\r 51%|█████     | 243/477 [16:36<12:26,  3.19s/it]"
          ]
        },
        {
          "metadata": {
            "tags": null
          },
          "name": "stdout",
          "output_type": "stream",
          "text": [
            "Saved frame: processed_frames/video_242/frame_9.jpg\n",
            "Processing video: /content/drive/MyDrive/HACER/sitdown_neutral_15_k.mp4, Total frames: 87\n",
            "Saved frame: processed_frames/video_243/frame_0.jpg\n",
            "Saved frame: processed_frames/video_243/frame_1.jpg\n",
            "Saved frame: processed_frames/video_243/frame_2.jpg\n",
            "Saved frame: processed_frames/video_243/frame_3.jpg\n",
            "Saved frame: processed_frames/video_243/frame_4.jpg\n",
            "Saved frame: processed_frames/video_243/frame_5.jpg\n",
            "Saved frame: processed_frames/video_243/frame_6.jpg\n",
            "Saved frame: processed_frames/video_243/frame_7.jpg\n",
            "Saved frame: processed_frames/video_243/frame_8.jpg\n"
          ]
        },
        {
          "metadata": {
            "tags": null
          },
          "name": "stderr",
          "output_type": "stream",
          "text": [
            "\r 51%|█████     | 244/477 [16:39<11:04,  2.85s/it]"
          ]
        },
        {
          "metadata": {
            "tags": null
          },
          "name": "stdout",
          "output_type": "stream",
          "text": [
            "Saved frame: processed_frames/video_243/frame_9.jpg\n",
            "Processing video: /content/drive/MyDrive/HACER/sitdown_neutral_16_y.mp4, Total frames: 144\n",
            "Saved frame: processed_frames/video_244/frame_0.jpg\n",
            "Saved frame: processed_frames/video_244/frame_1.jpg\n",
            "Saved frame: processed_frames/video_244/frame_2.jpg\n",
            "Saved frame: processed_frames/video_244/frame_3.jpg\n",
            "Saved frame: processed_frames/video_244/frame_4.jpg\n",
            "Saved frame: processed_frames/video_244/frame_5.jpg\n",
            "Saved frame: processed_frames/video_244/frame_6.jpg\n",
            "Saved frame: processed_frames/video_244/frame_7.jpg\n",
            "Saved frame: processed_frames/video_244/frame_8.jpg\n"
          ]
        },
        {
          "metadata": {
            "tags": null
          },
          "name": "stderr",
          "output_type": "stream",
          "text": [
            "\r 51%|█████▏    | 245/477 [16:42<11:42,  3.03s/it]"
          ]
        },
        {
          "metadata": {
            "tags": null
          },
          "name": "stdout",
          "output_type": "stream",
          "text": [
            "Saved frame: processed_frames/video_244/frame_9.jpg\n",
            "Processing video: /content/drive/MyDrive/HACER/sitdown_neutral_17_t.mp4, Total frames: 89\n",
            "Saved frame: processed_frames/video_245/frame_0.jpg\n",
            "Saved frame: processed_frames/video_245/frame_1.jpg\n",
            "Saved frame: processed_frames/video_245/frame_2.jpg\n",
            "Saved frame: processed_frames/video_245/frame_3.jpg\n",
            "Saved frame: processed_frames/video_245/frame_4.jpg\n",
            "Saved frame: processed_frames/video_245/frame_5.jpg\n",
            "Saved frame: processed_frames/video_245/frame_6.jpg\n",
            "Saved frame: processed_frames/video_245/frame_7.jpg\n",
            "Saved frame: processed_frames/video_245/frame_8.jpg\n"
          ]
        },
        {
          "metadata": {
            "tags": null
          },
          "name": "stderr",
          "output_type": "stream",
          "text": [
            "\r 52%|█████▏    | 246/477 [16:45<11:42,  3.04s/it]"
          ]
        },
        {
          "metadata": {
            "tags": null
          },
          "name": "stdout",
          "output_type": "stream",
          "text": [
            "Saved frame: processed_frames/video_245/frame_9.jpg\n",
            "Processing video: /content/drive/MyDrive/HACER/sitdown_neutral_18_t.mp4, Total frames: 67\n",
            "Saved frame: processed_frames/video_246/frame_0.jpg\n",
            "Saved frame: processed_frames/video_246/frame_1.jpg\n",
            "Saved frame: processed_frames/video_246/frame_2.jpg\n",
            "Saved frame: processed_frames/video_246/frame_3.jpg\n",
            "Saved frame: processed_frames/video_246/frame_4.jpg\n",
            "Saved frame: processed_frames/video_246/frame_5.jpg\n",
            "Saved frame: processed_frames/video_246/frame_6.jpg\n",
            "Saved frame: processed_frames/video_246/frame_7.jpg\n",
            "Saved frame: processed_frames/video_246/frame_8.jpg\n"
          ]
        },
        {
          "metadata": {
            "tags": null
          },
          "name": "stderr",
          "output_type": "stream",
          "text": [
            "\r 52%|█████▏    | 247/477 [16:48<11:48,  3.08s/it]"
          ]
        },
        {
          "metadata": {
            "tags": null
          },
          "name": "stdout",
          "output_type": "stream",
          "text": [
            "Saved frame: processed_frames/video_246/frame_9.jpg\n",
            "Processing video: /content/drive/MyDrive/HACER/sitdown_neutral_19_y.mp4, Total frames: 214\n",
            "Saved frame: processed_frames/video_247/frame_0.jpg\n",
            "Saved frame: processed_frames/video_247/frame_1.jpg\n",
            "Saved frame: processed_frames/video_247/frame_2.jpg\n",
            "Saved frame: processed_frames/video_247/frame_3.jpg\n",
            "Saved frame: processed_frames/video_247/frame_4.jpg\n",
            "Saved frame: processed_frames/video_247/frame_5.jpg\n",
            "Saved frame: processed_frames/video_247/frame_6.jpg\n",
            "Saved frame: processed_frames/video_247/frame_7.jpg\n",
            "Saved frame: processed_frames/video_247/frame_8.jpg\n"
          ]
        },
        {
          "metadata": {
            "tags": null
          },
          "name": "stderr",
          "output_type": "stream",
          "text": [
            "\r 52%|█████▏    | 248/477 [16:51<11:54,  3.12s/it]"
          ]
        },
        {
          "metadata": {
            "tags": null
          },
          "name": "stdout",
          "output_type": "stream",
          "text": [
            "Saved frame: processed_frames/video_247/frame_9.jpg\n",
            "Processing video: /content/drive/MyDrive/HACER/sitdown_neutral_1_a.mp4, Total frames: 136\n",
            "Saved frame: processed_frames/video_248/frame_0.jpg\n",
            "Saved frame: processed_frames/video_248/frame_1.jpg\n",
            "Saved frame: processed_frames/video_248/frame_2.jpg\n",
            "Saved frame: processed_frames/video_248/frame_3.jpg\n",
            "Saved frame: processed_frames/video_248/frame_4.jpg\n",
            "Saved frame: processed_frames/video_248/frame_5.jpg\n",
            "Saved frame: processed_frames/video_248/frame_6.jpg\n",
            "Saved frame: processed_frames/video_248/frame_7.jpg\n",
            "Saved frame: processed_frames/video_248/frame_8.jpg\n"
          ]
        },
        {
          "metadata": {
            "tags": null
          },
          "name": "stderr",
          "output_type": "stream",
          "text": [
            "\r 52%|█████▏    | 249/477 [16:55<12:13,  3.22s/it]"
          ]
        },
        {
          "metadata": {
            "tags": null
          },
          "name": "stdout",
          "output_type": "stream",
          "text": [
            "Saved frame: processed_frames/video_248/frame_9.jpg\n",
            "Processing video: /content/drive/MyDrive/HACER/sitdown_neutral_20_t.mp4, Total frames: 117\n",
            "Saved frame: processed_frames/video_249/frame_0.jpg\n",
            "Saved frame: processed_frames/video_249/frame_1.jpg\n",
            "Saved frame: processed_frames/video_249/frame_2.jpg\n",
            "Saved frame: processed_frames/video_249/frame_3.jpg\n",
            "Saved frame: processed_frames/video_249/frame_4.jpg\n",
            "Saved frame: processed_frames/video_249/frame_5.jpg\n",
            "Saved frame: processed_frames/video_249/frame_6.jpg\n",
            "Saved frame: processed_frames/video_249/frame_7.jpg\n",
            "Saved frame: processed_frames/video_249/frame_8.jpg\n"
          ]
        },
        {
          "metadata": {
            "tags": null
          },
          "name": "stderr",
          "output_type": "stream",
          "text": [
            "\r 52%|█████▏    | 250/477 [16:58<12:15,  3.24s/it]"
          ]
        },
        {
          "metadata": {
            "tags": null
          },
          "name": "stdout",
          "output_type": "stream",
          "text": [
            "Saved frame: processed_frames/video_249/frame_9.jpg\n",
            "Processing video: /content/drive/MyDrive/HACER/sitdown_neutral_21_t.mp4, Total frames: 103\n",
            "Saved frame: processed_frames/video_250/frame_0.jpg\n",
            "Saved frame: processed_frames/video_250/frame_1.jpg\n",
            "Saved frame: processed_frames/video_250/frame_2.jpg\n",
            "Saved frame: processed_frames/video_250/frame_3.jpg\n",
            "Saved frame: processed_frames/video_250/frame_4.jpg\n",
            "Saved frame: processed_frames/video_250/frame_5.jpg\n",
            "Saved frame: processed_frames/video_250/frame_6.jpg\n",
            "Saved frame: processed_frames/video_250/frame_7.jpg\n",
            "Saved frame: processed_frames/video_250/frame_8.jpg\n"
          ]
        },
        {
          "metadata": {
            "tags": null
          },
          "name": "stderr",
          "output_type": "stream",
          "text": [
            "\r 53%|█████▎    | 251/477 [17:03<13:49,  3.67s/it]"
          ]
        },
        {
          "metadata": {
            "tags": null
          },
          "name": "stdout",
          "output_type": "stream",
          "text": [
            "Saved frame: processed_frames/video_250/frame_9.jpg\n",
            "Processing video: /content/drive/MyDrive/HACER/sitdown_neutral_22_h.mp4, Total frames: 50\n",
            "Saved frame: processed_frames/video_251/frame_0.jpg\n",
            "Saved frame: processed_frames/video_251/frame_1.jpg\n",
            "Saved frame: processed_frames/video_251/frame_2.jpg\n",
            "Saved frame: processed_frames/video_251/frame_3.jpg\n",
            "Saved frame: processed_frames/video_251/frame_4.jpg\n",
            "Saved frame: processed_frames/video_251/frame_5.jpg\n",
            "Saved frame: processed_frames/video_251/frame_6.jpg\n",
            "Saved frame: processed_frames/video_251/frame_7.jpg\n",
            "Saved frame: processed_frames/video_251/frame_8.jpg\n"
          ]
        },
        {
          "metadata": {
            "tags": null
          },
          "name": "stderr",
          "output_type": "stream",
          "text": [
            "\r 53%|█████▎    | 252/477 [17:05<12:17,  3.28s/it]"
          ]
        },
        {
          "metadata": {
            "tags": null
          },
          "name": "stdout",
          "output_type": "stream",
          "text": [
            "Saved frame: processed_frames/video_251/frame_9.jpg\n",
            "Processing video: /content/drive/MyDrive/HACER/sitdown_neutral_2_a.mp4, Total frames: 98\n",
            "Saved frame: processed_frames/video_252/frame_0.jpg\n",
            "Saved frame: processed_frames/video_252/frame_1.jpg\n",
            "Saved frame: processed_frames/video_252/frame_2.jpg\n",
            "Saved frame: processed_frames/video_252/frame_3.jpg\n",
            "Saved frame: processed_frames/video_252/frame_4.jpg\n",
            "Saved frame: processed_frames/video_252/frame_5.jpg\n",
            "Saved frame: processed_frames/video_252/frame_6.jpg\n",
            "Saved frame: processed_frames/video_252/frame_7.jpg\n",
            "Saved frame: processed_frames/video_252/frame_8.jpg\n"
          ]
        },
        {
          "metadata": {
            "tags": null
          },
          "name": "stderr",
          "output_type": "stream",
          "text": [
            "\r 53%|█████▎    | 253/477 [17:09<12:32,  3.36s/it]"
          ]
        },
        {
          "metadata": {
            "tags": null
          },
          "name": "stdout",
          "output_type": "stream",
          "text": [
            "Saved frame: processed_frames/video_252/frame_9.jpg\n",
            "Processing video: /content/drive/MyDrive/HACER/sitdown_neutral_3_w.mp4, Total frames: 149\n",
            "Saved frame: processed_frames/video_253/frame_0.jpg\n",
            "Saved frame: processed_frames/video_253/frame_1.jpg\n",
            "Saved frame: processed_frames/video_253/frame_2.jpg\n",
            "Saved frame: processed_frames/video_253/frame_3.jpg\n",
            "Saved frame: processed_frames/video_253/frame_4.jpg\n",
            "Saved frame: processed_frames/video_253/frame_5.jpg\n",
            "Saved frame: processed_frames/video_253/frame_6.jpg\n",
            "Saved frame: processed_frames/video_253/frame_7.jpg\n",
            "Saved frame: processed_frames/video_253/frame_8.jpg\n"
          ]
        },
        {
          "metadata": {
            "tags": null
          },
          "name": "stderr",
          "output_type": "stream",
          "text": [
            "\r 53%|█████▎    | 254/477 [17:12<12:47,  3.44s/it]"
          ]
        },
        {
          "metadata": {
            "tags": null
          },
          "name": "stdout",
          "output_type": "stream",
          "text": [
            "Saved frame: processed_frames/video_253/frame_9.jpg\n",
            "Processing video: /content/drive/MyDrive/HACER/sitdown_neutral_4_j.mp4, Total frames: 142\n",
            "Saved frame: processed_frames/video_254/frame_0.jpg\n",
            "Saved frame: processed_frames/video_254/frame_1.jpg\n",
            "Saved frame: processed_frames/video_254/frame_2.jpg\n",
            "Saved frame: processed_frames/video_254/frame_3.jpg\n",
            "Saved frame: processed_frames/video_254/frame_4.jpg\n",
            "Saved frame: processed_frames/video_254/frame_5.jpg\n",
            "Saved frame: processed_frames/video_254/frame_6.jpg\n",
            "Saved frame: processed_frames/video_254/frame_7.jpg\n",
            "Saved frame: processed_frames/video_254/frame_8.jpg\n"
          ]
        },
        {
          "metadata": {
            "tags": null
          },
          "name": "stderr",
          "output_type": "stream",
          "text": [
            "\r 53%|█████▎    | 255/477 [17:17<14:05,  3.81s/it]"
          ]
        },
        {
          "metadata": {
            "tags": null
          },
          "name": "stdout",
          "output_type": "stream",
          "text": [
            "Saved frame: processed_frames/video_254/frame_9.jpg\n",
            "Processing video: /content/drive/MyDrive/HACER/sitdown_neutral_5_j.mp4, Total frames: 162\n",
            "Saved frame: processed_frames/video_255/frame_0.jpg\n",
            "Saved frame: processed_frames/video_255/frame_1.jpg\n",
            "Saved frame: processed_frames/video_255/frame_2.jpg\n",
            "Saved frame: processed_frames/video_255/frame_3.jpg\n",
            "Saved frame: processed_frames/video_255/frame_4.jpg\n",
            "Saved frame: processed_frames/video_255/frame_5.jpg\n",
            "Saved frame: processed_frames/video_255/frame_6.jpg\n",
            "Saved frame: processed_frames/video_255/frame_7.jpg\n"
          ]
        },
        {
          "metadata": {
            "tags": null
          },
          "name": "stderr",
          "output_type": "stream",
          "text": [
            "\r 54%|█████▎    | 256/477 [17:21<14:37,  3.97s/it]"
          ]
        },
        {
          "metadata": {
            "tags": null
          },
          "name": "stdout",
          "output_type": "stream",
          "text": [
            "Saved frame: processed_frames/video_255/frame_8.jpg\n",
            "Saved frame: processed_frames/video_255/frame_9.jpg\n",
            "Processing video: /content/drive/MyDrive/HACER/sitdown_neutral_6_s.mp4, Total frames: 153\n",
            "Saved frame: processed_frames/video_256/frame_0.jpg\n",
            "Saved frame: processed_frames/video_256/frame_1.jpg\n",
            "Saved frame: processed_frames/video_256/frame_2.jpg\n",
            "Saved frame: processed_frames/video_256/frame_3.jpg\n",
            "Saved frame: processed_frames/video_256/frame_4.jpg\n",
            "Saved frame: processed_frames/video_256/frame_5.jpg\n",
            "Saved frame: processed_frames/video_256/frame_6.jpg\n",
            "Saved frame: processed_frames/video_256/frame_7.jpg\n",
            "Saved frame: processed_frames/video_256/frame_8.jpg\n"
          ]
        },
        {
          "metadata": {
            "tags": null
          },
          "name": "stderr",
          "output_type": "stream",
          "text": [
            "\r 54%|█████▍    | 257/477 [17:25<14:13,  3.88s/it]"
          ]
        },
        {
          "metadata": {
            "tags": null
          },
          "name": "stdout",
          "output_type": "stream",
          "text": [
            "Saved frame: processed_frames/video_256/frame_9.jpg\n",
            "Processing video: /content/drive/MyDrive/HACER/sitdown_neutral_7_s.mp4, Total frames: 163\n",
            "Saved frame: processed_frames/video_257/frame_0.jpg\n",
            "Saved frame: processed_frames/video_257/frame_1.jpg\n",
            "Saved frame: processed_frames/video_257/frame_2.jpg\n",
            "Saved frame: processed_frames/video_257/frame_3.jpg\n",
            "Saved frame: processed_frames/video_257/frame_4.jpg\n",
            "Saved frame: processed_frames/video_257/frame_5.jpg\n",
            "Saved frame: processed_frames/video_257/frame_6.jpg\n",
            "Saved frame: processed_frames/video_257/frame_7.jpg\n"
          ]
        },
        {
          "metadata": {
            "tags": null
          },
          "name": "stderr",
          "output_type": "stream",
          "text": [
            "\r 54%|█████▍    | 258/477 [17:28<13:21,  3.66s/it]"
          ]
        },
        {
          "metadata": {
            "tags": null
          },
          "name": "stdout",
          "output_type": "stream",
          "text": [
            "Saved frame: processed_frames/video_257/frame_8.jpg\n",
            "Saved frame: processed_frames/video_257/frame_9.jpg\n",
            "Processing video: /content/drive/MyDrive/HACER/sitdown_neutral_8_h.mp4, Total frames: 91\n",
            "Saved frame: processed_frames/video_258/frame_0.jpg\n",
            "Saved frame: processed_frames/video_258/frame_1.jpg\n",
            "Saved frame: processed_frames/video_258/frame_2.jpg\n",
            "Saved frame: processed_frames/video_258/frame_3.jpg\n",
            "Saved frame: processed_frames/video_258/frame_4.jpg\n",
            "Saved frame: processed_frames/video_258/frame_5.jpg\n",
            "Saved frame: processed_frames/video_258/frame_6.jpg\n",
            "Saved frame: processed_frames/video_258/frame_7.jpg\n",
            "Saved frame: processed_frames/video_258/frame_8.jpg\n"
          ]
        },
        {
          "metadata": {
            "tags": null
          },
          "name": "stderr",
          "output_type": "stream",
          "text": [
            "\r 54%|█████▍    | 259/477 [17:31<12:50,  3.54s/it]"
          ]
        },
        {
          "metadata": {
            "tags": null
          },
          "name": "stdout",
          "output_type": "stream",
          "text": [
            "Saved frame: processed_frames/video_258/frame_9.jpg\n",
            "Processing video: /content/drive/MyDrive/HACER/sitdown_neutral_9_h.mp4, Total frames: 108\n",
            "Saved frame: processed_frames/video_259/frame_0.jpg\n",
            "Saved frame: processed_frames/video_259/frame_1.jpg\n",
            "Saved frame: processed_frames/video_259/frame_2.jpg\n",
            "Saved frame: processed_frames/video_259/frame_3.jpg\n",
            "Saved frame: processed_frames/video_259/frame_4.jpg\n",
            "Saved frame: processed_frames/video_259/frame_5.jpg\n",
            "Saved frame: processed_frames/video_259/frame_6.jpg\n",
            "Saved frame: processed_frames/video_259/frame_7.jpg\n",
            "Saved frame: processed_frames/video_259/frame_8.jpg\n"
          ]
        },
        {
          "metadata": {
            "tags": null
          },
          "name": "stderr",
          "output_type": "stream",
          "text": [
            "\r 55%|█████▍    | 260/477 [17:36<13:40,  3.78s/it]"
          ]
        },
        {
          "metadata": {
            "tags": null
          },
          "name": "stdout",
          "output_type": "stream",
          "text": [
            "Saved frame: processed_frames/video_259/frame_9.jpg\n",
            "Processing video: /content/drive/MyDrive/HACER/sitdown_sad_10_l.mp4, Total frames: 151\n",
            "Saved frame: processed_frames/video_260/frame_0.jpg\n",
            "Saved frame: processed_frames/video_260/frame_1.jpg\n",
            "Saved frame: processed_frames/video_260/frame_2.jpg\n",
            "Saved frame: processed_frames/video_260/frame_3.jpg\n",
            "Saved frame: processed_frames/video_260/frame_4.jpg\n",
            "Saved frame: processed_frames/video_260/frame_5.jpg\n",
            "Saved frame: processed_frames/video_260/frame_6.jpg\n",
            "Saved frame: processed_frames/video_260/frame_7.jpg\n",
            "Saved frame: processed_frames/video_260/frame_8.jpg\n"
          ]
        },
        {
          "metadata": {
            "tags": null
          },
          "name": "stderr",
          "output_type": "stream",
          "text": [
            "\r 55%|█████▍    | 261/477 [17:40<13:53,  3.86s/it]"
          ]
        },
        {
          "metadata": {
            "tags": null
          },
          "name": "stdout",
          "output_type": "stream",
          "text": [
            "Saved frame: processed_frames/video_260/frame_9.jpg\n",
            "Processing video: /content/drive/MyDrive/HACER/sitdown_sad_11_s.mp4, Total frames: 114\n",
            "Saved frame: processed_frames/video_261/frame_0.jpg\n",
            "Saved frame: processed_frames/video_261/frame_1.jpg\n",
            "Saved frame: processed_frames/video_261/frame_2.jpg\n",
            "Saved frame: processed_frames/video_261/frame_3.jpg\n",
            "Saved frame: processed_frames/video_261/frame_4.jpg\n",
            "Saved frame: processed_frames/video_261/frame_5.jpg\n",
            "Saved frame: processed_frames/video_261/frame_6.jpg\n",
            "Saved frame: processed_frames/video_261/frame_7.jpg\n",
            "Saved frame: processed_frames/video_261/frame_8.jpg\n"
          ]
        },
        {
          "metadata": {
            "tags": null
          },
          "name": "stderr",
          "output_type": "stream",
          "text": [
            "\r 55%|█████▍    | 262/477 [17:43<12:47,  3.57s/it]"
          ]
        },
        {
          "metadata": {
            "tags": null
          },
          "name": "stdout",
          "output_type": "stream",
          "text": [
            "Saved frame: processed_frames/video_261/frame_9.jpg\n",
            "Processing video: /content/drive/MyDrive/HACER/sitdown_sad_12_s.mp4, Total frames: 118\n",
            "Saved frame: processed_frames/video_262/frame_0.jpg\n",
            "Saved frame: processed_frames/video_262/frame_1.jpg\n",
            "Saved frame: processed_frames/video_262/frame_2.jpg\n",
            "Saved frame: processed_frames/video_262/frame_3.jpg\n",
            "Saved frame: processed_frames/video_262/frame_4.jpg\n",
            "Saved frame: processed_frames/video_262/frame_5.jpg\n",
            "Saved frame: processed_frames/video_262/frame_6.jpg\n",
            "Saved frame: processed_frames/video_262/frame_7.jpg\n",
            "Saved frame: processed_frames/video_262/frame_8.jpg\n"
          ]
        },
        {
          "metadata": {
            "tags": null
          },
          "name": "stderr",
          "output_type": "stream",
          "text": [
            "\r 55%|█████▌    | 263/477 [17:46<12:39,  3.55s/it]"
          ]
        },
        {
          "metadata": {
            "tags": null
          },
          "name": "stdout",
          "output_type": "stream",
          "text": [
            "Saved frame: processed_frames/video_262/frame_9.jpg\n",
            "Processing video: /content/drive/MyDrive/HACER/sitdown_sad_13_j.mp4, Total frames: 125\n",
            "Saved frame: processed_frames/video_263/frame_0.jpg\n",
            "Saved frame: processed_frames/video_263/frame_1.jpg\n",
            "Saved frame: processed_frames/video_263/frame_2.jpg\n",
            "Saved frame: processed_frames/video_263/frame_3.jpg\n",
            "Saved frame: processed_frames/video_263/frame_4.jpg\n",
            "Saved frame: processed_frames/video_263/frame_5.jpg\n",
            "Saved frame: processed_frames/video_263/frame_6.jpg\n",
            "Saved frame: processed_frames/video_263/frame_7.jpg\n",
            "Saved frame: processed_frames/video_263/frame_8.jpg\n"
          ]
        },
        {
          "metadata": {
            "tags": null
          },
          "name": "stderr",
          "output_type": "stream",
          "text": [
            "\r 55%|█████▌    | 264/477 [17:51<13:45,  3.88s/it]"
          ]
        },
        {
          "metadata": {
            "tags": null
          },
          "name": "stdout",
          "output_type": "stream",
          "text": [
            "Saved frame: processed_frames/video_263/frame_9.jpg\n",
            "Processing video: /content/drive/MyDrive/HACER/sitdown_sad_14_h.mp4, Total frames: 140\n",
            "Saved frame: processed_frames/video_264/frame_0.jpg\n",
            "Saved frame: processed_frames/video_264/frame_1.jpg\n",
            "Saved frame: processed_frames/video_264/frame_2.jpg\n",
            "Saved frame: processed_frames/video_264/frame_3.jpg\n",
            "Saved frame: processed_frames/video_264/frame_4.jpg\n",
            "Saved frame: processed_frames/video_264/frame_5.jpg\n",
            "Saved frame: processed_frames/video_264/frame_6.jpg\n",
            "Saved frame: processed_frames/video_264/frame_7.jpg\n",
            "Saved frame: processed_frames/video_264/frame_8.jpg\n"
          ]
        },
        {
          "metadata": {
            "tags": null
          },
          "name": "stderr",
          "output_type": "stream",
          "text": [
            "\r 56%|█████▌    | 265/477 [17:54<13:04,  3.70s/it]"
          ]
        },
        {
          "metadata": {
            "tags": null
          },
          "name": "stdout",
          "output_type": "stream",
          "text": [
            "Saved frame: processed_frames/video_264/frame_9.jpg\n",
            "Processing video: /content/drive/MyDrive/HACER/sitdown_sad_1_h.mp4, Total frames: 105\n",
            "Saved frame: processed_frames/video_265/frame_0.jpg\n",
            "Saved frame: processed_frames/video_265/frame_1.jpg\n",
            "Saved frame: processed_frames/video_265/frame_2.jpg\n",
            "Saved frame: processed_frames/video_265/frame_3.jpg\n",
            "Saved frame: processed_frames/video_265/frame_4.jpg\n",
            "Saved frame: processed_frames/video_265/frame_5.jpg\n",
            "Saved frame: processed_frames/video_265/frame_6.jpg\n",
            "Saved frame: processed_frames/video_265/frame_7.jpg\n",
            "Saved frame: processed_frames/video_265/frame_8.jpg\n"
          ]
        },
        {
          "metadata": {
            "tags": null
          },
          "name": "stderr",
          "output_type": "stream",
          "text": [
            "\r 56%|█████▌    | 266/477 [17:57<11:52,  3.38s/it]"
          ]
        },
        {
          "metadata": {
            "tags": null
          },
          "name": "stdout",
          "output_type": "stream",
          "text": [
            "Saved frame: processed_frames/video_265/frame_9.jpg\n",
            "Processing video: /content/drive/MyDrive/HACER/sitdown_sad_2_a.mp4, Total frames: 279\n",
            "Saved frame: processed_frames/video_266/frame_0.jpg\n",
            "Saved frame: processed_frames/video_266/frame_1.jpg\n",
            "Saved frame: processed_frames/video_266/frame_2.jpg\n",
            "Saved frame: processed_frames/video_266/frame_3.jpg\n",
            "Saved frame: processed_frames/video_266/frame_4.jpg\n",
            "Saved frame: processed_frames/video_266/frame_5.jpg\n",
            "Saved frame: processed_frames/video_266/frame_6.jpg\n",
            "Saved frame: processed_frames/video_266/frame_7.jpg\n",
            "Saved frame: processed_frames/video_266/frame_8.jpg\n"
          ]
        },
        {
          "metadata": {
            "tags": null
          },
          "name": "stderr",
          "output_type": "stream",
          "text": [
            "\r 56%|█████▌    | 267/477 [18:01<12:52,  3.68s/it]"
          ]
        },
        {
          "metadata": {
            "tags": null
          },
          "name": "stdout",
          "output_type": "stream",
          "text": [
            "Saved frame: processed_frames/video_266/frame_9.jpg\n",
            "Processing video: /content/drive/MyDrive/HACER/sitdown_sad_3_w.mp4, Total frames: 188\n",
            "Saved frame: processed_frames/video_267/frame_0.jpg\n",
            "Saved frame: processed_frames/video_267/frame_1.jpg\n",
            "Saved frame: processed_frames/video_267/frame_2.jpg\n",
            "Saved frame: processed_frames/video_267/frame_3.jpg\n",
            "Saved frame: processed_frames/video_267/frame_4.jpg\n",
            "Saved frame: processed_frames/video_267/frame_5.jpg\n",
            "Saved frame: processed_frames/video_267/frame_6.jpg\n",
            "Saved frame: processed_frames/video_267/frame_7.jpg\n",
            "Saved frame: processed_frames/video_267/frame_8.jpg\n"
          ]
        },
        {
          "metadata": {
            "tags": null
          },
          "name": "stderr",
          "output_type": "stream",
          "text": [
            "\r 56%|█████▌    | 268/477 [18:06<14:11,  4.08s/it]"
          ]
        },
        {
          "metadata": {
            "tags": null
          },
          "name": "stdout",
          "output_type": "stream",
          "text": [
            "Saved frame: processed_frames/video_267/frame_9.jpg\n",
            "Processing video: /content/drive/MyDrive/HACER/sitdown_sad_4_m.mp4, Total frames: 216\n",
            "Saved frame: processed_frames/video_268/frame_0.jpg\n",
            "Saved frame: processed_frames/video_268/frame_1.jpg\n",
            "Saved frame: processed_frames/video_268/frame_2.jpg\n",
            "Saved frame: processed_frames/video_268/frame_3.jpg\n",
            "Saved frame: processed_frames/video_268/frame_4.jpg\n",
            "Saved frame: processed_frames/video_268/frame_5.jpg\n",
            "Saved frame: processed_frames/video_268/frame_6.jpg\n",
            "Saved frame: processed_frames/video_268/frame_7.jpg\n",
            "Saved frame: processed_frames/video_268/frame_8.jpg\n"
          ]
        },
        {
          "metadata": {
            "tags": null
          },
          "name": "stderr",
          "output_type": "stream",
          "text": [
            "\r 56%|█████▋    | 269/477 [18:09<13:09,  3.80s/it]"
          ]
        },
        {
          "metadata": {
            "tags": null
          },
          "name": "stdout",
          "output_type": "stream",
          "text": [
            "Saved frame: processed_frames/video_268/frame_9.jpg\n",
            "Processing video: /content/drive/MyDrive/HACER/sitdown_sad_5_s.mp4, Total frames: 128\n",
            "Saved frame: processed_frames/video_269/frame_0.jpg\n",
            "Saved frame: processed_frames/video_269/frame_1.jpg\n",
            "Saved frame: processed_frames/video_269/frame_2.jpg\n",
            "Saved frame: processed_frames/video_269/frame_3.jpg\n",
            "Saved frame: processed_frames/video_269/frame_4.jpg\n",
            "Saved frame: processed_frames/video_269/frame_5.jpg\n",
            "Saved frame: processed_frames/video_269/frame_6.jpg\n",
            "Saved frame: processed_frames/video_269/frame_7.jpg\n",
            "Saved frame: processed_frames/video_269/frame_8.jpg\n"
          ]
        },
        {
          "metadata": {
            "tags": null
          },
          "name": "stderr",
          "output_type": "stream",
          "text": [
            "\r 57%|█████▋    | 270/477 [18:12<12:13,  3.54s/it]"
          ]
        },
        {
          "metadata": {
            "tags": null
          },
          "name": "stdout",
          "output_type": "stream",
          "text": [
            "Saved frame: processed_frames/video_269/frame_9.jpg\n",
            "Processing video: /content/drive/MyDrive/HACER/sitdown_sad_6_h.mp4, Total frames: 118\n",
            "Saved frame: processed_frames/video_270/frame_0.jpg\n",
            "Saved frame: processed_frames/video_270/frame_1.jpg\n",
            "Saved frame: processed_frames/video_270/frame_2.jpg\n",
            "Saved frame: processed_frames/video_270/frame_3.jpg\n",
            "Saved frame: processed_frames/video_270/frame_4.jpg\n",
            "Saved frame: processed_frames/video_270/frame_5.jpg\n",
            "Saved frame: processed_frames/video_270/frame_6.jpg\n",
            "Saved frame: processed_frames/video_270/frame_7.jpg\n",
            "Saved frame: processed_frames/video_270/frame_8.jpg\n"
          ]
        },
        {
          "metadata": {
            "tags": null
          },
          "name": "stderr",
          "output_type": "stream",
          "text": [
            "\r 57%|█████▋    | 271/477 [18:15<11:37,  3.39s/it]"
          ]
        },
        {
          "metadata": {
            "tags": null
          },
          "name": "stdout",
          "output_type": "stream",
          "text": [
            "Saved frame: processed_frames/video_270/frame_9.jpg\n",
            "Processing video: /content/drive/MyDrive/HACER/sitdown_sad_7_a.mp4, Total frames: 124\n",
            "Saved frame: processed_frames/video_271/frame_0.jpg\n",
            "Saved frame: processed_frames/video_271/frame_1.jpg\n",
            "Saved frame: processed_frames/video_271/frame_2.jpg\n",
            "Saved frame: processed_frames/video_271/frame_3.jpg\n",
            "Saved frame: processed_frames/video_271/frame_4.jpg\n",
            "Saved frame: processed_frames/video_271/frame_5.jpg\n",
            "Saved frame: processed_frames/video_271/frame_6.jpg\n",
            "Saved frame: processed_frames/video_271/frame_7.jpg\n",
            "Saved frame: processed_frames/video_271/frame_8.jpg\n"
          ]
        },
        {
          "metadata": {
            "tags": null
          },
          "name": "stderr",
          "output_type": "stream",
          "text": [
            "\r 57%|█████▋    | 272/477 [18:21<13:51,  4.06s/it]"
          ]
        },
        {
          "metadata": {
            "tags": null
          },
          "name": "stdout",
          "output_type": "stream",
          "text": [
            "Saved frame: processed_frames/video_271/frame_9.jpg\n",
            "Processing video: /content/drive/MyDrive/HACER/sitdown_sad_8_l.mp4, Total frames: 141\n",
            "Saved frame: processed_frames/video_272/frame_0.jpg\n",
            "Saved frame: processed_frames/video_272/frame_1.jpg\n",
            "Saved frame: processed_frames/video_272/frame_2.jpg\n",
            "Saved frame: processed_frames/video_272/frame_3.jpg\n",
            "Saved frame: processed_frames/video_272/frame_4.jpg\n",
            "Saved frame: processed_frames/video_272/frame_5.jpg\n",
            "Saved frame: processed_frames/video_272/frame_6.jpg\n",
            "Saved frame: processed_frames/video_272/frame_7.jpg\n",
            "Saved frame: processed_frames/video_272/frame_8.jpg\n"
          ]
        },
        {
          "metadata": {
            "tags": null
          },
          "name": "stderr",
          "output_type": "stream",
          "text": [
            "\r 57%|█████▋    | 273/477 [18:25<13:21,  3.93s/it]"
          ]
        },
        {
          "metadata": {
            "tags": null
          },
          "name": "stdout",
          "output_type": "stream",
          "text": [
            "Saved frame: processed_frames/video_272/frame_9.jpg\n",
            "Processing video: /content/drive/MyDrive/HACER/sitdown_sad_9_m.mp4, Total frames: 173\n",
            "Saved frame: processed_frames/video_273/frame_0.jpg\n",
            "Saved frame: processed_frames/video_273/frame_1.jpg\n",
            "Saved frame: processed_frames/video_273/frame_2.jpg\n",
            "Saved frame: processed_frames/video_273/frame_3.jpg\n",
            "Saved frame: processed_frames/video_273/frame_4.jpg\n",
            "Saved frame: processed_frames/video_273/frame_5.jpg\n",
            "Saved frame: processed_frames/video_273/frame_6.jpg\n",
            "Saved frame: processed_frames/video_273/frame_7.jpg\n"
          ]
        },
        {
          "metadata": {
            "tags": null
          },
          "name": "stderr",
          "output_type": "stream",
          "text": [
            "\r 57%|█████▋    | 274/477 [18:28<12:37,  3.73s/it]"
          ]
        },
        {
          "metadata": {
            "tags": null
          },
          "name": "stdout",
          "output_type": "stream",
          "text": [
            "Saved frame: processed_frames/video_273/frame_8.jpg\n",
            "Saved frame: processed_frames/video_273/frame_9.jpg\n",
            "Processing video: /content/drive/MyDrive/HACER/standup_angry_10_w.mp4, Total frames: 119\n",
            "Saved frame: processed_frames/video_274/frame_0.jpg\n",
            "Saved frame: processed_frames/video_274/frame_1.jpg\n",
            "Saved frame: processed_frames/video_274/frame_2.jpg\n",
            "Saved frame: processed_frames/video_274/frame_3.jpg\n",
            "Saved frame: processed_frames/video_274/frame_4.jpg\n",
            "Saved frame: processed_frames/video_274/frame_5.jpg\n",
            "Saved frame: processed_frames/video_274/frame_6.jpg\n",
            "Saved frame: processed_frames/video_274/frame_7.jpg\n",
            "Saved frame: processed_frames/video_274/frame_8.jpg\n"
          ]
        },
        {
          "metadata": {
            "tags": null
          },
          "name": "stderr",
          "output_type": "stream",
          "text": [
            "\r 58%|█████▊    | 275/477 [18:30<11:13,  3.33s/it]"
          ]
        },
        {
          "metadata": {
            "tags": null
          },
          "name": "stdout",
          "output_type": "stream",
          "text": [
            "Saved frame: processed_frames/video_274/frame_9.jpg\n",
            "Processing video: /content/drive/MyDrive/HACER/standup_angry_11_s.mp4, Total frames: 118\n",
            "Saved frame: processed_frames/video_275/frame_0.jpg\n",
            "Saved frame: processed_frames/video_275/frame_1.jpg\n",
            "Saved frame: processed_frames/video_275/frame_2.jpg\n",
            "Saved frame: processed_frames/video_275/frame_3.jpg\n",
            "Saved frame: processed_frames/video_275/frame_4.jpg\n",
            "Saved frame: processed_frames/video_275/frame_5.jpg\n",
            "Saved frame: processed_frames/video_275/frame_6.jpg\n",
            "Saved frame: processed_frames/video_275/frame_7.jpg\n",
            "Saved frame: processed_frames/video_275/frame_8.jpg\n"
          ]
        },
        {
          "metadata": {
            "tags": null
          },
          "name": "stderr",
          "output_type": "stream",
          "text": [
            "\r 58%|█████▊    | 276/477 [18:35<12:47,  3.82s/it]"
          ]
        },
        {
          "metadata": {
            "tags": null
          },
          "name": "stdout",
          "output_type": "stream",
          "text": [
            "Saved frame: processed_frames/video_275/frame_9.jpg\n",
            "Processing video: /content/drive/MyDrive/HACER/standup_angry_12_h.mp4, Total frames: 156\n",
            "Saved frame: processed_frames/video_276/frame_0.jpg\n",
            "Saved frame: processed_frames/video_276/frame_1.jpg\n",
            "Saved frame: processed_frames/video_276/frame_2.jpg\n",
            "Saved frame: processed_frames/video_276/frame_3.jpg\n",
            "Saved frame: processed_frames/video_276/frame_4.jpg\n",
            "Saved frame: processed_frames/video_276/frame_5.jpg\n",
            "Saved frame: processed_frames/video_276/frame_6.jpg\n",
            "Saved frame: processed_frames/video_276/frame_7.jpg\n",
            "Saved frame: processed_frames/video_276/frame_8.jpg\n"
          ]
        },
        {
          "metadata": {
            "tags": null
          },
          "name": "stderr",
          "output_type": "stream",
          "text": [
            "\r 58%|█████▊    | 277/477 [18:39<12:31,  3.76s/it]"
          ]
        },
        {
          "metadata": {
            "tags": null
          },
          "name": "stdout",
          "output_type": "stream",
          "text": [
            "Saved frame: processed_frames/video_276/frame_9.jpg\n",
            "Processing video: /content/drive/MyDrive/HACER/standup_angry_1_h.mp4, Total frames: 105\n",
            "Saved frame: processed_frames/video_277/frame_0.jpg\n",
            "Saved frame: processed_frames/video_277/frame_1.jpg\n",
            "Saved frame: processed_frames/video_277/frame_2.jpg\n",
            "Saved frame: processed_frames/video_277/frame_3.jpg\n",
            "Saved frame: processed_frames/video_277/frame_4.jpg\n",
            "Saved frame: processed_frames/video_277/frame_5.jpg\n",
            "Saved frame: processed_frames/video_277/frame_6.jpg\n",
            "Saved frame: processed_frames/video_277/frame_7.jpg\n",
            "Saved frame: processed_frames/video_277/frame_8.jpg\n"
          ]
        },
        {
          "metadata": {
            "tags": null
          },
          "name": "stderr",
          "output_type": "stream",
          "text": [
            "\r 58%|█████▊    | 278/477 [18:42<11:26,  3.45s/it]"
          ]
        },
        {
          "metadata": {
            "tags": null
          },
          "name": "stdout",
          "output_type": "stream",
          "text": [
            "Saved frame: processed_frames/video_277/frame_9.jpg\n",
            "Processing video: /content/drive/MyDrive/HACER/standup_angry_2_w.mp4, Total frames: 120\n",
            "Saved frame: processed_frames/video_278/frame_0.jpg\n",
            "Saved frame: processed_frames/video_278/frame_1.jpg\n",
            "Saved frame: processed_frames/video_278/frame_2.jpg\n",
            "Saved frame: processed_frames/video_278/frame_3.jpg\n",
            "Saved frame: processed_frames/video_278/frame_4.jpg\n",
            "Saved frame: processed_frames/video_278/frame_5.jpg\n",
            "Saved frame: processed_frames/video_278/frame_6.jpg\n",
            "Saved frame: processed_frames/video_278/frame_7.jpg\n",
            "Saved frame: processed_frames/video_278/frame_8.jpg\n"
          ]
        },
        {
          "metadata": {
            "tags": null
          },
          "name": "stderr",
          "output_type": "stream",
          "text": [
            "\r 58%|█████▊    | 279/477 [18:45<10:59,  3.33s/it]"
          ]
        },
        {
          "metadata": {
            "tags": null
          },
          "name": "stdout",
          "output_type": "stream",
          "text": [
            "Saved frame: processed_frames/video_278/frame_9.jpg\n",
            "Processing video: /content/drive/MyDrive/HACER/standup_angry_3_j.mp4, Total frames: 96\n",
            "Saved frame: processed_frames/video_279/frame_0.jpg\n",
            "Saved frame: processed_frames/video_279/frame_1.jpg\n",
            "Saved frame: processed_frames/video_279/frame_2.jpg\n",
            "Saved frame: processed_frames/video_279/frame_3.jpg\n",
            "Saved frame: processed_frames/video_279/frame_4.jpg\n",
            "Saved frame: processed_frames/video_279/frame_5.jpg\n",
            "Saved frame: processed_frames/video_279/frame_6.jpg\n",
            "Saved frame: processed_frames/video_279/frame_7.jpg\n",
            "Saved frame: processed_frames/video_279/frame_8.jpg\n"
          ]
        },
        {
          "metadata": {
            "tags": null
          },
          "name": "stderr",
          "output_type": "stream",
          "text": [
            "\r 59%|█████▊    | 280/477 [18:48<10:43,  3.27s/it]"
          ]
        },
        {
          "metadata": {
            "tags": null
          },
          "name": "stdout",
          "output_type": "stream",
          "text": [
            "Saved frame: processed_frames/video_279/frame_9.jpg\n",
            "Processing video: /content/drive/MyDrive/HACER/standup_angry_4_j.mp4, Total frames: 142\n",
            "Saved frame: processed_frames/video_280/frame_0.jpg\n",
            "Saved frame: processed_frames/video_280/frame_1.jpg\n",
            "Saved frame: processed_frames/video_280/frame_2.jpg\n",
            "Saved frame: processed_frames/video_280/frame_3.jpg\n",
            "Saved frame: processed_frames/video_280/frame_4.jpg\n",
            "Saved frame: processed_frames/video_280/frame_5.jpg\n",
            "Saved frame: processed_frames/video_280/frame_6.jpg\n",
            "Saved frame: processed_frames/video_280/frame_7.jpg\n",
            "Saved frame: processed_frames/video_280/frame_8.jpg\n"
          ]
        },
        {
          "metadata": {
            "tags": null
          },
          "name": "stderr",
          "output_type": "stream",
          "text": [
            "\r 59%|█████▉    | 281/477 [18:52<12:03,  3.69s/it]"
          ]
        },
        {
          "metadata": {
            "tags": null
          },
          "name": "stdout",
          "output_type": "stream",
          "text": [
            "Saved frame: processed_frames/video_280/frame_9.jpg\n",
            "Processing video: /content/drive/MyDrive/HACER/standup_angry_5_j.mp4, Total frames: 137\n",
            "Saved frame: processed_frames/video_281/frame_0.jpg\n",
            "Saved frame: processed_frames/video_281/frame_1.jpg\n",
            "Saved frame: processed_frames/video_281/frame_2.jpg\n",
            "Saved frame: processed_frames/video_281/frame_3.jpg\n",
            "Saved frame: processed_frames/video_281/frame_4.jpg\n",
            "Saved frame: processed_frames/video_281/frame_5.jpg\n",
            "Saved frame: processed_frames/video_281/frame_6.jpg\n",
            "Saved frame: processed_frames/video_281/frame_7.jpg\n",
            "Saved frame: processed_frames/video_281/frame_8.jpg\n"
          ]
        },
        {
          "metadata": {
            "tags": null
          },
          "name": "stderr",
          "output_type": "stream",
          "text": [
            "\r 59%|█████▉    | 282/477 [18:55<11:20,  3.49s/it]"
          ]
        },
        {
          "metadata": {
            "tags": null
          },
          "name": "stdout",
          "output_type": "stream",
          "text": [
            "Saved frame: processed_frames/video_281/frame_9.jpg\n",
            "Processing video: /content/drive/MyDrive/HACER/standup_angry_6_m.mp4, Total frames: 212\n",
            "Saved frame: processed_frames/video_282/frame_0.jpg\n",
            "Saved frame: processed_frames/video_282/frame_1.jpg\n",
            "Saved frame: processed_frames/video_282/frame_2.jpg\n",
            "Saved frame: processed_frames/video_282/frame_3.jpg\n",
            "Saved frame: processed_frames/video_282/frame_4.jpg\n",
            "Saved frame: processed_frames/video_282/frame_5.jpg\n",
            "Saved frame: processed_frames/video_282/frame_6.jpg\n",
            "Saved frame: processed_frames/video_282/frame_7.jpg\n",
            "Saved frame: processed_frames/video_282/frame_8.jpg\n"
          ]
        },
        {
          "metadata": {
            "tags": null
          },
          "name": "stderr",
          "output_type": "stream",
          "text": [
            "\r 59%|█████▉    | 283/477 [18:59<11:03,  3.42s/it]"
          ]
        },
        {
          "metadata": {
            "tags": null
          },
          "name": "stdout",
          "output_type": "stream",
          "text": [
            "Saved frame: processed_frames/video_282/frame_9.jpg\n",
            "Processing video: /content/drive/MyDrive/HACER/standup_angry_7_h.mp4, Total frames: 94\n",
            "Saved frame: processed_frames/video_283/frame_0.jpg\n",
            "Saved frame: processed_frames/video_283/frame_1.jpg\n",
            "Saved frame: processed_frames/video_283/frame_2.jpg\n",
            "Saved frame: processed_frames/video_283/frame_3.jpg\n",
            "Saved frame: processed_frames/video_283/frame_4.jpg\n",
            "Saved frame: processed_frames/video_283/frame_5.jpg\n",
            "Saved frame: processed_frames/video_283/frame_6.jpg\n",
            "Saved frame: processed_frames/video_283/frame_7.jpg\n",
            "Saved frame: processed_frames/video_283/frame_8.jpg\n"
          ]
        },
        {
          "metadata": {
            "tags": null
          },
          "name": "stderr",
          "output_type": "stream",
          "text": [
            "\r 60%|█████▉    | 284/477 [19:01<10:11,  3.17s/it]"
          ]
        },
        {
          "metadata": {
            "tags": null
          },
          "name": "stdout",
          "output_type": "stream",
          "text": [
            "Saved frame: processed_frames/video_283/frame_9.jpg\n",
            "Processing video: /content/drive/MyDrive/HACER/standup_angry_8_l.mp4, Total frames: 181\n",
            "Saved frame: processed_frames/video_284/frame_0.jpg\n",
            "Saved frame: processed_frames/video_284/frame_1.jpg\n",
            "Saved frame: processed_frames/video_284/frame_2.jpg\n",
            "Saved frame: processed_frames/video_284/frame_3.jpg\n",
            "Saved frame: processed_frames/video_284/frame_4.jpg\n",
            "Saved frame: processed_frames/video_284/frame_5.jpg\n",
            "Saved frame: processed_frames/video_284/frame_6.jpg\n",
            "Saved frame: processed_frames/video_284/frame_7.jpg\n",
            "Saved frame: processed_frames/video_284/frame_8.jpg\n"
          ]
        },
        {
          "metadata": {
            "tags": null
          },
          "name": "stderr",
          "output_type": "stream",
          "text": [
            "\r 60%|█████▉    | 285/477 [19:07<12:11,  3.81s/it]"
          ]
        },
        {
          "metadata": {
            "tags": null
          },
          "name": "stdout",
          "output_type": "stream",
          "text": [
            "Saved frame: processed_frames/video_284/frame_9.jpg\n",
            "Processing video: /content/drive/MyDrive/HACER/standup_angry_9_w.mp4, Total frames: 147\n",
            "Saved frame: processed_frames/video_285/frame_0.jpg\n",
            "Saved frame: processed_frames/video_285/frame_1.jpg\n",
            "Saved frame: processed_frames/video_285/frame_2.jpg\n",
            "Saved frame: processed_frames/video_285/frame_3.jpg\n",
            "Saved frame: processed_frames/video_285/frame_4.jpg\n",
            "Saved frame: processed_frames/video_285/frame_5.jpg\n",
            "Saved frame: processed_frames/video_285/frame_6.jpg\n",
            "Saved frame: processed_frames/video_285/frame_7.jpg\n",
            "Saved frame: processed_frames/video_285/frame_8.jpg\n"
          ]
        },
        {
          "metadata": {
            "tags": null
          },
          "name": "stderr",
          "output_type": "stream",
          "text": [
            "\r 60%|█████▉    | 286/477 [19:10<11:18,  3.55s/it]"
          ]
        },
        {
          "metadata": {
            "tags": null
          },
          "name": "stdout",
          "output_type": "stream",
          "text": [
            "Saved frame: processed_frames/video_285/frame_9.jpg\n",
            "Processing video: /content/drive/MyDrive/HACER/standup_happy_10_l.mp4, Total frames: 116\n",
            "Saved frame: processed_frames/video_286/frame_0.jpg\n",
            "Saved frame: processed_frames/video_286/frame_1.jpg\n",
            "Saved frame: processed_frames/video_286/frame_2.jpg\n",
            "Saved frame: processed_frames/video_286/frame_3.jpg\n",
            "Saved frame: processed_frames/video_286/frame_4.jpg\n",
            "Saved frame: processed_frames/video_286/frame_5.jpg\n",
            "Saved frame: processed_frames/video_286/frame_6.jpg\n",
            "Saved frame: processed_frames/video_286/frame_7.jpg\n",
            "Saved frame: processed_frames/video_286/frame_8.jpg\n"
          ]
        },
        {
          "metadata": {
            "tags": null
          },
          "name": "stderr",
          "output_type": "stream",
          "text": [
            "\r 60%|██████    | 287/477 [19:13<10:46,  3.40s/it]"
          ]
        },
        {
          "metadata": {
            "tags": null
          },
          "name": "stdout",
          "output_type": "stream",
          "text": [
            "Saved frame: processed_frames/video_286/frame_9.jpg\n",
            "Processing video: /content/drive/MyDrive/HACER/standup_happy_11_m.mp4, Total frames: 185\n",
            "Saved frame: processed_frames/video_287/frame_0.jpg\n",
            "Saved frame: processed_frames/video_287/frame_1.jpg\n",
            "Saved frame: processed_frames/video_287/frame_2.jpg\n",
            "Saved frame: processed_frames/video_287/frame_3.jpg\n",
            "Saved frame: processed_frames/video_287/frame_4.jpg\n",
            "Saved frame: processed_frames/video_287/frame_5.jpg\n",
            "Saved frame: processed_frames/video_287/frame_6.jpg\n",
            "Saved frame: processed_frames/video_287/frame_7.jpg\n",
            "Saved frame: processed_frames/video_287/frame_8.jpg\n"
          ]
        },
        {
          "metadata": {
            "tags": null
          },
          "name": "stderr",
          "output_type": "stream",
          "text": [
            "\r 60%|██████    | 288/477 [19:15<10:14,  3.25s/it]"
          ]
        },
        {
          "metadata": {
            "tags": null
          },
          "name": "stdout",
          "output_type": "stream",
          "text": [
            "Saved frame: processed_frames/video_287/frame_9.jpg\n",
            "Processing video: /content/drive/MyDrive/HACER/standup_happy_12_l.mp4, Total frames: 110\n",
            "Saved frame: processed_frames/video_288/frame_0.jpg\n",
            "Saved frame: processed_frames/video_288/frame_1.jpg\n",
            "Saved frame: processed_frames/video_288/frame_2.jpg\n",
            "Saved frame: processed_frames/video_288/frame_3.jpg\n",
            "Saved frame: processed_frames/video_288/frame_4.jpg\n",
            "Saved frame: processed_frames/video_288/frame_5.jpg\n",
            "Saved frame: processed_frames/video_288/frame_6.jpg\n",
            "Saved frame: processed_frames/video_288/frame_7.jpg\n",
            "Saved frame: processed_frames/video_288/frame_8.jpg\n"
          ]
        },
        {
          "metadata": {
            "tags": null
          },
          "name": "stderr",
          "output_type": "stream",
          "text": [
            "\r 61%|██████    | 289/477 [19:20<11:33,  3.69s/it]"
          ]
        },
        {
          "metadata": {
            "tags": null
          },
          "name": "stdout",
          "output_type": "stream",
          "text": [
            "Saved frame: processed_frames/video_288/frame_9.jpg\n",
            "Processing video: /content/drive/MyDrive/HACER/standup_happy_13_y.mp4, Total frames: 114\n",
            "Saved frame: processed_frames/video_289/frame_0.jpg\n",
            "Saved frame: processed_frames/video_289/frame_1.jpg\n",
            "Saved frame: processed_frames/video_289/frame_2.jpg\n",
            "Saved frame: processed_frames/video_289/frame_3.jpg\n",
            "Saved frame: processed_frames/video_289/frame_4.jpg\n",
            "Saved frame: processed_frames/video_289/frame_5.jpg\n",
            "Saved frame: processed_frames/video_289/frame_6.jpg\n",
            "Saved frame: processed_frames/video_289/frame_7.jpg\n",
            "Saved frame: processed_frames/video_289/frame_8.jpg\n"
          ]
        },
        {
          "metadata": {
            "tags": null
          },
          "name": "stderr",
          "output_type": "stream",
          "text": [
            "\r 61%|██████    | 290/477 [19:23<10:45,  3.45s/it]"
          ]
        },
        {
          "metadata": {
            "tags": null
          },
          "name": "stdout",
          "output_type": "stream",
          "text": [
            "Saved frame: processed_frames/video_289/frame_9.jpg\n",
            "Processing video: /content/drive/MyDrive/HACER/standup_happy_14_j.mp4, Total frames: 93\n",
            "Saved frame: processed_frames/video_290/frame_0.jpg\n",
            "Saved frame: processed_frames/video_290/frame_1.jpg\n",
            "Saved frame: processed_frames/video_290/frame_2.jpg\n",
            "Saved frame: processed_frames/video_290/frame_3.jpg\n",
            "Saved frame: processed_frames/video_290/frame_4.jpg\n",
            "Saved frame: processed_frames/video_290/frame_5.jpg\n",
            "Saved frame: processed_frames/video_290/frame_6.jpg\n",
            "Saved frame: processed_frames/video_290/frame_7.jpg\n",
            "Saved frame: processed_frames/video_290/frame_8.jpg\n"
          ]
        },
        {
          "metadata": {
            "tags": null
          },
          "name": "stderr",
          "output_type": "stream",
          "text": [
            "\r 61%|██████    | 291/477 [19:25<09:33,  3.08s/it]"
          ]
        },
        {
          "metadata": {
            "tags": null
          },
          "name": "stdout",
          "output_type": "stream",
          "text": [
            "Saved frame: processed_frames/video_290/frame_9.jpg\n",
            "Processing video: /content/drive/MyDrive/HACER/standup_happy_15_s.mp4, Total frames: 104\n",
            "Saved frame: processed_frames/video_291/frame_0.jpg\n",
            "Saved frame: processed_frames/video_291/frame_1.jpg\n",
            "Saved frame: processed_frames/video_291/frame_2.jpg\n",
            "Saved frame: processed_frames/video_291/frame_3.jpg\n",
            "Saved frame: processed_frames/video_291/frame_4.jpg\n",
            "Saved frame: processed_frames/video_291/frame_5.jpg\n",
            "Saved frame: processed_frames/video_291/frame_6.jpg\n",
            "Saved frame: processed_frames/video_291/frame_7.jpg\n",
            "Saved frame: processed_frames/video_291/frame_8.jpg\n"
          ]
        },
        {
          "metadata": {
            "tags": null
          },
          "name": "stderr",
          "output_type": "stream",
          "text": [
            "\r 61%|██████    | 292/477 [19:28<09:03,  2.94s/it]"
          ]
        },
        {
          "metadata": {
            "tags": null
          },
          "name": "stdout",
          "output_type": "stream",
          "text": [
            "Saved frame: processed_frames/video_291/frame_9.jpg\n",
            "Processing video: /content/drive/MyDrive/HACER/standup_happy_16_h.mp4, Total frames: 106\n",
            "Saved frame: processed_frames/video_292/frame_0.jpg\n",
            "Saved frame: processed_frames/video_292/frame_1.jpg\n",
            "Saved frame: processed_frames/video_292/frame_2.jpg\n",
            "Saved frame: processed_frames/video_292/frame_3.jpg\n",
            "Saved frame: processed_frames/video_292/frame_4.jpg\n",
            "Saved frame: processed_frames/video_292/frame_5.jpg\n",
            "Saved frame: processed_frames/video_292/frame_6.jpg\n",
            "Saved frame: processed_frames/video_292/frame_7.jpg\n",
            "Saved frame: processed_frames/video_292/frame_8.jpg\n"
          ]
        },
        {
          "metadata": {
            "tags": null
          },
          "name": "stderr",
          "output_type": "stream",
          "text": [
            "\r 61%|██████▏   | 293/477 [19:30<08:40,  2.83s/it]"
          ]
        },
        {
          "metadata": {
            "tags": null
          },
          "name": "stdout",
          "output_type": "stream",
          "text": [
            "Saved frame: processed_frames/video_292/frame_9.jpg\n",
            "Processing video: /content/drive/MyDrive/HACER/standup_happy_17_k.mp4, Total frames: 87\n",
            "Saved frame: processed_frames/video_293/frame_0.jpg\n",
            "Saved frame: processed_frames/video_293/frame_1.jpg\n",
            "Saved frame: processed_frames/video_293/frame_2.jpg\n",
            "Saved frame: processed_frames/video_293/frame_3.jpg\n",
            "Saved frame: processed_frames/video_293/frame_4.jpg\n",
            "Saved frame: processed_frames/video_293/frame_5.jpg\n",
            "Saved frame: processed_frames/video_293/frame_6.jpg\n",
            "Saved frame: processed_frames/video_293/frame_7.jpg\n",
            "Saved frame: processed_frames/video_293/frame_8.jpg\n"
          ]
        },
        {
          "metadata": {
            "tags": null
          },
          "name": "stderr",
          "output_type": "stream",
          "text": [
            "\r 62%|██████▏   | 294/477 [19:34<09:07,  2.99s/it]"
          ]
        },
        {
          "metadata": {
            "tags": null
          },
          "name": "stdout",
          "output_type": "stream",
          "text": [
            "Saved frame: processed_frames/video_293/frame_9.jpg\n",
            "Processing video: /content/drive/MyDrive/HACER/standup_happy_18_y.mp4, Total frames: 154\n",
            "Saved frame: processed_frames/video_294/frame_0.jpg\n",
            "Saved frame: processed_frames/video_294/frame_1.jpg\n",
            "Saved frame: processed_frames/video_294/frame_2.jpg\n",
            "Saved frame: processed_frames/video_294/frame_3.jpg\n",
            "Saved frame: processed_frames/video_294/frame_4.jpg\n",
            "Saved frame: processed_frames/video_294/frame_5.jpg\n",
            "Saved frame: processed_frames/video_294/frame_6.jpg\n",
            "Saved frame: processed_frames/video_294/frame_7.jpg\n",
            "Saved frame: processed_frames/video_294/frame_8.jpg\n"
          ]
        },
        {
          "metadata": {
            "tags": null
          },
          "name": "stderr",
          "output_type": "stream",
          "text": [
            "\r 62%|██████▏   | 295/477 [19:39<10:45,  3.55s/it]"
          ]
        },
        {
          "metadata": {
            "tags": null
          },
          "name": "stdout",
          "output_type": "stream",
          "text": [
            "Saved frame: processed_frames/video_294/frame_9.jpg\n",
            "Processing video: /content/drive/MyDrive/HACER/standup_happy_19_y.mp4, Total frames: 93\n",
            "Saved frame: processed_frames/video_295/frame_0.jpg\n",
            "Saved frame: processed_frames/video_295/frame_1.jpg\n",
            "Saved frame: processed_frames/video_295/frame_2.jpg\n",
            "Saved frame: processed_frames/video_295/frame_3.jpg\n",
            "Saved frame: processed_frames/video_295/frame_4.jpg\n",
            "Saved frame: processed_frames/video_295/frame_5.jpg\n",
            "Saved frame: processed_frames/video_295/frame_6.jpg\n",
            "Saved frame: processed_frames/video_295/frame_7.jpg\n",
            "Saved frame: processed_frames/video_295/frame_8.jpg\n"
          ]
        },
        {
          "metadata": {
            "tags": null
          },
          "name": "stderr",
          "output_type": "stream",
          "text": [
            "\r 62%|██████▏   | 296/477 [19:41<09:24,  3.12s/it]"
          ]
        },
        {
          "metadata": {
            "tags": null
          },
          "name": "stdout",
          "output_type": "stream",
          "text": [
            "Saved frame: processed_frames/video_295/frame_9.jpg\n",
            "Processing video: /content/drive/MyDrive/HACER/standup_happy_1_a.mp4, Total frames: 191\n",
            "Saved frame: processed_frames/video_296/frame_0.jpg\n",
            "Saved frame: processed_frames/video_296/frame_1.jpg\n",
            "Saved frame: processed_frames/video_296/frame_2.jpg\n",
            "Saved frame: processed_frames/video_296/frame_3.jpg\n",
            "Saved frame: processed_frames/video_296/frame_4.jpg\n",
            "Saved frame: processed_frames/video_296/frame_5.jpg\n",
            "Saved frame: processed_frames/video_296/frame_6.jpg\n",
            "Saved frame: processed_frames/video_296/frame_7.jpg\n",
            "Saved frame: processed_frames/video_296/frame_8.jpg\n"
          ]
        },
        {
          "metadata": {
            "tags": null
          },
          "name": "stderr",
          "output_type": "stream",
          "text": [
            "\r 62%|██████▏   | 297/477 [19:44<09:38,  3.21s/it]"
          ]
        },
        {
          "metadata": {
            "tags": null
          },
          "name": "stdout",
          "output_type": "stream",
          "text": [
            "Saved frame: processed_frames/video_296/frame_9.jpg\n",
            "Processing video: /content/drive/MyDrive/HACER/standup_happy_20_y.mp4, Total frames: 144\n",
            "Saved frame: processed_frames/video_297/frame_0.jpg\n",
            "Saved frame: processed_frames/video_297/frame_1.jpg\n",
            "Saved frame: processed_frames/video_297/frame_2.jpg\n",
            "Saved frame: processed_frames/video_297/frame_3.jpg\n",
            "Saved frame: processed_frames/video_297/frame_4.jpg\n",
            "Saved frame: processed_frames/video_297/frame_5.jpg\n",
            "Saved frame: processed_frames/video_297/frame_6.jpg\n",
            "Saved frame: processed_frames/video_297/frame_7.jpg\n",
            "Saved frame: processed_frames/video_297/frame_8.jpg\n"
          ]
        },
        {
          "metadata": {
            "tags": null
          },
          "name": "stderr",
          "output_type": "stream",
          "text": [
            "\r 62%|██████▏   | 298/477 [19:49<10:40,  3.58s/it]"
          ]
        },
        {
          "metadata": {
            "tags": null
          },
          "name": "stdout",
          "output_type": "stream",
          "text": [
            "Saved frame: processed_frames/video_297/frame_9.jpg\n",
            "Processing video: /content/drive/MyDrive/HACER/standup_happy_21_t.mp4, Total frames: 51\n",
            "Saved frame: processed_frames/video_298/frame_0.jpg\n",
            "Saved frame: processed_frames/video_298/frame_1.jpg\n",
            "Saved frame: processed_frames/video_298/frame_2.jpg\n",
            "Saved frame: processed_frames/video_298/frame_3.jpg\n",
            "Saved frame: processed_frames/video_298/frame_4.jpg\n",
            "Saved frame: processed_frames/video_298/frame_5.jpg\n",
            "Saved frame: processed_frames/video_298/frame_6.jpg\n",
            "Saved frame: processed_frames/video_298/frame_7.jpg\n",
            "Saved frame: processed_frames/video_298/frame_8.jpg\n"
          ]
        },
        {
          "metadata": {
            "tags": null
          },
          "name": "stderr",
          "output_type": "stream",
          "text": [
            "\r 63%|██████▎   | 299/477 [19:52<10:02,  3.39s/it]"
          ]
        },
        {
          "output_type": "stream",
          "name": "stdout",
          "text": [
            "Saved frame: processed_frames/video_298/frame_9.jpg\n",
            "Processing video: /content/drive/MyDrive/HACER/standup_happy_22_y.mp4, Total frames: 194\n",
            "Saved frame: processed_frames/video_299/frame_0.jpg\n",
            "Saved frame: processed_frames/video_299/frame_1.jpg\n",
            "Saved frame: processed_frames/video_299/frame_2.jpg\n",
            "Saved frame: processed_frames/video_299/frame_3.jpg\n",
            "Saved frame: processed_frames/video_299/frame_4.jpg\n",
            "Saved frame: processed_frames/video_299/frame_5.jpg\n",
            "Saved frame: processed_frames/video_299/frame_6.jpg\n",
            "Saved frame: processed_frames/video_299/frame_7.jpg\n",
            "Saved frame: processed_frames/video_299/frame_8.jpg\n"
          ]
        },
        {
          "output_type": "stream",
          "name": "stderr",
          "text": [
            "\r 63%|██████▎   | 300/477 [19:55<09:43,  3.30s/it]"
          ]
        },
        {
          "output_type": "stream",
          "name": "stdout",
          "text": [
            "Saved frame: processed_frames/video_299/frame_9.jpg\n",
            "Processing video: /content/drive/MyDrive/HACER/standup_happy_23_t.mp4, Total frames: 66\n",
            "Saved frame: processed_frames/video_300/frame_0.jpg\n",
            "Saved frame: processed_frames/video_300/frame_1.jpg\n",
            "Saved frame: processed_frames/video_300/frame_2.jpg\n",
            "Saved frame: processed_frames/video_300/frame_3.jpg\n",
            "Saved frame: processed_frames/video_300/frame_4.jpg\n",
            "Saved frame: processed_frames/video_300/frame_5.jpg\n",
            "Saved frame: processed_frames/video_300/frame_6.jpg\n",
            "Saved frame: processed_frames/video_300/frame_7.jpg\n",
            "Saved frame: processed_frames/video_300/frame_8.jpg\n"
          ]
        },
        {
          "output_type": "stream",
          "name": "stderr",
          "text": [
            "\r 63%|██████▎   | 301/477 [19:57<08:26,  2.88s/it]"
          ]
        },
        {
          "output_type": "stream",
          "name": "stdout",
          "text": [
            "Saved frame: processed_frames/video_300/frame_9.jpg\n",
            "Processing video: /content/drive/MyDrive/HACER/standup_happy_24_h.mp4, Total frames: 149\n",
            "Saved frame: processed_frames/video_301/frame_0.jpg\n",
            "Saved frame: processed_frames/video_301/frame_1.jpg\n",
            "Saved frame: processed_frames/video_301/frame_2.jpg\n",
            "Saved frame: processed_frames/video_301/frame_3.jpg\n",
            "Saved frame: processed_frames/video_301/frame_4.jpg\n",
            "Saved frame: processed_frames/video_301/frame_5.jpg\n",
            "Saved frame: processed_frames/video_301/frame_6.jpg\n",
            "Saved frame: processed_frames/video_301/frame_7.jpg\n",
            "Saved frame: processed_frames/video_301/frame_8.jpg\n"
          ]
        },
        {
          "output_type": "stream",
          "name": "stderr",
          "text": [
            "\r 63%|██████▎   | 302/477 [20:01<09:17,  3.19s/it]"
          ]
        },
        {
          "output_type": "stream",
          "name": "stdout",
          "text": [
            "Saved frame: processed_frames/video_301/frame_9.jpg\n",
            "Processing video: /content/drive/MyDrive/HACER/standup_happy_2_w.mp4, Total frames: 131\n",
            "Saved frame: processed_frames/video_302/frame_0.jpg\n",
            "Saved frame: processed_frames/video_302/frame_1.jpg\n",
            "Saved frame: processed_frames/video_302/frame_2.jpg\n",
            "Saved frame: processed_frames/video_302/frame_3.jpg\n",
            "Saved frame: processed_frames/video_302/frame_4.jpg\n",
            "Saved frame: processed_frames/video_302/frame_5.jpg\n",
            "Saved frame: processed_frames/video_302/frame_6.jpg\n",
            "Saved frame: processed_frames/video_302/frame_7.jpg\n",
            "Saved frame: processed_frames/video_302/frame_8.jpg\n"
          ]
        },
        {
          "output_type": "stream",
          "name": "stderr",
          "text": [
            "\r 64%|██████▎   | 303/477 [20:06<10:58,  3.79s/it]"
          ]
        },
        {
          "output_type": "stream",
          "name": "stdout",
          "text": [
            "Saved frame: processed_frames/video_302/frame_9.jpg\n",
            "Processing video: /content/drive/MyDrive/HACER/standup_happy_3_j.mp4, Total frames: 188\n",
            "Saved frame: processed_frames/video_303/frame_0.jpg\n",
            "Saved frame: processed_frames/video_303/frame_1.jpg\n",
            "Saved frame: processed_frames/video_303/frame_2.jpg\n",
            "Saved frame: processed_frames/video_303/frame_3.jpg\n",
            "Saved frame: processed_frames/video_303/frame_4.jpg\n",
            "Saved frame: processed_frames/video_303/frame_5.jpg\n",
            "Saved frame: processed_frames/video_303/frame_6.jpg\n",
            "Saved frame: processed_frames/video_303/frame_7.jpg\n",
            "Saved frame: processed_frames/video_303/frame_8.jpg\n"
          ]
        },
        {
          "output_type": "stream",
          "name": "stderr",
          "text": [
            "\r 64%|██████▎   | 304/477 [20:09<10:41,  3.71s/it]"
          ]
        },
        {
          "output_type": "stream",
          "name": "stdout",
          "text": [
            "Saved frame: processed_frames/video_303/frame_9.jpg\n",
            "Processing video: /content/drive/MyDrive/HACER/standup_happy_4_j.mp4, Total frames: 157\n",
            "Saved frame: processed_frames/video_304/frame_0.jpg\n",
            "Saved frame: processed_frames/video_304/frame_1.jpg\n",
            "Saved frame: processed_frames/video_304/frame_2.jpg\n",
            "Saved frame: processed_frames/video_304/frame_3.jpg\n",
            "Saved frame: processed_frames/video_304/frame_4.jpg\n",
            "Saved frame: processed_frames/video_304/frame_5.jpg\n",
            "Saved frame: processed_frames/video_304/frame_6.jpg\n",
            "Saved frame: processed_frames/video_304/frame_7.jpg\n",
            "Saved frame: processed_frames/video_304/frame_8.jpg\n"
          ]
        },
        {
          "output_type": "stream",
          "name": "stderr",
          "text": [
            "\r 64%|██████▍   | 305/477 [20:13<10:47,  3.76s/it]"
          ]
        },
        {
          "output_type": "stream",
          "name": "stdout",
          "text": [
            "Saved frame: processed_frames/video_304/frame_9.jpg\n",
            "Processing video: /content/drive/MyDrive/HACER/standup_happy_5_m.mp4, Total frames: 182\n",
            "Saved frame: processed_frames/video_305/frame_0.jpg\n",
            "Saved frame: processed_frames/video_305/frame_1.jpg\n",
            "Saved frame: processed_frames/video_305/frame_2.jpg\n",
            "Saved frame: processed_frames/video_305/frame_3.jpg\n",
            "Saved frame: processed_frames/video_305/frame_4.jpg\n",
            "Saved frame: processed_frames/video_305/frame_5.jpg\n",
            "Saved frame: processed_frames/video_305/frame_6.jpg\n",
            "Saved frame: processed_frames/video_305/frame_7.jpg\n",
            "Saved frame: processed_frames/video_305/frame_8.jpg\n"
          ]
        },
        {
          "output_type": "stream",
          "name": "stderr",
          "text": [
            "\r 64%|██████▍   | 306/477 [20:16<10:18,  3.61s/it]"
          ]
        },
        {
          "output_type": "stream",
          "name": "stdout",
          "text": [
            "Saved frame: processed_frames/video_305/frame_9.jpg\n",
            "Processing video: /content/drive/MyDrive/HACER/standup_happy_6_s.mp4, Total frames: 124\n",
            "Saved frame: processed_frames/video_306/frame_0.jpg\n",
            "Saved frame: processed_frames/video_306/frame_1.jpg\n",
            "Saved frame: processed_frames/video_306/frame_2.jpg\n",
            "Saved frame: processed_frames/video_306/frame_3.jpg\n",
            "Saved frame: processed_frames/video_306/frame_4.jpg\n",
            "Saved frame: processed_frames/video_306/frame_5.jpg\n",
            "Saved frame: processed_frames/video_306/frame_6.jpg\n",
            "Saved frame: processed_frames/video_306/frame_7.jpg\n",
            "Saved frame: processed_frames/video_306/frame_8.jpg\n"
          ]
        },
        {
          "output_type": "stream",
          "name": "stderr",
          "text": [
            "\r 64%|██████▍   | 307/477 [20:21<11:30,  4.06s/it]"
          ]
        },
        {
          "output_type": "stream",
          "name": "stdout",
          "text": [
            "Saved frame: processed_frames/video_306/frame_9.jpg\n",
            "Processing video: /content/drive/MyDrive/HACER/standup_happy_7_h.mp4, Total frames: 91\n",
            "Saved frame: processed_frames/video_307/frame_0.jpg\n",
            "Saved frame: processed_frames/video_307/frame_1.jpg\n",
            "Saved frame: processed_frames/video_307/frame_2.jpg\n",
            "Saved frame: processed_frames/video_307/frame_3.jpg\n",
            "Saved frame: processed_frames/video_307/frame_4.jpg\n",
            "Saved frame: processed_frames/video_307/frame_5.jpg\n",
            "Saved frame: processed_frames/video_307/frame_6.jpg\n",
            "Saved frame: processed_frames/video_307/frame_7.jpg\n",
            "Saved frame: processed_frames/video_307/frame_8.jpg\n"
          ]
        },
        {
          "output_type": "stream",
          "name": "stderr",
          "text": [
            "\r 65%|██████▍   | 308/477 [20:24<10:10,  3.61s/it]"
          ]
        },
        {
          "output_type": "stream",
          "name": "stdout",
          "text": [
            "Saved frame: processed_frames/video_307/frame_9.jpg\n",
            "Processing video: /content/drive/MyDrive/HACER/standup_happy_8_a.mp4, Total frames: 157\n",
            "Saved frame: processed_frames/video_308/frame_0.jpg\n",
            "Saved frame: processed_frames/video_308/frame_1.jpg\n",
            "Saved frame: processed_frames/video_308/frame_2.jpg\n",
            "Saved frame: processed_frames/video_308/frame_3.jpg\n",
            "Saved frame: processed_frames/video_308/frame_4.jpg\n",
            "Saved frame: processed_frames/video_308/frame_5.jpg\n",
            "Saved frame: processed_frames/video_308/frame_6.jpg\n",
            "Saved frame: processed_frames/video_308/frame_7.jpg\n",
            "Saved frame: processed_frames/video_308/frame_8.jpg\n"
          ]
        },
        {
          "output_type": "stream",
          "name": "stderr",
          "text": [
            "\r 65%|██████▍   | 309/477 [20:28<10:33,  3.77s/it]"
          ]
        },
        {
          "output_type": "stream",
          "name": "stdout",
          "text": [
            "Saved frame: processed_frames/video_308/frame_9.jpg\n",
            "Processing video: /content/drive/MyDrive/HACER/standup_happy_9_h.mp4, Total frames: 129\n",
            "Saved frame: processed_frames/video_309/frame_0.jpg\n",
            "Saved frame: processed_frames/video_309/frame_1.jpg\n",
            "Saved frame: processed_frames/video_309/frame_2.jpg\n",
            "Saved frame: processed_frames/video_309/frame_3.jpg\n",
            "Saved frame: processed_frames/video_309/frame_4.jpg\n",
            "Saved frame: processed_frames/video_309/frame_5.jpg\n",
            "Saved frame: processed_frames/video_309/frame_6.jpg\n",
            "Saved frame: processed_frames/video_309/frame_7.jpg\n",
            "Saved frame: processed_frames/video_309/frame_8.jpg\n"
          ]
        },
        {
          "output_type": "stream",
          "name": "stderr",
          "text": [
            "\r 65%|██████▍   | 310/477 [20:32<10:15,  3.68s/it]"
          ]
        },
        {
          "output_type": "stream",
          "name": "stdout",
          "text": [
            "Saved frame: processed_frames/video_309/frame_9.jpg\n",
            "Processing video: /content/drive/MyDrive/HACER/standup_neutral_10_l.mp4, Total frames: 121\n",
            "Saved frame: processed_frames/video_310/frame_0.jpg\n",
            "Saved frame: processed_frames/video_310/frame_1.jpg\n",
            "Saved frame: processed_frames/video_310/frame_2.jpg\n",
            "Saved frame: processed_frames/video_310/frame_3.jpg\n",
            "Saved frame: processed_frames/video_310/frame_4.jpg\n",
            "Saved frame: processed_frames/video_310/frame_5.jpg\n",
            "Saved frame: processed_frames/video_310/frame_6.jpg\n",
            "Saved frame: processed_frames/video_310/frame_7.jpg\n",
            "Saved frame: processed_frames/video_310/frame_8.jpg\n"
          ]
        },
        {
          "output_type": "stream",
          "name": "stderr",
          "text": [
            "\r 65%|██████▌   | 311/477 [20:37<11:44,  4.25s/it]"
          ]
        },
        {
          "output_type": "stream",
          "name": "stdout",
          "text": [
            "Saved frame: processed_frames/video_310/frame_9.jpg\n",
            "Processing video: /content/drive/MyDrive/HACER/standup_neutral_11_m.mp4, Total frames: 188\n",
            "Saved frame: processed_frames/video_311/frame_0.jpg\n",
            "Saved frame: processed_frames/video_311/frame_1.jpg\n",
            "Saved frame: processed_frames/video_311/frame_2.jpg\n",
            "Saved frame: processed_frames/video_311/frame_3.jpg\n",
            "Saved frame: processed_frames/video_311/frame_4.jpg\n",
            "Saved frame: processed_frames/video_311/frame_5.jpg\n",
            "Saved frame: processed_frames/video_311/frame_6.jpg\n",
            "Saved frame: processed_frames/video_311/frame_7.jpg\n",
            "Saved frame: processed_frames/video_311/frame_8.jpg\n"
          ]
        },
        {
          "output_type": "stream",
          "name": "stderr",
          "text": [
            "\r 65%|██████▌   | 312/477 [20:40<10:30,  3.82s/it]"
          ]
        },
        {
          "output_type": "stream",
          "name": "stdout",
          "text": [
            "Saved frame: processed_frames/video_311/frame_9.jpg\n",
            "Processing video: /content/drive/MyDrive/HACER/standup_neutral_12_l.mp4, Total frames: 84\n",
            "Saved frame: processed_frames/video_312/frame_0.jpg\n",
            "Saved frame: processed_frames/video_312/frame_1.jpg\n",
            "Saved frame: processed_frames/video_312/frame_2.jpg\n",
            "Saved frame: processed_frames/video_312/frame_3.jpg\n",
            "Saved frame: processed_frames/video_312/frame_4.jpg\n",
            "Saved frame: processed_frames/video_312/frame_5.jpg\n",
            "Saved frame: processed_frames/video_312/frame_6.jpg\n",
            "Saved frame: processed_frames/video_312/frame_7.jpg\n",
            "Saved frame: processed_frames/video_312/frame_8.jpg\n"
          ]
        },
        {
          "output_type": "stream",
          "name": "stderr",
          "text": [
            "\r 66%|██████▌   | 313/477 [20:42<09:15,  3.39s/it]"
          ]
        },
        {
          "output_type": "stream",
          "name": "stdout",
          "text": [
            "Saved frame: processed_frames/video_312/frame_9.jpg\n",
            "Processing video: /content/drive/MyDrive/HACER/standup_neutral_13_y.mp4, Total frames: 114\n",
            "Saved frame: processed_frames/video_313/frame_0.jpg\n",
            "Saved frame: processed_frames/video_313/frame_1.jpg\n",
            "Saved frame: processed_frames/video_313/frame_2.jpg\n",
            "Saved frame: processed_frames/video_313/frame_3.jpg\n",
            "Saved frame: processed_frames/video_313/frame_4.jpg\n",
            "Saved frame: processed_frames/video_313/frame_5.jpg\n",
            "Saved frame: processed_frames/video_313/frame_6.jpg\n",
            "Saved frame: processed_frames/video_313/frame_7.jpg\n",
            "Saved frame: processed_frames/video_313/frame_8.jpg\n"
          ]
        },
        {
          "output_type": "stream",
          "name": "stderr",
          "text": [
            "\r 66%|██████▌   | 314/477 [20:45<08:26,  3.11s/it]"
          ]
        },
        {
          "output_type": "stream",
          "name": "stdout",
          "text": [
            "Saved frame: processed_frames/video_313/frame_9.jpg\n",
            "Processing video: /content/drive/MyDrive/HACER/standup_neutral_14_s.mp4, Total frames: 104\n",
            "Saved frame: processed_frames/video_314/frame_0.jpg\n",
            "Saved frame: processed_frames/video_314/frame_1.jpg\n",
            "Saved frame: processed_frames/video_314/frame_2.jpg\n",
            "Saved frame: processed_frames/video_314/frame_3.jpg\n",
            "Saved frame: processed_frames/video_314/frame_4.jpg\n",
            "Saved frame: processed_frames/video_314/frame_5.jpg\n",
            "Saved frame: processed_frames/video_314/frame_6.jpg\n",
            "Saved frame: processed_frames/video_314/frame_7.jpg\n",
            "Saved frame: processed_frames/video_314/frame_8.jpg\n"
          ]
        },
        {
          "output_type": "stream",
          "name": "stderr",
          "text": [
            "\r 66%|██████▌   | 315/477 [20:48<08:07,  3.01s/it]"
          ]
        },
        {
          "output_type": "stream",
          "name": "stdout",
          "text": [
            "Saved frame: processed_frames/video_314/frame_9.jpg\n",
            "Processing video: /content/drive/MyDrive/HACER/standup_neutral_15_h.mp4, Total frames: 73\n",
            "Saved frame: processed_frames/video_315/frame_0.jpg\n",
            "Saved frame: processed_frames/video_315/frame_1.jpg\n",
            "Saved frame: processed_frames/video_315/frame_2.jpg\n",
            "Saved frame: processed_frames/video_315/frame_3.jpg\n",
            "Saved frame: processed_frames/video_315/frame_4.jpg\n",
            "Saved frame: processed_frames/video_315/frame_5.jpg\n",
            "Saved frame: processed_frames/video_315/frame_6.jpg\n",
            "Saved frame: processed_frames/video_315/frame_7.jpg\n",
            "Saved frame: processed_frames/video_315/frame_8.jpg\n"
          ]
        },
        {
          "output_type": "stream",
          "name": "stderr",
          "text": [
            "\r 66%|██████▌   | 316/477 [20:51<08:23,  3.13s/it]"
          ]
        },
        {
          "output_type": "stream",
          "name": "stdout",
          "text": [
            "Saved frame: processed_frames/video_315/frame_9.jpg\n",
            "Processing video: /content/drive/MyDrive/HACER/standup_neutral_16_k.mp4, Total frames: 87\n",
            "Saved frame: processed_frames/video_316/frame_0.jpg\n",
            "Saved frame: processed_frames/video_316/frame_1.jpg\n",
            "Saved frame: processed_frames/video_316/frame_2.jpg\n",
            "Saved frame: processed_frames/video_316/frame_3.jpg\n",
            "Saved frame: processed_frames/video_316/frame_4.jpg\n",
            "Saved frame: processed_frames/video_316/frame_5.jpg\n",
            "Saved frame: processed_frames/video_316/frame_6.jpg\n",
            "Saved frame: processed_frames/video_316/frame_7.jpg\n",
            "Saved frame: processed_frames/video_316/frame_8.jpg\n"
          ]
        },
        {
          "output_type": "stream",
          "name": "stderr",
          "text": [
            "\r 66%|██████▋   | 317/477 [20:54<07:51,  2.95s/it]"
          ]
        },
        {
          "output_type": "stream",
          "name": "stdout",
          "text": [
            "Saved frame: processed_frames/video_316/frame_9.jpg\n",
            "Processing video: /content/drive/MyDrive/HACER/standup_neutral_17_y.mp4, Total frames: 107\n",
            "Saved frame: processed_frames/video_317/frame_0.jpg\n",
            "Saved frame: processed_frames/video_317/frame_1.jpg\n",
            "Saved frame: processed_frames/video_317/frame_2.jpg\n",
            "Saved frame: processed_frames/video_317/frame_3.jpg\n",
            "Saved frame: processed_frames/video_317/frame_4.jpg\n",
            "Saved frame: processed_frames/video_317/frame_5.jpg\n",
            "Saved frame: processed_frames/video_317/frame_6.jpg\n",
            "Saved frame: processed_frames/video_317/frame_7.jpg\n",
            "Saved frame: processed_frames/video_317/frame_8.jpg\n"
          ]
        },
        {
          "output_type": "stream",
          "name": "stderr",
          "text": [
            "\r 67%|██████▋   | 318/477 [20:57<08:02,  3.03s/it]"
          ]
        },
        {
          "output_type": "stream",
          "name": "stdout",
          "text": [
            "Saved frame: processed_frames/video_317/frame_9.jpg\n",
            "Processing video: /content/drive/MyDrive/HACER/standup_neutral_18_t.mp4, Total frames: 67\n",
            "Saved frame: processed_frames/video_318/frame_0.jpg\n",
            "Saved frame: processed_frames/video_318/frame_1.jpg\n",
            "Saved frame: processed_frames/video_318/frame_2.jpg\n",
            "Saved frame: processed_frames/video_318/frame_3.jpg\n",
            "Saved frame: processed_frames/video_318/frame_4.jpg\n",
            "Saved frame: processed_frames/video_318/frame_5.jpg\n",
            "Saved frame: processed_frames/video_318/frame_6.jpg\n",
            "Saved frame: processed_frames/video_318/frame_7.jpg\n",
            "Saved frame: processed_frames/video_318/frame_8.jpg\n"
          ]
        },
        {
          "output_type": "stream",
          "name": "stderr",
          "text": [
            "\r 67%|██████▋   | 319/477 [20:59<07:37,  2.90s/it]"
          ]
        },
        {
          "output_type": "stream",
          "name": "stdout",
          "text": [
            "Saved frame: processed_frames/video_318/frame_9.jpg\n",
            "Processing video: /content/drive/MyDrive/HACER/standup_neutral_19_y.mp4, Total frames: 214\n",
            "Saved frame: processed_frames/video_319/frame_0.jpg\n",
            "Saved frame: processed_frames/video_319/frame_1.jpg\n",
            "Saved frame: processed_frames/video_319/frame_2.jpg\n",
            "Saved frame: processed_frames/video_319/frame_3.jpg\n",
            "Saved frame: processed_frames/video_319/frame_4.jpg\n",
            "Saved frame: processed_frames/video_319/frame_5.jpg\n",
            "Saved frame: processed_frames/video_319/frame_6.jpg\n",
            "Saved frame: processed_frames/video_319/frame_7.jpg\n",
            "Saved frame: processed_frames/video_319/frame_8.jpg\n"
          ]
        },
        {
          "output_type": "stream",
          "name": "stderr",
          "text": [
            "\r 67%|██████▋   | 320/477 [21:06<10:50,  4.14s/it]"
          ]
        },
        {
          "output_type": "stream",
          "name": "stdout",
          "text": [
            "Saved frame: processed_frames/video_319/frame_9.jpg\n",
            "Processing video: /content/drive/MyDrive/HACER/standup_neutral_1_a.mp4, Total frames: 177\n",
            "Saved frame: processed_frames/video_320/frame_0.jpg\n",
            "Saved frame: processed_frames/video_320/frame_1.jpg\n",
            "Saved frame: processed_frames/video_320/frame_2.jpg\n",
            "Saved frame: processed_frames/video_320/frame_3.jpg\n",
            "Saved frame: processed_frames/video_320/frame_4.jpg\n",
            "Saved frame: processed_frames/video_320/frame_5.jpg\n",
            "Saved frame: processed_frames/video_320/frame_6.jpg\n",
            "Saved frame: processed_frames/video_320/frame_7.jpg\n",
            "Saved frame: processed_frames/video_320/frame_8.jpg\n"
          ]
        },
        {
          "output_type": "stream",
          "name": "stderr",
          "text": [
            "\r 67%|██████▋   | 321/477 [21:11<11:23,  4.38s/it]"
          ]
        },
        {
          "output_type": "stream",
          "name": "stdout",
          "text": [
            "Saved frame: processed_frames/video_320/frame_9.jpg\n",
            "Processing video: /content/drive/MyDrive/HACER/standup_neutral_20_t.mp4, Total frames: 103\n",
            "Saved frame: processed_frames/video_321/frame_0.jpg\n",
            "Saved frame: processed_frames/video_321/frame_1.jpg\n",
            "Saved frame: processed_frames/video_321/frame_2.jpg\n",
            "Saved frame: processed_frames/video_321/frame_3.jpg\n",
            "Saved frame: processed_frames/video_321/frame_4.jpg\n",
            "Saved frame: processed_frames/video_321/frame_5.jpg\n",
            "Saved frame: processed_frames/video_321/frame_6.jpg\n",
            "Saved frame: processed_frames/video_321/frame_7.jpg\n",
            "Saved frame: processed_frames/video_321/frame_8.jpg\n"
          ]
        },
        {
          "output_type": "stream",
          "name": "stderr",
          "text": [
            "\r 68%|██████▊   | 322/477 [21:14<10:07,  3.92s/it]"
          ]
        },
        {
          "output_type": "stream",
          "name": "stdout",
          "text": [
            "Saved frame: processed_frames/video_321/frame_9.jpg\n",
            "Processing video: /content/drive/MyDrive/HACER/standup_neutral_2_w.mp4, Total frames: 141\n",
            "Saved frame: processed_frames/video_322/frame_0.jpg\n",
            "Saved frame: processed_frames/video_322/frame_1.jpg\n",
            "Saved frame: processed_frames/video_322/frame_2.jpg\n",
            "Saved frame: processed_frames/video_322/frame_3.jpg\n",
            "Saved frame: processed_frames/video_322/frame_4.jpg\n",
            "Saved frame: processed_frames/video_322/frame_5.jpg\n",
            "Saved frame: processed_frames/video_322/frame_6.jpg\n",
            "Saved frame: processed_frames/video_322/frame_7.jpg\n",
            "Saved frame: processed_frames/video_322/frame_8.jpg\n"
          ]
        },
        {
          "output_type": "stream",
          "name": "stderr",
          "text": [
            "\r 68%|██████▊   | 323/477 [21:18<09:40,  3.77s/it]"
          ]
        },
        {
          "output_type": "stream",
          "name": "stdout",
          "text": [
            "Saved frame: processed_frames/video_322/frame_9.jpg\n",
            "Processing video: /content/drive/MyDrive/HACER/standup_neutral_3_j.mp4, Total frames: 183\n",
            "Saved frame: processed_frames/video_323/frame_0.jpg\n",
            "Saved frame: processed_frames/video_323/frame_1.jpg\n",
            "Saved frame: processed_frames/video_323/frame_2.jpg\n",
            "Saved frame: processed_frames/video_323/frame_3.jpg\n",
            "Saved frame: processed_frames/video_323/frame_4.jpg\n",
            "Saved frame: processed_frames/video_323/frame_5.jpg\n",
            "Saved frame: processed_frames/video_323/frame_6.jpg\n",
            "Saved frame: processed_frames/video_323/frame_7.jpg\n",
            "Saved frame: processed_frames/video_323/frame_8.jpg\n"
          ]
        },
        {
          "output_type": "stream",
          "name": "stderr",
          "text": [
            "\r 68%|██████▊   | 324/477 [21:22<09:44,  3.82s/it]"
          ]
        },
        {
          "output_type": "stream",
          "name": "stdout",
          "text": [
            "Saved frame: processed_frames/video_323/frame_9.jpg\n",
            "Processing video: /content/drive/MyDrive/HACER/standup_neutral_4_j.mp4, Total frames: 142\n",
            "Saved frame: processed_frames/video_324/frame_0.jpg\n",
            "Saved frame: processed_frames/video_324/frame_1.jpg\n",
            "Saved frame: processed_frames/video_324/frame_2.jpg\n",
            "Saved frame: processed_frames/video_324/frame_3.jpg\n",
            "Saved frame: processed_frames/video_324/frame_4.jpg\n",
            "Saved frame: processed_frames/video_324/frame_5.jpg\n",
            "Saved frame: processed_frames/video_324/frame_6.jpg\n",
            "Saved frame: processed_frames/video_324/frame_7.jpg\n",
            "Saved frame: processed_frames/video_324/frame_8.jpg\n"
          ]
        },
        {
          "output_type": "stream",
          "name": "stderr",
          "text": [
            "\r 68%|██████▊   | 325/477 [21:26<10:29,  4.14s/it]"
          ]
        },
        {
          "output_type": "stream",
          "name": "stdout",
          "text": [
            "Saved frame: processed_frames/video_324/frame_9.jpg\n",
            "Processing video: /content/drive/MyDrive/HACER/standup_neutral_5_s.mp4, Total frames: 147\n",
            "Saved frame: processed_frames/video_325/frame_0.jpg\n",
            "Saved frame: processed_frames/video_325/frame_1.jpg\n",
            "Saved frame: processed_frames/video_325/frame_2.jpg\n",
            "Saved frame: processed_frames/video_325/frame_3.jpg\n",
            "Saved frame: processed_frames/video_325/frame_4.jpg\n",
            "Saved frame: processed_frames/video_325/frame_5.jpg\n",
            "Saved frame: processed_frames/video_325/frame_6.jpg\n",
            "Saved frame: processed_frames/video_325/frame_7.jpg\n",
            "Saved frame: processed_frames/video_325/frame_8.jpg\n"
          ]
        },
        {
          "output_type": "stream",
          "name": "stderr",
          "text": [
            "\r 68%|██████▊   | 326/477 [21:30<09:57,  3.95s/it]"
          ]
        },
        {
          "output_type": "stream",
          "name": "stdout",
          "text": [
            "Saved frame: processed_frames/video_325/frame_9.jpg\n",
            "Processing video: /content/drive/MyDrive/HACER/standup_neutral_6_s.mp4, Total frames: 134\n",
            "Saved frame: processed_frames/video_326/frame_0.jpg\n",
            "Saved frame: processed_frames/video_326/frame_1.jpg\n",
            "Saved frame: processed_frames/video_326/frame_2.jpg\n",
            "Saved frame: processed_frames/video_326/frame_3.jpg\n",
            "Saved frame: processed_frames/video_326/frame_4.jpg\n",
            "Saved frame: processed_frames/video_326/frame_5.jpg\n",
            "Saved frame: processed_frames/video_326/frame_6.jpg\n",
            "Saved frame: processed_frames/video_326/frame_7.jpg\n",
            "Saved frame: processed_frames/video_326/frame_8.jpg\n"
          ]
        },
        {
          "output_type": "stream",
          "name": "stderr",
          "text": [
            "\r 69%|██████▊   | 327/477 [21:33<09:19,  3.73s/it]"
          ]
        },
        {
          "output_type": "stream",
          "name": "stdout",
          "text": [
            "Saved frame: processed_frames/video_326/frame_9.jpg\n",
            "Processing video: /content/drive/MyDrive/HACER/standup_neutral_7_h.mp4, Total frames: 94\n",
            "Saved frame: processed_frames/video_327/frame_0.jpg\n",
            "Saved frame: processed_frames/video_327/frame_1.jpg\n",
            "Saved frame: processed_frames/video_327/frame_2.jpg\n",
            "Saved frame: processed_frames/video_327/frame_3.jpg\n",
            "Saved frame: processed_frames/video_327/frame_4.jpg\n",
            "Saved frame: processed_frames/video_327/frame_5.jpg\n",
            "Saved frame: processed_frames/video_327/frame_6.jpg\n",
            "Saved frame: processed_frames/video_327/frame_7.jpg\n",
            "Saved frame: processed_frames/video_327/frame_8.jpg\n"
          ]
        },
        {
          "output_type": "stream",
          "name": "stderr",
          "text": [
            "\r 69%|██████▉   | 328/477 [21:36<08:32,  3.44s/it]"
          ]
        },
        {
          "output_type": "stream",
          "name": "stdout",
          "text": [
            "Saved frame: processed_frames/video_327/frame_9.jpg\n",
            "Processing video: /content/drive/MyDrive/HACER/standup_neutral_8_a.mp4, Total frames: 112\n",
            "Saved frame: processed_frames/video_328/frame_0.jpg\n",
            "Saved frame: processed_frames/video_328/frame_1.jpg\n",
            "Saved frame: processed_frames/video_328/frame_2.jpg\n",
            "Saved frame: processed_frames/video_328/frame_3.jpg\n",
            "Saved frame: processed_frames/video_328/frame_4.jpg\n",
            "Saved frame: processed_frames/video_328/frame_5.jpg\n",
            "Saved frame: processed_frames/video_328/frame_6.jpg\n",
            "Saved frame: processed_frames/video_328/frame_7.jpg\n",
            "Saved frame: processed_frames/video_328/frame_8.jpg\n"
          ]
        },
        {
          "output_type": "stream",
          "name": "stderr",
          "text": [
            "\r 69%|██████▉   | 329/477 [21:42<10:08,  4.11s/it]"
          ]
        },
        {
          "output_type": "stream",
          "name": "stdout",
          "text": [
            "Saved frame: processed_frames/video_328/frame_9.jpg\n",
            "Processing video: /content/drive/MyDrive/HACER/standup_neutral_9_h.mp4, Total frames: 140\n",
            "Saved frame: processed_frames/video_329/frame_0.jpg\n",
            "Saved frame: processed_frames/video_329/frame_1.jpg\n",
            "Saved frame: processed_frames/video_329/frame_2.jpg\n",
            "Saved frame: processed_frames/video_329/frame_3.jpg\n",
            "Saved frame: processed_frames/video_329/frame_4.jpg\n",
            "Saved frame: processed_frames/video_329/frame_5.jpg\n",
            "Saved frame: processed_frames/video_329/frame_6.jpg\n",
            "Saved frame: processed_frames/video_329/frame_7.jpg\n",
            "Saved frame: processed_frames/video_329/frame_8.jpg\n"
          ]
        },
        {
          "output_type": "stream",
          "name": "stderr",
          "text": [
            "\r 69%|██████▉   | 330/477 [21:45<09:44,  3.97s/it]"
          ]
        },
        {
          "output_type": "stream",
          "name": "stdout",
          "text": [
            "Saved frame: processed_frames/video_329/frame_9.jpg\n",
            "Processing video: /content/drive/MyDrive/HACER/standup_sad_10_l.mp4, Total frames: 200\n",
            "Saved frame: processed_frames/video_330/frame_0.jpg\n",
            "Saved frame: processed_frames/video_330/frame_1.jpg\n",
            "Saved frame: processed_frames/video_330/frame_2.jpg\n",
            "Saved frame: processed_frames/video_330/frame_3.jpg\n",
            "Saved frame: processed_frames/video_330/frame_4.jpg\n",
            "Saved frame: processed_frames/video_330/frame_5.jpg\n",
            "Saved frame: processed_frames/video_330/frame_6.jpg\n",
            "Saved frame: processed_frames/video_330/frame_7.jpg\n",
            "Saved frame: processed_frames/video_330/frame_8.jpg\n"
          ]
        },
        {
          "output_type": "stream",
          "name": "stderr",
          "text": [
            "\r 69%|██████▉   | 331/477 [21:49<09:41,  3.98s/it]"
          ]
        },
        {
          "output_type": "stream",
          "name": "stdout",
          "text": [
            "Saved frame: processed_frames/video_330/frame_9.jpg\n",
            "Processing video: /content/drive/MyDrive/HACER/standup_sad_11_l.mp4, Total frames: 111\n",
            "Saved frame: processed_frames/video_331/frame_0.jpg\n",
            "Saved frame: processed_frames/video_331/frame_1.jpg\n",
            "Saved frame: processed_frames/video_331/frame_2.jpg\n",
            "Saved frame: processed_frames/video_331/frame_3.jpg\n",
            "Saved frame: processed_frames/video_331/frame_4.jpg\n",
            "Saved frame: processed_frames/video_331/frame_5.jpg\n",
            "Saved frame: processed_frames/video_331/frame_6.jpg\n",
            "Saved frame: processed_frames/video_331/frame_7.jpg\n",
            "Saved frame: processed_frames/video_331/frame_8.jpg\n"
          ]
        },
        {
          "output_type": "stream",
          "name": "stderr",
          "text": [
            "\r 70%|██████▉   | 332/477 [21:54<10:14,  4.24s/it]"
          ]
        },
        {
          "output_type": "stream",
          "name": "stdout",
          "text": [
            "Saved frame: processed_frames/video_331/frame_9.jpg\n",
            "Processing video: /content/drive/MyDrive/HACER/standup_sad_12_w.mp4, Total frames: 163\n",
            "Saved frame: processed_frames/video_332/frame_0.jpg\n",
            "Saved frame: processed_frames/video_332/frame_1.jpg\n",
            "Saved frame: processed_frames/video_332/frame_2.jpg\n",
            "Saved frame: processed_frames/video_332/frame_3.jpg\n",
            "Saved frame: processed_frames/video_332/frame_4.jpg\n",
            "Saved frame: processed_frames/video_332/frame_5.jpg\n",
            "Saved frame: processed_frames/video_332/frame_6.jpg\n",
            "Saved frame: processed_frames/video_332/frame_7.jpg\n"
          ]
        },
        {
          "output_type": "stream",
          "name": "stderr",
          "text": [
            "\r 70%|██████▉   | 333/477 [21:58<10:14,  4.27s/it]"
          ]
        },
        {
          "output_type": "stream",
          "name": "stdout",
          "text": [
            "Saved frame: processed_frames/video_332/frame_8.jpg\n",
            "Saved frame: processed_frames/video_332/frame_9.jpg\n",
            "Processing video: /content/drive/MyDrive/HACER/standup_sad_13_s.mp4, Total frames: 64\n",
            "Saved frame: processed_frames/video_333/frame_0.jpg\n",
            "Saved frame: processed_frames/video_333/frame_1.jpg\n",
            "Saved frame: processed_frames/video_333/frame_2.jpg\n",
            "Saved frame: processed_frames/video_333/frame_3.jpg\n",
            "Saved frame: processed_frames/video_333/frame_4.jpg\n",
            "Saved frame: processed_frames/video_333/frame_5.jpg\n",
            "Saved frame: processed_frames/video_333/frame_6.jpg\n",
            "Saved frame: processed_frames/video_333/frame_7.jpg\n",
            "Saved frame: processed_frames/video_333/frame_8.jpg\n"
          ]
        },
        {
          "output_type": "stream",
          "name": "stderr",
          "text": [
            "\r 70%|███████   | 334/477 [22:00<08:33,  3.59s/it]"
          ]
        },
        {
          "output_type": "stream",
          "name": "stdout",
          "text": [
            "Saved frame: processed_frames/video_333/frame_9.jpg\n",
            "Processing video: /content/drive/MyDrive/HACER/standup_sad_14_j.mp4, Total frames: 125\n",
            "Saved frame: processed_frames/video_334/frame_0.jpg\n",
            "Saved frame: processed_frames/video_334/frame_1.jpg\n",
            "Saved frame: processed_frames/video_334/frame_2.jpg\n",
            "Saved frame: processed_frames/video_334/frame_3.jpg\n",
            "Saved frame: processed_frames/video_334/frame_4.jpg\n",
            "Saved frame: processed_frames/video_334/frame_5.jpg\n",
            "Saved frame: processed_frames/video_334/frame_6.jpg\n",
            "Saved frame: processed_frames/video_334/frame_7.jpg\n",
            "Saved frame: processed_frames/video_334/frame_8.jpg\n"
          ]
        },
        {
          "output_type": "stream",
          "name": "stderr",
          "text": [
            "\r 70%|███████   | 335/477 [22:04<08:28,  3.58s/it]"
          ]
        },
        {
          "output_type": "stream",
          "name": "stdout",
          "text": [
            "Saved frame: processed_frames/video_334/frame_9.jpg\n",
            "Processing video: /content/drive/MyDrive/HACER/standup_sad_15_h.mp4, Total frames: 116\n",
            "Saved frame: processed_frames/video_335/frame_0.jpg\n",
            "Saved frame: processed_frames/video_335/frame_1.jpg\n",
            "Saved frame: processed_frames/video_335/frame_2.jpg\n",
            "Saved frame: processed_frames/video_335/frame_3.jpg\n",
            "Saved frame: processed_frames/video_335/frame_4.jpg\n",
            "Saved frame: processed_frames/video_335/frame_5.jpg\n",
            "Saved frame: processed_frames/video_335/frame_6.jpg\n",
            "Saved frame: processed_frames/video_335/frame_7.jpg\n",
            "Saved frame: processed_frames/video_335/frame_8.jpg\n"
          ]
        },
        {
          "output_type": "stream",
          "name": "stderr",
          "text": [
            "\r 70%|███████   | 336/477 [22:07<08:17,  3.53s/it]"
          ]
        },
        {
          "output_type": "stream",
          "name": "stdout",
          "text": [
            "Saved frame: processed_frames/video_335/frame_9.jpg\n",
            "Processing video: /content/drive/MyDrive/HACER/standup_sad_16_l.mp4, Total frames: 123\n",
            "Saved frame: processed_frames/video_336/frame_0.jpg\n",
            "Saved frame: processed_frames/video_336/frame_1.jpg\n",
            "Saved frame: processed_frames/video_336/frame_2.jpg\n",
            "Saved frame: processed_frames/video_336/frame_3.jpg\n",
            "Saved frame: processed_frames/video_336/frame_4.jpg\n",
            "Saved frame: processed_frames/video_336/frame_5.jpg\n",
            "Saved frame: processed_frames/video_336/frame_6.jpg\n",
            "Saved frame: processed_frames/video_336/frame_7.jpg\n",
            "Saved frame: processed_frames/video_336/frame_8.jpg\n"
          ]
        },
        {
          "output_type": "stream",
          "name": "stderr",
          "text": [
            "\r 71%|███████   | 337/477 [22:14<10:04,  4.32s/it]"
          ]
        },
        {
          "output_type": "stream",
          "name": "stdout",
          "text": [
            "Saved frame: processed_frames/video_336/frame_9.jpg\n",
            "Processing video: /content/drive/MyDrive/HACER/standup_sad_1_h.mp4, Total frames: 138\n",
            "Saved frame: processed_frames/video_337/frame_0.jpg\n",
            "Saved frame: processed_frames/video_337/frame_1.jpg\n",
            "Saved frame: processed_frames/video_337/frame_2.jpg\n",
            "Saved frame: processed_frames/video_337/frame_3.jpg\n",
            "Saved frame: processed_frames/video_337/frame_4.jpg\n",
            "Saved frame: processed_frames/video_337/frame_5.jpg\n",
            "Saved frame: processed_frames/video_337/frame_6.jpg\n",
            "Saved frame: processed_frames/video_337/frame_7.jpg\n",
            "Saved frame: processed_frames/video_337/frame_8.jpg\n"
          ]
        },
        {
          "output_type": "stream",
          "name": "stderr",
          "text": [
            "\r 71%|███████   | 338/477 [22:17<09:41,  4.18s/it]"
          ]
        },
        {
          "output_type": "stream",
          "name": "stdout",
          "text": [
            "Saved frame: processed_frames/video_337/frame_9.jpg\n",
            "Processing video: /content/drive/MyDrive/HACER/standup_sad_2_h.mp4, Total frames: 164\n",
            "Saved frame: processed_frames/video_338/frame_0.jpg\n",
            "Saved frame: processed_frames/video_338/frame_1.jpg\n",
            "Saved frame: processed_frames/video_338/frame_2.jpg\n",
            "Saved frame: processed_frames/video_338/frame_3.jpg\n",
            "Saved frame: processed_frames/video_338/frame_4.jpg\n",
            "Saved frame: processed_frames/video_338/frame_5.jpg\n",
            "Saved frame: processed_frames/video_338/frame_6.jpg\n",
            "Saved frame: processed_frames/video_338/frame_7.jpg\n"
          ]
        },
        {
          "output_type": "stream",
          "name": "stderr",
          "text": [
            "\r 71%|███████   | 339/477 [22:22<09:44,  4.24s/it]"
          ]
        },
        {
          "output_type": "stream",
          "name": "stdout",
          "text": [
            "Saved frame: processed_frames/video_338/frame_8.jpg\n",
            "Saved frame: processed_frames/video_338/frame_9.jpg\n",
            "Processing video: /content/drive/MyDrive/HACER/standup_sad_3_a.mp4, Total frames: 242\n",
            "Saved frame: processed_frames/video_339/frame_0.jpg\n",
            "Saved frame: processed_frames/video_339/frame_1.jpg\n",
            "Saved frame: processed_frames/video_339/frame_2.jpg\n",
            "Saved frame: processed_frames/video_339/frame_3.jpg\n",
            "Saved frame: processed_frames/video_339/frame_4.jpg\n",
            "Saved frame: processed_frames/video_339/frame_5.jpg\n",
            "Saved frame: processed_frames/video_339/frame_6.jpg\n",
            "Saved frame: processed_frames/video_339/frame_7.jpg\n",
            "Saved frame: processed_frames/video_339/frame_8.jpg\n"
          ]
        },
        {
          "output_type": "stream",
          "name": "stderr",
          "text": [
            "\r 71%|███████▏  | 340/477 [22:28<10:54,  4.78s/it]"
          ]
        },
        {
          "output_type": "stream",
          "name": "stdout",
          "text": [
            "Saved frame: processed_frames/video_339/frame_9.jpg\n",
            "Processing video: /content/drive/MyDrive/HACER/standup_sad_4_w.mp4, Total frames: 200\n",
            "Saved frame: processed_frames/video_340/frame_0.jpg\n",
            "Saved frame: processed_frames/video_340/frame_1.jpg\n",
            "Saved frame: processed_frames/video_340/frame_2.jpg\n",
            "Saved frame: processed_frames/video_340/frame_3.jpg\n",
            "Saved frame: processed_frames/video_340/frame_4.jpg\n",
            "Saved frame: processed_frames/video_340/frame_5.jpg\n",
            "Saved frame: processed_frames/video_340/frame_6.jpg\n",
            "Saved frame: processed_frames/video_340/frame_7.jpg\n",
            "Saved frame: processed_frames/video_340/frame_8.jpg\n"
          ]
        },
        {
          "output_type": "stream",
          "name": "stderr",
          "text": [
            "\r 71%|███████▏  | 341/477 [22:33<10:44,  4.74s/it]"
          ]
        },
        {
          "output_type": "stream",
          "name": "stdout",
          "text": [
            "Saved frame: processed_frames/video_340/frame_9.jpg\n",
            "Processing video: /content/drive/MyDrive/HACER/standup_sad_5_m.mp4, Total frames: 239\n",
            "Saved frame: processed_frames/video_341/frame_0.jpg\n",
            "Saved frame: processed_frames/video_341/frame_1.jpg\n",
            "Saved frame: processed_frames/video_341/frame_2.jpg\n",
            "Saved frame: processed_frames/video_341/frame_3.jpg\n",
            "Saved frame: processed_frames/video_341/frame_4.jpg\n",
            "Saved frame: processed_frames/video_341/frame_5.jpg\n",
            "Saved frame: processed_frames/video_341/frame_6.jpg\n",
            "Saved frame: processed_frames/video_341/frame_7.jpg\n",
            "Saved frame: processed_frames/video_341/frame_8.jpg\n"
          ]
        },
        {
          "output_type": "stream",
          "name": "stderr",
          "text": [
            "\r 72%|███████▏  | 342/477 [22:37<10:23,  4.62s/it]"
          ]
        },
        {
          "output_type": "stream",
          "name": "stdout",
          "text": [
            "Saved frame: processed_frames/video_341/frame_9.jpg\n",
            "Processing video: /content/drive/MyDrive/HACER/standup_sad_6_s.mp4, Total frames: 82\n",
            "Saved frame: processed_frames/video_342/frame_0.jpg\n",
            "Saved frame: processed_frames/video_342/frame_1.jpg\n",
            "Saved frame: processed_frames/video_342/frame_2.jpg\n",
            "Saved frame: processed_frames/video_342/frame_3.jpg\n",
            "Saved frame: processed_frames/video_342/frame_4.jpg\n",
            "Saved frame: processed_frames/video_342/frame_5.jpg\n",
            "Saved frame: processed_frames/video_342/frame_6.jpg\n",
            "Saved frame: processed_frames/video_342/frame_7.jpg\n",
            "Saved frame: processed_frames/video_342/frame_8.jpg\n"
          ]
        },
        {
          "output_type": "stream",
          "name": "stderr",
          "text": [
            "\r 72%|███████▏  | 343/477 [22:40<09:03,  4.06s/it]"
          ]
        },
        {
          "output_type": "stream",
          "name": "stdout",
          "text": [
            "Saved frame: processed_frames/video_342/frame_9.jpg\n",
            "Processing video: /content/drive/MyDrive/HACER/standup_sad_7_h.mp4, Total frames: 165\n",
            "Saved frame: processed_frames/video_343/frame_0.jpg\n",
            "Saved frame: processed_frames/video_343/frame_1.jpg\n",
            "Saved frame: processed_frames/video_343/frame_2.jpg\n",
            "Saved frame: processed_frames/video_343/frame_3.jpg\n",
            "Saved frame: processed_frames/video_343/frame_4.jpg\n",
            "Saved frame: processed_frames/video_343/frame_5.jpg\n",
            "Saved frame: processed_frames/video_343/frame_6.jpg\n",
            "Saved frame: processed_frames/video_343/frame_7.jpg\n"
          ]
        },
        {
          "output_type": "stream",
          "name": "stderr",
          "text": [
            "\r 72%|███████▏  | 344/477 [22:46<10:21,  4.67s/it]"
          ]
        },
        {
          "output_type": "stream",
          "name": "stdout",
          "text": [
            "Saved frame: processed_frames/video_343/frame_8.jpg\n",
            "Saved frame: processed_frames/video_343/frame_9.jpg\n",
            "Processing video: /content/drive/MyDrive/HACER/standup_sad_8_a.mp4, Total frames: 144\n",
            "Saved frame: processed_frames/video_344/frame_0.jpg\n",
            "Saved frame: processed_frames/video_344/frame_1.jpg\n",
            "Saved frame: processed_frames/video_344/frame_2.jpg\n",
            "Saved frame: processed_frames/video_344/frame_3.jpg\n",
            "Saved frame: processed_frames/video_344/frame_4.jpg\n",
            "Saved frame: processed_frames/video_344/frame_5.jpg\n",
            "Saved frame: processed_frames/video_344/frame_6.jpg\n",
            "Saved frame: processed_frames/video_344/frame_7.jpg\n",
            "Saved frame: processed_frames/video_344/frame_8.jpg\n"
          ]
        },
        {
          "output_type": "stream",
          "name": "stderr",
          "text": [
            "\r 72%|███████▏  | 345/477 [22:50<10:13,  4.65s/it]"
          ]
        },
        {
          "output_type": "stream",
          "name": "stdout",
          "text": [
            "Saved frame: processed_frames/video_344/frame_9.jpg\n",
            "Processing video: /content/drive/MyDrive/HACER/standup_sad_9_m.mp4, Total frames: 277\n",
            "Saved frame: processed_frames/video_345/frame_0.jpg\n",
            "Saved frame: processed_frames/video_345/frame_1.jpg\n",
            "Saved frame: processed_frames/video_345/frame_2.jpg\n",
            "Saved frame: processed_frames/video_345/frame_3.jpg\n",
            "Saved frame: processed_frames/video_345/frame_4.jpg\n",
            "Saved frame: processed_frames/video_345/frame_5.jpg\n",
            "Saved frame: processed_frames/video_345/frame_6.jpg\n",
            "Saved frame: processed_frames/video_345/frame_7.jpg\n",
            "Saved frame: processed_frames/video_345/frame_8.jpg\n"
          ]
        },
        {
          "output_type": "stream",
          "name": "stderr",
          "text": [
            "\r 73%|███████▎  | 346/477 [22:55<09:50,  4.51s/it]"
          ]
        },
        {
          "output_type": "stream",
          "name": "stdout",
          "text": [
            "Saved frame: processed_frames/video_345/frame_9.jpg\n",
            "Processing video: /content/drive/MyDrive/HACER/takeoffglasses_angry_10_m.mp4, Total frames: 102\n",
            "Saved frame: processed_frames/video_346/frame_0.jpg\n",
            "Saved frame: processed_frames/video_346/frame_1.jpg\n",
            "Saved frame: processed_frames/video_346/frame_2.jpg\n",
            "Saved frame: processed_frames/video_346/frame_3.jpg\n",
            "Saved frame: processed_frames/video_346/frame_4.jpg\n",
            "Saved frame: processed_frames/video_346/frame_5.jpg\n",
            "Saved frame: processed_frames/video_346/frame_6.jpg\n",
            "Saved frame: processed_frames/video_346/frame_7.jpg\n",
            "Saved frame: processed_frames/video_346/frame_8.jpg\n"
          ]
        },
        {
          "output_type": "stream",
          "name": "stderr",
          "text": [
            "\r 73%|███████▎  | 347/477 [23:00<10:05,  4.66s/it]"
          ]
        },
        {
          "output_type": "stream",
          "name": "stdout",
          "text": [
            "Saved frame: processed_frames/video_346/frame_9.jpg\n",
            "Processing video: /content/drive/MyDrive/HACER/takeoffglasses_angry_11_h.mp4, Total frames: 92\n",
            "Saved frame: processed_frames/video_347/frame_0.jpg\n",
            "Saved frame: processed_frames/video_347/frame_1.jpg\n",
            "Saved frame: processed_frames/video_347/frame_2.jpg\n",
            "Saved frame: processed_frames/video_347/frame_3.jpg\n",
            "Saved frame: processed_frames/video_347/frame_4.jpg\n",
            "Saved frame: processed_frames/video_347/frame_5.jpg\n",
            "Saved frame: processed_frames/video_347/frame_6.jpg\n",
            "Saved frame: processed_frames/video_347/frame_7.jpg\n",
            "Saved frame: processed_frames/video_347/frame_8.jpg\n"
          ]
        },
        {
          "output_type": "stream",
          "name": "stderr",
          "text": [
            "\r 73%|███████▎  | 348/477 [23:03<09:09,  4.26s/it]"
          ]
        },
        {
          "output_type": "stream",
          "name": "stdout",
          "text": [
            "Saved frame: processed_frames/video_347/frame_9.jpg\n",
            "Processing video: /content/drive/MyDrive/HACER/takeoffglasses_angry_12_j.mp4, Total frames: 97\n",
            "Saved frame: processed_frames/video_348/frame_0.jpg\n",
            "Saved frame: processed_frames/video_348/frame_1.jpg\n",
            "Saved frame: processed_frames/video_348/frame_2.jpg\n",
            "Saved frame: processed_frames/video_348/frame_3.jpg\n",
            "Saved frame: processed_frames/video_348/frame_4.jpg\n",
            "Saved frame: processed_frames/video_348/frame_5.jpg\n",
            "Saved frame: processed_frames/video_348/frame_6.jpg\n",
            "Saved frame: processed_frames/video_348/frame_7.jpg\n",
            "Saved frame: processed_frames/video_348/frame_8.jpg\n"
          ]
        },
        {
          "output_type": "stream",
          "name": "stderr",
          "text": [
            "\r 73%|███████▎  | 349/477 [23:05<07:54,  3.70s/it]"
          ]
        },
        {
          "output_type": "stream",
          "name": "stdout",
          "text": [
            "Saved frame: processed_frames/video_348/frame_9.jpg\n",
            "Processing video: /content/drive/MyDrive/HACER/takeoffglasses_angry_1_s.mp4, Total frames: 135\n",
            "Saved frame: processed_frames/video_349/frame_0.jpg\n",
            "Saved frame: processed_frames/video_349/frame_1.jpg\n",
            "Saved frame: processed_frames/video_349/frame_2.jpg\n",
            "Saved frame: processed_frames/video_349/frame_3.jpg\n",
            "Saved frame: processed_frames/video_349/frame_4.jpg\n",
            "Saved frame: processed_frames/video_349/frame_5.jpg\n",
            "Saved frame: processed_frames/video_349/frame_6.jpg\n",
            "Saved frame: processed_frames/video_349/frame_7.jpg\n",
            "Saved frame: processed_frames/video_349/frame_8.jpg\n"
          ]
        },
        {
          "output_type": "stream",
          "name": "stderr",
          "text": [
            "\r 73%|███████▎  | 350/477 [23:08<07:28,  3.53s/it]"
          ]
        },
        {
          "output_type": "stream",
          "name": "stdout",
          "text": [
            "Saved frame: processed_frames/video_349/frame_9.jpg\n",
            "Processing video: /content/drive/MyDrive/HACER/takeoffglasses_angry_2_w.mp4, Total frames: 144\n",
            "Saved frame: processed_frames/video_350/frame_0.jpg\n",
            "Saved frame: processed_frames/video_350/frame_1.jpg\n",
            "Saved frame: processed_frames/video_350/frame_2.jpg\n",
            "Saved frame: processed_frames/video_350/frame_3.jpg\n",
            "Saved frame: processed_frames/video_350/frame_4.jpg\n",
            "Saved frame: processed_frames/video_350/frame_5.jpg\n",
            "Saved frame: processed_frames/video_350/frame_6.jpg\n",
            "Saved frame: processed_frames/video_350/frame_7.jpg\n",
            "Saved frame: processed_frames/video_350/frame_8.jpg\n"
          ]
        },
        {
          "output_type": "stream",
          "name": "stderr",
          "text": [
            "\r 74%|███████▎  | 351/477 [23:13<08:13,  3.92s/it]"
          ]
        },
        {
          "output_type": "stream",
          "name": "stdout",
          "text": [
            "Saved frame: processed_frames/video_350/frame_9.jpg\n",
            "Processing video: /content/drive/MyDrive/HACER/takeoffglasses_angry_3_h.mp4, Total frames: 106\n",
            "Saved frame: processed_frames/video_351/frame_0.jpg\n",
            "Saved frame: processed_frames/video_351/frame_1.jpg\n",
            "Saved frame: processed_frames/video_351/frame_2.jpg\n",
            "Saved frame: processed_frames/video_351/frame_3.jpg\n",
            "Saved frame: processed_frames/video_351/frame_4.jpg\n",
            "Saved frame: processed_frames/video_351/frame_5.jpg\n",
            "Saved frame: processed_frames/video_351/frame_6.jpg\n",
            "Saved frame: processed_frames/video_351/frame_7.jpg\n",
            "Saved frame: processed_frames/video_351/frame_8.jpg\n"
          ]
        },
        {
          "output_type": "stream",
          "name": "stderr",
          "text": [
            "\r 74%|███████▍  | 352/477 [23:17<08:00,  3.85s/it]"
          ]
        },
        {
          "output_type": "stream",
          "name": "stdout",
          "text": [
            "Saved frame: processed_frames/video_351/frame_9.jpg\n",
            "Processing video: /content/drive/MyDrive/HACER/takeoffglasses_angry_4_m.mp4, Total frames: 104\n",
            "Saved frame: processed_frames/video_352/frame_0.jpg\n",
            "Saved frame: processed_frames/video_352/frame_1.jpg\n",
            "Saved frame: processed_frames/video_352/frame_2.jpg\n",
            "Saved frame: processed_frames/video_352/frame_3.jpg\n",
            "Saved frame: processed_frames/video_352/frame_4.jpg\n",
            "Saved frame: processed_frames/video_352/frame_5.jpg\n",
            "Saved frame: processed_frames/video_352/frame_6.jpg\n",
            "Saved frame: processed_frames/video_352/frame_7.jpg\n",
            "Saved frame: processed_frames/video_352/frame_8.jpg\n"
          ]
        },
        {
          "output_type": "stream",
          "name": "stderr",
          "text": [
            "\r 74%|███████▍  | 353/477 [23:19<07:07,  3.45s/it]"
          ]
        },
        {
          "output_type": "stream",
          "name": "stdout",
          "text": [
            "Saved frame: processed_frames/video_352/frame_9.jpg\n",
            "Processing video: /content/drive/MyDrive/HACER/takeoffglasses_angry_5_w.mp4, Total frames: 136\n",
            "Saved frame: processed_frames/video_353/frame_0.jpg\n",
            "Saved frame: processed_frames/video_353/frame_1.jpg\n",
            "Saved frame: processed_frames/video_353/frame_2.jpg\n",
            "Saved frame: processed_frames/video_353/frame_3.jpg\n",
            "Saved frame: processed_frames/video_353/frame_4.jpg\n",
            "Saved frame: processed_frames/video_353/frame_5.jpg\n",
            "Saved frame: processed_frames/video_353/frame_6.jpg\n",
            "Saved frame: processed_frames/video_353/frame_7.jpg\n",
            "Saved frame: processed_frames/video_353/frame_8.jpg\n"
          ]
        },
        {
          "output_type": "stream",
          "name": "stderr",
          "text": [
            "\r 74%|███████▍  | 354/477 [23:23<07:00,  3.42s/it]"
          ]
        },
        {
          "output_type": "stream",
          "name": "stdout",
          "text": [
            "Saved frame: processed_frames/video_353/frame_9.jpg\n",
            "Processing video: /content/drive/MyDrive/HACER/takeoffglasses_angry_6_l.mp4, Total frames: 112\n",
            "Saved frame: processed_frames/video_354/frame_0.jpg\n",
            "Saved frame: processed_frames/video_354/frame_1.jpg\n",
            "Saved frame: processed_frames/video_354/frame_2.jpg\n",
            "Saved frame: processed_frames/video_354/frame_3.jpg\n",
            "Saved frame: processed_frames/video_354/frame_4.jpg\n",
            "Saved frame: processed_frames/video_354/frame_5.jpg\n",
            "Saved frame: processed_frames/video_354/frame_6.jpg\n",
            "Saved frame: processed_frames/video_354/frame_7.jpg\n",
            "Saved frame: processed_frames/video_354/frame_8.jpg\n"
          ]
        },
        {
          "output_type": "stream",
          "name": "stderr",
          "text": [
            "\r 74%|███████▍  | 355/477 [23:26<06:53,  3.39s/it]"
          ]
        },
        {
          "output_type": "stream",
          "name": "stdout",
          "text": [
            "Saved frame: processed_frames/video_354/frame_9.jpg\n",
            "Processing video: /content/drive/MyDrive/HACER/takeoffglasses_angry_7_j.mp4, Total frames: 99\n",
            "Saved frame: processed_frames/video_355/frame_0.jpg\n",
            "Saved frame: processed_frames/video_355/frame_1.jpg\n",
            "Saved frame: processed_frames/video_355/frame_2.jpg\n",
            "Saved frame: processed_frames/video_355/frame_3.jpg\n",
            "Saved frame: processed_frames/video_355/frame_4.jpg\n",
            "Saved frame: processed_frames/video_355/frame_5.jpg\n",
            "Saved frame: processed_frames/video_355/frame_6.jpg\n",
            "Saved frame: processed_frames/video_355/frame_7.jpg\n",
            "Saved frame: processed_frames/video_355/frame_8.jpg\n"
          ]
        },
        {
          "output_type": "stream",
          "name": "stderr",
          "text": [
            "\r 75%|███████▍  | 356/477 [23:30<07:07,  3.53s/it]"
          ]
        },
        {
          "output_type": "stream",
          "name": "stdout",
          "text": [
            "Saved frame: processed_frames/video_355/frame_9.jpg\n",
            "Processing video: /content/drive/MyDrive/HACER/takeoffglasses_angry_8_s.mp4, Total frames: 93\n",
            "Saved frame: processed_frames/video_356/frame_0.jpg\n",
            "Saved frame: processed_frames/video_356/frame_1.jpg\n",
            "Saved frame: processed_frames/video_356/frame_2.jpg\n",
            "Saved frame: processed_frames/video_356/frame_3.jpg\n",
            "Saved frame: processed_frames/video_356/frame_4.jpg\n",
            "Saved frame: processed_frames/video_356/frame_5.jpg\n",
            "Saved frame: processed_frames/video_356/frame_6.jpg\n",
            "Saved frame: processed_frames/video_356/frame_7.jpg\n",
            "Saved frame: processed_frames/video_356/frame_8.jpg\n"
          ]
        },
        {
          "output_type": "stream",
          "name": "stderr",
          "text": [
            "\r 75%|███████▍  | 357/477 [23:33<06:50,  3.42s/it]"
          ]
        },
        {
          "output_type": "stream",
          "name": "stdout",
          "text": [
            "Saved frame: processed_frames/video_356/frame_9.jpg\n",
            "Processing video: /content/drive/MyDrive/HACER/takeoffglasses_angry_9_l.mp4, Total frames: 75\n",
            "Saved frame: processed_frames/video_357/frame_0.jpg\n",
            "Saved frame: processed_frames/video_357/frame_1.jpg\n",
            "Saved frame: processed_frames/video_357/frame_2.jpg\n",
            "Saved frame: processed_frames/video_357/frame_3.jpg\n",
            "Saved frame: processed_frames/video_357/frame_4.jpg\n",
            "Saved frame: processed_frames/video_357/frame_5.jpg\n",
            "Saved frame: processed_frames/video_357/frame_6.jpg\n",
            "Saved frame: processed_frames/video_357/frame_7.jpg\n",
            "Saved frame: processed_frames/video_357/frame_8.jpg\n"
          ]
        },
        {
          "output_type": "stream",
          "name": "stderr",
          "text": [
            "\r 75%|███████▌  | 358/477 [23:35<06:01,  3.04s/it]"
          ]
        },
        {
          "output_type": "stream",
          "name": "stdout",
          "text": [
            "Saved frame: processed_frames/video_357/frame_9.jpg\n",
            "Processing video: /content/drive/MyDrive/HACER/takeoffglasses_happy_10_s.mp4, Total frames: 206\n",
            "Saved frame: processed_frames/video_358/frame_0.jpg\n",
            "Saved frame: processed_frames/video_358/frame_1.jpg\n",
            "Saved frame: processed_frames/video_358/frame_2.jpg\n",
            "Saved frame: processed_frames/video_358/frame_3.jpg\n",
            "Saved frame: processed_frames/video_358/frame_4.jpg\n",
            "Saved frame: processed_frames/video_358/frame_5.jpg\n",
            "Saved frame: processed_frames/video_358/frame_6.jpg\n",
            "Saved frame: processed_frames/video_358/frame_7.jpg\n",
            "Saved frame: processed_frames/video_358/frame_8.jpg\n"
          ]
        },
        {
          "output_type": "stream",
          "name": "stderr",
          "text": [
            "\r 75%|███████▌  | 359/477 [23:39<06:14,  3.17s/it]"
          ]
        },
        {
          "output_type": "stream",
          "name": "stdout",
          "text": [
            "Saved frame: processed_frames/video_358/frame_9.jpg\n",
            "Processing video: /content/drive/MyDrive/HACER/takeoffglasses_happy_11_a.mp4, Total frames: 111\n",
            "Saved frame: processed_frames/video_359/frame_0.jpg\n",
            "Saved frame: processed_frames/video_359/frame_1.jpg\n",
            "Saved frame: processed_frames/video_359/frame_2.jpg\n",
            "Saved frame: processed_frames/video_359/frame_3.jpg\n",
            "Saved frame: processed_frames/video_359/frame_4.jpg\n",
            "Saved frame: processed_frames/video_359/frame_5.jpg\n",
            "Saved frame: processed_frames/video_359/frame_6.jpg\n",
            "Saved frame: processed_frames/video_359/frame_7.jpg\n",
            "Saved frame: processed_frames/video_359/frame_8.jpg\n"
          ]
        },
        {
          "output_type": "stream",
          "name": "stderr",
          "text": [
            "\r 75%|███████▌  | 360/477 [23:42<06:07,  3.14s/it]"
          ]
        },
        {
          "output_type": "stream",
          "name": "stdout",
          "text": [
            "Saved frame: processed_frames/video_359/frame_9.jpg\n",
            "Processing video: /content/drive/MyDrive/HACER/takeoffglasses_happy_12_l.mp4, Total frames: 110\n",
            "Saved frame: processed_frames/video_360/frame_0.jpg\n",
            "Saved frame: processed_frames/video_360/frame_1.jpg\n",
            "Saved frame: processed_frames/video_360/frame_2.jpg\n",
            "Saved frame: processed_frames/video_360/frame_3.jpg\n",
            "Saved frame: processed_frames/video_360/frame_4.jpg\n",
            "Saved frame: processed_frames/video_360/frame_5.jpg\n",
            "Saved frame: processed_frames/video_360/frame_6.jpg\n",
            "Saved frame: processed_frames/video_360/frame_7.jpg\n",
            "Saved frame: processed_frames/video_360/frame_8.jpg\n"
          ]
        },
        {
          "output_type": "stream",
          "name": "stderr",
          "text": [
            "\r 76%|███████▌  | 361/477 [23:47<07:17,  3.78s/it]"
          ]
        },
        {
          "output_type": "stream",
          "name": "stdout",
          "text": [
            "Saved frame: processed_frames/video_360/frame_9.jpg\n",
            "Processing video: /content/drive/MyDrive/HACER/takeoffglasses_happy_13_m.mp4, Total frames: 153\n",
            "Saved frame: processed_frames/video_361/frame_0.jpg\n",
            "Saved frame: processed_frames/video_361/frame_1.jpg\n",
            "Saved frame: processed_frames/video_361/frame_2.jpg\n",
            "Saved frame: processed_frames/video_361/frame_3.jpg\n",
            "Saved frame: processed_frames/video_361/frame_4.jpg\n",
            "Saved frame: processed_frames/video_361/frame_5.jpg\n",
            "Saved frame: processed_frames/video_361/frame_6.jpg\n",
            "Saved frame: processed_frames/video_361/frame_7.jpg\n",
            "Saved frame: processed_frames/video_361/frame_8.jpg\n"
          ]
        },
        {
          "output_type": "stream",
          "name": "stderr",
          "text": [
            "\r 76%|███████▌  | 362/477 [23:52<07:39,  4.00s/it]"
          ]
        },
        {
          "output_type": "stream",
          "name": "stdout",
          "text": [
            "Saved frame: processed_frames/video_361/frame_9.jpg\n",
            "Processing video: /content/drive/MyDrive/HACER/takeoffglasses_happy_14_h.mp4, Total frames: 92\n",
            "Saved frame: processed_frames/video_362/frame_0.jpg\n",
            "Saved frame: processed_frames/video_362/frame_1.jpg\n",
            "Saved frame: processed_frames/video_362/frame_2.jpg\n",
            "Saved frame: processed_frames/video_362/frame_3.jpg\n",
            "Saved frame: processed_frames/video_362/frame_4.jpg\n",
            "Saved frame: processed_frames/video_362/frame_5.jpg\n",
            "Saved frame: processed_frames/video_362/frame_6.jpg\n",
            "Saved frame: processed_frames/video_362/frame_7.jpg\n",
            "Saved frame: processed_frames/video_362/frame_8.jpg\n"
          ]
        },
        {
          "output_type": "stream",
          "name": "stderr",
          "text": [
            "\r 76%|███████▌  | 363/477 [23:54<06:51,  3.61s/it]"
          ]
        },
        {
          "output_type": "stream",
          "name": "stdout",
          "text": [
            "Saved frame: processed_frames/video_362/frame_9.jpg\n",
            "Processing video: /content/drive/MyDrive/HACER/takeoffglasses_happy_15_j.mp4, Total frames: 97\n",
            "Saved frame: processed_frames/video_363/frame_0.jpg\n",
            "Saved frame: processed_frames/video_363/frame_1.jpg\n",
            "Saved frame: processed_frames/video_363/frame_2.jpg\n",
            "Saved frame: processed_frames/video_363/frame_3.jpg\n",
            "Saved frame: processed_frames/video_363/frame_4.jpg\n",
            "Saved frame: processed_frames/video_363/frame_5.jpg\n",
            "Saved frame: processed_frames/video_363/frame_6.jpg\n",
            "Saved frame: processed_frames/video_363/frame_7.jpg\n",
            "Saved frame: processed_frames/video_363/frame_8.jpg\n"
          ]
        },
        {
          "output_type": "stream",
          "name": "stderr",
          "text": [
            "\r 76%|███████▋  | 364/477 [23:56<05:58,  3.17s/it]"
          ]
        },
        {
          "output_type": "stream",
          "name": "stdout",
          "text": [
            "Saved frame: processed_frames/video_363/frame_9.jpg\n",
            "Processing video: /content/drive/MyDrive/HACER/takeoffglasses_happy_1_s.mp4, Total frames: 157\n",
            "Saved frame: processed_frames/video_364/frame_0.jpg\n",
            "Saved frame: processed_frames/video_364/frame_1.jpg\n",
            "Saved frame: processed_frames/video_364/frame_2.jpg\n",
            "Saved frame: processed_frames/video_364/frame_3.jpg\n",
            "Saved frame: processed_frames/video_364/frame_4.jpg\n",
            "Saved frame: processed_frames/video_364/frame_5.jpg\n",
            "Saved frame: processed_frames/video_364/frame_6.jpg\n",
            "Saved frame: processed_frames/video_364/frame_7.jpg\n",
            "Saved frame: processed_frames/video_364/frame_8.jpg\n"
          ]
        },
        {
          "output_type": "stream",
          "name": "stderr",
          "text": [
            "\r 77%|███████▋  | 365/477 [24:02<07:09,  3.83s/it]"
          ]
        },
        {
          "output_type": "stream",
          "name": "stdout",
          "text": [
            "Saved frame: processed_frames/video_364/frame_9.jpg\n",
            "Processing video: /content/drive/MyDrive/HACER/takeoffglasses_happy_2_w.mp4, Total frames: 124\n",
            "Saved frame: processed_frames/video_365/frame_0.jpg\n",
            "Saved frame: processed_frames/video_365/frame_1.jpg\n",
            "Saved frame: processed_frames/video_365/frame_2.jpg\n",
            "Saved frame: processed_frames/video_365/frame_3.jpg\n",
            "Saved frame: processed_frames/video_365/frame_4.jpg\n",
            "Saved frame: processed_frames/video_365/frame_5.jpg\n",
            "Saved frame: processed_frames/video_365/frame_6.jpg\n",
            "Saved frame: processed_frames/video_365/frame_7.jpg\n",
            "Saved frame: processed_frames/video_365/frame_8.jpg\n"
          ]
        },
        {
          "output_type": "stream",
          "name": "stderr",
          "text": [
            "\r 77%|███████▋  | 366/477 [24:05<06:42,  3.63s/it]"
          ]
        },
        {
          "output_type": "stream",
          "name": "stdout",
          "text": [
            "Saved frame: processed_frames/video_365/frame_9.jpg\n",
            "Processing video: /content/drive/MyDrive/HACER/takeoffglasses_happy_3_t.mp4, Total frames: 65\n",
            "Saved frame: processed_frames/video_366/frame_0.jpg\n",
            "Saved frame: processed_frames/video_366/frame_1.jpg\n",
            "Saved frame: processed_frames/video_366/frame_2.jpg\n",
            "Saved frame: processed_frames/video_366/frame_3.jpg\n",
            "Saved frame: processed_frames/video_366/frame_4.jpg\n",
            "Saved frame: processed_frames/video_366/frame_5.jpg\n",
            "Saved frame: processed_frames/video_366/frame_6.jpg\n",
            "Saved frame: processed_frames/video_366/frame_7.jpg\n",
            "Saved frame: processed_frames/video_366/frame_8.jpg\n"
          ]
        },
        {
          "output_type": "stream",
          "name": "stderr",
          "text": [
            "\r 77%|███████▋  | 367/477 [24:07<05:40,  3.10s/it]"
          ]
        },
        {
          "output_type": "stream",
          "name": "stdout",
          "text": [
            "Saved frame: processed_frames/video_366/frame_9.jpg\n",
            "Processing video: /content/drive/MyDrive/HACER/takeoffglasses_happy_4_h.mp4, Total frames: 130\n",
            "Saved frame: processed_frames/video_367/frame_0.jpg\n",
            "Saved frame: processed_frames/video_367/frame_1.jpg\n",
            "Saved frame: processed_frames/video_367/frame_2.jpg\n",
            "Saved frame: processed_frames/video_367/frame_3.jpg\n",
            "Saved frame: processed_frames/video_367/frame_4.jpg\n",
            "Saved frame: processed_frames/video_367/frame_5.jpg\n",
            "Saved frame: processed_frames/video_367/frame_6.jpg\n",
            "Saved frame: processed_frames/video_367/frame_7.jpg\n",
            "Saved frame: processed_frames/video_367/frame_8.jpg\n"
          ]
        },
        {
          "output_type": "stream",
          "name": "stderr",
          "text": [
            "\r 77%|███████▋  | 368/477 [24:10<05:37,  3.10s/it]"
          ]
        },
        {
          "output_type": "stream",
          "name": "stdout",
          "text": [
            "Saved frame: processed_frames/video_367/frame_9.jpg\n",
            "Processing video: /content/drive/MyDrive/HACER/takeoffglasses_happy_5_m.mp4, Total frames: 212\n",
            "Saved frame: processed_frames/video_368/frame_0.jpg\n",
            "Saved frame: processed_frames/video_368/frame_1.jpg\n",
            "Saved frame: processed_frames/video_368/frame_2.jpg\n",
            "Saved frame: processed_frames/video_368/frame_3.jpg\n",
            "Saved frame: processed_frames/video_368/frame_4.jpg\n",
            "Saved frame: processed_frames/video_368/frame_5.jpg\n",
            "Saved frame: processed_frames/video_368/frame_6.jpg\n",
            "Saved frame: processed_frames/video_368/frame_7.jpg\n",
            "Saved frame: processed_frames/video_368/frame_8.jpg\n"
          ]
        },
        {
          "output_type": "stream",
          "name": "stderr",
          "text": [
            "\r 77%|███████▋  | 369/477 [24:13<05:34,  3.10s/it]"
          ]
        },
        {
          "output_type": "stream",
          "name": "stdout",
          "text": [
            "Saved frame: processed_frames/video_368/frame_9.jpg\n",
            "Processing video: /content/drive/MyDrive/HACER/takeoffglasses_happy_6_w.mp4, Total frames: 136\n",
            "Saved frame: processed_frames/video_369/frame_0.jpg\n",
            "Saved frame: processed_frames/video_369/frame_1.jpg\n",
            "Saved frame: processed_frames/video_369/frame_2.jpg\n",
            "Saved frame: processed_frames/video_369/frame_3.jpg\n",
            "Saved frame: processed_frames/video_369/frame_4.jpg\n",
            "Saved frame: processed_frames/video_369/frame_5.jpg\n",
            "Saved frame: processed_frames/video_369/frame_6.jpg\n",
            "Saved frame: processed_frames/video_369/frame_7.jpg\n",
            "Saved frame: processed_frames/video_369/frame_8.jpg\n"
          ]
        },
        {
          "output_type": "stream",
          "name": "stderr",
          "text": [
            "\r 78%|███████▊  | 370/477 [24:18<06:34,  3.69s/it]"
          ]
        },
        {
          "output_type": "stream",
          "name": "stdout",
          "text": [
            "Saved frame: processed_frames/video_369/frame_9.jpg\n",
            "Processing video: /content/drive/MyDrive/HACER/takeoffglasses_happy_7_l.mp4, Total frames: 87\n",
            "Saved frame: processed_frames/video_370/frame_0.jpg\n",
            "Saved frame: processed_frames/video_370/frame_1.jpg\n",
            "Saved frame: processed_frames/video_370/frame_2.jpg\n",
            "Saved frame: processed_frames/video_370/frame_3.jpg\n",
            "Saved frame: processed_frames/video_370/frame_4.jpg\n",
            "Saved frame: processed_frames/video_370/frame_5.jpg\n",
            "Saved frame: processed_frames/video_370/frame_6.jpg\n",
            "Saved frame: processed_frames/video_370/frame_7.jpg\n",
            "Saved frame: processed_frames/video_370/frame_8.jpg\n"
          ]
        },
        {
          "output_type": "stream",
          "name": "stderr",
          "text": [
            "\r 78%|███████▊  | 371/477 [24:20<05:49,  3.30s/it]"
          ]
        },
        {
          "output_type": "stream",
          "name": "stdout",
          "text": [
            "Saved frame: processed_frames/video_370/frame_9.jpg\n",
            "Processing video: /content/drive/MyDrive/HACER/takeoffglasses_happy_8_t.mp4, Total frames: 76\n",
            "Saved frame: processed_frames/video_371/frame_0.jpg\n",
            "Saved frame: processed_frames/video_371/frame_1.jpg\n",
            "Saved frame: processed_frames/video_371/frame_2.jpg\n",
            "Saved frame: processed_frames/video_371/frame_3.jpg\n",
            "Saved frame: processed_frames/video_371/frame_4.jpg\n",
            "Saved frame: processed_frames/video_371/frame_5.jpg\n",
            "Saved frame: processed_frames/video_371/frame_6.jpg\n",
            "Saved frame: processed_frames/video_371/frame_7.jpg\n",
            "Saved frame: processed_frames/video_371/frame_8.jpg\n"
          ]
        },
        {
          "output_type": "stream",
          "name": "stderr",
          "text": [
            "\r 78%|███████▊  | 372/477 [24:23<05:33,  3.18s/it]"
          ]
        },
        {
          "output_type": "stream",
          "name": "stdout",
          "text": [
            "Saved frame: processed_frames/video_371/frame_9.jpg\n",
            "Processing video: /content/drive/MyDrive/HACER/takeoffglasses_happy_9_j.mp4, Total frames: 81\n",
            "Saved frame: processed_frames/video_372/frame_0.jpg\n",
            "Saved frame: processed_frames/video_372/frame_1.jpg\n",
            "Saved frame: processed_frames/video_372/frame_2.jpg\n",
            "Saved frame: processed_frames/video_372/frame_3.jpg\n",
            "Saved frame: processed_frames/video_372/frame_4.jpg\n",
            "Saved frame: processed_frames/video_372/frame_5.jpg\n",
            "Saved frame: processed_frames/video_372/frame_6.jpg\n",
            "Saved frame: processed_frames/video_372/frame_7.jpg\n",
            "Saved frame: processed_frames/video_372/frame_8.jpg\n"
          ]
        },
        {
          "output_type": "stream",
          "name": "stderr",
          "text": [
            "\r 78%|███████▊  | 373/477 [24:25<04:54,  2.83s/it]"
          ]
        },
        {
          "output_type": "stream",
          "name": "stdout",
          "text": [
            "Saved frame: processed_frames/video_372/frame_9.jpg\n",
            "Processing video: /content/drive/MyDrive/HACER/takeoffglasses_neutral_10_a.mp4, Total frames: 115\n",
            "Saved frame: processed_frames/video_373/frame_0.jpg\n",
            "Saved frame: processed_frames/video_373/frame_1.jpg\n",
            "Saved frame: processed_frames/video_373/frame_2.jpg\n",
            "Saved frame: processed_frames/video_373/frame_3.jpg\n",
            "Saved frame: processed_frames/video_373/frame_4.jpg\n",
            "Saved frame: processed_frames/video_373/frame_5.jpg\n",
            "Saved frame: processed_frames/video_373/frame_6.jpg\n",
            "Saved frame: processed_frames/video_373/frame_7.jpg\n",
            "Saved frame: processed_frames/video_373/frame_8.jpg\n"
          ]
        },
        {
          "output_type": "stream",
          "name": "stderr",
          "text": [
            "\r 78%|███████▊  | 374/477 [24:29<05:23,  3.14s/it]"
          ]
        },
        {
          "output_type": "stream",
          "name": "stdout",
          "text": [
            "Saved frame: processed_frames/video_373/frame_9.jpg\n",
            "Processing video: /content/drive/MyDrive/HACER/takeoffglasses_neutral_11_l.mp4, Total frames: 75\n",
            "Saved frame: processed_frames/video_374/frame_0.jpg\n",
            "Saved frame: processed_frames/video_374/frame_1.jpg\n",
            "Saved frame: processed_frames/video_374/frame_2.jpg\n",
            "Saved frame: processed_frames/video_374/frame_3.jpg\n",
            "Saved frame: processed_frames/video_374/frame_4.jpg\n",
            "Saved frame: processed_frames/video_374/frame_5.jpg\n",
            "Saved frame: processed_frames/video_374/frame_6.jpg\n",
            "Saved frame: processed_frames/video_374/frame_7.jpg\n",
            "Saved frame: processed_frames/video_374/frame_8.jpg\n"
          ]
        },
        {
          "output_type": "stream",
          "name": "stderr",
          "text": [
            "\r 79%|███████▊  | 375/477 [24:33<05:35,  3.29s/it]"
          ]
        },
        {
          "output_type": "stream",
          "name": "stdout",
          "text": [
            "Saved frame: processed_frames/video_374/frame_9.jpg\n",
            "Processing video: /content/drive/MyDrive/HACER/takeoffglasses_neutral_12_m.mp4, Total frames: 104\n",
            "Saved frame: processed_frames/video_375/frame_0.jpg\n",
            "Saved frame: processed_frames/video_375/frame_1.jpg\n",
            "Saved frame: processed_frames/video_375/frame_2.jpg\n",
            "Saved frame: processed_frames/video_375/frame_3.jpg\n",
            "Saved frame: processed_frames/video_375/frame_4.jpg\n",
            "Saved frame: processed_frames/video_375/frame_5.jpg\n",
            "Saved frame: processed_frames/video_375/frame_6.jpg\n",
            "Saved frame: processed_frames/video_375/frame_7.jpg\n",
            "Saved frame: processed_frames/video_375/frame_8.jpg\n"
          ]
        },
        {
          "output_type": "stream",
          "name": "stderr",
          "text": [
            "\r 79%|███████▉  | 376/477 [24:36<05:30,  3.27s/it]"
          ]
        },
        {
          "output_type": "stream",
          "name": "stdout",
          "text": [
            "Saved frame: processed_frames/video_375/frame_9.jpg\n",
            "Processing video: /content/drive/MyDrive/HACER/takeoffglasses_neutral_13_m.mp4, Total frames: 124\n",
            "Saved frame: processed_frames/video_376/frame_0.jpg\n",
            "Saved frame: processed_frames/video_376/frame_1.jpg\n",
            "Saved frame: processed_frames/video_376/frame_2.jpg\n",
            "Saved frame: processed_frames/video_376/frame_3.jpg\n",
            "Saved frame: processed_frames/video_376/frame_4.jpg\n",
            "Saved frame: processed_frames/video_376/frame_5.jpg\n",
            "Saved frame: processed_frames/video_376/frame_6.jpg\n",
            "Saved frame: processed_frames/video_376/frame_7.jpg\n",
            "Saved frame: processed_frames/video_376/frame_8.jpg\n"
          ]
        },
        {
          "output_type": "stream",
          "name": "stderr",
          "text": [
            "\r 79%|███████▉  | 377/477 [24:39<05:09,  3.09s/it]"
          ]
        },
        {
          "output_type": "stream",
          "name": "stdout",
          "text": [
            "Saved frame: processed_frames/video_376/frame_9.jpg\n",
            "Processing video: /content/drive/MyDrive/HACER/takeoffglasses_neutral_14_h.mp4, Total frames: 107\n",
            "Saved frame: processed_frames/video_377/frame_0.jpg\n",
            "Saved frame: processed_frames/video_377/frame_1.jpg\n",
            "Saved frame: processed_frames/video_377/frame_2.jpg\n",
            "Saved frame: processed_frames/video_377/frame_3.jpg\n",
            "Saved frame: processed_frames/video_377/frame_4.jpg\n",
            "Saved frame: processed_frames/video_377/frame_5.jpg\n",
            "Saved frame: processed_frames/video_377/frame_6.jpg\n",
            "Saved frame: processed_frames/video_377/frame_7.jpg\n",
            "Saved frame: processed_frames/video_377/frame_8.jpg\n"
          ]
        },
        {
          "output_type": "stream",
          "name": "stderr",
          "text": [
            "\r 79%|███████▉  | 378/477 [24:42<04:56,  2.99s/it]"
          ]
        },
        {
          "output_type": "stream",
          "name": "stdout",
          "text": [
            "Saved frame: processed_frames/video_377/frame_9.jpg\n",
            "Processing video: /content/drive/MyDrive/HACER/takeoffglasses_neutral_15_j.mp4, Total frames: 97\n",
            "Saved frame: processed_frames/video_378/frame_0.jpg\n",
            "Saved frame: processed_frames/video_378/frame_1.jpg\n",
            "Saved frame: processed_frames/video_378/frame_2.jpg\n",
            "Saved frame: processed_frames/video_378/frame_3.jpg\n",
            "Saved frame: processed_frames/video_378/frame_4.jpg\n",
            "Saved frame: processed_frames/video_378/frame_5.jpg\n",
            "Saved frame: processed_frames/video_378/frame_6.jpg\n",
            "Saved frame: processed_frames/video_378/frame_7.jpg\n",
            "Saved frame: processed_frames/video_378/frame_8.jpg\n"
          ]
        },
        {
          "output_type": "stream",
          "name": "stderr",
          "text": [
            "\r 79%|███████▉  | 379/477 [24:44<04:41,  2.88s/it]"
          ]
        },
        {
          "output_type": "stream",
          "name": "stdout",
          "text": [
            "Saved frame: processed_frames/video_378/frame_9.jpg\n",
            "Processing video: /content/drive/MyDrive/HACER/takeoffglasses_neutral_16_a.mp4, Total frames: 147\n",
            "Saved frame: processed_frames/video_379/frame_0.jpg\n",
            "Saved frame: processed_frames/video_379/frame_1.jpg\n",
            "Saved frame: processed_frames/video_379/frame_2.jpg\n",
            "Saved frame: processed_frames/video_379/frame_3.jpg\n",
            "Saved frame: processed_frames/video_379/frame_4.jpg\n",
            "Saved frame: processed_frames/video_379/frame_5.jpg\n",
            "Saved frame: processed_frames/video_379/frame_6.jpg\n",
            "Saved frame: processed_frames/video_379/frame_7.jpg\n",
            "Saved frame: processed_frames/video_379/frame_8.jpg\n"
          ]
        },
        {
          "output_type": "stream",
          "name": "stderr",
          "text": [
            "\r 80%|███████▉  | 380/477 [24:50<06:18,  3.90s/it]"
          ]
        },
        {
          "output_type": "stream",
          "name": "stdout",
          "text": [
            "Saved frame: processed_frames/video_379/frame_9.jpg\n",
            "Processing video: /content/drive/MyDrive/HACER/takeoffglasses_neutral_17_a.mp4, Total frames: 131\n",
            "Saved frame: processed_frames/video_380/frame_0.jpg\n",
            "Saved frame: processed_frames/video_380/frame_1.jpg\n",
            "Saved frame: processed_frames/video_380/frame_2.jpg\n",
            "Saved frame: processed_frames/video_380/frame_3.jpg\n",
            "Saved frame: processed_frames/video_380/frame_4.jpg\n",
            "Saved frame: processed_frames/video_380/frame_5.jpg\n",
            "Saved frame: processed_frames/video_380/frame_6.jpg\n",
            "Saved frame: processed_frames/video_380/frame_7.jpg\n",
            "Saved frame: processed_frames/video_380/frame_8.jpg\n"
          ]
        },
        {
          "output_type": "stream",
          "name": "stderr",
          "text": [
            "\r 80%|███████▉  | 381/477 [24:54<06:19,  3.95s/it]"
          ]
        },
        {
          "output_type": "stream",
          "name": "stdout",
          "text": [
            "Saved frame: processed_frames/video_380/frame_9.jpg\n",
            "Processing video: /content/drive/MyDrive/HACER/takeoffglasses_neutral_1_s.mp4, Total frames: 116\n",
            "Saved frame: processed_frames/video_381/frame_0.jpg\n",
            "Saved frame: processed_frames/video_381/frame_1.jpg\n",
            "Saved frame: processed_frames/video_381/frame_2.jpg\n",
            "Saved frame: processed_frames/video_381/frame_3.jpg\n",
            "Saved frame: processed_frames/video_381/frame_4.jpg\n",
            "Saved frame: processed_frames/video_381/frame_5.jpg\n",
            "Saved frame: processed_frames/video_381/frame_6.jpg\n",
            "Saved frame: processed_frames/video_381/frame_7.jpg\n",
            "Saved frame: processed_frames/video_381/frame_8.jpg\n"
          ]
        },
        {
          "output_type": "stream",
          "name": "stderr",
          "text": [
            "\r 80%|████████  | 382/477 [24:57<05:38,  3.56s/it]"
          ]
        },
        {
          "output_type": "stream",
          "name": "stdout",
          "text": [
            "Saved frame: processed_frames/video_381/frame_9.jpg\n",
            "Processing video: /content/drive/MyDrive/HACER/takeoffglasses_neutral_2_w.mp4, Total frames: 187\n",
            "Saved frame: processed_frames/video_382/frame_0.jpg\n",
            "Saved frame: processed_frames/video_382/frame_1.jpg\n",
            "Saved frame: processed_frames/video_382/frame_2.jpg\n",
            "Saved frame: processed_frames/video_382/frame_3.jpg\n",
            "Saved frame: processed_frames/video_382/frame_4.jpg\n",
            "Saved frame: processed_frames/video_382/frame_5.jpg\n",
            "Saved frame: processed_frames/video_382/frame_6.jpg\n",
            "Saved frame: processed_frames/video_382/frame_7.jpg\n",
            "Saved frame: processed_frames/video_382/frame_8.jpg\n"
          ]
        },
        {
          "output_type": "stream",
          "name": "stderr",
          "text": [
            "\r 80%|████████  | 383/477 [25:02<06:00,  3.84s/it]"
          ]
        },
        {
          "output_type": "stream",
          "name": "stdout",
          "text": [
            "Saved frame: processed_frames/video_382/frame_9.jpg\n",
            "Processing video: /content/drive/MyDrive/HACER/takeoffglasses_neutral_3_t.mp4, Total frames: 65\n",
            "Saved frame: processed_frames/video_383/frame_0.jpg\n",
            "Saved frame: processed_frames/video_383/frame_1.jpg\n",
            "Saved frame: processed_frames/video_383/frame_2.jpg\n",
            "Saved frame: processed_frames/video_383/frame_3.jpg\n",
            "Saved frame: processed_frames/video_383/frame_4.jpg\n",
            "Saved frame: processed_frames/video_383/frame_5.jpg\n",
            "Saved frame: processed_frames/video_383/frame_6.jpg\n",
            "Saved frame: processed_frames/video_383/frame_7.jpg\n",
            "Saved frame: processed_frames/video_383/frame_8.jpg\n"
          ]
        },
        {
          "output_type": "stream",
          "name": "stderr",
          "text": [
            "\r 81%|████████  | 384/477 [25:05<05:32,  3.57s/it]"
          ]
        },
        {
          "output_type": "stream",
          "name": "stdout",
          "text": [
            "Saved frame: processed_frames/video_383/frame_9.jpg\n",
            "Processing video: /content/drive/MyDrive/HACER/takeoffglasses_neutral_4_h.mp4, Total frames: 152\n",
            "Saved frame: processed_frames/video_384/frame_0.jpg\n",
            "Saved frame: processed_frames/video_384/frame_1.jpg\n",
            "Saved frame: processed_frames/video_384/frame_2.jpg\n",
            "Saved frame: processed_frames/video_384/frame_3.jpg\n",
            "Saved frame: processed_frames/video_384/frame_4.jpg\n",
            "Saved frame: processed_frames/video_384/frame_5.jpg\n",
            "Saved frame: processed_frames/video_384/frame_6.jpg\n",
            "Saved frame: processed_frames/video_384/frame_7.jpg\n",
            "Saved frame: processed_frames/video_384/frame_8.jpg\n"
          ]
        },
        {
          "output_type": "stream",
          "name": "stderr",
          "text": [
            "\r 81%|████████  | 385/477 [25:08<05:20,  3.48s/it]"
          ]
        },
        {
          "output_type": "stream",
          "name": "stdout",
          "text": [
            "Saved frame: processed_frames/video_384/frame_9.jpg\n",
            "Processing video: /content/drive/MyDrive/HACER/takeoffglasses_neutral_5_w.mp4, Total frames: 98\n",
            "Saved frame: processed_frames/video_385/frame_0.jpg\n",
            "Saved frame: processed_frames/video_385/frame_1.jpg\n",
            "Saved frame: processed_frames/video_385/frame_2.jpg\n",
            "Saved frame: processed_frames/video_385/frame_3.jpg\n",
            "Saved frame: processed_frames/video_385/frame_4.jpg\n",
            "Saved frame: processed_frames/video_385/frame_5.jpg\n",
            "Saved frame: processed_frames/video_385/frame_6.jpg\n",
            "Saved frame: processed_frames/video_385/frame_7.jpg\n",
            "Saved frame: processed_frames/video_385/frame_8.jpg\n"
          ]
        },
        {
          "output_type": "stream",
          "name": "stderr",
          "text": [
            "\r 81%|████████  | 386/477 [25:10<04:38,  3.06s/it]"
          ]
        },
        {
          "output_type": "stream",
          "name": "stdout",
          "text": [
            "Saved frame: processed_frames/video_385/frame_9.jpg\n",
            "Processing video: /content/drive/MyDrive/HACER/takeoffglasses_neutral_6_l.mp4, Total frames: 112\n",
            "Saved frame: processed_frames/video_386/frame_0.jpg\n",
            "Saved frame: processed_frames/video_386/frame_1.jpg\n",
            "Saved frame: processed_frames/video_386/frame_2.jpg\n",
            "Saved frame: processed_frames/video_386/frame_3.jpg\n",
            "Saved frame: processed_frames/video_386/frame_4.jpg\n",
            "Saved frame: processed_frames/video_386/frame_5.jpg\n",
            "Saved frame: processed_frames/video_386/frame_6.jpg\n",
            "Saved frame: processed_frames/video_386/frame_7.jpg\n",
            "Saved frame: processed_frames/video_386/frame_8.jpg\n"
          ]
        },
        {
          "output_type": "stream",
          "name": "stderr",
          "text": [
            "\r 81%|████████  | 387/477 [25:13<04:39,  3.11s/it]"
          ]
        },
        {
          "output_type": "stream",
          "name": "stdout",
          "text": [
            "Saved frame: processed_frames/video_386/frame_9.jpg\n",
            "Processing video: /content/drive/MyDrive/HACER/takeoffglasses_neutral_7_t.mp4, Total frames: 76\n",
            "Saved frame: processed_frames/video_387/frame_0.jpg\n",
            "Saved frame: processed_frames/video_387/frame_1.jpg\n",
            "Saved frame: processed_frames/video_387/frame_2.jpg\n",
            "Saved frame: processed_frames/video_387/frame_3.jpg\n",
            "Saved frame: processed_frames/video_387/frame_4.jpg\n",
            "Saved frame: processed_frames/video_387/frame_5.jpg\n",
            "Saved frame: processed_frames/video_387/frame_6.jpg\n",
            "Saved frame: processed_frames/video_387/frame_7.jpg\n",
            "Saved frame: processed_frames/video_387/frame_8.jpg\n"
          ]
        },
        {
          "output_type": "stream",
          "name": "stderr",
          "text": [
            "\r 81%|████████▏ | 388/477 [25:17<04:57,  3.35s/it]"
          ]
        },
        {
          "output_type": "stream",
          "name": "stdout",
          "text": [
            "Saved frame: processed_frames/video_387/frame_9.jpg\n",
            "Processing video: /content/drive/MyDrive/HACER/takeoffglasses_neutral_8_J.mp4, Total frames: 99\n",
            "Saved frame: processed_frames/video_388/frame_0.jpg\n",
            "Saved frame: processed_frames/video_388/frame_1.jpg\n",
            "Saved frame: processed_frames/video_388/frame_2.jpg\n",
            "Saved frame: processed_frames/video_388/frame_3.jpg\n",
            "Saved frame: processed_frames/video_388/frame_4.jpg\n",
            "Saved frame: processed_frames/video_388/frame_5.jpg\n",
            "Saved frame: processed_frames/video_388/frame_6.jpg\n",
            "Saved frame: processed_frames/video_388/frame_7.jpg\n",
            "Saved frame: processed_frames/video_388/frame_8.jpg\n"
          ]
        },
        {
          "output_type": "stream",
          "name": "stderr",
          "text": [
            "\r 82%|████████▏ | 389/477 [25:20<04:54,  3.34s/it]"
          ]
        },
        {
          "output_type": "stream",
          "name": "stdout",
          "text": [
            "Saved frame: processed_frames/video_388/frame_9.jpg\n",
            "Processing video: /content/drive/MyDrive/HACER/takeoffglasses_neutral_9_s.mp4, Total frames: 122\n",
            "Saved frame: processed_frames/video_389/frame_0.jpg\n",
            "Saved frame: processed_frames/video_389/frame_1.jpg\n",
            "Saved frame: processed_frames/video_389/frame_2.jpg\n",
            "Saved frame: processed_frames/video_389/frame_3.jpg\n",
            "Saved frame: processed_frames/video_389/frame_4.jpg\n",
            "Saved frame: processed_frames/video_389/frame_5.jpg\n",
            "Saved frame: processed_frames/video_389/frame_6.jpg\n",
            "Saved frame: processed_frames/video_389/frame_7.jpg\n",
            "Saved frame: processed_frames/video_389/frame_8.jpg\n"
          ]
        },
        {
          "output_type": "stream",
          "name": "stderr",
          "text": [
            "\r 82%|████████▏ | 390/477 [25:23<04:36,  3.18s/it]"
          ]
        },
        {
          "output_type": "stream",
          "name": "stdout",
          "text": [
            "Saved frame: processed_frames/video_389/frame_9.jpg\n",
            "Processing video: /content/drive/MyDrive/HACER/takeoffglasses_sad_10_s.mp4, Total frames: 122\n",
            "Saved frame: processed_frames/video_390/frame_0.jpg\n",
            "Saved frame: processed_frames/video_390/frame_1.jpg\n",
            "Saved frame: processed_frames/video_390/frame_2.jpg\n",
            "Saved frame: processed_frames/video_390/frame_3.jpg\n",
            "Saved frame: processed_frames/video_390/frame_4.jpg\n",
            "Saved frame: processed_frames/video_390/frame_5.jpg\n",
            "Saved frame: processed_frames/video_390/frame_6.jpg\n",
            "Saved frame: processed_frames/video_390/frame_7.jpg\n",
            "Saved frame: processed_frames/video_390/frame_8.jpg\n"
          ]
        },
        {
          "output_type": "stream",
          "name": "stderr",
          "text": [
            "\r 82%|████████▏ | 391/477 [25:26<04:24,  3.08s/it]"
          ]
        },
        {
          "output_type": "stream",
          "name": "stdout",
          "text": [
            "Saved frame: processed_frames/video_390/frame_9.jpg\n",
            "Processing video: /content/drive/MyDrive/HACER/takeoffglasses_sad_11_a.mp4, Total frames: 131\n",
            "Saved frame: processed_frames/video_391/frame_0.jpg\n",
            "Saved frame: processed_frames/video_391/frame_1.jpg\n",
            "Saved frame: processed_frames/video_391/frame_2.jpg\n",
            "Saved frame: processed_frames/video_391/frame_3.jpg\n",
            "Saved frame: processed_frames/video_391/frame_4.jpg\n",
            "Saved frame: processed_frames/video_391/frame_5.jpg\n",
            "Saved frame: processed_frames/video_391/frame_6.jpg\n",
            "Saved frame: processed_frames/video_391/frame_7.jpg\n",
            "Saved frame: processed_frames/video_391/frame_8.jpg\n"
          ]
        },
        {
          "output_type": "stream",
          "name": "stderr",
          "text": [
            "\r 82%|████████▏ | 392/477 [25:29<04:27,  3.15s/it]"
          ]
        },
        {
          "output_type": "stream",
          "name": "stdout",
          "text": [
            "Saved frame: processed_frames/video_391/frame_9.jpg\n",
            "Processing video: /content/drive/MyDrive/HACER/takeoffglasses_sad_12_l.mp4, Total frames: 108\n",
            "Saved frame: processed_frames/video_392/frame_0.jpg\n",
            "Saved frame: processed_frames/video_392/frame_1.jpg\n",
            "Saved frame: processed_frames/video_392/frame_2.jpg\n",
            "Saved frame: processed_frames/video_392/frame_3.jpg\n",
            "Saved frame: processed_frames/video_392/frame_4.jpg\n",
            "Saved frame: processed_frames/video_392/frame_5.jpg\n",
            "Saved frame: processed_frames/video_392/frame_6.jpg\n",
            "Saved frame: processed_frames/video_392/frame_7.jpg\n",
            "Saved frame: processed_frames/video_392/frame_8.jpg\n"
          ]
        },
        {
          "output_type": "stream",
          "name": "stderr",
          "text": [
            "\r 82%|████████▏ | 393/477 [25:34<04:58,  3.55s/it]"
          ]
        },
        {
          "output_type": "stream",
          "name": "stdout",
          "text": [
            "Saved frame: processed_frames/video_392/frame_9.jpg\n",
            "Processing video: /content/drive/MyDrive/HACER/takeoffglasses_sad_13_m.mp4, Total frames: 172\n",
            "Saved frame: processed_frames/video_393/frame_0.jpg\n",
            "Saved frame: processed_frames/video_393/frame_1.jpg\n",
            "Saved frame: processed_frames/video_393/frame_2.jpg\n",
            "Saved frame: processed_frames/video_393/frame_3.jpg\n",
            "Saved frame: processed_frames/video_393/frame_4.jpg\n",
            "Saved frame: processed_frames/video_393/frame_5.jpg\n",
            "Saved frame: processed_frames/video_393/frame_6.jpg\n",
            "Saved frame: processed_frames/video_393/frame_7.jpg\n"
          ]
        },
        {
          "output_type": "stream",
          "name": "stderr",
          "text": [
            "\r 83%|████████▎ | 394/477 [25:38<05:17,  3.83s/it]"
          ]
        },
        {
          "output_type": "stream",
          "name": "stdout",
          "text": [
            "Saved frame: processed_frames/video_393/frame_8.jpg\n",
            "Saved frame: processed_frames/video_393/frame_9.jpg\n",
            "Processing video: /content/drive/MyDrive/HACER/takeoffglasses_sad_14_h.mp4, Total frames: 128\n",
            "Saved frame: processed_frames/video_394/frame_0.jpg\n",
            "Saved frame: processed_frames/video_394/frame_1.jpg\n",
            "Saved frame: processed_frames/video_394/frame_2.jpg\n",
            "Saved frame: processed_frames/video_394/frame_3.jpg\n",
            "Saved frame: processed_frames/video_394/frame_4.jpg\n",
            "Saved frame: processed_frames/video_394/frame_5.jpg\n",
            "Saved frame: processed_frames/video_394/frame_6.jpg\n",
            "Saved frame: processed_frames/video_394/frame_7.jpg\n",
            "Saved frame: processed_frames/video_394/frame_8.jpg\n"
          ]
        },
        {
          "output_type": "stream",
          "name": "stderr",
          "text": [
            "\r 83%|████████▎ | 395/477 [25:42<05:01,  3.67s/it]"
          ]
        },
        {
          "output_type": "stream",
          "name": "stdout",
          "text": [
            "Saved frame: processed_frames/video_394/frame_9.jpg\n",
            "Processing video: /content/drive/MyDrive/HACER/takeoffglasses_sad_15_j.mp4, Total frames: 97\n",
            "Saved frame: processed_frames/video_395/frame_0.jpg\n",
            "Saved frame: processed_frames/video_395/frame_1.jpg\n",
            "Saved frame: processed_frames/video_395/frame_2.jpg\n",
            "Saved frame: processed_frames/video_395/frame_3.jpg\n",
            "Saved frame: processed_frames/video_395/frame_4.jpg\n",
            "Saved frame: processed_frames/video_395/frame_5.jpg\n",
            "Saved frame: processed_frames/video_395/frame_6.jpg\n",
            "Saved frame: processed_frames/video_395/frame_7.jpg\n",
            "Saved frame: processed_frames/video_395/frame_8.jpg\n"
          ]
        },
        {
          "output_type": "stream",
          "name": "stderr",
          "text": [
            "\r 83%|████████▎ | 396/477 [25:44<04:23,  3.25s/it]"
          ]
        },
        {
          "output_type": "stream",
          "name": "stdout",
          "text": [
            "Saved frame: processed_frames/video_395/frame_9.jpg\n",
            "Processing video: /content/drive/MyDrive/HACER/takeoffglasses_sad_1_s.mp4, Total frames: 154\n",
            "Saved frame: processed_frames/video_396/frame_0.jpg\n",
            "Saved frame: processed_frames/video_396/frame_1.jpg\n",
            "Saved frame: processed_frames/video_396/frame_2.jpg\n",
            "Saved frame: processed_frames/video_396/frame_3.jpg\n",
            "Saved frame: processed_frames/video_396/frame_4.jpg\n",
            "Saved frame: processed_frames/video_396/frame_5.jpg\n",
            "Saved frame: processed_frames/video_396/frame_6.jpg\n",
            "Saved frame: processed_frames/video_396/frame_7.jpg\n",
            "Saved frame: processed_frames/video_396/frame_8.jpg\n"
          ]
        },
        {
          "output_type": "stream",
          "name": "stderr",
          "text": [
            "\r 83%|████████▎ | 397/477 [25:49<04:57,  3.72s/it]"
          ]
        },
        {
          "output_type": "stream",
          "name": "stdout",
          "text": [
            "Saved frame: processed_frames/video_396/frame_9.jpg\n",
            "Processing video: /content/drive/MyDrive/HACER/takeoffglasses_sad_2_w.mp4, Total frames: 124\n",
            "Saved frame: processed_frames/video_397/frame_0.jpg\n",
            "Saved frame: processed_frames/video_397/frame_1.jpg\n",
            "Saved frame: processed_frames/video_397/frame_2.jpg\n",
            "Saved frame: processed_frames/video_397/frame_3.jpg\n",
            "Saved frame: processed_frames/video_397/frame_4.jpg\n",
            "Saved frame: processed_frames/video_397/frame_5.jpg\n",
            "Saved frame: processed_frames/video_397/frame_6.jpg\n",
            "Saved frame: processed_frames/video_397/frame_7.jpg\n",
            "Saved frame: processed_frames/video_397/frame_8.jpg\n"
          ]
        },
        {
          "output_type": "stream",
          "name": "stderr",
          "text": [
            "\r 83%|████████▎ | 398/477 [25:52<04:49,  3.66s/it]"
          ]
        },
        {
          "output_type": "stream",
          "name": "stdout",
          "text": [
            "Saved frame: processed_frames/video_397/frame_9.jpg\n",
            "Processing video: /content/drive/MyDrive/HACER/takeoffglasses_sad_3_t.mp4, Total frames: 116\n",
            "Saved frame: processed_frames/video_398/frame_0.jpg\n",
            "Saved frame: processed_frames/video_398/frame_1.jpg\n",
            "Saved frame: processed_frames/video_398/frame_2.jpg\n",
            "Saved frame: processed_frames/video_398/frame_3.jpg\n",
            "Saved frame: processed_frames/video_398/frame_4.jpg\n",
            "Saved frame: processed_frames/video_398/frame_5.jpg\n",
            "Saved frame: processed_frames/video_398/frame_6.jpg\n",
            "Saved frame: processed_frames/video_398/frame_7.jpg\n",
            "Saved frame: processed_frames/video_398/frame_8.jpg\n"
          ]
        },
        {
          "output_type": "stream",
          "name": "stderr",
          "text": [
            "\r 84%|████████▎ | 399/477 [25:55<04:27,  3.43s/it]"
          ]
        },
        {
          "output_type": "stream",
          "name": "stdout",
          "text": [
            "Saved frame: processed_frames/video_398/frame_9.jpg\n",
            "Processing video: /content/drive/MyDrive/HACER/takeoffglasses_sad_4_h.mp4, Total frames: 130\n",
            "Saved frame: processed_frames/video_399/frame_0.jpg\n",
            "Saved frame: processed_frames/video_399/frame_1.jpg\n",
            "Saved frame: processed_frames/video_399/frame_2.jpg\n",
            "Saved frame: processed_frames/video_399/frame_3.jpg\n",
            "Saved frame: processed_frames/video_399/frame_4.jpg\n",
            "Saved frame: processed_frames/video_399/frame_5.jpg\n",
            "Saved frame: processed_frames/video_399/frame_6.jpg\n",
            "Saved frame: processed_frames/video_399/frame_7.jpg\n",
            "Saved frame: processed_frames/video_399/frame_8.jpg\n"
          ]
        },
        {
          "output_type": "stream",
          "name": "stderr",
          "text": [
            "\r 84%|████████▍ | 400/477 [25:58<04:13,  3.29s/it]"
          ]
        },
        {
          "output_type": "stream",
          "name": "stdout",
          "text": [
            "Saved frame: processed_frames/video_399/frame_9.jpg\n",
            "Processing video: /content/drive/MyDrive/HACER/takeoffglasses_sad_5_m.mp4, Total frames: 104\n",
            "Saved frame: processed_frames/video_400/frame_0.jpg\n",
            "Saved frame: processed_frames/video_400/frame_1.jpg\n",
            "Saved frame: processed_frames/video_400/frame_2.jpg\n",
            "Saved frame: processed_frames/video_400/frame_3.jpg\n",
            "Saved frame: processed_frames/video_400/frame_4.jpg\n",
            "Saved frame: processed_frames/video_400/frame_5.jpg\n",
            "Saved frame: processed_frames/video_400/frame_6.jpg\n",
            "Saved frame: processed_frames/video_400/frame_7.jpg\n",
            "Saved frame: processed_frames/video_400/frame_8.jpg\n"
          ]
        },
        {
          "output_type": "stream",
          "name": "stderr",
          "text": [
            "\r 84%|████████▍ | 401/477 [26:00<03:48,  3.00s/it]"
          ]
        },
        {
          "output_type": "stream",
          "name": "stdout",
          "text": [
            "Saved frame: processed_frames/video_400/frame_9.jpg\n",
            "Processing video: /content/drive/MyDrive/HACER/takeoffglasses_sad_6_w.mp4, Total frames: 136\n",
            "Saved frame: processed_frames/video_401/frame_0.jpg\n",
            "Saved frame: processed_frames/video_401/frame_1.jpg\n",
            "Saved frame: processed_frames/video_401/frame_2.jpg\n",
            "Saved frame: processed_frames/video_401/frame_3.jpg\n",
            "Saved frame: processed_frames/video_401/frame_4.jpg\n",
            "Saved frame: processed_frames/video_401/frame_5.jpg\n",
            "Saved frame: processed_frames/video_401/frame_6.jpg\n",
            "Saved frame: processed_frames/video_401/frame_7.jpg\n",
            "Saved frame: processed_frames/video_401/frame_8.jpg\n"
          ]
        },
        {
          "output_type": "stream",
          "name": "stderr",
          "text": [
            "\r 84%|████████▍ | 402/477 [26:05<04:30,  3.61s/it]"
          ]
        },
        {
          "output_type": "stream",
          "name": "stdout",
          "text": [
            "Saved frame: processed_frames/video_401/frame_9.jpg\n",
            "Processing video: /content/drive/MyDrive/HACER/takeoffglasses_sad_7_l.mp4, Total frames: 112\n",
            "Saved frame: processed_frames/video_402/frame_0.jpg\n",
            "Saved frame: processed_frames/video_402/frame_1.jpg\n",
            "Saved frame: processed_frames/video_402/frame_2.jpg\n",
            "Saved frame: processed_frames/video_402/frame_3.jpg\n",
            "Saved frame: processed_frames/video_402/frame_4.jpg\n",
            "Saved frame: processed_frames/video_402/frame_5.jpg\n",
            "Saved frame: processed_frames/video_402/frame_6.jpg\n",
            "Saved frame: processed_frames/video_402/frame_7.jpg\n",
            "Saved frame: processed_frames/video_402/frame_8.jpg\n"
          ]
        },
        {
          "output_type": "stream",
          "name": "stderr",
          "text": [
            "\r 84%|████████▍ | 403/477 [26:09<04:19,  3.51s/it]"
          ]
        },
        {
          "output_type": "stream",
          "name": "stdout",
          "text": [
            "Saved frame: processed_frames/video_402/frame_9.jpg\n",
            "Processing video: /content/drive/MyDrive/HACER/takeoffglasses_sad_8_t.mp4, Total frames: 59\n",
            "Saved frame: processed_frames/video_403/frame_0.jpg\n",
            "Saved frame: processed_frames/video_403/frame_1.jpg\n",
            "Saved frame: processed_frames/video_403/frame_2.jpg\n",
            "Saved frame: processed_frames/video_403/frame_3.jpg\n",
            "Saved frame: processed_frames/video_403/frame_4.jpg\n",
            "Saved frame: processed_frames/video_403/frame_5.jpg\n",
            "Saved frame: processed_frames/video_403/frame_6.jpg\n",
            "Saved frame: processed_frames/video_403/frame_7.jpg\n",
            "Saved frame: processed_frames/video_403/frame_8.jpg\n"
          ]
        },
        {
          "output_type": "stream",
          "name": "stderr",
          "text": [
            "\r 85%|████████▍ | 404/477 [26:11<03:41,  3.03s/it]"
          ]
        },
        {
          "output_type": "stream",
          "name": "stdout",
          "text": [
            "Saved frame: processed_frames/video_403/frame_9.jpg\n",
            "Processing video: /content/drive/MyDrive/HACER/takeoffglasses_sad_9_j.mp4, Total frames: 67\n",
            "Saved frame: processed_frames/video_404/frame_0.jpg\n",
            "Saved frame: processed_frames/video_404/frame_1.jpg\n",
            "Saved frame: processed_frames/video_404/frame_2.jpg\n",
            "Saved frame: processed_frames/video_404/frame_3.jpg\n",
            "Saved frame: processed_frames/video_404/frame_4.jpg\n",
            "Saved frame: processed_frames/video_404/frame_5.jpg\n",
            "Saved frame: processed_frames/video_404/frame_6.jpg\n",
            "Saved frame: processed_frames/video_404/frame_7.jpg\n",
            "Saved frame: processed_frames/video_404/frame_8.jpg\n"
          ]
        },
        {
          "output_type": "stream",
          "name": "stderr",
          "text": [
            "\r 85%|████████▍ | 405/477 [26:12<03:09,  2.63s/it]"
          ]
        },
        {
          "output_type": "stream",
          "name": "stdout",
          "text": [
            "Saved frame: processed_frames/video_404/frame_9.jpg\n",
            "Processing video: /content/drive/MyDrive/HACER/takeoffjacket_angry_1_a.mp4, Total frames: 182\n",
            "Saved frame: processed_frames/video_405/frame_0.jpg\n",
            "Saved frame: processed_frames/video_405/frame_1.jpg\n",
            "Saved frame: processed_frames/video_405/frame_2.jpg\n",
            "Saved frame: processed_frames/video_405/frame_3.jpg\n",
            "Saved frame: processed_frames/video_405/frame_4.jpg\n",
            "Saved frame: processed_frames/video_405/frame_5.jpg\n",
            "Saved frame: processed_frames/video_405/frame_6.jpg\n",
            "Saved frame: processed_frames/video_405/frame_7.jpg\n",
            "Saved frame: processed_frames/video_405/frame_8.jpg\n"
          ]
        },
        {
          "output_type": "stream",
          "name": "stderr",
          "text": [
            "\r 85%|████████▌ | 406/477 [26:16<03:30,  2.96s/it]"
          ]
        },
        {
          "output_type": "stream",
          "name": "stdout",
          "text": [
            "Saved frame: processed_frames/video_405/frame_9.jpg\n",
            "Processing video: /content/drive/MyDrive/HACER/takeoffjacket_angry_2_m.mp4, Total frames: 181\n",
            "Saved frame: processed_frames/video_406/frame_0.jpg\n",
            "Saved frame: processed_frames/video_406/frame_1.jpg\n",
            "Saved frame: processed_frames/video_406/frame_2.jpg\n",
            "Saved frame: processed_frames/video_406/frame_3.jpg\n",
            "Saved frame: processed_frames/video_406/frame_4.jpg\n",
            "Saved frame: processed_frames/video_406/frame_5.jpg\n",
            "Saved frame: processed_frames/video_406/frame_6.jpg\n",
            "Saved frame: processed_frames/video_406/frame_7.jpg\n",
            "Saved frame: processed_frames/video_406/frame_8.jpg\n"
          ]
        },
        {
          "output_type": "stream",
          "name": "stderr",
          "text": [
            "\r 85%|████████▌ | 407/477 [26:22<04:25,  3.80s/it]"
          ]
        },
        {
          "output_type": "stream",
          "name": "stdout",
          "text": [
            "Saved frame: processed_frames/video_406/frame_9.jpg\n",
            "Processing video: /content/drive/MyDrive/HACER/takeoffjacket_angry_3_k.mp4, Total frames: 100\n",
            "Saved frame: processed_frames/video_407/frame_0.jpg\n",
            "Saved frame: processed_frames/video_407/frame_1.jpg\n",
            "Saved frame: processed_frames/video_407/frame_2.jpg\n",
            "Saved frame: processed_frames/video_407/frame_3.jpg\n",
            "Saved frame: processed_frames/video_407/frame_4.jpg\n",
            "Saved frame: processed_frames/video_407/frame_5.jpg\n",
            "Saved frame: processed_frames/video_407/frame_6.jpg\n",
            "Saved frame: processed_frames/video_407/frame_7.jpg\n",
            "Saved frame: processed_frames/video_407/frame_8.jpg\n"
          ]
        },
        {
          "output_type": "stream",
          "name": "stderr",
          "text": [
            "\r 86%|████████▌ | 408/477 [26:25<04:02,  3.51s/it]"
          ]
        },
        {
          "output_type": "stream",
          "name": "stdout",
          "text": [
            "Saved frame: processed_frames/video_407/frame_9.jpg\n",
            "Processing video: /content/drive/MyDrive/HACER/takeoffjacket_angry_4_a.mp4, Total frames: 279\n",
            "Saved frame: processed_frames/video_408/frame_0.jpg\n",
            "Saved frame: processed_frames/video_408/frame_1.jpg\n",
            "Saved frame: processed_frames/video_408/frame_2.jpg\n",
            "Saved frame: processed_frames/video_408/frame_3.jpg\n",
            "Saved frame: processed_frames/video_408/frame_4.jpg\n",
            "Saved frame: processed_frames/video_408/frame_5.jpg\n",
            "Saved frame: processed_frames/video_408/frame_6.jpg\n",
            "Saved frame: processed_frames/video_408/frame_7.jpg\n",
            "Saved frame: processed_frames/video_408/frame_8.jpg\n"
          ]
        },
        {
          "output_type": "stream",
          "name": "stderr",
          "text": [
            "\r 86%|████████▌ | 409/477 [26:29<04:22,  3.86s/it]"
          ]
        },
        {
          "output_type": "stream",
          "name": "stdout",
          "text": [
            "Saved frame: processed_frames/video_408/frame_9.jpg\n",
            "Processing video: /content/drive/MyDrive/HACER/takeoffjacket_angry_5_j.mp4, Total frames: 151\n",
            "Saved frame: processed_frames/video_409/frame_0.jpg\n",
            "Saved frame: processed_frames/video_409/frame_1.jpg\n",
            "Saved frame: processed_frames/video_409/frame_2.jpg\n",
            "Saved frame: processed_frames/video_409/frame_3.jpg\n",
            "Saved frame: processed_frames/video_409/frame_4.jpg\n",
            "Saved frame: processed_frames/video_409/frame_5.jpg\n",
            "Saved frame: processed_frames/video_409/frame_6.jpg\n",
            "Saved frame: processed_frames/video_409/frame_7.jpg\n",
            "Saved frame: processed_frames/video_409/frame_8.jpg\n"
          ]
        },
        {
          "output_type": "stream",
          "name": "stderr",
          "text": [
            "\r 86%|████████▌ | 410/477 [26:34<04:36,  4.13s/it]"
          ]
        },
        {
          "output_type": "stream",
          "name": "stdout",
          "text": [
            "Saved frame: processed_frames/video_409/frame_9.jpg\n",
            "Processing video: /content/drive/MyDrive/HACER/takeoffjacket_angry_6_k.mp4, Total frames: 189\n",
            "Saved frame: processed_frames/video_410/frame_0.jpg\n",
            "Saved frame: processed_frames/video_410/frame_1.jpg\n",
            "Saved frame: processed_frames/video_410/frame_2.jpg\n",
            "Saved frame: processed_frames/video_410/frame_3.jpg\n",
            "Saved frame: processed_frames/video_410/frame_4.jpg\n",
            "Saved frame: processed_frames/video_410/frame_5.jpg\n",
            "Saved frame: processed_frames/video_410/frame_6.jpg\n",
            "Saved frame: processed_frames/video_410/frame_7.jpg\n",
            "Saved frame: processed_frames/video_410/frame_8.jpg\n"
          ]
        },
        {
          "output_type": "stream",
          "name": "stderr",
          "text": [
            "\r 86%|████████▌ | 411/477 [26:39<04:39,  4.23s/it]"
          ]
        },
        {
          "output_type": "stream",
          "name": "stdout",
          "text": [
            "Saved frame: processed_frames/video_410/frame_9.jpg\n",
            "Processing video: /content/drive/MyDrive/HACER/takeoffjacket_angry_7_k.mp4, Total frames: 187\n",
            "Saved frame: processed_frames/video_411/frame_0.jpg\n",
            "Saved frame: processed_frames/video_411/frame_1.jpg\n",
            "Saved frame: processed_frames/video_411/frame_2.jpg\n",
            "Saved frame: processed_frames/video_411/frame_3.jpg\n",
            "Saved frame: processed_frames/video_411/frame_4.jpg\n",
            "Saved frame: processed_frames/video_411/frame_5.jpg\n",
            "Saved frame: processed_frames/video_411/frame_6.jpg\n",
            "Saved frame: processed_frames/video_411/frame_7.jpg\n",
            "Saved frame: processed_frames/video_411/frame_8.jpg\n"
          ]
        },
        {
          "output_type": "stream",
          "name": "stderr",
          "text": [
            "\r 86%|████████▋ | 412/477 [26:42<04:18,  3.97s/it]"
          ]
        },
        {
          "output_type": "stream",
          "name": "stdout",
          "text": [
            "Saved frame: processed_frames/video_411/frame_9.jpg\n",
            "Processing video: /content/drive/MyDrive/HACER/takeoffjacket_angry_8_k.mp4, Total frames: 78\n",
            "Saved frame: processed_frames/video_412/frame_0.jpg\n",
            "Saved frame: processed_frames/video_412/frame_1.jpg\n",
            "Saved frame: processed_frames/video_412/frame_2.jpg\n",
            "Saved frame: processed_frames/video_412/frame_3.jpg\n",
            "Saved frame: processed_frames/video_412/frame_4.jpg\n",
            "Saved frame: processed_frames/video_412/frame_5.jpg\n",
            "Saved frame: processed_frames/video_412/frame_6.jpg\n",
            "Saved frame: processed_frames/video_412/frame_7.jpg\n",
            "Saved frame: processed_frames/video_412/frame_8.jpg\n"
          ]
        },
        {
          "output_type": "stream",
          "name": "stderr",
          "text": [
            "\r 87%|████████▋ | 413/477 [26:44<03:34,  3.35s/it]"
          ]
        },
        {
          "output_type": "stream",
          "name": "stdout",
          "text": [
            "Saved frame: processed_frames/video_412/frame_9.jpg\n",
            "Processing video: /content/drive/MyDrive/HACER/takeoffjacket_happy_10_a.mp4, Total frames: 130\n",
            "Saved frame: processed_frames/video_413/frame_0.jpg\n",
            "Saved frame: processed_frames/video_413/frame_1.jpg\n",
            "Saved frame: processed_frames/video_413/frame_2.jpg\n",
            "Saved frame: processed_frames/video_413/frame_3.jpg\n",
            "Saved frame: processed_frames/video_413/frame_4.jpg\n",
            "Saved frame: processed_frames/video_413/frame_5.jpg\n",
            "Saved frame: processed_frames/video_413/frame_6.jpg\n",
            "Saved frame: processed_frames/video_413/frame_7.jpg\n",
            "Saved frame: processed_frames/video_413/frame_8.jpg\n"
          ]
        },
        {
          "output_type": "stream",
          "name": "stderr",
          "text": [
            "\r 87%|████████▋ | 414/477 [26:49<04:12,  4.01s/it]"
          ]
        },
        {
          "output_type": "stream",
          "name": "stdout",
          "text": [
            "Saved frame: processed_frames/video_413/frame_9.jpg\n",
            "Processing video: /content/drive/MyDrive/HACER/takeoffjacket_happy_1_a.mp4, Total frames: 198\n",
            "Saved frame: processed_frames/video_414/frame_0.jpg\n",
            "Saved frame: processed_frames/video_414/frame_1.jpg\n",
            "Saved frame: processed_frames/video_414/frame_2.jpg\n",
            "Saved frame: processed_frames/video_414/frame_3.jpg\n",
            "Saved frame: processed_frames/video_414/frame_4.jpg\n",
            "Saved frame: processed_frames/video_414/frame_5.jpg\n",
            "Saved frame: processed_frames/video_414/frame_6.jpg\n",
            "Saved frame: processed_frames/video_414/frame_7.jpg\n",
            "Saved frame: processed_frames/video_414/frame_8.jpg\n"
          ]
        },
        {
          "output_type": "stream",
          "name": "stderr",
          "text": [
            "\r 87%|████████▋ | 415/477 [26:54<04:22,  4.24s/it]"
          ]
        },
        {
          "output_type": "stream",
          "name": "stdout",
          "text": [
            "Saved frame: processed_frames/video_414/frame_9.jpg\n",
            "Processing video: /content/drive/MyDrive/HACER/takeoffjacket_happy_2_m.mp4, Total frames: 231\n",
            "Saved frame: processed_frames/video_415/frame_0.jpg\n",
            "Saved frame: processed_frames/video_415/frame_1.jpg\n",
            "Saved frame: processed_frames/video_415/frame_2.jpg\n",
            "Saved frame: processed_frames/video_415/frame_3.jpg\n",
            "Saved frame: processed_frames/video_415/frame_4.jpg\n",
            "Saved frame: processed_frames/video_415/frame_5.jpg\n",
            "Saved frame: processed_frames/video_415/frame_6.jpg\n",
            "Saved frame: processed_frames/video_415/frame_7.jpg\n",
            "Saved frame: processed_frames/video_415/frame_8.jpg\n"
          ]
        },
        {
          "output_type": "stream",
          "name": "stderr",
          "text": [
            "\r 87%|████████▋ | 416/477 [26:58<04:08,  4.08s/it]"
          ]
        },
        {
          "output_type": "stream",
          "name": "stdout",
          "text": [
            "Saved frame: processed_frames/video_415/frame_9.jpg\n",
            "Processing video: /content/drive/MyDrive/HACER/takeoffjacket_happy_3_j.mp4, Total frames: 288\n",
            "Saved frame: processed_frames/video_416/frame_0.jpg\n",
            "Saved frame: processed_frames/video_416/frame_1.jpg\n",
            "Saved frame: processed_frames/video_416/frame_2.jpg\n",
            "Saved frame: processed_frames/video_416/frame_3.jpg\n",
            "Saved frame: processed_frames/video_416/frame_4.jpg\n",
            "Saved frame: processed_frames/video_416/frame_5.jpg\n",
            "Saved frame: processed_frames/video_416/frame_6.jpg\n",
            "Saved frame: processed_frames/video_416/frame_7.jpg\n",
            "Saved frame: processed_frames/video_416/frame_8.jpg\n"
          ]
        },
        {
          "output_type": "stream",
          "name": "stderr",
          "text": [
            "\r 87%|████████▋ | 417/477 [27:02<04:08,  4.14s/it]"
          ]
        },
        {
          "output_type": "stream",
          "name": "stdout",
          "text": [
            "Saved frame: processed_frames/video_416/frame_9.jpg\n",
            "Processing video: /content/drive/MyDrive/HACER/takeoffjacket_happy_4_a.mp4, Total frames: 159\n",
            "Saved frame: processed_frames/video_417/frame_0.jpg\n",
            "Saved frame: processed_frames/video_417/frame_1.jpg\n",
            "Saved frame: processed_frames/video_417/frame_2.jpg\n",
            "Saved frame: processed_frames/video_417/frame_3.jpg\n",
            "Saved frame: processed_frames/video_417/frame_4.jpg\n",
            "Saved frame: processed_frames/video_417/frame_5.jpg\n",
            "Saved frame: processed_frames/video_417/frame_6.jpg\n",
            "Saved frame: processed_frames/video_417/frame_7.jpg\n",
            "Saved frame: processed_frames/video_417/frame_8.jpg\n"
          ]
        },
        {
          "output_type": "stream",
          "name": "stderr",
          "text": [
            "\r 88%|████████▊ | 418/477 [27:09<04:50,  4.92s/it]"
          ]
        },
        {
          "output_type": "stream",
          "name": "stdout",
          "text": [
            "Saved frame: processed_frames/video_417/frame_9.jpg\n",
            "Processing video: /content/drive/MyDrive/HACER/takeoffjacket_happy_5_j.mp4, Total frames: 272\n",
            "Saved frame: processed_frames/video_418/frame_0.jpg\n",
            "Saved frame: processed_frames/video_418/frame_1.jpg\n",
            "Saved frame: processed_frames/video_418/frame_2.jpg\n",
            "Saved frame: processed_frames/video_418/frame_3.jpg\n",
            "Saved frame: processed_frames/video_418/frame_4.jpg\n",
            "Saved frame: processed_frames/video_418/frame_5.jpg\n",
            "Saved frame: processed_frames/video_418/frame_6.jpg\n",
            "Saved frame: processed_frames/video_418/frame_7.jpg\n",
            "Saved frame: processed_frames/video_418/frame_8.jpg\n"
          ]
        },
        {
          "output_type": "stream",
          "name": "stderr",
          "text": [
            "\r 88%|████████▊ | 419/477 [27:13<04:26,  4.60s/it]"
          ]
        },
        {
          "output_type": "stream",
          "name": "stdout",
          "text": [
            "Saved frame: processed_frames/video_418/frame_9.jpg\n",
            "Processing video: /content/drive/MyDrive/HACER/takeoffjacket_happy_6_k.mp4, Total frames: 191\n",
            "Saved frame: processed_frames/video_419/frame_0.jpg\n",
            "Saved frame: processed_frames/video_419/frame_1.jpg\n",
            "Saved frame: processed_frames/video_419/frame_2.jpg\n",
            "Saved frame: processed_frames/video_419/frame_3.jpg\n",
            "Saved frame: processed_frames/video_419/frame_4.jpg\n",
            "Saved frame: processed_frames/video_419/frame_5.jpg\n",
            "Saved frame: processed_frames/video_419/frame_6.jpg\n",
            "Saved frame: processed_frames/video_419/frame_7.jpg\n",
            "Saved frame: processed_frames/video_419/frame_8.jpg\n"
          ]
        },
        {
          "output_type": "stream",
          "name": "stderr",
          "text": [
            "\r 88%|████████▊ | 420/477 [27:16<04:01,  4.24s/it]"
          ]
        },
        {
          "output_type": "stream",
          "name": "stdout",
          "text": [
            "Saved frame: processed_frames/video_419/frame_9.jpg\n",
            "Processing video: /content/drive/MyDrive/HACER/takeoffjacket_happy_7_m.mp4, Total frames: 182\n",
            "Saved frame: processed_frames/video_420/frame_0.jpg\n",
            "Saved frame: processed_frames/video_420/frame_1.jpg\n",
            "Saved frame: processed_frames/video_420/frame_2.jpg\n",
            "Saved frame: processed_frames/video_420/frame_3.jpg\n",
            "Saved frame: processed_frames/video_420/frame_4.jpg\n",
            "Saved frame: processed_frames/video_420/frame_5.jpg\n",
            "Saved frame: processed_frames/video_420/frame_6.jpg\n",
            "Saved frame: processed_frames/video_420/frame_7.jpg\n",
            "Saved frame: processed_frames/video_420/frame_8.jpg\n"
          ]
        },
        {
          "output_type": "stream",
          "name": "stderr",
          "text": [
            "\r 88%|████████▊ | 421/477 [27:21<04:07,  4.42s/it]"
          ]
        },
        {
          "output_type": "stream",
          "name": "stdout",
          "text": [
            "Saved frame: processed_frames/video_420/frame_9.jpg\n",
            "Processing video: /content/drive/MyDrive/HACER/takeoffjacket_happy_8_a.mp4, Total frames: 102\n",
            "Saved frame: processed_frames/video_421/frame_0.jpg\n",
            "Saved frame: processed_frames/video_421/frame_1.jpg\n",
            "Saved frame: processed_frames/video_421/frame_2.jpg\n",
            "Saved frame: processed_frames/video_421/frame_3.jpg\n",
            "Saved frame: processed_frames/video_421/frame_4.jpg\n",
            "Saved frame: processed_frames/video_421/frame_5.jpg\n",
            "Saved frame: processed_frames/video_421/frame_6.jpg\n",
            "Saved frame: processed_frames/video_421/frame_7.jpg\n",
            "Saved frame: processed_frames/video_421/frame_8.jpg\n"
          ]
        },
        {
          "output_type": "stream",
          "name": "stderr",
          "text": [
            "\r 88%|████████▊ | 422/477 [27:25<03:57,  4.31s/it]"
          ]
        },
        {
          "output_type": "stream",
          "name": "stdout",
          "text": [
            "Saved frame: processed_frames/video_421/frame_9.jpg\n",
            "Processing video: /content/drive/MyDrive/HACER/takeoffjacket_happy_9_k.mp4, Total frames: 173\n",
            "Saved frame: processed_frames/video_422/frame_0.jpg\n",
            "Saved frame: processed_frames/video_422/frame_1.jpg\n",
            "Saved frame: processed_frames/video_422/frame_2.jpg\n",
            "Saved frame: processed_frames/video_422/frame_3.jpg\n",
            "Saved frame: processed_frames/video_422/frame_4.jpg\n",
            "Saved frame: processed_frames/video_422/frame_5.jpg\n",
            "Saved frame: processed_frames/video_422/frame_6.jpg\n",
            "Saved frame: processed_frames/video_422/frame_7.jpg\n"
          ]
        },
        {
          "output_type": "stream",
          "name": "stderr",
          "text": [
            "\r 89%|████████▊ | 423/477 [27:28<03:38,  4.06s/it]"
          ]
        },
        {
          "output_type": "stream",
          "name": "stdout",
          "text": [
            "Saved frame: processed_frames/video_422/frame_8.jpg\n",
            "Saved frame: processed_frames/video_422/frame_9.jpg\n",
            "Processing video: /content/drive/MyDrive/HACER/takeoffjacket_neutral_1_a.mp4, Total frames: 311\n",
            "Saved frame: processed_frames/video_423/frame_0.jpg\n",
            "Saved frame: processed_frames/video_423/frame_1.jpg\n",
            "Saved frame: processed_frames/video_423/frame_2.jpg\n",
            "Saved frame: processed_frames/video_423/frame_3.jpg\n",
            "Saved frame: processed_frames/video_423/frame_4.jpg\n",
            "Saved frame: processed_frames/video_423/frame_5.jpg\n",
            "Saved frame: processed_frames/video_423/frame_6.jpg\n",
            "Saved frame: processed_frames/video_423/frame_7.jpg\n",
            "Saved frame: processed_frames/video_423/frame_8.jpg\n"
          ]
        },
        {
          "output_type": "stream",
          "name": "stderr",
          "text": [
            "\r 89%|████████▉ | 424/477 [27:33<03:39,  4.15s/it]"
          ]
        },
        {
          "output_type": "stream",
          "name": "stdout",
          "text": [
            "Saved frame: processed_frames/video_423/frame_9.jpg\n",
            "Processing video: /content/drive/MyDrive/HACER/takeoffjacket_neutral_2_m.mp4, Total frames: 252\n",
            "Saved frame: processed_frames/video_424/frame_0.jpg\n",
            "Saved frame: processed_frames/video_424/frame_1.jpg\n",
            "Saved frame: processed_frames/video_424/frame_2.jpg\n",
            "Saved frame: processed_frames/video_424/frame_3.jpg\n",
            "Saved frame: processed_frames/video_424/frame_4.jpg\n",
            "Saved frame: processed_frames/video_424/frame_5.jpg\n",
            "Saved frame: processed_frames/video_424/frame_6.jpg\n",
            "Saved frame: processed_frames/video_424/frame_7.jpg\n",
            "Saved frame: processed_frames/video_424/frame_8.jpg\n"
          ]
        },
        {
          "output_type": "stream",
          "name": "stderr",
          "text": [
            "\r 89%|████████▉ | 425/477 [27:39<04:04,  4.70s/it]"
          ]
        },
        {
          "output_type": "stream",
          "name": "stdout",
          "text": [
            "Saved frame: processed_frames/video_424/frame_9.jpg\n",
            "Processing video: /content/drive/MyDrive/HACER/takeoffjacket_neutral_3_j.mp4, Total frames: 217\n",
            "Saved frame: processed_frames/video_425/frame_0.jpg\n",
            "Saved frame: processed_frames/video_425/frame_1.jpg\n",
            "Saved frame: processed_frames/video_425/frame_2.jpg\n",
            "Saved frame: processed_frames/video_425/frame_3.jpg\n",
            "Saved frame: processed_frames/video_425/frame_4.jpg\n",
            "Saved frame: processed_frames/video_425/frame_5.jpg\n",
            "Saved frame: processed_frames/video_425/frame_6.jpg\n",
            "Saved frame: processed_frames/video_425/frame_7.jpg\n",
            "Saved frame: processed_frames/video_425/frame_8.jpg\n"
          ]
        },
        {
          "output_type": "stream",
          "name": "stderr",
          "text": [
            "\r 89%|████████▉ | 426/477 [27:42<03:36,  4.25s/it]"
          ]
        },
        {
          "output_type": "stream",
          "name": "stdout",
          "text": [
            "Saved frame: processed_frames/video_425/frame_9.jpg\n",
            "Processing video: /content/drive/MyDrive/HACER/takeoffjacket_neutral_4_a.mp4, Total frames: 214\n",
            "Saved frame: processed_frames/video_426/frame_0.jpg\n",
            "Saved frame: processed_frames/video_426/frame_1.jpg\n",
            "Saved frame: processed_frames/video_426/frame_2.jpg\n",
            "Saved frame: processed_frames/video_426/frame_3.jpg\n",
            "Saved frame: processed_frames/video_426/frame_4.jpg\n",
            "Saved frame: processed_frames/video_426/frame_5.jpg\n",
            "Saved frame: processed_frames/video_426/frame_6.jpg\n",
            "Saved frame: processed_frames/video_426/frame_7.jpg\n",
            "Saved frame: processed_frames/video_426/frame_8.jpg\n"
          ]
        },
        {
          "output_type": "stream",
          "name": "stderr",
          "text": [
            "\r 90%|████████▉ | 427/477 [27:46<03:23,  4.06s/it]"
          ]
        },
        {
          "output_type": "stream",
          "name": "stdout",
          "text": [
            "Saved frame: processed_frames/video_426/frame_9.jpg\n",
            "Processing video: /content/drive/MyDrive/HACER/takeoffjacket_neutral_5_a.mp4, Total frames: 160\n",
            "Saved frame: processed_frames/video_427/frame_0.jpg\n",
            "Saved frame: processed_frames/video_427/frame_1.jpg\n",
            "Saved frame: processed_frames/video_427/frame_2.jpg\n",
            "Saved frame: processed_frames/video_427/frame_3.jpg\n",
            "Saved frame: processed_frames/video_427/frame_4.jpg\n",
            "Saved frame: processed_frames/video_427/frame_5.jpg\n",
            "Saved frame: processed_frames/video_427/frame_6.jpg\n",
            "Saved frame: processed_frames/video_427/frame_7.jpg\n"
          ]
        },
        {
          "output_type": "stream",
          "name": "stderr",
          "text": [
            "\r 90%|████████▉ | 428/477 [27:50<03:28,  4.25s/it]"
          ]
        },
        {
          "output_type": "stream",
          "name": "stdout",
          "text": [
            "Saved frame: processed_frames/video_427/frame_8.jpg\n",
            "Saved frame: processed_frames/video_427/frame_9.jpg\n",
            "Processing video: /content/drive/MyDrive/HACER/takeoffjacket_neutral_6_j.mp4, Total frames: 237\n",
            "Saved frame: processed_frames/video_428/frame_0.jpg\n",
            "Saved frame: processed_frames/video_428/frame_1.jpg\n",
            "Saved frame: processed_frames/video_428/frame_2.jpg\n",
            "Saved frame: processed_frames/video_428/frame_3.jpg\n",
            "Saved frame: processed_frames/video_428/frame_4.jpg\n",
            "Saved frame: processed_frames/video_428/frame_5.jpg\n",
            "Saved frame: processed_frames/video_428/frame_6.jpg\n",
            "Saved frame: processed_frames/video_428/frame_7.jpg\n",
            "Saved frame: processed_frames/video_428/frame_8.jpg\n"
          ]
        },
        {
          "output_type": "stream",
          "name": "stderr",
          "text": [
            "\r 90%|████████▉ | 429/477 [27:55<03:34,  4.48s/it]"
          ]
        },
        {
          "output_type": "stream",
          "name": "stdout",
          "text": [
            "Saved frame: processed_frames/video_428/frame_9.jpg\n",
            "Processing video: /content/drive/MyDrive/HACER/takeoffjacket_neutral_7_k.mp4, Total frames: 191\n",
            "Saved frame: processed_frames/video_429/frame_0.jpg\n",
            "Saved frame: processed_frames/video_429/frame_1.jpg\n",
            "Saved frame: processed_frames/video_429/frame_2.jpg\n",
            "Saved frame: processed_frames/video_429/frame_3.jpg\n",
            "Saved frame: processed_frames/video_429/frame_4.jpg\n",
            "Saved frame: processed_frames/video_429/frame_5.jpg\n",
            "Saved frame: processed_frames/video_429/frame_6.jpg\n",
            "Saved frame: processed_frames/video_429/frame_7.jpg\n",
            "Saved frame: processed_frames/video_429/frame_8.jpg\n"
          ]
        },
        {
          "output_type": "stream",
          "name": "stderr",
          "text": [
            "\r 90%|█████████ | 430/477 [27:59<03:16,  4.17s/it]"
          ]
        },
        {
          "output_type": "stream",
          "name": "stdout",
          "text": [
            "Saved frame: processed_frames/video_429/frame_9.jpg\n",
            "Processing video: /content/drive/MyDrive/HACER/takeoffjacket_neutral_8_m.mp4, Total frames: 270\n",
            "Saved frame: processed_frames/video_430/frame_0.jpg\n",
            "Saved frame: processed_frames/video_430/frame_1.jpg\n",
            "Saved frame: processed_frames/video_430/frame_2.jpg\n",
            "Saved frame: processed_frames/video_430/frame_3.jpg\n",
            "Saved frame: processed_frames/video_430/frame_4.jpg\n",
            "Saved frame: processed_frames/video_430/frame_5.jpg\n",
            "Saved frame: processed_frames/video_430/frame_6.jpg\n",
            "Saved frame: processed_frames/video_430/frame_7.jpg\n",
            "Saved frame: processed_frames/video_430/frame_8.jpg\n"
          ]
        },
        {
          "output_type": "stream",
          "name": "stderr",
          "text": [
            "\r 90%|█████████ | 431/477 [28:03<03:10,  4.14s/it]"
          ]
        },
        {
          "output_type": "stream",
          "name": "stdout",
          "text": [
            "Saved frame: processed_frames/video_430/frame_9.jpg\n",
            "Processing video: /content/drive/MyDrive/HACER/takeoffjacket_neutral_9_k.mp4, Total frames: 173\n",
            "Saved frame: processed_frames/video_431/frame_0.jpg\n",
            "Saved frame: processed_frames/video_431/frame_1.jpg\n",
            "Saved frame: processed_frames/video_431/frame_2.jpg\n",
            "Saved frame: processed_frames/video_431/frame_3.jpg\n",
            "Saved frame: processed_frames/video_431/frame_4.jpg\n",
            "Saved frame: processed_frames/video_431/frame_5.jpg\n",
            "Saved frame: processed_frames/video_431/frame_6.jpg\n",
            "Saved frame: processed_frames/video_431/frame_7.jpg\n",
            "Saved frame: processed_frames/video_431/frame_8.jpg\n"
          ]
        },
        {
          "output_type": "stream",
          "name": "stderr",
          "text": [
            "\r 91%|█████████ | 432/477 [28:09<03:26,  4.59s/it]"
          ]
        },
        {
          "output_type": "stream",
          "name": "stdout",
          "text": [
            "Saved frame: processed_frames/video_431/frame_9.jpg\n",
            "Processing video: /content/drive/MyDrive/HACER/takeoffjacket_sad_1_a.mp4, Total frames: 366\n",
            "Saved frame: processed_frames/video_432/frame_0.jpg\n",
            "Saved frame: processed_frames/video_432/frame_1.jpg\n",
            "Saved frame: processed_frames/video_432/frame_2.jpg\n",
            "Saved frame: processed_frames/video_432/frame_3.jpg\n",
            "Saved frame: processed_frames/video_432/frame_4.jpg\n",
            "Saved frame: processed_frames/video_432/frame_5.jpg\n",
            "Saved frame: processed_frames/video_432/frame_6.jpg\n",
            "Saved frame: processed_frames/video_432/frame_7.jpg\n",
            "Saved frame: processed_frames/video_432/frame_8.jpg\n"
          ]
        },
        {
          "output_type": "stream",
          "name": "stderr",
          "text": [
            "\r 91%|█████████ | 433/477 [28:13<03:14,  4.43s/it]"
          ]
        },
        {
          "output_type": "stream",
          "name": "stdout",
          "text": [
            "Saved frame: processed_frames/video_432/frame_9.jpg\n",
            "Processing video: /content/drive/MyDrive/HACER/takeoffjacket_sad_2_j.mp4, Total frames: 196\n",
            "Saved frame: processed_frames/video_433/frame_0.jpg\n",
            "Saved frame: processed_frames/video_433/frame_1.jpg\n",
            "Saved frame: processed_frames/video_433/frame_2.jpg\n",
            "Saved frame: processed_frames/video_433/frame_3.jpg\n",
            "Saved frame: processed_frames/video_433/frame_4.jpg\n",
            "Saved frame: processed_frames/video_433/frame_5.jpg\n",
            "Saved frame: processed_frames/video_433/frame_6.jpg\n",
            "Saved frame: processed_frames/video_433/frame_7.jpg\n",
            "Saved frame: processed_frames/video_433/frame_8.jpg\n"
          ]
        },
        {
          "output_type": "stream",
          "name": "stderr",
          "text": [
            "\r 91%|█████████ | 434/477 [28:16<02:59,  4.18s/it]"
          ]
        },
        {
          "output_type": "stream",
          "name": "stdout",
          "text": [
            "Saved frame: processed_frames/video_433/frame_9.jpg\n",
            "Processing video: /content/drive/MyDrive/HACER/takeoffjacket_sad_3_j.mp4, Total frames: 234\n",
            "Saved frame: processed_frames/video_434/frame_0.jpg\n",
            "Saved frame: processed_frames/video_434/frame_1.jpg\n",
            "Saved frame: processed_frames/video_434/frame_2.jpg\n",
            "Saved frame: processed_frames/video_434/frame_3.jpg\n",
            "Saved frame: processed_frames/video_434/frame_4.jpg\n",
            "Saved frame: processed_frames/video_434/frame_5.jpg\n",
            "Saved frame: processed_frames/video_434/frame_6.jpg\n",
            "Saved frame: processed_frames/video_434/frame_7.jpg\n",
            "Saved frame: processed_frames/video_434/frame_8.jpg\n"
          ]
        },
        {
          "output_type": "stream",
          "name": "stderr",
          "text": [
            "\r 91%|█████████ | 435/477 [28:20<02:54,  4.16s/it]"
          ]
        },
        {
          "output_type": "stream",
          "name": "stdout",
          "text": [
            "Saved frame: processed_frames/video_434/frame_9.jpg\n",
            "Processing video: /content/drive/MyDrive/HACER/takeoffjacket_sad_4_k.mp4, Total frames: 250\n",
            "Saved frame: processed_frames/video_435/frame_0.jpg\n",
            "Saved frame: processed_frames/video_435/frame_1.jpg\n",
            "Saved frame: processed_frames/video_435/frame_2.jpg\n",
            "Saved frame: processed_frames/video_435/frame_3.jpg\n",
            "Saved frame: processed_frames/video_435/frame_4.jpg\n",
            "Saved frame: processed_frames/video_435/frame_5.jpg\n",
            "Saved frame: processed_frames/video_435/frame_6.jpg\n",
            "Saved frame: processed_frames/video_435/frame_7.jpg\n",
            "Saved frame: processed_frames/video_435/frame_8.jpg\n"
          ]
        },
        {
          "output_type": "stream",
          "name": "stderr",
          "text": [
            "\r 91%|█████████▏| 436/477 [28:26<03:06,  4.54s/it]"
          ]
        },
        {
          "output_type": "stream",
          "name": "stdout",
          "text": [
            "Saved frame: processed_frames/video_435/frame_9.jpg\n",
            "Processing video: /content/drive/MyDrive/HACER/takeoffjacket_sad_5_m.mp4, Total frames: 276\n",
            "Saved frame: processed_frames/video_436/frame_0.jpg\n",
            "Saved frame: processed_frames/video_436/frame_1.jpg\n",
            "Saved frame: processed_frames/video_436/frame_2.jpg\n",
            "Saved frame: processed_frames/video_436/frame_3.jpg\n",
            "Saved frame: processed_frames/video_436/frame_4.jpg\n",
            "Saved frame: processed_frames/video_436/frame_5.jpg\n",
            "Saved frame: processed_frames/video_436/frame_6.jpg\n",
            "Saved frame: processed_frames/video_436/frame_7.jpg\n",
            "Saved frame: processed_frames/video_436/frame_8.jpg\n"
          ]
        },
        {
          "output_type": "stream",
          "name": "stderr",
          "text": [
            "\r 92%|█████████▏| 437/477 [28:30<02:54,  4.35s/it]"
          ]
        },
        {
          "output_type": "stream",
          "name": "stdout",
          "text": [
            "Saved frame: processed_frames/video_436/frame_9.jpg\n",
            "Processing video: /content/drive/MyDrive/HACER/takeoffjacket_sad_6_k.mp4, Total frames: 179\n",
            "Saved frame: processed_frames/video_437/frame_0.jpg\n",
            "Saved frame: processed_frames/video_437/frame_1.jpg\n",
            "Saved frame: processed_frames/video_437/frame_2.jpg\n",
            "Saved frame: processed_frames/video_437/frame_3.jpg\n",
            "Saved frame: processed_frames/video_437/frame_4.jpg\n",
            "Saved frame: processed_frames/video_437/frame_5.jpg\n",
            "Saved frame: processed_frames/video_437/frame_6.jpg\n",
            "Saved frame: processed_frames/video_437/frame_7.jpg\n"
          ]
        },
        {
          "output_type": "stream",
          "name": "stderr",
          "text": [
            "\r 92%|█████████▏| 438/477 [28:33<02:39,  4.08s/it]"
          ]
        },
        {
          "output_type": "stream",
          "name": "stdout",
          "text": [
            "Saved frame: processed_frames/video_437/frame_8.jpg\n",
            "Saved frame: processed_frames/video_437/frame_9.jpg\n",
            "Processing video: /content/drive/MyDrive/HACER/takeoffjacket_sad_7_k.mp4, Total frames: 223\n",
            "Saved frame: processed_frames/video_438/frame_0.jpg\n",
            "Saved frame: processed_frames/video_438/frame_1.jpg\n",
            "Saved frame: processed_frames/video_438/frame_2.jpg\n",
            "Saved frame: processed_frames/video_438/frame_3.jpg\n",
            "Saved frame: processed_frames/video_438/frame_4.jpg\n",
            "Saved frame: processed_frames/video_438/frame_5.jpg\n",
            "Saved frame: processed_frames/video_438/frame_6.jpg\n",
            "Saved frame: processed_frames/video_438/frame_7.jpg\n",
            "Saved frame: processed_frames/video_438/frame_8.jpg\n"
          ]
        },
        {
          "output_type": "stream",
          "name": "stderr",
          "text": [
            "\r 92%|█████████▏| 439/477 [28:38<02:42,  4.29s/it]"
          ]
        },
        {
          "output_type": "stream",
          "name": "stdout",
          "text": [
            "Saved frame: processed_frames/video_438/frame_9.jpg\n",
            "Processing video: /content/drive/MyDrive/HACER/write_angry_10_s.mp4, Total frames: 64\n",
            "Saved frame: processed_frames/video_439/frame_0.jpg\n",
            "Saved frame: processed_frames/video_439/frame_1.jpg\n",
            "Saved frame: processed_frames/video_439/frame_2.jpg\n",
            "Saved frame: processed_frames/video_439/frame_3.jpg\n",
            "Saved frame: processed_frames/video_439/frame_4.jpg\n",
            "Saved frame: processed_frames/video_439/frame_5.jpg\n",
            "Saved frame: processed_frames/video_439/frame_6.jpg\n",
            "Saved frame: processed_frames/video_439/frame_7.jpg\n",
            "Saved frame: processed_frames/video_439/frame_8.jpg\n"
          ]
        },
        {
          "output_type": "stream",
          "name": "stderr",
          "text": [
            "\r 92%|█████████▏| 440/477 [28:40<02:15,  3.67s/it]"
          ]
        },
        {
          "output_type": "stream",
          "name": "stdout",
          "text": [
            "Saved frame: processed_frames/video_439/frame_9.jpg\n",
            "Processing video: /content/drive/MyDrive/HACER/write_angry_11_l.mp4, Total frames: 156\n",
            "Saved frame: processed_frames/video_440/frame_0.jpg\n",
            "Saved frame: processed_frames/video_440/frame_1.jpg\n",
            "Saved frame: processed_frames/video_440/frame_2.jpg\n",
            "Saved frame: processed_frames/video_440/frame_3.jpg\n",
            "Saved frame: processed_frames/video_440/frame_4.jpg\n",
            "Saved frame: processed_frames/video_440/frame_5.jpg\n",
            "Saved frame: processed_frames/video_440/frame_6.jpg\n",
            "Saved frame: processed_frames/video_440/frame_7.jpg\n",
            "Saved frame: processed_frames/video_440/frame_8.jpg\n"
          ]
        },
        {
          "output_type": "stream",
          "name": "stderr",
          "text": [
            "\r 92%|█████████▏| 441/477 [28:44<02:14,  3.74s/it]"
          ]
        },
        {
          "output_type": "stream",
          "name": "stdout",
          "text": [
            "Saved frame: processed_frames/video_440/frame_9.jpg\n",
            "Processing video: /content/drive/MyDrive/HACER/write_angry_12_l.mp4, Total frames: 156\n",
            "Saved frame: processed_frames/video_441/frame_0.jpg\n",
            "Saved frame: processed_frames/video_441/frame_1.jpg\n",
            "Saved frame: processed_frames/video_441/frame_2.jpg\n",
            "Saved frame: processed_frames/video_441/frame_3.jpg\n",
            "Saved frame: processed_frames/video_441/frame_4.jpg\n",
            "Saved frame: processed_frames/video_441/frame_5.jpg\n",
            "Saved frame: processed_frames/video_441/frame_6.jpg\n",
            "Saved frame: processed_frames/video_441/frame_7.jpg\n",
            "Saved frame: processed_frames/video_441/frame_8.jpg\n"
          ]
        },
        {
          "output_type": "stream",
          "name": "stderr",
          "text": [
            "\r 93%|█████████▎| 442/477 [28:48<02:11,  3.75s/it]"
          ]
        },
        {
          "output_type": "stream",
          "name": "stdout",
          "text": [
            "Saved frame: processed_frames/video_441/frame_9.jpg\n",
            "Processing video: /content/drive/MyDrive/HACER/write_angry_13_l.mp4, Total frames: 327\n",
            "Saved frame: processed_frames/video_442/frame_0.jpg\n",
            "Saved frame: processed_frames/video_442/frame_1.jpg\n",
            "Saved frame: processed_frames/video_442/frame_2.jpg\n",
            "Saved frame: processed_frames/video_442/frame_3.jpg\n",
            "Saved frame: processed_frames/video_442/frame_4.jpg\n",
            "Saved frame: processed_frames/video_442/frame_5.jpg\n",
            "Saved frame: processed_frames/video_442/frame_6.jpg\n",
            "Saved frame: processed_frames/video_442/frame_7.jpg\n",
            "Saved frame: processed_frames/video_442/frame_8.jpg\n"
          ]
        },
        {
          "output_type": "stream",
          "name": "stderr",
          "text": [
            "\r 93%|█████████▎| 443/477 [28:53<02:27,  4.35s/it]"
          ]
        },
        {
          "output_type": "stream",
          "name": "stdout",
          "text": [
            "Saved frame: processed_frames/video_442/frame_9.jpg\n",
            "Processing video: /content/drive/MyDrive/HACER/write_angry_14_t.mp4, Total frames: 89\n",
            "Saved frame: processed_frames/video_443/frame_0.jpg\n",
            "Saved frame: processed_frames/video_443/frame_1.jpg\n",
            "Saved frame: processed_frames/video_443/frame_2.jpg\n",
            "Saved frame: processed_frames/video_443/frame_3.jpg\n",
            "Saved frame: processed_frames/video_443/frame_4.jpg\n",
            "Saved frame: processed_frames/video_443/frame_5.jpg\n",
            "Saved frame: processed_frames/video_443/frame_6.jpg\n",
            "Saved frame: processed_frames/video_443/frame_7.jpg\n",
            "Saved frame: processed_frames/video_443/frame_8.jpg\n"
          ]
        },
        {
          "output_type": "stream",
          "name": "stderr",
          "text": [
            "\r 93%|█████████▎| 444/477 [28:56<02:09,  3.92s/it]"
          ]
        },
        {
          "output_type": "stream",
          "name": "stdout",
          "text": [
            "Saved frame: processed_frames/video_443/frame_9.jpg\n",
            "Processing video: /content/drive/MyDrive/HACER/write_angry_1_w.mp4, Total frames: 79\n",
            "Saved frame: processed_frames/video_444/frame_0.jpg\n",
            "Saved frame: processed_frames/video_444/frame_1.jpg\n",
            "Saved frame: processed_frames/video_444/frame_2.jpg\n",
            "Saved frame: processed_frames/video_444/frame_3.jpg\n",
            "Saved frame: processed_frames/video_444/frame_4.jpg\n",
            "Saved frame: processed_frames/video_444/frame_5.jpg\n",
            "Saved frame: processed_frames/video_444/frame_6.jpg\n",
            "Saved frame: processed_frames/video_444/frame_7.jpg\n",
            "Saved frame: processed_frames/video_444/frame_8.jpg\n"
          ]
        },
        {
          "output_type": "stream",
          "name": "stderr",
          "text": [
            "\r 93%|█████████▎| 445/477 [28:58<01:44,  3.26s/it]"
          ]
        },
        {
          "output_type": "stream",
          "name": "stdout",
          "text": [
            "Saved frame: processed_frames/video_444/frame_9.jpg\n",
            "Processing video: /content/drive/MyDrive/HACER/write_angry_2_w.mp4, Total frames: 79\n",
            "Saved frame: processed_frames/video_445/frame_0.jpg\n",
            "Saved frame: processed_frames/video_445/frame_1.jpg\n",
            "Saved frame: processed_frames/video_445/frame_2.jpg\n",
            "Saved frame: processed_frames/video_445/frame_3.jpg\n",
            "Saved frame: processed_frames/video_445/frame_4.jpg\n",
            "Saved frame: processed_frames/video_445/frame_5.jpg\n",
            "Saved frame: processed_frames/video_445/frame_6.jpg\n",
            "Saved frame: processed_frames/video_445/frame_7.jpg\n",
            "Saved frame: processed_frames/video_445/frame_8.jpg\n"
          ]
        },
        {
          "output_type": "stream",
          "name": "stderr",
          "text": [
            "\r 94%|█████████▎| 446/477 [29:00<01:27,  2.83s/it]"
          ]
        },
        {
          "output_type": "stream",
          "name": "stdout",
          "text": [
            "Saved frame: processed_frames/video_445/frame_9.jpg\n",
            "Processing video: /content/drive/MyDrive/HACER/write_angry_3_j.mp4, Total frames: 356\n",
            "Saved frame: processed_frames/video_446/frame_0.jpg\n",
            "Saved frame: processed_frames/video_446/frame_1.jpg\n",
            "Saved frame: processed_frames/video_446/frame_2.jpg\n",
            "Saved frame: processed_frames/video_446/frame_3.jpg\n",
            "Saved frame: processed_frames/video_446/frame_4.jpg\n",
            "Saved frame: processed_frames/video_446/frame_5.jpg\n",
            "Saved frame: processed_frames/video_446/frame_6.jpg\n",
            "Saved frame: processed_frames/video_446/frame_7.jpg\n",
            "Saved frame: processed_frames/video_446/frame_8.jpg\n"
          ]
        },
        {
          "output_type": "stream",
          "name": "stderr",
          "text": [
            "\r 94%|█████████▎| 447/477 [29:04<01:31,  3.06s/it]"
          ]
        },
        {
          "output_type": "stream",
          "name": "stdout",
          "text": [
            "Saved frame: processed_frames/video_446/frame_9.jpg\n",
            "Processing video: /content/drive/MyDrive/HACER/write_angry_4_s.mp4, Total frames: 150\n",
            "Saved frame: processed_frames/video_447/frame_0.jpg\n",
            "Saved frame: processed_frames/video_447/frame_1.jpg\n",
            "Saved frame: processed_frames/video_447/frame_2.jpg\n",
            "Saved frame: processed_frames/video_447/frame_3.jpg\n",
            "Saved frame: processed_frames/video_447/frame_4.jpg\n",
            "Saved frame: processed_frames/video_447/frame_5.jpg\n",
            "Saved frame: processed_frames/video_447/frame_6.jpg\n",
            "Saved frame: processed_frames/video_447/frame_7.jpg\n",
            "Saved frame: processed_frames/video_447/frame_8.jpg\n"
          ]
        },
        {
          "output_type": "stream",
          "name": "stderr",
          "text": [
            "\r 94%|█████████▍| 448/477 [29:08<01:41,  3.52s/it]"
          ]
        },
        {
          "output_type": "stream",
          "name": "stdout",
          "text": [
            "Saved frame: processed_frames/video_447/frame_9.jpg\n",
            "Processing video: /content/drive/MyDrive/HACER/write_angry_5_s.mp4, Total frames: 150\n",
            "Saved frame: processed_frames/video_448/frame_0.jpg\n",
            "Saved frame: processed_frames/video_448/frame_1.jpg\n",
            "Saved frame: processed_frames/video_448/frame_2.jpg\n",
            "Saved frame: processed_frames/video_448/frame_3.jpg\n",
            "Saved frame: processed_frames/video_448/frame_4.jpg\n",
            "Saved frame: processed_frames/video_448/frame_5.jpg\n",
            "Saved frame: processed_frames/video_448/frame_6.jpg\n",
            "Saved frame: processed_frames/video_448/frame_7.jpg\n",
            "Saved frame: processed_frames/video_448/frame_8.jpg\n"
          ]
        },
        {
          "output_type": "stream",
          "name": "stderr",
          "text": [
            "\r 94%|█████████▍| 449/477 [29:12<01:44,  3.75s/it]"
          ]
        },
        {
          "output_type": "stream",
          "name": "stdout",
          "text": [
            "Saved frame: processed_frames/video_448/frame_9.jpg\n",
            "Processing video: /content/drive/MyDrive/HACER/write_angry_6_w.mp4, Total frames: 90\n",
            "Saved frame: processed_frames/video_449/frame_0.jpg\n",
            "Saved frame: processed_frames/video_449/frame_1.jpg\n",
            "Saved frame: processed_frames/video_449/frame_2.jpg\n",
            "Saved frame: processed_frames/video_449/frame_3.jpg\n",
            "Saved frame: processed_frames/video_449/frame_4.jpg\n",
            "Saved frame: processed_frames/video_449/frame_5.jpg\n",
            "Saved frame: processed_frames/video_449/frame_6.jpg\n",
            "Saved frame: processed_frames/video_449/frame_7.jpg\n",
            "Saved frame: processed_frames/video_449/frame_8.jpg\n"
          ]
        },
        {
          "output_type": "stream",
          "name": "stderr",
          "text": [
            "\r 94%|█████████▍| 450/477 [29:14<01:27,  3.23s/it]"
          ]
        },
        {
          "output_type": "stream",
          "name": "stdout",
          "text": [
            "Saved frame: processed_frames/video_449/frame_9.jpg\n",
            "Processing video: /content/drive/MyDrive/HACER/write_angry_7_w.mp4, Total frames: 90\n",
            "Saved frame: processed_frames/video_450/frame_0.jpg\n",
            "Saved frame: processed_frames/video_450/frame_1.jpg\n",
            "Saved frame: processed_frames/video_450/frame_2.jpg\n",
            "Saved frame: processed_frames/video_450/frame_3.jpg\n",
            "Saved frame: processed_frames/video_450/frame_4.jpg\n",
            "Saved frame: processed_frames/video_450/frame_5.jpg\n",
            "Saved frame: processed_frames/video_450/frame_6.jpg\n",
            "Saved frame: processed_frames/video_450/frame_7.jpg\n",
            "Saved frame: processed_frames/video_450/frame_8.jpg\n"
          ]
        },
        {
          "output_type": "stream",
          "name": "stderr",
          "text": [
            "\r 95%|█████████▍| 451/477 [29:16<01:14,  2.85s/it]"
          ]
        },
        {
          "output_type": "stream",
          "name": "stdout",
          "text": [
            "Saved frame: processed_frames/video_450/frame_9.jpg\n",
            "Processing video: /content/drive/MyDrive/HACER/write_angry_8_w.mp4, Total frames: 90\n",
            "Saved frame: processed_frames/video_451/frame_0.jpg\n",
            "Saved frame: processed_frames/video_451/frame_1.jpg\n",
            "Saved frame: processed_frames/video_451/frame_2.jpg\n",
            "Saved frame: processed_frames/video_451/frame_3.jpg\n",
            "Saved frame: processed_frames/video_451/frame_4.jpg\n",
            "Saved frame: processed_frames/video_451/frame_5.jpg\n",
            "Saved frame: processed_frames/video_451/frame_6.jpg\n",
            "Saved frame: processed_frames/video_451/frame_7.jpg\n",
            "Saved frame: processed_frames/video_451/frame_8.jpg\n"
          ]
        },
        {
          "output_type": "stream",
          "name": "stderr",
          "text": [
            "\r 95%|█████████▍| 452/477 [29:18<01:04,  2.59s/it]"
          ]
        },
        {
          "output_type": "stream",
          "name": "stdout",
          "text": [
            "Saved frame: processed_frames/video_451/frame_9.jpg\n",
            "Processing video: /content/drive/MyDrive/HACER/write_angry_9_s.mp4, Total frames: 87\n",
            "Saved frame: processed_frames/video_452/frame_0.jpg\n",
            "Saved frame: processed_frames/video_452/frame_1.jpg\n",
            "Saved frame: processed_frames/video_452/frame_2.jpg\n",
            "Saved frame: processed_frames/video_452/frame_3.jpg\n",
            "Saved frame: processed_frames/video_452/frame_4.jpg\n",
            "Saved frame: processed_frames/video_452/frame_5.jpg\n",
            "Saved frame: processed_frames/video_452/frame_6.jpg\n",
            "Saved frame: processed_frames/video_452/frame_7.jpg\n",
            "Saved frame: processed_frames/video_452/frame_8.jpg\n"
          ]
        },
        {
          "output_type": "stream",
          "name": "stderr",
          "text": [
            "\r 95%|█████████▍| 453/477 [29:20<00:57,  2.38s/it]"
          ]
        },
        {
          "output_type": "stream",
          "name": "stdout",
          "text": [
            "Saved frame: processed_frames/video_452/frame_9.jpg\n",
            "Processing video: /content/drive/MyDrive/HACER/write_happy_10_j.mp4, Total frames: 184\n",
            "Saved frame: processed_frames/video_453/frame_0.jpg\n",
            "Saved frame: processed_frames/video_453/frame_1.jpg\n",
            "Saved frame: processed_frames/video_453/frame_2.jpg\n",
            "Saved frame: processed_frames/video_453/frame_3.jpg\n",
            "Saved frame: processed_frames/video_453/frame_4.jpg\n",
            "Saved frame: processed_frames/video_453/frame_5.jpg\n",
            "Saved frame: processed_frames/video_453/frame_6.jpg\n",
            "Saved frame: processed_frames/video_453/frame_7.jpg\n",
            "Saved frame: processed_frames/video_453/frame_8.jpg\n"
          ]
        },
        {
          "output_type": "stream",
          "name": "stderr",
          "text": [
            "\r 95%|█████████▌| 454/477 [29:25<01:11,  3.12s/it]"
          ]
        },
        {
          "output_type": "stream",
          "name": "stdout",
          "text": [
            "Saved frame: processed_frames/video_453/frame_9.jpg\n",
            "Processing video: /content/drive/MyDrive/HACER/write_happy_11_t.mp4, Total frames: 116\n",
            "Saved frame: processed_frames/video_454/frame_0.jpg\n",
            "Saved frame: processed_frames/video_454/frame_1.jpg\n",
            "Saved frame: processed_frames/video_454/frame_2.jpg\n",
            "Saved frame: processed_frames/video_454/frame_3.jpg\n",
            "Saved frame: processed_frames/video_454/frame_4.jpg\n",
            "Saved frame: processed_frames/video_454/frame_5.jpg\n",
            "Saved frame: processed_frames/video_454/frame_6.jpg\n",
            "Saved frame: processed_frames/video_454/frame_7.jpg\n",
            "Saved frame: processed_frames/video_454/frame_8.jpg\n"
          ]
        },
        {
          "output_type": "stream",
          "name": "stderr",
          "text": [
            "\r 95%|█████████▌| 455/477 [29:28<01:08,  3.12s/it]"
          ]
        },
        {
          "output_type": "stream",
          "name": "stdout",
          "text": [
            "Saved frame: processed_frames/video_454/frame_9.jpg\n",
            "Processing video: /content/drive/MyDrive/HACER/write_happy_12_t.mp4, Total frames: 168\n",
            "Saved frame: processed_frames/video_455/frame_0.jpg\n",
            "Saved frame: processed_frames/video_455/frame_1.jpg\n",
            "Saved frame: processed_frames/video_455/frame_2.jpg\n",
            "Saved frame: processed_frames/video_455/frame_3.jpg\n",
            "Saved frame: processed_frames/video_455/frame_4.jpg\n",
            "Saved frame: processed_frames/video_455/frame_5.jpg\n",
            "Saved frame: processed_frames/video_455/frame_6.jpg\n",
            "Saved frame: processed_frames/video_455/frame_7.jpg\n"
          ]
        },
        {
          "output_type": "stream",
          "name": "stderr",
          "text": [
            "\r 96%|█████████▌| 456/477 [29:32<01:07,  3.22s/it]"
          ]
        },
        {
          "output_type": "stream",
          "name": "stdout",
          "text": [
            "Saved frame: processed_frames/video_455/frame_8.jpg\n",
            "Saved frame: processed_frames/video_455/frame_9.jpg\n",
            "Processing video: /content/drive/MyDrive/HACER/write_happy_1_w.mp4, Total frames: 148\n",
            "Saved frame: processed_frames/video_456/frame_0.jpg\n",
            "Saved frame: processed_frames/video_456/frame_1.jpg\n",
            "Saved frame: processed_frames/video_456/frame_2.jpg\n",
            "Saved frame: processed_frames/video_456/frame_3.jpg\n",
            "Saved frame: processed_frames/video_456/frame_4.jpg\n",
            "Saved frame: processed_frames/video_456/frame_5.jpg\n",
            "Saved frame: processed_frames/video_456/frame_6.jpg\n",
            "Saved frame: processed_frames/video_456/frame_7.jpg\n",
            "Saved frame: processed_frames/video_456/frame_8.jpg\n"
          ]
        },
        {
          "output_type": "stream",
          "name": "stderr",
          "text": [
            "\r 96%|█████████▌| 457/477 [29:35<01:05,  3.27s/it]"
          ]
        },
        {
          "output_type": "stream",
          "name": "stdout",
          "text": [
            "Saved frame: processed_frames/video_456/frame_9.jpg\n",
            "Processing video: /content/drive/MyDrive/HACER/write_happy_2_w.mp4, Total frames: 79\n",
            "Saved frame: processed_frames/video_457/frame_0.jpg\n",
            "Saved frame: processed_frames/video_457/frame_1.jpg\n",
            "Saved frame: processed_frames/video_457/frame_2.jpg\n",
            "Saved frame: processed_frames/video_457/frame_3.jpg\n",
            "Saved frame: processed_frames/video_457/frame_4.jpg\n",
            "Saved frame: processed_frames/video_457/frame_5.jpg\n",
            "Saved frame: processed_frames/video_457/frame_6.jpg\n",
            "Saved frame: processed_frames/video_457/frame_7.jpg\n",
            "Saved frame: processed_frames/video_457/frame_8.jpg\n"
          ]
        },
        {
          "output_type": "stream",
          "name": "stderr",
          "text": [
            "\r 96%|█████████▌| 458/477 [29:38<00:59,  3.12s/it]"
          ]
        },
        {
          "output_type": "stream",
          "name": "stdout",
          "text": [
            "Saved frame: processed_frames/video_457/frame_9.jpg\n",
            "Processing video: /content/drive/MyDrive/HACER/write_happy_3_j.mp4, Total frames: 356\n",
            "Saved frame: processed_frames/video_458/frame_0.jpg\n",
            "Saved frame: processed_frames/video_458/frame_1.jpg\n",
            "Saved frame: processed_frames/video_458/frame_2.jpg\n",
            "Saved frame: processed_frames/video_458/frame_3.jpg\n",
            "Saved frame: processed_frames/video_458/frame_4.jpg\n",
            "Saved frame: processed_frames/video_458/frame_5.jpg\n",
            "Saved frame: processed_frames/video_458/frame_6.jpg\n",
            "Saved frame: processed_frames/video_458/frame_7.jpg\n",
            "Saved frame: processed_frames/video_458/frame_8.jpg\n"
          ]
        },
        {
          "output_type": "stream",
          "name": "stderr",
          "text": [
            "\r 96%|█████████▌| 459/477 [29:43<01:06,  3.69s/it]"
          ]
        },
        {
          "output_type": "stream",
          "name": "stdout",
          "text": [
            "Saved frame: processed_frames/video_458/frame_9.jpg\n",
            "Processing video: /content/drive/MyDrive/HACER/write_happy_4_s.mp4, Total frames: 150\n",
            "Saved frame: processed_frames/video_459/frame_0.jpg\n",
            "Saved frame: processed_frames/video_459/frame_1.jpg\n",
            "Saved frame: processed_frames/video_459/frame_2.jpg\n",
            "Saved frame: processed_frames/video_459/frame_3.jpg\n",
            "Saved frame: processed_frames/video_459/frame_4.jpg\n",
            "Saved frame: processed_frames/video_459/frame_5.jpg\n",
            "Saved frame: processed_frames/video_459/frame_6.jpg\n",
            "Saved frame: processed_frames/video_459/frame_7.jpg\n",
            "Saved frame: processed_frames/video_459/frame_8.jpg\n"
          ]
        },
        {
          "output_type": "stream",
          "name": "stderr",
          "text": [
            "\r 96%|█████████▋| 460/477 [29:46<01:01,  3.62s/it]"
          ]
        },
        {
          "output_type": "stream",
          "name": "stdout",
          "text": [
            "Saved frame: processed_frames/video_459/frame_9.jpg\n",
            "Processing video: /content/drive/MyDrive/HACER/write_happy_5_w.mp4, Total frames: 58\n",
            "Saved frame: processed_frames/video_460/frame_0.jpg\n",
            "Saved frame: processed_frames/video_460/frame_1.jpg\n",
            "Saved frame: processed_frames/video_460/frame_2.jpg\n",
            "Saved frame: processed_frames/video_460/frame_3.jpg\n",
            "Saved frame: processed_frames/video_460/frame_4.jpg\n",
            "Saved frame: processed_frames/video_460/frame_5.jpg\n",
            "Saved frame: processed_frames/video_460/frame_6.jpg\n",
            "Saved frame: processed_frames/video_460/frame_7.jpg\n",
            "Saved frame: processed_frames/video_460/frame_8.jpg\n"
          ]
        },
        {
          "output_type": "stream",
          "name": "stderr",
          "text": [
            "\r 97%|█████████▋| 461/477 [29:48<00:46,  2.92s/it]"
          ]
        },
        {
          "output_type": "stream",
          "name": "stdout",
          "text": [
            "Saved frame: processed_frames/video_460/frame_9.jpg\n",
            "Processing video: /content/drive/MyDrive/HACER/write_happy_6_s.mp4, Total frames: 96\n",
            "Saved frame: processed_frames/video_461/frame_0.jpg\n",
            "Saved frame: processed_frames/video_461/frame_1.jpg\n",
            "Saved frame: processed_frames/video_461/frame_2.jpg\n",
            "Saved frame: processed_frames/video_461/frame_3.jpg\n",
            "Saved frame: processed_frames/video_461/frame_4.jpg\n",
            "Saved frame: processed_frames/video_461/frame_5.jpg\n",
            "Saved frame: processed_frames/video_461/frame_6.jpg\n",
            "Saved frame: processed_frames/video_461/frame_7.jpg\n",
            "Saved frame: processed_frames/video_461/frame_8.jpg\n"
          ]
        },
        {
          "output_type": "stream",
          "name": "stderr",
          "text": [
            "\r 97%|█████████▋| 462/477 [29:50<00:40,  2.69s/it]"
          ]
        },
        {
          "output_type": "stream",
          "name": "stdout",
          "text": [
            "Saved frame: processed_frames/video_461/frame_9.jpg\n",
            "Processing video: /content/drive/MyDrive/HACER/write_happy_7_l.mp4, Total frames: 156\n",
            "Saved frame: processed_frames/video_462/frame_0.jpg\n",
            "Saved frame: processed_frames/video_462/frame_1.jpg\n",
            "Saved frame: processed_frames/video_462/frame_2.jpg\n",
            "Saved frame: processed_frames/video_462/frame_3.jpg\n",
            "Saved frame: processed_frames/video_462/frame_4.jpg\n",
            "Saved frame: processed_frames/video_462/frame_5.jpg\n",
            "Saved frame: processed_frames/video_462/frame_6.jpg\n",
            "Saved frame: processed_frames/video_462/frame_7.jpg\n",
            "Saved frame: processed_frames/video_462/frame_8.jpg\n"
          ]
        },
        {
          "output_type": "stream",
          "name": "stderr",
          "text": [
            "\r 97%|█████████▋| 463/477 [29:56<00:52,  3.76s/it]"
          ]
        },
        {
          "output_type": "stream",
          "name": "stdout",
          "text": [
            "Saved frame: processed_frames/video_462/frame_9.jpg\n",
            "Processing video: /content/drive/MyDrive/HACER/write_happy_8_l.mp4, Total frames: 156\n",
            "Saved frame: processed_frames/video_463/frame_0.jpg\n",
            "Saved frame: processed_frames/video_463/frame_1.jpg\n",
            "Saved frame: processed_frames/video_463/frame_2.jpg\n",
            "Saved frame: processed_frames/video_463/frame_3.jpg\n",
            "Saved frame: processed_frames/video_463/frame_4.jpg\n",
            "Saved frame: processed_frames/video_463/frame_5.jpg\n",
            "Saved frame: processed_frames/video_463/frame_6.jpg\n",
            "Saved frame: processed_frames/video_463/frame_7.jpg\n",
            "Saved frame: processed_frames/video_463/frame_8.jpg\n"
          ]
        },
        {
          "output_type": "stream",
          "name": "stderr",
          "text": [
            "\r 97%|█████████▋| 464/477 [30:00<00:49,  3.81s/it]"
          ]
        },
        {
          "output_type": "stream",
          "name": "stdout",
          "text": [
            "Saved frame: processed_frames/video_463/frame_9.jpg\n",
            "Processing video: /content/drive/MyDrive/HACER/write_happy_9_l.mp4, Total frames: 327\n",
            "Saved frame: processed_frames/video_464/frame_0.jpg\n",
            "Saved frame: processed_frames/video_464/frame_1.jpg\n",
            "Saved frame: processed_frames/video_464/frame_2.jpg\n",
            "Saved frame: processed_frames/video_464/frame_3.jpg\n",
            "Saved frame: processed_frames/video_464/frame_4.jpg\n",
            "Saved frame: processed_frames/video_464/frame_5.jpg\n",
            "Saved frame: processed_frames/video_464/frame_6.jpg\n",
            "Saved frame: processed_frames/video_464/frame_7.jpg\n",
            "Saved frame: processed_frames/video_464/frame_8.jpg\n"
          ]
        },
        {
          "output_type": "stream",
          "name": "stderr",
          "text": [
            "\r 97%|█████████▋| 465/477 [30:04<00:46,  3.90s/it]"
          ]
        },
        {
          "output_type": "stream",
          "name": "stdout",
          "text": [
            "Saved frame: processed_frames/video_464/frame_9.jpg\n",
            "Processing video: /content/drive/MyDrive/HACER/write_neutral_10_t.mp4, Total frames: 168\n",
            "Saved frame: processed_frames/video_465/frame_0.jpg\n",
            "Saved frame: processed_frames/video_465/frame_1.jpg\n",
            "Saved frame: processed_frames/video_465/frame_2.jpg\n",
            "Saved frame: processed_frames/video_465/frame_3.jpg\n",
            "Saved frame: processed_frames/video_465/frame_4.jpg\n",
            "Saved frame: processed_frames/video_465/frame_5.jpg\n",
            "Saved frame: processed_frames/video_465/frame_6.jpg\n",
            "Saved frame: processed_frames/video_465/frame_7.jpg\n"
          ]
        },
        {
          "output_type": "stream",
          "name": "stderr",
          "text": [
            "\r 98%|█████████▊| 466/477 [30:09<00:45,  4.11s/it]"
          ]
        },
        {
          "output_type": "stream",
          "name": "stdout",
          "text": [
            "Saved frame: processed_frames/video_465/frame_8.jpg\n",
            "Saved frame: processed_frames/video_465/frame_9.jpg\n",
            "Processing video: /content/drive/MyDrive/HACER/write_neutral_11_a.mp4, Total frames: 132\n",
            "Saved frame: processed_frames/video_466/frame_0.jpg\n",
            "Saved frame: processed_frames/video_466/frame_1.jpg\n",
            "Saved frame: processed_frames/video_466/frame_2.jpg\n",
            "Saved frame: processed_frames/video_466/frame_3.jpg\n",
            "Saved frame: processed_frames/video_466/frame_4.jpg\n",
            "Saved frame: processed_frames/video_466/frame_5.jpg\n",
            "Saved frame: processed_frames/video_466/frame_6.jpg\n",
            "Saved frame: processed_frames/video_466/frame_7.jpg\n",
            "Saved frame: processed_frames/video_466/frame_8.jpg\n"
          ]
        },
        {
          "output_type": "stream",
          "name": "stderr",
          "text": [
            "\r 98%|█████████▊| 467/477 [30:14<00:45,  4.52s/it]"
          ]
        },
        {
          "output_type": "stream",
          "name": "stdout",
          "text": [
            "Saved frame: processed_frames/video_466/frame_9.jpg\n",
            "Processing video: /content/drive/MyDrive/HACER/write_neutral_12_a.mp4, Total frames: 57\n",
            "Saved frame: processed_frames/video_467/frame_0.jpg\n",
            "Saved frame: processed_frames/video_467/frame_1.jpg\n",
            "Saved frame: processed_frames/video_467/frame_2.jpg\n",
            "Saved frame: processed_frames/video_467/frame_3.jpg\n",
            "Saved frame: processed_frames/video_467/frame_4.jpg\n",
            "Saved frame: processed_frames/video_467/frame_5.jpg\n",
            "Saved frame: processed_frames/video_467/frame_6.jpg\n",
            "Saved frame: processed_frames/video_467/frame_7.jpg\n",
            "Saved frame: processed_frames/video_467/frame_8.jpg\n"
          ]
        },
        {
          "output_type": "stream",
          "name": "stderr",
          "text": [
            "\r 98%|█████████▊| 468/477 [30:16<00:34,  3.78s/it]"
          ]
        },
        {
          "output_type": "stream",
          "name": "stdout",
          "text": [
            "Saved frame: processed_frames/video_467/frame_9.jpg\n",
            "Processing video: /content/drive/MyDrive/HACER/write_neutral_1_w.mp4, Total frames: 79\n",
            "Saved frame: processed_frames/video_468/frame_0.jpg\n",
            "Saved frame: processed_frames/video_468/frame_1.jpg\n",
            "Saved frame: processed_frames/video_468/frame_2.jpg\n",
            "Saved frame: processed_frames/video_468/frame_3.jpg\n",
            "Saved frame: processed_frames/video_468/frame_4.jpg\n",
            "Saved frame: processed_frames/video_468/frame_5.jpg\n",
            "Saved frame: processed_frames/video_468/frame_6.jpg\n",
            "Saved frame: processed_frames/video_468/frame_7.jpg\n",
            "Saved frame: processed_frames/video_468/frame_8.jpg\n"
          ]
        },
        {
          "output_type": "stream",
          "name": "stderr",
          "text": [
            "\r 98%|█████████▊| 469/477 [30:18<00:25,  3.19s/it]"
          ]
        },
        {
          "output_type": "stream",
          "name": "stdout",
          "text": [
            "Saved frame: processed_frames/video_468/frame_9.jpg\n",
            "Processing video: /content/drive/MyDrive/HACER/write_neutral_2_j.mp4, Total frames: 191\n",
            "Saved frame: processed_frames/video_469/frame_0.jpg\n",
            "Saved frame: processed_frames/video_469/frame_1.jpg\n",
            "Saved frame: processed_frames/video_469/frame_2.jpg\n",
            "Saved frame: processed_frames/video_469/frame_3.jpg\n",
            "Saved frame: processed_frames/video_469/frame_4.jpg\n",
            "Saved frame: processed_frames/video_469/frame_5.jpg\n",
            "Saved frame: processed_frames/video_469/frame_6.jpg\n",
            "Saved frame: processed_frames/video_469/frame_7.jpg\n",
            "Saved frame: processed_frames/video_469/frame_8.jpg\n"
          ]
        },
        {
          "output_type": "stream",
          "name": "stderr",
          "text": [
            "\r 99%|█████████▊| 470/477 [30:21<00:22,  3.21s/it]"
          ]
        },
        {
          "output_type": "stream",
          "name": "stdout",
          "text": [
            "Saved frame: processed_frames/video_469/frame_9.jpg\n",
            "Processing video: /content/drive/MyDrive/HACER/write_neutral_3_s.mp4, Total frames: 150\n",
            "Saved frame: processed_frames/video_470/frame_0.jpg\n",
            "Saved frame: processed_frames/video_470/frame_1.jpg\n",
            "Saved frame: processed_frames/video_470/frame_2.jpg\n",
            "Saved frame: processed_frames/video_470/frame_3.jpg\n",
            "Saved frame: processed_frames/video_470/frame_4.jpg\n",
            "Saved frame: processed_frames/video_470/frame_5.jpg\n",
            "Saved frame: processed_frames/video_470/frame_6.jpg\n",
            "Saved frame: processed_frames/video_470/frame_7.jpg\n",
            "Saved frame: processed_frames/video_470/frame_8.jpg\n"
          ]
        },
        {
          "output_type": "stream",
          "name": "stderr",
          "text": [
            "\r 99%|█████████▊| 471/477 [30:27<00:23,  3.92s/it]"
          ]
        },
        {
          "output_type": "stream",
          "name": "stdout",
          "text": [
            "Saved frame: processed_frames/video_470/frame_9.jpg\n",
            "Processing video: /content/drive/MyDrive/HACER/write_neutral_4_s.mp4, Total frames: 87\n",
            "Saved frame: processed_frames/video_471/frame_0.jpg\n",
            "Saved frame: processed_frames/video_471/frame_1.jpg\n",
            "Saved frame: processed_frames/video_471/frame_2.jpg\n",
            "Saved frame: processed_frames/video_471/frame_3.jpg\n",
            "Saved frame: processed_frames/video_471/frame_4.jpg\n",
            "Saved frame: processed_frames/video_471/frame_5.jpg\n",
            "Saved frame: processed_frames/video_471/frame_6.jpg\n",
            "Saved frame: processed_frames/video_471/frame_7.jpg\n",
            "Saved frame: processed_frames/video_471/frame_8.jpg\n"
          ]
        },
        {
          "output_type": "stream",
          "name": "stderr",
          "text": [
            "\r 99%|█████████▉| 472/477 [30:29<00:16,  3.31s/it]"
          ]
        },
        {
          "output_type": "stream",
          "name": "stdout",
          "text": [
            "Saved frame: processed_frames/video_471/frame_9.jpg\n",
            "Processing video: /content/drive/MyDrive/HACER/write_neutral_5_s.mp4, Total frames: 87\n",
            "Saved frame: processed_frames/video_472/frame_0.jpg\n",
            "Saved frame: processed_frames/video_472/frame_1.jpg\n",
            "Saved frame: processed_frames/video_472/frame_2.jpg\n",
            "Saved frame: processed_frames/video_472/frame_3.jpg\n",
            "Saved frame: processed_frames/video_472/frame_4.jpg\n",
            "Saved frame: processed_frames/video_472/frame_5.jpg\n",
            "Saved frame: processed_frames/video_472/frame_6.jpg\n",
            "Saved frame: processed_frames/video_472/frame_7.jpg\n",
            "Saved frame: processed_frames/video_472/frame_8.jpg\n"
          ]
        },
        {
          "output_type": "stream",
          "name": "stderr",
          "text": [
            "\r 99%|█████████▉| 473/477 [30:31<00:11,  2.95s/it]"
          ]
        },
        {
          "output_type": "stream",
          "name": "stdout",
          "text": [
            "Saved frame: processed_frames/video_472/frame_9.jpg\n",
            "Processing video: /content/drive/MyDrive/HACER/write_neutral_6_l.mp4, Total frames: 156\n",
            "Saved frame: processed_frames/video_473/frame_0.jpg\n",
            "Saved frame: processed_frames/video_473/frame_1.jpg\n",
            "Saved frame: processed_frames/video_473/frame_2.jpg\n",
            "Saved frame: processed_frames/video_473/frame_3.jpg\n",
            "Saved frame: processed_frames/video_473/frame_4.jpg\n",
            "Saved frame: processed_frames/video_473/frame_5.jpg\n",
            "Saved frame: processed_frames/video_473/frame_6.jpg\n",
            "Saved frame: processed_frames/video_473/frame_7.jpg\n",
            "Saved frame: processed_frames/video_473/frame_8.jpg\n"
          ]
        },
        {
          "output_type": "stream",
          "name": "stderr",
          "text": [
            "\r 99%|█████████▉| 474/477 [30:35<00:09,  3.26s/it]"
          ]
        },
        {
          "output_type": "stream",
          "name": "stdout",
          "text": [
            "Saved frame: processed_frames/video_473/frame_9.jpg\n",
            "Processing video: /content/drive/MyDrive/HACER/write_neutral_7_j.mp4, Total frames: 157\n",
            "Saved frame: processed_frames/video_474/frame_0.jpg\n",
            "Saved frame: processed_frames/video_474/frame_1.jpg\n",
            "Saved frame: processed_frames/video_474/frame_2.jpg\n",
            "Saved frame: processed_frames/video_474/frame_3.jpg\n",
            "Saved frame: processed_frames/video_474/frame_4.jpg\n",
            "Saved frame: processed_frames/video_474/frame_5.jpg\n",
            "Saved frame: processed_frames/video_474/frame_6.jpg\n",
            "Saved frame: processed_frames/video_474/frame_7.jpg\n",
            "Saved frame: processed_frames/video_474/frame_8.jpg\n"
          ]
        },
        {
          "output_type": "stream",
          "name": "stderr",
          "text": [
            "\r100%|█████████▉| 475/477 [30:39<00:07,  3.60s/it]"
          ]
        },
        {
          "output_type": "stream",
          "name": "stdout",
          "text": [
            "Saved frame: processed_frames/video_474/frame_9.jpg\n",
            "Processing video: /content/drive/MyDrive/HACER/write_neutral_8_a.mp4, Total frames: 269\n",
            "Saved frame: processed_frames/video_475/frame_0.jpg\n",
            "Saved frame: processed_frames/video_475/frame_1.jpg\n",
            "Saved frame: processed_frames/video_475/frame_2.jpg\n",
            "Saved frame: processed_frames/video_475/frame_3.jpg\n",
            "Saved frame: processed_frames/video_475/frame_4.jpg\n",
            "Saved frame: processed_frames/video_475/frame_5.jpg\n",
            "Saved frame: processed_frames/video_475/frame_6.jpg\n",
            "Saved frame: processed_frames/video_475/frame_7.jpg\n",
            "Saved frame: processed_frames/video_475/frame_8.jpg\n"
          ]
        },
        {
          "output_type": "stream",
          "name": "stderr",
          "text": [
            "\r100%|█████████▉| 476/477 [30:45<00:04,  4.35s/it]"
          ]
        },
        {
          "output_type": "stream",
          "name": "stdout",
          "text": [
            "Saved frame: processed_frames/video_475/frame_9.jpg\n",
            "Processing video: /content/drive/MyDrive/HACER/write_neutral_9_t.mp4, Total frames: 116\n",
            "Saved frame: processed_frames/video_476/frame_0.jpg\n",
            "Saved frame: processed_frames/video_476/frame_1.jpg\n",
            "Saved frame: processed_frames/video_476/frame_2.jpg\n",
            "Saved frame: processed_frames/video_476/frame_3.jpg\n",
            "Saved frame: processed_frames/video_476/frame_4.jpg\n",
            "Saved frame: processed_frames/video_476/frame_5.jpg\n",
            "Saved frame: processed_frames/video_476/frame_6.jpg\n",
            "Saved frame: processed_frames/video_476/frame_7.jpg\n",
            "Saved frame: processed_frames/video_476/frame_8.jpg\n"
          ]
        },
        {
          "output_type": "stream",
          "name": "stderr",
          "text": [
            "100%|██████████| 477/477 [30:48<00:00,  3.88s/it]"
          ]
        },
        {
          "output_type": "stream",
          "name": "stdout",
          "text": [
            "Saved frame: processed_frames/video_476/frame_9.jpg\n",
            "Frame extraction complete.\n"
          ]
        },
        {
          "output_type": "stream",
          "name": "stderr",
          "text": [
            "\n"
          ]
        }
      ]
    },
    {
      "cell_type": "code",
      "source": [
        "# Split dataset into train and test sets\n",
        "train_data, test_data = train_test_split(data, test_size=0.2, random_state=42)"
      ],
      "metadata": {
        "id": "ZvOCHpwr3JGW"
      },
      "execution_count": null,
      "outputs": []
    },
    {
      "cell_type": "code",
      "source": [
        "# Save train/test splits\n",
        "train_data.to_csv('train_data.csv', index=False)\n",
        "test_data.to_csv('test_data.csv', index=False)\n",
        "\n",
        "print(\"Train/test split complete. Train and test CSVs saved.\")"
      ],
      "metadata": {
        "colab": {
          "base_uri": "https://localhost:8080/"
        },
        "id": "shE7ihlX5TtF",
        "outputId": "9fb9221d-347a-4196-daaa-2606685d8f5f"
      },
      "execution_count": null,
      "outputs": [
        {
          "output_type": "stream",
          "name": "stdout",
          "text": [
            "Train/test split complete. Train and test CSVs saved.\n"
          ]
        }
      ]
    },
    {
      "cell_type": "code",
      "source": [
        "# Step 2: Data Augmentation (2 Done)\n",
        "from google.colab import files\n",
        "uploaded = files.upload()\n",
        "\n",
        "# After uploading, access the file\n",
        "TRAIN_CSV = '/content/train_videos.csv'\n",
        "train_data = pd.read_csv(TRAIN_CSV)\n"
      ],
      "metadata": {
        "colab": {
          "base_uri": "https://localhost:8080/",
          "height": 73
        },
        "id": "aHVYlIAPGXPN",
        "outputId": "fb54543d-e03b-4b98-edf5-e5f613a84ae4"
      },
      "execution_count": null,
      "outputs": [
        {
          "output_type": "display_data",
          "data": {
            "text/plain": [
              "<IPython.core.display.HTML object>"
            ],
            "text/html": [
              "\n",
              "     <input type=\"file\" id=\"files-f263014e-41bb-4bd9-b10e-6a4a33468be0\" name=\"files[]\" multiple disabled\n",
              "        style=\"border:none\" />\n",
              "     <output id=\"result-f263014e-41bb-4bd9-b10e-6a4a33468be0\">\n",
              "      Upload widget is only available when the cell has been executed in the\n",
              "      current browser session. Please rerun this cell to enable.\n",
              "      </output>\n",
              "      <script>// Copyright 2017 Google LLC\n",
              "//\n",
              "// Licensed under the Apache License, Version 2.0 (the \"License\");\n",
              "// you may not use this file except in compliance with the License.\n",
              "// You may obtain a copy of the License at\n",
              "//\n",
              "//      http://www.apache.org/licenses/LICENSE-2.0\n",
              "//\n",
              "// Unless required by applicable law or agreed to in writing, software\n",
              "// distributed under the License is distributed on an \"AS IS\" BASIS,\n",
              "// WITHOUT WARRANTIES OR CONDITIONS OF ANY KIND, either express or implied.\n",
              "// See the License for the specific language governing permissions and\n",
              "// limitations under the License.\n",
              "\n",
              "/**\n",
              " * @fileoverview Helpers for google.colab Python module.\n",
              " */\n",
              "(function(scope) {\n",
              "function span(text, styleAttributes = {}) {\n",
              "  const element = document.createElement('span');\n",
              "  element.textContent = text;\n",
              "  for (const key of Object.keys(styleAttributes)) {\n",
              "    element.style[key] = styleAttributes[key];\n",
              "  }\n",
              "  return element;\n",
              "}\n",
              "\n",
              "// Max number of bytes which will be uploaded at a time.\n",
              "const MAX_PAYLOAD_SIZE = 100 * 1024;\n",
              "\n",
              "function _uploadFiles(inputId, outputId) {\n",
              "  const steps = uploadFilesStep(inputId, outputId);\n",
              "  const outputElement = document.getElementById(outputId);\n",
              "  // Cache steps on the outputElement to make it available for the next call\n",
              "  // to uploadFilesContinue from Python.\n",
              "  outputElement.steps = steps;\n",
              "\n",
              "  return _uploadFilesContinue(outputId);\n",
              "}\n",
              "\n",
              "// This is roughly an async generator (not supported in the browser yet),\n",
              "// where there are multiple asynchronous steps and the Python side is going\n",
              "// to poll for completion of each step.\n",
              "// This uses a Promise to block the python side on completion of each step,\n",
              "// then passes the result of the previous step as the input to the next step.\n",
              "function _uploadFilesContinue(outputId) {\n",
              "  const outputElement = document.getElementById(outputId);\n",
              "  const steps = outputElement.steps;\n",
              "\n",
              "  const next = steps.next(outputElement.lastPromiseValue);\n",
              "  return Promise.resolve(next.value.promise).then((value) => {\n",
              "    // Cache the last promise value to make it available to the next\n",
              "    // step of the generator.\n",
              "    outputElement.lastPromiseValue = value;\n",
              "    return next.value.response;\n",
              "  });\n",
              "}\n",
              "\n",
              "/**\n",
              " * Generator function which is called between each async step of the upload\n",
              " * process.\n",
              " * @param {string} inputId Element ID of the input file picker element.\n",
              " * @param {string} outputId Element ID of the output display.\n",
              " * @return {!Iterable<!Object>} Iterable of next steps.\n",
              " */\n",
              "function* uploadFilesStep(inputId, outputId) {\n",
              "  const inputElement = document.getElementById(inputId);\n",
              "  inputElement.disabled = false;\n",
              "\n",
              "  const outputElement = document.getElementById(outputId);\n",
              "  outputElement.innerHTML = '';\n",
              "\n",
              "  const pickedPromise = new Promise((resolve) => {\n",
              "    inputElement.addEventListener('change', (e) => {\n",
              "      resolve(e.target.files);\n",
              "    });\n",
              "  });\n",
              "\n",
              "  const cancel = document.createElement('button');\n",
              "  inputElement.parentElement.appendChild(cancel);\n",
              "  cancel.textContent = 'Cancel upload';\n",
              "  const cancelPromise = new Promise((resolve) => {\n",
              "    cancel.onclick = () => {\n",
              "      resolve(null);\n",
              "    };\n",
              "  });\n",
              "\n",
              "  // Wait for the user to pick the files.\n",
              "  const files = yield {\n",
              "    promise: Promise.race([pickedPromise, cancelPromise]),\n",
              "    response: {\n",
              "      action: 'starting',\n",
              "    }\n",
              "  };\n",
              "\n",
              "  cancel.remove();\n",
              "\n",
              "  // Disable the input element since further picks are not allowed.\n",
              "  inputElement.disabled = true;\n",
              "\n",
              "  if (!files) {\n",
              "    return {\n",
              "      response: {\n",
              "        action: 'complete',\n",
              "      }\n",
              "    };\n",
              "  }\n",
              "\n",
              "  for (const file of files) {\n",
              "    const li = document.createElement('li');\n",
              "    li.append(span(file.name, {fontWeight: 'bold'}));\n",
              "    li.append(span(\n",
              "        `(${file.type || 'n/a'}) - ${file.size} bytes, ` +\n",
              "        `last modified: ${\n",
              "            file.lastModifiedDate ? file.lastModifiedDate.toLocaleDateString() :\n",
              "                                    'n/a'} - `));\n",
              "    const percent = span('0% done');\n",
              "    li.appendChild(percent);\n",
              "\n",
              "    outputElement.appendChild(li);\n",
              "\n",
              "    const fileDataPromise = new Promise((resolve) => {\n",
              "      const reader = new FileReader();\n",
              "      reader.onload = (e) => {\n",
              "        resolve(e.target.result);\n",
              "      };\n",
              "      reader.readAsArrayBuffer(file);\n",
              "    });\n",
              "    // Wait for the data to be ready.\n",
              "    let fileData = yield {\n",
              "      promise: fileDataPromise,\n",
              "      response: {\n",
              "        action: 'continue',\n",
              "      }\n",
              "    };\n",
              "\n",
              "    // Use a chunked sending to avoid message size limits. See b/62115660.\n",
              "    let position = 0;\n",
              "    do {\n",
              "      const length = Math.min(fileData.byteLength - position, MAX_PAYLOAD_SIZE);\n",
              "      const chunk = new Uint8Array(fileData, position, length);\n",
              "      position += length;\n",
              "\n",
              "      const base64 = btoa(String.fromCharCode.apply(null, chunk));\n",
              "      yield {\n",
              "        response: {\n",
              "          action: 'append',\n",
              "          file: file.name,\n",
              "          data: base64,\n",
              "        },\n",
              "      };\n",
              "\n",
              "      let percentDone = fileData.byteLength === 0 ?\n",
              "          100 :\n",
              "          Math.round((position / fileData.byteLength) * 100);\n",
              "      percent.textContent = `${percentDone}% done`;\n",
              "\n",
              "    } while (position < fileData.byteLength);\n",
              "  }\n",
              "\n",
              "  // All done.\n",
              "  yield {\n",
              "    response: {\n",
              "      action: 'complete',\n",
              "    }\n",
              "  };\n",
              "}\n",
              "\n",
              "scope.google = scope.google || {};\n",
              "scope.google.colab = scope.google.colab || {};\n",
              "scope.google.colab._files = {\n",
              "  _uploadFiles,\n",
              "  _uploadFilesContinue,\n",
              "};\n",
              "})(self);\n",
              "</script> "
            ]
          },
          "metadata": {}
        },
        {
          "output_type": "stream",
          "name": "stdout",
          "text": [
            "Saving train_videos.csv to train_videos.csv\n"
          ]
        }
      ]
    },
    {
      "cell_type": "code",
      "source": [
        "from google.colab import files\n",
        "uploaded = files.upload()"
      ],
      "metadata": {
        "colab": {
          "base_uri": "https://localhost:8080/",
          "height": 73
        },
        "id": "ed9whTtMG3-G",
        "outputId": "f0d54deb-54fb-48c0-c23b-f8f96c3e0734"
      },
      "execution_count": null,
      "outputs": [
        {
          "output_type": "display_data",
          "data": {
            "text/plain": [
              "<IPython.core.display.HTML object>"
            ],
            "text/html": [
              "\n",
              "     <input type=\"file\" id=\"files-18230ac5-0364-4dc1-a404-57af4c5c0ff7\" name=\"files[]\" multiple disabled\n",
              "        style=\"border:none\" />\n",
              "     <output id=\"result-18230ac5-0364-4dc1-a404-57af4c5c0ff7\">\n",
              "      Upload widget is only available when the cell has been executed in the\n",
              "      current browser session. Please rerun this cell to enable.\n",
              "      </output>\n",
              "      <script>// Copyright 2017 Google LLC\n",
              "//\n",
              "// Licensed under the Apache License, Version 2.0 (the \"License\");\n",
              "// you may not use this file except in compliance with the License.\n",
              "// You may obtain a copy of the License at\n",
              "//\n",
              "//      http://www.apache.org/licenses/LICENSE-2.0\n",
              "//\n",
              "// Unless required by applicable law or agreed to in writing, software\n",
              "// distributed under the License is distributed on an \"AS IS\" BASIS,\n",
              "// WITHOUT WARRANTIES OR CONDITIONS OF ANY KIND, either express or implied.\n",
              "// See the License for the specific language governing permissions and\n",
              "// limitations under the License.\n",
              "\n",
              "/**\n",
              " * @fileoverview Helpers for google.colab Python module.\n",
              " */\n",
              "(function(scope) {\n",
              "function span(text, styleAttributes = {}) {\n",
              "  const element = document.createElement('span');\n",
              "  element.textContent = text;\n",
              "  for (const key of Object.keys(styleAttributes)) {\n",
              "    element.style[key] = styleAttributes[key];\n",
              "  }\n",
              "  return element;\n",
              "}\n",
              "\n",
              "// Max number of bytes which will be uploaded at a time.\n",
              "const MAX_PAYLOAD_SIZE = 100 * 1024;\n",
              "\n",
              "function _uploadFiles(inputId, outputId) {\n",
              "  const steps = uploadFilesStep(inputId, outputId);\n",
              "  const outputElement = document.getElementById(outputId);\n",
              "  // Cache steps on the outputElement to make it available for the next call\n",
              "  // to uploadFilesContinue from Python.\n",
              "  outputElement.steps = steps;\n",
              "\n",
              "  return _uploadFilesContinue(outputId);\n",
              "}\n",
              "\n",
              "// This is roughly an async generator (not supported in the browser yet),\n",
              "// where there are multiple asynchronous steps and the Python side is going\n",
              "// to poll for completion of each step.\n",
              "// This uses a Promise to block the python side on completion of each step,\n",
              "// then passes the result of the previous step as the input to the next step.\n",
              "function _uploadFilesContinue(outputId) {\n",
              "  const outputElement = document.getElementById(outputId);\n",
              "  const steps = outputElement.steps;\n",
              "\n",
              "  const next = steps.next(outputElement.lastPromiseValue);\n",
              "  return Promise.resolve(next.value.promise).then((value) => {\n",
              "    // Cache the last promise value to make it available to the next\n",
              "    // step of the generator.\n",
              "    outputElement.lastPromiseValue = value;\n",
              "    return next.value.response;\n",
              "  });\n",
              "}\n",
              "\n",
              "/**\n",
              " * Generator function which is called between each async step of the upload\n",
              " * process.\n",
              " * @param {string} inputId Element ID of the input file picker element.\n",
              " * @param {string} outputId Element ID of the output display.\n",
              " * @return {!Iterable<!Object>} Iterable of next steps.\n",
              " */\n",
              "function* uploadFilesStep(inputId, outputId) {\n",
              "  const inputElement = document.getElementById(inputId);\n",
              "  inputElement.disabled = false;\n",
              "\n",
              "  const outputElement = document.getElementById(outputId);\n",
              "  outputElement.innerHTML = '';\n",
              "\n",
              "  const pickedPromise = new Promise((resolve) => {\n",
              "    inputElement.addEventListener('change', (e) => {\n",
              "      resolve(e.target.files);\n",
              "    });\n",
              "  });\n",
              "\n",
              "  const cancel = document.createElement('button');\n",
              "  inputElement.parentElement.appendChild(cancel);\n",
              "  cancel.textContent = 'Cancel upload';\n",
              "  const cancelPromise = new Promise((resolve) => {\n",
              "    cancel.onclick = () => {\n",
              "      resolve(null);\n",
              "    };\n",
              "  });\n",
              "\n",
              "  // Wait for the user to pick the files.\n",
              "  const files = yield {\n",
              "    promise: Promise.race([pickedPromise, cancelPromise]),\n",
              "    response: {\n",
              "      action: 'starting',\n",
              "    }\n",
              "  };\n",
              "\n",
              "  cancel.remove();\n",
              "\n",
              "  // Disable the input element since further picks are not allowed.\n",
              "  inputElement.disabled = true;\n",
              "\n",
              "  if (!files) {\n",
              "    return {\n",
              "      response: {\n",
              "        action: 'complete',\n",
              "      }\n",
              "    };\n",
              "  }\n",
              "\n",
              "  for (const file of files) {\n",
              "    const li = document.createElement('li');\n",
              "    li.append(span(file.name, {fontWeight: 'bold'}));\n",
              "    li.append(span(\n",
              "        `(${file.type || 'n/a'}) - ${file.size} bytes, ` +\n",
              "        `last modified: ${\n",
              "            file.lastModifiedDate ? file.lastModifiedDate.toLocaleDateString() :\n",
              "                                    'n/a'} - `));\n",
              "    const percent = span('0% done');\n",
              "    li.appendChild(percent);\n",
              "\n",
              "    outputElement.appendChild(li);\n",
              "\n",
              "    const fileDataPromise = new Promise((resolve) => {\n",
              "      const reader = new FileReader();\n",
              "      reader.onload = (e) => {\n",
              "        resolve(e.target.result);\n",
              "      };\n",
              "      reader.readAsArrayBuffer(file);\n",
              "    });\n",
              "    // Wait for the data to be ready.\n",
              "    let fileData = yield {\n",
              "      promise: fileDataPromise,\n",
              "      response: {\n",
              "        action: 'continue',\n",
              "      }\n",
              "    };\n",
              "\n",
              "    // Use a chunked sending to avoid message size limits. See b/62115660.\n",
              "    let position = 0;\n",
              "    do {\n",
              "      const length = Math.min(fileData.byteLength - position, MAX_PAYLOAD_SIZE);\n",
              "      const chunk = new Uint8Array(fileData, position, length);\n",
              "      position += length;\n",
              "\n",
              "      const base64 = btoa(String.fromCharCode.apply(null, chunk));\n",
              "      yield {\n",
              "        response: {\n",
              "          action: 'append',\n",
              "          file: file.name,\n",
              "          data: base64,\n",
              "        },\n",
              "      };\n",
              "\n",
              "      let percentDone = fileData.byteLength === 0 ?\n",
              "          100 :\n",
              "          Math.round((position / fileData.byteLength) * 100);\n",
              "      percent.textContent = `${percentDone}% done`;\n",
              "\n",
              "    } while (position < fileData.byteLength);\n",
              "  }\n",
              "\n",
              "  // All done.\n",
              "  yield {\n",
              "    response: {\n",
              "      action: 'complete',\n",
              "    }\n",
              "  };\n",
              "}\n",
              "\n",
              "scope.google = scope.google || {};\n",
              "scope.google.colab = scope.google.colab || {};\n",
              "scope.google.colab._files = {\n",
              "  _uploadFiles,\n",
              "  _uploadFilesContinue,\n",
              "};\n",
              "})(self);\n",
              "</script> "
            ]
          },
          "metadata": {}
        },
        {
          "output_type": "stream",
          "name": "stdout",
          "text": [
            "Saving test_videos.csv to test_videos.csv\n"
          ]
        }
      ]
    },
    {
      "cell_type": "code",
      "source": [
        "# Paths to the data splits\n",
        "TRAIN_CSV = '/content/train_videos.csv'\n",
        "AUGMENTED_FRAME_DIR = '/content/augmented_frames/'  # Directory for augmented data\n",
        "os.makedirs(AUGMENTED_FRAME_DIR, exist_ok=True)"
      ],
      "metadata": {
        "id": "ioQFhflF5cXy"
      },
      "execution_count": null,
      "outputs": []
    },
    {
      "cell_type": "code",
      "source": [
        "print(\"Training data path:\", TRAIN_CSV)\n"
      ],
      "metadata": {
        "colab": {
          "base_uri": "https://localhost:8080/"
        },
        "id": "MOjG6IXpC1Uq",
        "outputId": "a413487a-5ff0-413b-f1db-b95ad2c0eab9"
      },
      "execution_count": null,
      "outputs": [
        {
          "output_type": "stream",
          "name": "stdout",
          "text": [
            "Training data path: /content/train_videos.csv\n"
          ]
        }
      ]
    },
    {
      "cell_type": "code",
      "source": [
        "# Load train data\n",
        "train_data = pd.read_csv(TRAIN_CSV)\n",
        "print(\"Train data loaded:\")\n",
        "print(train_data.head())"
      ],
      "metadata": {
        "colab": {
          "base_uri": "https://localhost:8080/"
        },
        "id": "JGPJ2MTX5caX",
        "outputId": "6318c742-a0cf-43b9-db68-516d2cce78f8"
      },
      "execution_count": null,
      "outputs": [
        {
          "output_type": "stream",
          "name": "stdout",
          "text": [
            "Train data loaded:\n",
            "                                  video_path  label\n",
            "0  /content/drive/MyDrive/HACER_frames/117_3      3\n",
            "1  /content/drive/MyDrive/HACER_frames/137_0      0\n",
            "2  /content/drive/MyDrive/HACER_frames/209_0      0\n",
            "3  /content/drive/MyDrive/HACER_frames/409_0      0\n",
            "4  /content/drive/MyDrive/HACER_frames/148_2      2\n"
          ]
        }
      ]
    },
    {
      "cell_type": "code",
      "source": [
        "# Initialize ImageDataGenerator for data augmentation\n",
        "datagen = ImageDataGenerator(\n",
        "    rotation_range=20,\n",
        "    width_shift_range=0.1,\n",
        "    height_shift_range=0.1,\n",
        "    shear_range=0.1,\n",
        "    zoom_range=0.1,\n",
        "    horizontal_flip=True,\n",
        "    brightness_range=[0.8, 1.2],\n",
        "    fill_mode='nearest'\n",
        ")\n"
      ],
      "metadata": {
        "id": "CXqWUr-F7wLc"
      },
      "execution_count": null,
      "outputs": []
    },
    {
      "cell_type": "code",
      "source": [
        "# Function to apply augmentation to frames\n",
        "def augment_frames(video_dir, save_dir, augment_count=5):\n",
        "    frame_files = [os.path.join(video_dir, f) for f in os.listdir(video_dir) if f.endswith('.jpg')]\n",
        "    print(f\"Augmenting frames in: {video_dir}\")\n",
        "    for frame_file in frame_files:\n",
        "        frame = cv2.imread(frame_file)\n",
        "        frame = cv2.cvtColor(frame, cv2.COLOR_BGR2RGB)  # Convert BGR to RGB (for TensorFlow)\n",
        "        frame = cv2.resize(frame, (224, 224))\n",
        "        frame = frame.reshape((1,) + frame.shape)  # Add batch dimension\n",
        "\n",
        "        # Generate augmentations\n",
        "        i = 0\n",
        "        for batch in datagen.flow(frame, batch_size=1):\n",
        "            save_path = os.path.join(save_dir, f\"{os.path.basename(frame_file).split('.')[0]}_aug_{i}.jpg\")\n",
        "            augmented_frame = batch[0].astype('uint8')\n",
        "            cv2.imwrite(save_path, cv2.cvtColor(augmented_frame, cv2.COLOR_RGB2BGR))  # Convert RGB back to BGR\n",
        "            print(f\"Saved augmented frame: {save_path}\")\n",
        "            i += 1\n",
        "            if i >= augment_count:  # Stop after generating augment_count frames\n",
        "                break"
      ],
      "metadata": {
        "id": "iku5Vtff5cci"
      },
      "execution_count": null,
      "outputs": []
    },
    {
      "cell_type": "code",
      "source": [
        "# Load the CSV file\n",
        "train_data = pd.read_csv(TRAIN_CSV)\n",
        "\n",
        "# Print the column names to verify\n",
        "print(train_data.columns)\n"
      ],
      "metadata": {
        "colab": {
          "base_uri": "https://localhost:8080/"
        },
        "id": "B6jAm4bi8ukv",
        "outputId": "66c54851-5f25-4aa1-c747-1cd33bdf4c69"
      },
      "execution_count": null,
      "outputs": [
        {
          "output_type": "stream",
          "name": "stdout",
          "text": [
            "Index(['video_path', 'label'], dtype='object')\n"
          ]
        }
      ]
    },
    {
      "cell_type": "code",
      "source": [
        "# Augment train frames\n",
        "for idx, row in train_data.iterrows():\n",
        "    video_frame_dir = row['video_path']\n",
        "    label = row['label']\n",
        "    augmented_video_dir = os.path.join(AUGMENTED_FRAME_DIR, f\"{idx}_{label}\")\n",
        "    os.makedirs(augmented_video_dir, exist_ok=True)\n",
        "    augment_frames(video_frame_dir, augmented_video_dir)\n",
        "\n",
        "print(\"Data augmentation complete. Augmented frames saved.\")"
      ],
      "metadata": {
        "colab": {
          "base_uri": "https://localhost:8080/"
        },
        "id": "pdorPzfN8FwL",
        "outputId": "a30b3f46-8d78-4180-aa12-3ec6e62589bd"
      },
      "execution_count": null,
      "outputs": [
        {
          "output_type": "stream",
          "name": "stdout",
          "text": [
            "Augmenting frames in: /content/drive/MyDrive/HACER_frames/117_3\n",
            "Augmenting frames in: /content/drive/MyDrive/HACER_frames/137_0\n",
            "Augmenting frames in: /content/drive/MyDrive/HACER_frames/209_0\n",
            "Augmenting frames in: /content/drive/MyDrive/HACER_frames/409_0\n",
            "Augmenting frames in: /content/drive/MyDrive/HACER_frames/148_2\n",
            "Augmenting frames in: /content/drive/MyDrive/HACER_frames/312_3\n",
            "Augmenting frames in: /content/drive/MyDrive/HACER_frames/22_1\n",
            "Augmenting frames in: /content/drive/MyDrive/HACER_frames/314_3\n",
            "Augmenting frames in: /content/drive/MyDrive/HACER_frames/46_2\n",
            "Augmenting frames in: /content/drive/MyDrive/HACER_frames/398_4\n",
            "Augmenting frames in: /content/drive/MyDrive/HACER_frames/284_0\n",
            "Augmenting frames in: /content/drive/MyDrive/HACER_frames/204_4\n",
            "Augmenting frames in: /content/drive/MyDrive/HACER_frames/182_2\n",
            "Augmenting frames in: /content/drive/MyDrive/HACER_frames/395_4\n",
            "Augmenting frames in: /content/drive/MyDrive/HACER_frames/57_3\n",
            "Augmenting frames in: /content/drive/MyDrive/HACER_frames/172_0\n",
            "Augmenting frames in: /content/drive/MyDrive/HACER_frames/126_4\n",
            "Augmenting frames in: /content/drive/MyDrive/HACER_frames/401_4\n",
            "Augmenting frames in: /content/drive/MyDrive/HACER_frames/24_1\n",
            "Augmenting frames in: /content/drive/MyDrive/HACER_frames/17_1\n",
            "Augmenting frames in: /content/drive/MyDrive/HACER_frames/66_4\n",
            "Augmenting frames in: /content/drive/MyDrive/HACER_frames/157_3\n",
            "Augmenting frames in: /content/drive/MyDrive/HACER_frames/86_0\n",
            "Augmenting frames in: /content/drive/MyDrive/HACER_frames/31_2\n",
            "Augmenting frames in: /content/drive/MyDrive/HACER_frames/84_0\n",
            "Augmenting frames in: /content/drive/MyDrive/HACER_frames/468_3\n",
            "Augmenting frames in: /content/drive/MyDrive/HACER_frames/376_3\n",
            "Augmenting frames in: /content/drive/MyDrive/HACER_frames/176_2\n",
            "Augmenting frames in: /content/drive/MyDrive/HACER_frames/426_3\n",
            "Augmenting frames in: /content/drive/MyDrive/HACER_frames/457_2\n",
            "Augmenting frames in: /content/drive/MyDrive/HACER_frames/94_2\n",
            "Augmenting frames in: /content/drive/MyDrive/HACER_frames/265_4\n",
            "Augmenting frames in: /content/drive/MyDrive/HACER_frames/347_4\n",
            "Augmenting frames in: /content/drive/MyDrive/HACER_frames/411_0\n",
            "Augmenting frames in: /content/drive/MyDrive/HACER_frames/414_0\n",
            "Augmenting frames in: /content/drive/MyDrive/HACER_frames/244_3\n",
            "Augmenting frames in: /content/drive/MyDrive/HACER_frames/432_3\n",
            "Augmenting frames in: /content/drive/MyDrive/HACER_frames/307_2\n",
            "Augmenting frames in: /content/drive/MyDrive/HACER_frames/5_0\n",
            "Augmenting frames in: /content/drive/MyDrive/HACER_frames/116_3\n",
            "Augmenting frames in: /content/drive/MyDrive/HACER_frames/45_2\n",
            "Augmenting frames in: /content/drive/MyDrive/HACER_frames/16_1\n",
            "Augmenting frames in: /content/drive/MyDrive/HACER_frames/442_0\n",
            "Augmenting frames in: /content/drive/MyDrive/HACER_frames/367_2\n",
            "Augmenting frames in: /content/drive/MyDrive/HACER_frames/3_0\n",
            "Augmenting frames in: /content/drive/MyDrive/HACER_frames/291_2\n",
            "Augmenting frames in: /content/drive/MyDrive/HACER_frames/60_3\n",
            "Augmenting frames in: /content/drive/MyDrive/HACER_frames/110_3\n",
            "Augmenting frames in: /content/drive/MyDrive/HACER_frames/429_3\n",
            "Augmenting frames in: /content/drive/MyDrive/HACER_frames/245_3\n",
            "Augmenting frames in: /content/drive/MyDrive/HACER_frames/29_2\n",
            "Augmenting frames in: /content/drive/MyDrive/HACER_frames/294_2\n",
            "Augmenting frames in: /content/drive/MyDrive/HACER_frames/465_2\n",
            "Augmenting frames in: /content/drive/MyDrive/HACER_frames/26_1\n",
            "Augmenting frames in: /content/drive/MyDrive/HACER_frames/7_0\n",
            "Augmenting frames in: /content/drive/MyDrive/HACER_frames/477_3\n",
            "Augmenting frames in: /content/drive/MyDrive/HACER_frames/108_3\n",
            "Augmenting frames in: /content/drive/MyDrive/HACER_frames/255_3\n",
            "Augmenting frames in: /content/drive/MyDrive/HACER_frames/446_0\n",
            "Augmenting frames in: /content/drive/MyDrive/HACER_frames/118_4\n",
            "Augmenting frames in: /content/drive/MyDrive/HACER_frames/114_3\n",
            "Augmenting frames in: /content/drive/MyDrive/HACER_frames/225_2\n",
            "Augmenting frames in: /content/drive/MyDrive/HACER_frames/418_2\n",
            "Augmenting frames in: /content/drive/MyDrive/HACER_frames/144_2\n",
            "Augmenting frames in: /content/drive/MyDrive/HACER_frames/355_0\n",
            "Augmenting frames in: /content/drive/MyDrive/HACER_frames/365_2\n",
            "Augmenting frames in: /content/drive/MyDrive/HACER_frames/175_2\n",
            "Augmenting frames in: /content/drive/MyDrive/HACER_frames/193_3\n",
            "Augmenting frames in: /content/drive/MyDrive/HACER_frames/195_3\n",
            "Augmenting frames in: /content/drive/MyDrive/HACER_frames/427_3\n",
            "Augmenting frames in: /content/drive/MyDrive/HACER_frames/141_0\n",
            "Augmenting frames in: /content/drive/MyDrive/HACER_frames/351_0\n",
            "Augmenting frames in: /content/drive/MyDrive/HACER_frames/67_4\n",
            "Augmenting frames in: /content/drive/MyDrive/HACER_frames/463_2\n",
            "Augmenting frames in: /content/drive/MyDrive/HACER_frames/168_0\n",
            "Augmenting frames in: /content/drive/MyDrive/HACER_frames/361_2\n",
            "Augmenting frames in: /content/drive/MyDrive/HACER_frames/451_0\n",
            "Augmenting frames in: /content/drive/MyDrive/HACER_frames/222_2\n",
            "Augmenting frames in: /content/drive/MyDrive/HACER_frames/109_3\n",
            "Augmenting frames in: /content/drive/MyDrive/HACER_frames/268_4\n",
            "Augmenting frames in: /content/drive/MyDrive/HACER_frames/145_2\n",
            "Augmenting frames in: /content/drive/MyDrive/HACER_frames/247_3\n",
            "Augmenting frames in: /content/drive/MyDrive/HACER_frames/152_3\n",
            "Augmenting frames in: /content/drive/MyDrive/HACER_frames/250_3\n",
            "Augmenting frames in: /content/drive/MyDrive/HACER_frames/208_0\n",
            "Augmenting frames in: /content/drive/MyDrive/HACER_frames/83_0\n",
            "Augmenting frames in: /content/drive/MyDrive/HACER_frames/325_3\n",
            "Augmenting frames in: /content/drive/MyDrive/HACER_frames/165_4\n",
            "Augmenting frames in: /content/drive/MyDrive/HACER_frames/444_0\n",
            "Augmenting frames in: /content/drive/MyDrive/HACER_frames/334_4\n",
            "Augmenting frames in: /content/drive/MyDrive/HACER_frames/74_4\n",
            "Augmenting frames in: /content/drive/MyDrive/HACER_frames/445_0\n",
            "Augmenting frames in: /content/drive/MyDrive/HACER_frames/192_3\n",
            "Augmenting frames in: /content/drive/MyDrive/HACER_frames/342_4\n",
            "Augmenting frames in: /content/drive/MyDrive/HACER_frames/119_4\n",
            "Augmenting frames in: /content/drive/MyDrive/HACER_frames/390_3\n",
            "Augmenting frames in: /content/drive/MyDrive/HACER_frames/287_0\n",
            "Augmenting frames in: /content/drive/MyDrive/HACER_frames/301_2\n",
            "Augmenting frames in: /content/drive/MyDrive/HACER_frames/340_4\n",
            "Augmenting frames in: /content/drive/MyDrive/HACER_frames/203_4\n",
            "Augmenting frames in: /content/drive/MyDrive/HACER_frames/231_2\n",
            "Augmenting frames in: /content/drive/MyDrive/HACER_frames/415_2\n",
            "Augmenting frames in: /content/drive/MyDrive/HACER_frames/368_2\n",
            "Augmenting frames in: /content/drive/MyDrive/HACER_frames/262_4\n",
            "Augmenting frames in: /content/drive/MyDrive/HACER_frames/36_2\n",
            "Augmenting frames in: /content/drive/MyDrive/HACER_frames/196_3\n",
            "Augmenting frames in: /content/drive/MyDrive/HACER_frames/139_0\n",
            "Augmenting frames in: /content/drive/MyDrive/HACER_frames/392_4\n",
            "Augmenting frames in: /content/drive/MyDrive/HACER_frames/220_2\n",
            "Augmenting frames in: /content/drive/MyDrive/HACER_frames/424_2\n",
            "Augmenting frames in: /content/drive/MyDrive/HACER_frames/274_4\n",
            "Augmenting frames in: /content/drive/MyDrive/HACER_frames/59_3\n",
            "Augmenting frames in: /content/drive/MyDrive/HACER_frames/111_3\n",
            "Augmenting frames in: /content/drive/MyDrive/HACER_frames/289_2\n",
            "Augmenting frames in: /content/drive/MyDrive/HACER_frames/406_4\n",
            "Augmenting frames in: /content/drive/MyDrive/HACER_frames/6_0\n",
            "Augmenting frames in: /content/drive/MyDrive/HACER_frames/346_4\n",
            "Augmenting frames in: /content/drive/MyDrive/HACER_frames/332_4\n",
            "Augmenting frames in: /content/drive/MyDrive/HACER_frames/158_3\n",
            "Augmenting frames in: /content/drive/MyDrive/HACER_frames/150_3\n",
            "Augmenting frames in: /content/drive/MyDrive/HACER_frames/177_2\n",
            "Augmenting frames in: /content/drive/MyDrive/HACER_frames/378_3\n",
            "Augmenting frames in: /content/drive/MyDrive/HACER_frames/184_2\n",
            "Augmenting frames in: /content/drive/MyDrive/HACER_frames/10_1\n",
            "Augmenting frames in: /content/drive/MyDrive/HACER_frames/381_3\n",
            "Augmenting frames in: /content/drive/MyDrive/HACER_frames/103_2\n",
            "Augmenting frames in: /content/drive/MyDrive/HACER_frames/81_0\n",
            "Augmenting frames in: /content/drive/MyDrive/HACER_frames/38_2\n",
            "Augmenting frames in: /content/drive/MyDrive/HACER_frames/302_2\n",
            "Augmenting frames in: /content/drive/MyDrive/HACER_frames/167_0\n",
            "Augmenting frames in: /content/drive/MyDrive/HACER_frames/448_0\n",
            "Augmenting frames in: /content/drive/MyDrive/HACER_frames/281_0\n",
            "Augmenting frames in: /content/drive/MyDrive/HACER_frames/198_3\n",
            "Augmenting frames in: /content/drive/MyDrive/HACER_frames/391_3\n",
            "Augmenting frames in: /content/drive/MyDrive/HACER_frames/237_2\n",
            "Augmenting frames in: /content/drive/MyDrive/HACER_frames/234_2\n",
            "Augmenting frames in: /content/drive/MyDrive/HACER_frames/194_3\n",
            "Augmenting frames in: /content/drive/MyDrive/HACER_frames/89_2\n",
            "Augmenting frames in: /content/drive/MyDrive/HACER_frames/146_2\n",
            "Augmenting frames in: /content/drive/MyDrive/HACER_frames/163_4\n",
            "Augmenting frames in: /content/drive/MyDrive/HACER_frames/421_2\n",
            "Augmenting frames in: /content/drive/MyDrive/HACER_frames/147_2\n",
            "Augmenting frames in: /content/drive/MyDrive/HACER_frames/2_0\n",
            "Augmenting frames in: /content/drive/MyDrive/HACER_frames/92_2\n",
            "Augmenting frames in: /content/drive/MyDrive/HACER_frames/384_3\n",
            "Augmenting frames in: /content/drive/MyDrive/HACER_frames/69_4\n",
            "Augmenting frames in: /content/drive/MyDrive/HACER_frames/275_4\n",
            "Augmenting frames in: /content/drive/MyDrive/HACER_frames/123_4\n",
            "Augmenting frames in: /content/drive/MyDrive/HACER_frames/354_0\n",
            "Augmenting frames in: /content/drive/MyDrive/HACER_frames/96_2\n",
            "Augmenting frames in: /content/drive/MyDrive/HACER_frames/143_2\n",
            "Augmenting frames in: /content/drive/MyDrive/HACER_frames/239_2\n",
            "Augmenting frames in: /content/drive/MyDrive/HACER_frames/434_4\n",
            "Augmenting frames in: /content/drive/MyDrive/HACER_frames/370_2\n",
            "Augmenting frames in: /content/drive/MyDrive/HACER_frames/261_3\n",
            "Augmenting frames in: /content/drive/MyDrive/HACER_frames/97_2\n",
            "Augmenting frames in: /content/drive/MyDrive/HACER_frames/296_2\n",
            "Augmenting frames in: /content/drive/MyDrive/HACER_frames/68_4\n",
            "Augmenting frames in: /content/drive/MyDrive/HACER_frames/23_1\n",
            "Augmenting frames in: /content/drive/MyDrive/HACER_frames/37_2\n",
            "Augmenting frames in: /content/drive/MyDrive/HACER_frames/336_4\n",
            "Augmenting frames in: /content/drive/MyDrive/HACER_frames/122_4\n",
            "Augmenting frames in: /content/drive/MyDrive/HACER_frames/183_2\n",
            "Augmenting frames in: /content/drive/MyDrive/HACER_frames/202_3\n",
            "Augmenting frames in: /content/drive/MyDrive/HACER_frames/246_3\n",
            "Augmenting frames in: /content/drive/MyDrive/HACER_frames/453_0\n",
            "Augmenting frames in: /content/drive/MyDrive/HACER_frames/286_0\n",
            "Augmenting frames in: /content/drive/MyDrive/HACER_frames/382_3\n",
            "Augmenting frames in: /content/drive/MyDrive/HACER_frames/360_2\n",
            "Augmenting frames in: /content/drive/MyDrive/HACER_frames/380_3\n",
            "Augmenting frames in: /content/drive/MyDrive/HACER_frames/272_4\n",
            "Augmenting frames in: /content/drive/MyDrive/HACER_frames/125_4\n",
            "Augmenting frames in: /content/drive/MyDrive/HACER_frames/290_2\n",
            "Augmenting frames in: /content/drive/MyDrive/HACER_frames/223_2\n",
            "Augmenting frames in: /content/drive/MyDrive/HACER_frames/402_4\n",
            "Augmenting frames in: /content/drive/MyDrive/HACER_frames/219_0\n",
            "Augmenting frames in: /content/drive/MyDrive/HACER_frames/129_4\n",
            "Augmenting frames in: /content/drive/MyDrive/HACER_frames/404_4\n",
            "Augmenting frames in: /content/drive/MyDrive/HACER_frames/277_0\n",
            "Augmenting frames in: /content/drive/MyDrive/HACER_frames/316_3\n",
            "Augmenting frames in: /content/drive/MyDrive/HACER_frames/362_2\n",
            "Augmenting frames in: /content/drive/MyDrive/HACER_frames/379_3\n",
            "Augmenting frames in: /content/drive/MyDrive/HACER_frames/341_4\n",
            "Augmenting frames in: /content/drive/MyDrive/HACER_frames/298_2\n",
            "Augmenting frames in: /content/drive/MyDrive/HACER_frames/352_0\n",
            "Augmenting frames in: /content/drive/MyDrive/HACER_frames/353_0\n",
            "Augmenting frames in: /content/drive/MyDrive/HACER_frames/112_3\n",
            "Augmenting frames in: /content/drive/MyDrive/HACER_frames/179_2\n",
            "Augmenting frames in: /content/drive/MyDrive/HACER_frames/386_3\n",
            "Augmenting frames in: /content/drive/MyDrive/HACER_frames/369_2\n",
            "Augmenting frames in: /content/drive/MyDrive/HACER_frames/317_3\n",
            "Augmenting frames in: /content/drive/MyDrive/HACER_frames/460_2\n",
            "Augmenting frames in: /content/drive/MyDrive/HACER_frames/417_2\n",
            "Augmenting frames in: /content/drive/MyDrive/HACER_frames/233_2\n",
            "Augmenting frames in: /content/drive/MyDrive/HACER_frames/299_2\n",
            "Augmenting frames in: /content/drive/MyDrive/HACER_frames/164_4\n",
            "Augmenting frames in: /content/drive/MyDrive/HACER_frames/136_0\n",
            "Augmenting frames in: /content/drive/MyDrive/HACER_frames/197_3\n",
            "Augmenting frames in: /content/drive/MyDrive/HACER_frames/258_3\n",
            "Augmenting frames in: /content/drive/MyDrive/HACER_frames/232_2\n",
            "Augmenting frames in: /content/drive/MyDrive/HACER_frames/115_3\n",
            "Augmenting frames in: /content/drive/MyDrive/HACER_frames/120_4\n",
            "Augmenting frames in: /content/drive/MyDrive/HACER_frames/335_4\n",
            "Augmenting frames in: /content/drive/MyDrive/HACER_frames/224_2\n",
            "Augmenting frames in: /content/drive/MyDrive/HACER_frames/405_4\n",
            "Augmenting frames in: /content/drive/MyDrive/HACER_frames/324_3\n",
            "Augmenting frames in: /content/drive/MyDrive/HACER_frames/127_4\n",
            "Augmenting frames in: /content/drive/MyDrive/HACER_frames/285_0\n",
            "Augmenting frames in: /content/drive/MyDrive/HACER_frames/396_4\n",
            "Augmenting frames in: /content/drive/MyDrive/HACER_frames/107_3\n",
            "Augmenting frames in: /content/drive/MyDrive/HACER_frames/356_0\n",
            "Augmenting frames in: /content/drive/MyDrive/HACER_frames/447_0\n",
            "Augmenting frames in: /content/drive/MyDrive/HACER_frames/133_4\n",
            "Augmenting frames in: /content/drive/MyDrive/HACER_frames/349_0\n",
            "Augmenting frames in: /content/drive/MyDrive/HACER_frames/44_2\n",
            "Augmenting frames in: /content/drive/MyDrive/HACER_frames/440_4\n",
            "Augmenting frames in: /content/drive/MyDrive/HACER_frames/65_3\n",
            "Augmenting frames in: /content/drive/MyDrive/HACER_frames/283_0\n",
            "Augmenting frames in: /content/drive/MyDrive/HACER_frames/85_0\n",
            "Augmenting frames in: /content/drive/MyDrive/HACER_frames/242_3\n",
            "Augmenting frames in: /content/drive/MyDrive/HACER_frames/186_3\n",
            "Augmenting frames in: /content/drive/MyDrive/HACER_frames/159_3\n",
            "Augmenting frames in: /content/drive/MyDrive/HACER_frames/12_1\n",
            "Augmenting frames in: /content/drive/MyDrive/HACER_frames/35_2\n",
            "Augmenting frames in: /content/drive/MyDrive/HACER_frames/28_2\n",
            "Augmenting frames in: /content/drive/MyDrive/HACER_frames/170_0\n",
            "Augmenting frames in: /content/drive/MyDrive/HACER_frames/142_2\n",
            "Augmenting frames in: /content/drive/MyDrive/HACER_frames/383_3\n",
            "Augmenting frames in: /content/drive/MyDrive/HACER_frames/329_3\n",
            "Augmenting frames in: /content/drive/MyDrive/HACER_frames/221_2\n",
            "Augmenting frames in: /content/drive/MyDrive/HACER_frames/95_2\n",
            "Augmenting frames in: /content/drive/MyDrive/HACER_frames/51_3\n",
            "Augmenting frames in: /content/drive/MyDrive/HACER_frames/240_3\n",
            "Augmenting frames in: /content/drive/MyDrive/HACER_frames/358_0\n",
            "Augmenting frames in: /content/drive/MyDrive/HACER_frames/364_2\n",
            "Augmenting frames in: /content/drive/MyDrive/HACER_frames/178_2\n",
            "Augmenting frames in: /content/drive/MyDrive/HACER_frames/41_2\n",
            "Augmenting frames in: /content/drive/MyDrive/HACER_frames/373_2\n",
            "Augmenting frames in: /content/drive/MyDrive/HACER_frames/206_4\n",
            "Augmenting frames in: /content/drive/MyDrive/HACER_frames/282_0\n",
            "Augmenting frames in: /content/drive/MyDrive/HACER_frames/254_3\n",
            "Augmenting frames in: /content/drive/MyDrive/HACER_frames/397_4\n",
            "Augmenting frames in: /content/drive/MyDrive/HACER_frames/4_0\n",
            "Augmenting frames in: /content/drive/MyDrive/HACER_frames/256_3\n",
            "Augmenting frames in: /content/drive/MyDrive/HACER_frames/430_3\n",
            "Augmenting frames in: /content/drive/MyDrive/HACER_frames/100_2\n",
            "Augmenting frames in: /content/drive/MyDrive/HACER_frames/226_2\n",
            "Augmenting frames in: /content/drive/MyDrive/HACER_frames/410_0\n",
            "Augmenting frames in: /content/drive/MyDrive/HACER_frames/213_0\n",
            "Augmenting frames in: /content/drive/MyDrive/HACER_frames/171_0\n",
            "Augmenting frames in: /content/drive/MyDrive/HACER_frames/98_2\n",
            "Augmenting frames in: /content/drive/MyDrive/HACER_frames/292_2\n",
            "Augmenting frames in: /content/drive/MyDrive/HACER_frames/215_0\n",
            "Augmenting frames in: /content/drive/MyDrive/HACER_frames/61_3\n",
            "Augmenting frames in: /content/drive/MyDrive/HACER_frames/47_2\n",
            "Augmenting frames in: /content/drive/MyDrive/HACER_frames/32_2\n",
            "Augmenting frames in: /content/drive/MyDrive/HACER_frames/267_4\n",
            "Augmenting frames in: /content/drive/MyDrive/HACER_frames/327_3\n",
            "Augmenting frames in: /content/drive/MyDrive/HACER_frames/200_3\n",
            "Augmenting frames in: /content/drive/MyDrive/HACER_frames/428_3\n",
            "Augmenting frames in: /content/drive/MyDrive/HACER_frames/27_1\n",
            "Augmenting frames in: /content/drive/MyDrive/HACER_frames/375_3\n",
            "Augmenting frames in: /content/drive/MyDrive/HACER_frames/230_2\n",
            "Augmenting frames in: /content/drive/MyDrive/HACER_frames/260_3\n",
            "Augmenting frames in: /content/drive/MyDrive/HACER_frames/288_2\n",
            "Augmenting frames in: /content/drive/MyDrive/HACER_frames/162_4\n",
            "Augmenting frames in: /content/drive/MyDrive/HACER_frames/408_0\n",
            "Augmenting frames in: /content/drive/MyDrive/HACER_frames/138_0\n",
            "Augmenting frames in: /content/drive/MyDrive/HACER_frames/62_3\n",
            "Augmenting frames in: /content/drive/MyDrive/HACER_frames/135_0\n",
            "Augmenting frames in: /content/drive/MyDrive/HACER_frames/128_4\n",
            "Augmenting frames in: /content/drive/MyDrive/HACER_frames/455_2\n",
            "Augmenting frames in: /content/drive/MyDrive/HACER_frames/8_0\n",
            "Augmenting frames in: /content/drive/MyDrive/HACER_frames/326_3\n",
            "Augmenting frames in: /content/drive/MyDrive/HACER_frames/450_0\n",
            "Augmenting frames in: /content/drive/MyDrive/HACER_frames/64_3\n",
            "Augmenting frames in: /content/drive/MyDrive/HACER_frames/300_2\n",
            "Augmenting frames in: /content/drive/MyDrive/HACER_frames/14_1\n",
            "Augmenting frames in: /content/drive/MyDrive/HACER_frames/156_3\n",
            "Augmenting frames in: /content/drive/MyDrive/HACER_frames/40_2\n",
            "Augmenting frames in: /content/drive/MyDrive/HACER_frames/439_4\n",
            "Augmenting frames in: /content/drive/MyDrive/HACER_frames/388_3\n",
            "Augmenting frames in: /content/drive/MyDrive/HACER_frames/216_0\n",
            "Augmenting frames in: /content/drive/MyDrive/HACER_frames/279_0\n",
            "Augmenting frames in: /content/drive/MyDrive/HACER_frames/416_2\n",
            "Augmenting frames in: /content/drive/MyDrive/HACER_frames/412_0\n",
            "Augmenting frames in: /content/drive/MyDrive/HACER_frames/337_4\n",
            "Augmenting frames in: /content/drive/MyDrive/HACER_frames/236_2\n",
            "Augmenting frames in: /content/drive/MyDrive/HACER_frames/207_4\n",
            "Augmenting frames in: /content/drive/MyDrive/HACER_frames/212_0\n",
            "Augmenting frames in: /content/drive/MyDrive/HACER_frames/295_2\n",
            "Augmenting frames in: /content/drive/MyDrive/HACER_frames/437_4\n",
            "Augmenting frames in: /content/drive/MyDrive/HACER_frames/251_3\n",
            "Augmenting frames in: /content/drive/MyDrive/HACER_frames/467_3\n",
            "Augmenting frames in: /content/drive/MyDrive/HACER_frames/438_4\n",
            "Augmenting frames in: /content/drive/MyDrive/HACER_frames/303_2\n",
            "Augmenting frames in: /content/drive/MyDrive/HACER_frames/350_0\n",
            "Augmenting frames in: /content/drive/MyDrive/HACER_frames/269_4\n",
            "Augmenting frames in: /content/drive/MyDrive/HACER_frames/201_3\n",
            "Augmenting frames in: /content/drive/MyDrive/HACER_frames/161_4\n",
            "Augmenting frames in: /content/drive/MyDrive/HACER_frames/43_2\n",
            "Augmenting frames in: /content/drive/MyDrive/HACER_frames/217_0\n",
            "Augmenting frames in: /content/drive/MyDrive/HACER_frames/190_3\n",
            "Augmenting frames in: /content/drive/MyDrive/HACER_frames/309_2\n",
            "Augmenting frames in: /content/drive/MyDrive/HACER_frames/259_3\n",
            "Augmenting frames in: /content/drive/MyDrive/HACER_frames/105_3\n",
            "Augmenting frames in: /content/drive/MyDrive/HACER_frames/53_3\n",
            "Augmenting frames in: /content/drive/MyDrive/HACER_frames/389_3\n",
            "Augmenting frames in: /content/drive/MyDrive/HACER_frames/1_0\n",
            "Augmenting frames in: /content/drive/MyDrive/HACER_frames/423_2\n",
            "Augmenting frames in: /content/drive/MyDrive/HACER_frames/461_2\n",
            "Augmenting frames in: /content/drive/MyDrive/HACER_frames/49_3\n",
            "Augmenting frames in: /content/drive/MyDrive/HACER_frames/80_0\n",
            "Augmenting frames in: /content/drive/MyDrive/HACER_frames/205_4\n",
            "Augmenting frames in: /content/drive/MyDrive/HACER_frames/34_2\n",
            "Augmenting frames in: /content/drive/MyDrive/HACER_frames/263_4\n",
            "Augmenting frames in: /content/drive/MyDrive/HACER_frames/366_2\n",
            "Augmenting frames in: /content/drive/MyDrive/HACER_frames/91_2\n",
            "Augmenting frames in: /content/drive/MyDrive/HACER_frames/339_4\n",
            "Augmenting frames in: /content/drive/MyDrive/HACER_frames/452_0\n",
            "Augmenting frames in: /content/drive/MyDrive/HACER_frames/52_3\n",
            "Augmenting frames in: /content/drive/MyDrive/HACER_frames/345_4\n",
            "Augmenting frames in: /content/drive/MyDrive/HACER_frames/264_4\n",
            "Augmenting frames in: /content/drive/MyDrive/HACER_frames/241_3\n",
            "Augmenting frames in: /content/drive/MyDrive/HACER_frames/13_1\n",
            "Augmenting frames in: /content/drive/MyDrive/HACER_frames/315_3\n",
            "Augmenting frames in: /content/drive/MyDrive/HACER_frames/88_2\n",
            "Augmenting frames in: /content/drive/MyDrive/HACER_frames/387_3\n",
            "Augmenting frames in: /content/drive/MyDrive/HACER_frames/273_4\n",
            "Augmenting frames in: /content/drive/MyDrive/HACER_frames/166_0\n",
            "Augmenting frames in: /content/drive/MyDrive/HACER_frames/328_3\n",
            "Augmenting frames in: /content/drive/MyDrive/HACER_frames/471_3\n",
            "Augmenting frames in: /content/drive/MyDrive/HACER_frames/134_0\n",
            "Augmenting frames in: /content/drive/MyDrive/HACER_frames/306_2\n",
            "Augmenting frames in: /content/drive/MyDrive/HACER_frames/459_2\n",
            "Augmenting frames in: /content/drive/MyDrive/HACER_frames/319_3\n",
            "Augmenting frames in: /content/drive/MyDrive/HACER_frames/243_3\n",
            "Augmenting frames in: /content/drive/MyDrive/HACER_frames/54_3\n",
            "Augmenting frames in: /content/drive/MyDrive/HACER_frames/363_2\n",
            "Augmenting frames in: /content/drive/MyDrive/HACER_frames/50_3\n",
            "Augmenting frames in: /content/drive/MyDrive/HACER_frames/174_0\n",
            "Augmenting frames in: /content/drive/MyDrive/HACER_frames/189_3\n",
            "Augmenting frames in: /content/drive/MyDrive/HACER_frames/475_3\n",
            "Augmenting frames in: /content/drive/MyDrive/HACER_frames/187_3\n",
            "Augmenting frames in: /content/drive/MyDrive/HACER_frames/169_0\n",
            "Augmenting frames in: /content/drive/MyDrive/HACER_frames/58_3\n",
            "Augmenting frames in: /content/drive/MyDrive/HACER_frames/48_2\n",
            "Augmenting frames in: /content/drive/MyDrive/HACER_frames/344_4\n",
            "Augmenting frames in: /content/drive/MyDrive/HACER_frames/235_2\n",
            "Augmenting frames in: /content/drive/MyDrive/HACER_frames/252_3\n",
            "Augmenting frames in: /content/drive/MyDrive/HACER_frames/21_1\n",
            "Augmenting frames in: /content/drive/MyDrive/HACER_frames/313_3\n",
            "Augmenting frames in: /content/drive/MyDrive/HACER_frames/160_4\n",
            "Augmenting frames in: /content/drive/MyDrive/HACER_frames/276_0\n",
            "Augmenting frames in: /content/drive/MyDrive/HACER_frames/443_0\n",
            "Augmenting frames in: /content/drive/MyDrive/HACER_frames/191_3\n",
            "Augmenting frames in: /content/drive/MyDrive/HACER_frames/385_3\n",
            "Augmenting frames in: /content/drive/MyDrive/HACER_frames/293_2\n",
            "Augmenting frames in: /content/drive/MyDrive/HACER_frames/413_0\n",
            "Augmenting frames in: /content/drive/MyDrive/HACER_frames/343_4\n",
            "Augmenting frames in: /content/drive/MyDrive/HACER_frames/257_3\n",
            "Augmenting frames in: /content/drive/MyDrive/HACER_frames/308_2\n",
            "Augmenting frames in: /content/drive/MyDrive/HACER_frames/149_2\n",
            "Augmenting frames in: /content/drive/MyDrive/HACER_frames/130_4\n",
            "Augmenting frames in: /content/drive/MyDrive/HACER_frames/151_3\n",
            "Augmenting frames in: /content/drive/MyDrive/HACER_frames/359_0\n",
            "Augmenting frames in: /content/drive/MyDrive/HACER_frames/99_2\n",
            "Augmenting frames in: /content/drive/MyDrive/HACER_frames/372_2\n",
            "Augmenting frames in: /content/drive/MyDrive/HACER_frames/87_0\n",
            "Augmenting frames in: /content/drive/MyDrive/HACER_frames/458_2\n",
            "Augmenting frames in: /content/drive/MyDrive/HACER_frames/330_3\n",
            "Augmenting frames in: /content/drive/MyDrive/HACER_frames/214_0\n",
            "Augmenting frames in: /content/drive/MyDrive/HACER_frames/466_2\n",
            "Augmenting frames in: /content/drive/MyDrive/HACER_frames/121_4\n",
            "Augmenting frames in: /content/drive/MyDrive/HACER_frames/478_3\n",
            "Augmenting frames in: /content/drive/MyDrive/HACER_frames/20_1\n",
            "Augmenting frames in: /content/drive/MyDrive/HACER_frames/188_3\n",
            "Augmenting frames in: /content/drive/MyDrive/HACER_frames/71_4\n",
            "Augmenting frames in: /content/drive/MyDrive/HACER_frames/106_3\n",
            "Augmenting frames in: /content/drive/MyDrive/HACER_frames/270_4\n",
            "Augmenting frames in: /content/drive/MyDrive/HACER_frames/348_0\n",
            "Augmenting frames in: /content/drive/MyDrive/HACER_frames/435_4\n",
            "Augmenting frames in: /content/drive/MyDrive/HACER_frames/102_2\n",
            "Data augmentation complete. Augmented frames saved.\n"
          ]
        }
      ]
    },
    {
      "cell_type": "code",
      "source": [
        "# Step 3: Feature Extraction using CNN (3 Done)\n",
        "# Paths\n",
        "AUGMENTED_FRAME_DIR = '/content/augmented_frames/'  # Directory with augmented frames\n",
        "FEATURES_DIR = '/content/features/'  # Directory to save extracted features\n",
        "os.makedirs(FEATURES_DIR, exist_ok=True)"
      ],
      "metadata": {
        "id": "Q6Ul1NC59e6o"
      },
      "execution_count": null,
      "outputs": []
    },
    {
      "cell_type": "code",
      "source": [
        "# Load the pre-trained CNN (ResNet50)\n",
        "base_model = ResNet50(weights='imagenet', include_top=False, input_shape=(224, 224, 3))\n",
        "model = Model(inputs=base_model.input, outputs=base_model.output)\n",
        "print(\"ResNet50 model loaded.\")"
      ],
      "metadata": {
        "colab": {
          "base_uri": "https://localhost:8080/"
        },
        "id": "dN1xDSK89psH",
        "outputId": "7c3809c3-0839-4641-a89b-135ddf6955e0"
      },
      "execution_count": null,
      "outputs": [
        {
          "output_type": "stream",
          "name": "stdout",
          "text": [
            "Downloading data from https://storage.googleapis.com/tensorflow/keras-applications/resnet/resnet50_weights_tf_dim_ordering_tf_kernels_notop.h5\n",
            "\u001b[1m94765736/94765736\u001b[0m \u001b[32m━━━━━━━━━━━━━━━━━━━━\u001b[0m\u001b[37m\u001b[0m \u001b[1m1s\u001b[0m 0us/step\n",
            "ResNet50 model loaded.\n"
          ]
        }
      ]
    },
    {
      "cell_type": "code",
      "source": [
        "# Function to extract features for a video\n",
        "def extract_features_from_video(video_dir, save_path):\n",
        "    frame_files = sorted([os.path.join(video_dir, f) for f in os.listdir(video_dir) if f.endswith('.jpg')])\n",
        "    print(f\"Extracting features from video: {video_dir}\")\n",
        "    features_list = []\n",
        "    for frame_file in frame_files:\n",
        "        frame = cv2.imread(frame_file)\n",
        "        frame = cv2.cvtColor(frame, cv2.COLOR_BGR2RGB)\n",
        "        frame = cv2.resize(frame, (224, 224))\n",
        "        frame = preprocess_input(np.expand_dims(frame, axis=0))  # Preprocess for ResNet50\n",
        "        features = model.predict(frame)\n",
        "        features_list.append(features.squeeze())\n",
        "    # Save the features for the video\n",
        "    np.save(save_path, np.array(features_list))\n",
        "    print(f\"Features saved at: {save_path}\")"
      ],
      "metadata": {
        "id": "I50JsBHt9r87"
      },
      "execution_count": null,
      "outputs": []
    },
    {
      "cell_type": "code",
      "source": [
        "# Extract features for all augmented videos\n",
        "video_folders = [os.path.join(AUGMENTED_FRAME_DIR, f) for f in os.listdir(AUGMENTED_FRAME_DIR)]\n",
        "for video_folder in video_folders:\n",
        "    video_id = os.path.basename(video_folder)\n",
        "    save_path = os.path.join(FEATURES_DIR, f\"{video_id}_features.npy\")\n",
        "    extract_features_from_video(video_folder, save_path)\n",
        "\n",
        "print(\"Feature extraction complete. Features saved in:\", FEATURES_DIR)"
      ],
      "metadata": {
        "colab": {
          "base_uri": "https://localhost:8080/"
        },
        "id": "0jIPg2PC9r-l",
        "outputId": "c11d8b87-ffeb-4a3d-b4a2-5359ce82b3f3"
      },
      "execution_count": null,
      "outputs": [
        {
          "output_type": "stream",
          "name": "stdout",
          "text": [
            "Extracting features from video: /content/augmented_frames/330_3\n",
            "Features saved at: /content/features/330_3_features.npy\n",
            "Extracting features from video: /content/augmented_frames/33_0\n",
            "Features saved at: /content/features/33_0_features.npy\n",
            "Extracting features from video: /content/augmented_frames/294_4\n",
            "Features saved at: /content/features/294_4_features.npy\n",
            "Extracting features from video: /content/augmented_frames/200_3\n",
            "Features saved at: /content/features/200_3_features.npy\n",
            "Extracting features from video: /content/augmented_frames/245_2\n",
            "Features saved at: /content/features/245_2_features.npy\n",
            "Extracting features from video: /content/augmented_frames/309_2\n",
            "Features saved at: /content/features/309_2_features.npy\n",
            "Extracting features from video: /content/augmented_frames/300_2\n",
            "Features saved at: /content/features/300_2_features.npy\n",
            "Extracting features from video: /content/augmented_frames/77_2\n",
            "Features saved at: /content/features/77_2_features.npy\n",
            "Extracting features from video: /content/augmented_frames/110_4\n",
            "Features saved at: /content/features/110_4_features.npy\n",
            "Extracting features from video: /content/augmented_frames/178_0\n",
            "Features saved at: /content/features/178_0_features.npy\n",
            "Extracting features from video: /content/augmented_frames/288_4\n",
            "Features saved at: /content/features/288_4_features.npy\n",
            "Extracting features from video: /content/augmented_frames/229_2\n",
            "Features saved at: /content/features/229_2_features.npy\n",
            "Extracting features from video: /content/augmented_frames/280_4\n",
            "Features saved at: /content/features/280_4_features.npy\n",
            "Extracting features from video: /content/augmented_frames/223_2\n",
            "Features saved at: /content/features/223_2_features.npy\n",
            "Extracting features from video: /content/augmented_frames/136_3\n",
            "Features saved at: /content/features/136_3_features.npy\n",
            "Extracting features from video: /content/augmented_frames/40_2\n",
            "Features saved at: /content/features/40_2_features.npy\n",
            "Extracting features from video: /content/augmented_frames/64_0\n",
            "Features saved at: /content/features/64_0_features.npy\n",
            "Extracting features from video: /content/augmented_frames/226_2\n",
            "Features saved at: /content/features/226_2_features.npy\n",
            "Extracting features from video: /content/augmented_frames/273_3\n",
            "Features saved at: /content/features/273_3_features.npy\n",
            "Extracting features from video: /content/augmented_frames/133_3\n",
            "Features saved at: /content/features/133_3_features.npy\n",
            "Extracting features from video: /content/augmented_frames/96_0\n",
            "Features saved at: /content/features/96_0_features.npy\n",
            "Extracting features from video: /content/augmented_frames/127_2\n",
            "Features saved at: /content/features/127_2_features.npy\n",
            "Extracting features from video: /content/augmented_frames/337_3\n",
            "Features saved at: /content/features/337_3_features.npy\n",
            "Extracting features from video: /content/augmented_frames/196_0\n",
            "Features saved at: /content/features/196_0_features.npy\n",
            "Extracting features from video: /content/augmented_frames/284_2\n",
            "Features saved at: /content/features/284_2_features.npy\n",
            "Extracting features from video: /content/augmented_frames/2_0\n",
            "Features saved at: /content/features/2_0_features.npy\n",
            "Extracting features from video: /content/augmented_frames/340_0\n",
            "Features saved at: /content/features/340_0_features.npy\n",
            "Extracting features from video: /content/augmented_frames/24_0\n",
            "Features saved at: /content/features/24_0_features.npy\n",
            "Extracting features from video: /content/augmented_frames/31_4\n",
            "Features saved at: /content/features/31_4_features.npy\n",
            "Extracting features from video: /content/augmented_frames/320_3\n",
            "Features saved at: /content/features/320_3_features.npy\n",
            "Extracting features from video: /content/augmented_frames/36_3\n",
            "Features saved at: /content/features/36_3_features.npy\n",
            "Extracting features from video: /content/augmented_frames/93_4\n",
            "Features saved at: /content/features/93_4_features.npy\n",
            "Extracting features from video: /content/augmented_frames/342_3\n",
            "Features saved at: /content/features/342_3_features.npy\n",
            "Extracting features from video: /content/augmented_frames/353_0\n",
            "Features saved at: /content/features/353_0_features.npy\n",
            "Extracting features from video: /content/augmented_frames/113_2\n",
            "Features saved at: /content/features/113_2_features.npy\n",
            "Extracting features from video: /content/augmented_frames/159_2\n",
            "Features saved at: /content/features/159_2_features.npy\n",
            "Extracting features from video: /content/augmented_frames/79_4\n",
            "Features saved at: /content/features/79_4_features.npy\n",
            "Extracting features from video: /content/augmented_frames/344_0\n",
            "Features saved at: /content/features/344_0_features.npy\n",
            "Extracting features from video: /content/augmented_frames/227_3\n",
            "Features saved at: /content/features/227_3_features.npy\n",
            "Extracting features from video: /content/augmented_frames/378_3\n",
            "Features saved at: /content/features/378_3_features.npy\n",
            "Extracting features from video: /content/augmented_frames/81_3\n",
            "Features saved at: /content/features/81_3_features.npy\n",
            "Extracting features from video: /content/augmented_frames/301_0\n",
            "Features saved at: /content/features/301_0_features.npy\n",
            "Extracting features from video: /content/augmented_frames/16_4\n",
            "Features saved at: /content/features/16_4_features.npy\n",
            "Extracting features from video: /content/augmented_frames/179_3\n",
            "Features saved at: /content/features/179_3_features.npy\n",
            "Extracting features from video: /content/augmented_frames/28_3\n",
            "Features saved at: /content/features/28_3_features.npy\n",
            "Extracting features from video: /content/augmented_frames/42_0\n",
            "Features saved at: /content/features/42_0_features.npy\n",
            "Extracting features from video: /content/augmented_frames/120_2\n",
            "Features saved at: /content/features/120_2_features.npy\n",
            "Extracting features from video: /content/augmented_frames/107_4\n",
            "Features saved at: /content/features/107_4_features.npy\n",
            "Extracting features from video: /content/augmented_frames/212_4\n",
            "Features saved at: /content/features/212_4_features.npy\n",
            "Extracting features from video: /content/augmented_frames/174_4\n",
            "Features saved at: /content/features/174_4_features.npy\n",
            "Extracting features from video: /content/augmented_frames/230_2\n",
            "Features saved at: /content/features/230_2_features.npy\n",
            "Extracting features from video: /content/augmented_frames/185_0\n",
            "Features saved at: /content/features/185_0_features.npy\n",
            "Extracting features from video: /content/augmented_frames/259_3\n",
            "Features saved at: /content/features/259_3_features.npy\n",
            "Extracting features from video: /content/augmented_frames/232_3\n",
            "Features saved at: /content/features/232_3_features.npy\n",
            "Extracting features from video: /content/augmented_frames/363_4\n",
            "Features saved at: /content/features/363_4_features.npy\n",
            "Extracting features from video: /content/augmented_frames/222_1\n",
            "Features saved at: /content/features/222_1_features.npy\n",
            "Extracting features from video: /content/augmented_frames/160_4\n",
            "Features saved at: /content/features/160_4_features.npy\n",
            "Extracting features from video: /content/augmented_frames/292_3\n",
            "Features saved at: /content/features/292_3_features.npy\n",
            "Extracting features from video: /content/augmented_frames/203_2\n",
            "Features saved at: /content/features/203_2_features.npy\n",
            "Extracting features from video: /content/augmented_frames/335_3\n",
            "Features saved at: /content/features/335_3_features.npy\n",
            "Extracting features from video: /content/augmented_frames/70_0\n",
            "Features saved at: /content/features/70_0_features.npy\n",
            "Extracting features from video: /content/augmented_frames/115_0\n",
            "Features saved at: /content/features/115_0_features.npy\n",
            "Extracting features from video: /content/augmented_frames/71_0\n",
            "Features saved at: /content/features/71_0_features.npy\n",
            "Extracting features from video: /content/augmented_frames/63_2\n",
            "Features saved at: /content/features/63_2_features.npy\n",
            "Extracting features from video: /content/augmented_frames/367_2\n",
            "Features saved at: /content/features/367_2_features.npy\n",
            "Extracting features from video: /content/augmented_frames/326_2\n",
            "Features saved at: /content/features/326_2_features.npy\n",
            "Extracting features from video: /content/augmented_frames/295_2\n",
            "Features saved at: /content/features/295_2_features.npy\n",
            "Extracting features from video: /content/augmented_frames/134_2\n",
            "Features saved at: /content/features/134_2_features.npy\n",
            "Extracting features from video: /content/augmented_frames/48_3\n",
            "Features saved at: /content/features/48_3_features.npy\n",
            "Extracting features from video: /content/augmented_frames/366_2\n",
            "Features saved at: /content/features/366_2_features.npy\n",
            "Extracting features from video: /content/augmented_frames/322_4\n",
            "Features saved at: /content/features/322_4_features.npy\n",
            "Extracting features from video: /content/augmented_frames/191_2\n",
            "Features saved at: /content/features/191_2_features.npy\n",
            "Extracting features from video: /content/augmented_frames/373_4\n",
            "Features saved at: /content/features/373_4_features.npy\n",
            "Extracting features from video: /content/augmented_frames/11_4\n",
            "Features saved at: /content/features/11_4_features.npy\n",
            "Extracting features from video: /content/augmented_frames/192_2\n",
            "Features saved at: /content/features/192_2_features.npy\n",
            "Extracting features from video: /content/augmented_frames/190_3\n",
            "Features saved at: /content/features/190_3_features.npy\n",
            "Extracting features from video: /content/augmented_frames/13_4\n",
            "Features saved at: /content/features/13_4_features.npy\n",
            "Extracting features from video: /content/augmented_frames/61_2\n",
            "Features saved at: /content/features/61_2_features.npy\n",
            "Extracting features from video: /content/augmented_frames/130_0\n",
            "Features saved at: /content/features/130_0_features.npy\n",
            "Extracting features from video: /content/augmented_frames/46_3\n",
            "Features saved at: /content/features/46_3_features.npy\n",
            "Extracting features from video: /content/augmented_frames/125_2\n",
            "Features saved at: /content/features/125_2_features.npy\n",
            "Extracting features from video: /content/augmented_frames/154_3\n",
            "Features saved at: /content/features/154_3_features.npy\n",
            "Extracting features from video: /content/augmented_frames/252_0\n",
            "Features saved at: /content/features/252_0_features.npy\n",
            "Extracting features from video: /content/augmented_frames/176_4\n",
            "Features saved at: /content/features/176_4_features.npy\n",
            "Extracting features from video: /content/augmented_frames/323_3\n",
            "Features saved at: /content/features/323_3_features.npy\n",
            "Extracting features from video: /content/augmented_frames/132_3\n",
            "Features saved at: /content/features/132_3_features.npy\n",
            "Extracting features from video: /content/augmented_frames/216_3\n",
            "Features saved at: /content/features/216_3_features.npy\n",
            "Extracting features from video: /content/augmented_frames/250_2\n",
            "Features saved at: /content/features/250_2_features.npy\n",
            "Extracting features from video: /content/augmented_frames/180_2\n",
            "Features saved at: /content/features/180_2_features.npy\n",
            "Extracting features from video: /content/augmented_frames/364_3\n",
            "Features saved at: /content/features/364_3_features.npy\n",
            "Extracting features from video: /content/augmented_frames/171_4\n",
            "Features saved at: /content/features/171_4_features.npy\n",
            "Extracting features from video: /content/augmented_frames/45_2\n",
            "Features saved at: /content/features/45_2_features.npy\n",
            "Extracting features from video: /content/augmented_frames/62_2\n",
            "Features saved at: /content/features/62_2_features.npy\n",
            "Extracting features from video: /content/augmented_frames/129_0\n",
            "Features saved at: /content/features/129_0_features.npy\n",
            "Extracting features from video: /content/augmented_frames/156_2\n",
            "Features saved at: /content/features/156_2_features.npy\n",
            "Extracting features from video: /content/augmented_frames/109_2\n",
            "Features saved at: /content/features/109_2_features.npy\n",
            "Extracting features from video: /content/augmented_frames/92_3\n",
            "Features saved at: /content/features/92_3_features.npy\n",
            "Extracting features from video: /content/augmented_frames/17_4\n",
            "Features saved at: /content/features/17_4_features.npy\n",
            "Extracting features from video: /content/augmented_frames/248_0\n",
            "Features saved at: /content/features/248_0_features.npy\n",
            "Extracting features from video: /content/augmented_frames/148_0\n",
            "Features saved at: /content/features/148_0_features.npy\n",
            "Extracting features from video: /content/augmented_frames/360_3\n",
            "Features saved at: /content/features/360_3_features.npy\n",
            "Extracting features from video: /content/augmented_frames/97_2\n",
            "Features saved at: /content/features/97_2_features.npy\n",
            "Extracting features from video: /content/augmented_frames/332_0\n",
            "Features saved at: /content/features/332_0_features.npy\n",
            "Extracting features from video: /content/augmented_frames/312_0\n",
            "Features saved at: /content/features/312_0_features.npy\n",
            "Extracting features from video: /content/augmented_frames/246_2\n",
            "Features saved at: /content/features/246_2_features.npy\n",
            "Extracting features from video: /content/augmented_frames/358_0\n",
            "Features saved at: /content/features/358_0_features.npy\n",
            "Extracting features from video: /content/augmented_frames/47_3\n",
            "Features saved at: /content/features/47_3_features.npy\n",
            "Extracting features from video: /content/augmented_frames/34_0\n",
            "Features saved at: /content/features/34_0_features.npy\n",
            "Extracting features from video: /content/augmented_frames/163_3\n",
            "Features saved at: /content/features/163_3_features.npy\n",
            "Extracting features from video: /content/augmented_frames/181_3\n",
            "Features saved at: /content/features/181_3_features.npy\n",
            "Extracting features from video: /content/augmented_frames/117_4\n",
            "Features saved at: /content/features/117_4_features.npy\n",
            "Extracting features from video: /content/augmented_frames/112_3\n",
            "Features saved at: /content/features/112_3_features.npy\n",
            "Extracting features from video: /content/augmented_frames/291_4\n",
            "Features saved at: /content/features/291_4_features.npy\n",
            "Extracting features from video: /content/augmented_frames/89_4\n",
            "Features saved at: /content/features/89_4_features.npy\n",
            "Extracting features from video: /content/augmented_frames/379_4\n",
            "Features saved at: /content/features/379_4_features.npy\n",
            "Extracting features from video: /content/augmented_frames/254_2\n",
            "Features saved at: /content/features/254_2_features.npy\n",
            "Extracting features from video: /content/augmented_frames/80_2\n",
            "Features saved at: /content/features/80_2_features.npy\n",
            "Extracting features from video: /content/augmented_frames/334_2\n",
            "Features saved at: /content/features/334_2_features.npy\n",
            "Extracting features from video: /content/augmented_frames/317_2\n",
            "Features saved at: /content/features/317_2_features.npy\n",
            "Extracting features from video: /content/augmented_frames/150_2\n",
            "Features saved at: /content/features/150_2_features.npy\n",
            "Extracting features from video: /content/augmented_frames/381_4\n",
            "Features saved at: /content/features/381_4_features.npy\n",
            "Extracting features from video: /content/augmented_frames/166_0\n",
            "Features saved at: /content/features/166_0_features.npy\n",
            "Extracting features from video: /content/augmented_frames/172_2\n",
            "Features saved at: /content/features/172_2_features.npy\n",
            "Extracting features from video: /content/augmented_frames/257_3\n",
            "Features saved at: /content/features/257_3_features.npy\n",
            "Extracting features from video: /content/augmented_frames/3_0\n",
            "Features saved at: /content/features/3_0_features.npy\n",
            "Extracting features from video: /content/augmented_frames/51_2\n",
            "Features saved at: /content/features/51_2_features.npy\n",
            "Extracting features from video: /content/augmented_frames/207_0\n",
            "Features saved at: /content/features/207_0_features.npy\n",
            "Extracting features from video: /content/augmented_frames/10_0\n",
            "Features saved at: /content/features/10_0_features.npy\n",
            "Extracting features from video: /content/augmented_frames/208_4\n",
            "Features saved at: /content/features/208_4_features.npy\n",
            "Extracting features from video: /content/augmented_frames/32_4\n",
            "Features saved at: /content/features/32_4_features.npy\n",
            "Extracting features from video: /content/augmented_frames/193_2\n",
            "Features saved at: /content/features/193_2_features.npy\n",
            "Extracting features from video: /content/augmented_frames/352_4\n",
            "Features saved at: /content/features/352_4_features.npy\n",
            "Extracting features from video: /content/augmented_frames/285_0\n",
            "Features saved at: /content/features/285_0_features.npy\n",
            "Extracting features from video: /content/augmented_frames/197_3\n",
            "Features saved at: /content/features/197_3_features.npy\n",
            "Extracting features from video: /content/augmented_frames/313_4\n",
            "Features saved at: /content/features/313_4_features.npy\n",
            "Extracting features from video: /content/augmented_frames/19_1\n",
            "Features saved at: /content/features/19_1_features.npy\n",
            "Extracting features from video: /content/augmented_frames/86_3\n",
            "Features saved at: /content/features/86_3_features.npy\n",
            "Extracting features from video: /content/augmented_frames/272_0\n",
            "Features saved at: /content/features/272_0_features.npy\n",
            "Extracting features from video: /content/augmented_frames/369_2\n",
            "Features saved at: /content/features/369_2_features.npy\n",
            "Extracting features from video: /content/augmented_frames/217_0\n",
            "Features saved at: /content/features/217_0_features.npy\n",
            "Extracting features from video: /content/augmented_frames/72_4\n",
            "Features saved at: /content/features/72_4_features.npy\n",
            "Extracting features from video: /content/augmented_frames/270_4\n",
            "Features saved at: /content/features/270_4_features.npy\n",
            "Extracting features from video: /content/augmented_frames/231_3\n",
            "Features saved at: /content/features/231_3_features.npy\n",
            "Extracting features from video: /content/augmented_frames/76_0\n",
            "Features saved at: /content/features/76_0_features.npy\n",
            "Extracting features from video: /content/augmented_frames/167_3\n",
            "Features saved at: /content/features/167_3_features.npy\n",
            "Extracting features from video: /content/augmented_frames/201_4\n",
            "Features saved at: /content/features/201_4_features.npy\n",
            "Extracting features from video: /content/augmented_frames/37_2\n",
            "Features saved at: /content/features/37_2_features.npy\n",
            "Extracting features from video: /content/augmented_frames/205_3\n",
            "Features saved at: /content/features/205_3_features.npy\n",
            "Extracting features from video: /content/augmented_frames/377_4\n",
            "Features saved at: /content/features/377_4_features.npy\n",
            "Extracting features from video: /content/augmented_frames/43_2\n",
            "Features saved at: /content/features/43_2_features.npy\n",
            "Extracting features from video: /content/augmented_frames/44_0\n",
            "Features saved at: /content/features/44_0_features.npy\n",
            "Extracting features from video: /content/augmented_frames/374_3\n",
            "Features saved at: /content/features/374_3_features.npy\n",
            "Extracting features from video: /content/augmented_frames/249_0\n",
            "Features saved at: /content/features/249_0_features.npy\n",
            "Extracting features from video: /content/augmented_frames/260_1\n",
            "Features saved at: /content/features/260_1_features.npy\n",
            "Extracting features from video: /content/augmented_frames/103_4\n",
            "Features saved at: /content/features/103_4_features.npy\n",
            "Extracting features from video: /content/augmented_frames/54_0\n",
            "Features saved at: /content/features/54_0_features.npy\n",
            "Extracting features from video: /content/augmented_frames/382_2\n",
            "Features saved at: /content/features/382_2_features.npy\n",
            "Extracting features from video: /content/augmented_frames/66_2\n",
            "Features saved at: /content/features/66_2_features.npy\n",
            "Extracting features from video: /content/augmented_frames/95_3\n",
            "Features saved at: /content/features/95_3_features.npy\n",
            "Extracting features from video: /content/augmented_frames/235_2\n",
            "Features saved at: /content/features/235_2_features.npy\n",
            "Extracting features from video: /content/augmented_frames/243_3\n",
            "Features saved at: /content/features/243_3_features.npy\n",
            "Extracting features from video: /content/augmented_frames/135_2\n",
            "Features saved at: /content/features/135_2_features.npy\n",
            "Extracting features from video: /content/augmented_frames/219_3\n",
            "Features saved at: /content/features/219_3_features.npy\n",
            "Extracting features from video: /content/augmented_frames/341_3\n",
            "Features saved at: /content/features/341_3_features.npy\n",
            "Extracting features from video: /content/augmented_frames/173_2\n",
            "Features saved at: /content/features/173_2_features.npy\n",
            "Extracting features from video: /content/augmented_frames/30_2\n",
            "Features saved at: /content/features/30_2_features.npy\n",
            "Extracting features from video: /content/augmented_frames/88_0\n",
            "Features saved at: /content/features/88_0_features.npy\n",
            "Extracting features from video: /content/augmented_frames/100_2\n",
            "Features saved at: /content/features/100_2_features.npy\n",
            "Extracting features from video: /content/augmented_frames/269_0\n",
            "Features saved at: /content/features/269_0_features.npy\n",
            "Extracting features from video: /content/augmented_frames/137_2\n",
            "Features saved at: /content/features/137_2_features.npy\n",
            "Extracting features from video: /content/augmented_frames/108_2\n",
            "Features saved at: /content/features/108_2_features.npy\n",
            "Extracting features from video: /content/augmented_frames/359_4\n",
            "Features saved at: /content/features/359_4_features.npy\n",
            "Extracting features from video: /content/augmented_frames/94_4\n",
            "Features saved at: /content/features/94_4_features.npy\n",
            "Extracting features from video: /content/augmented_frames/144_3\n",
            "Features saved at: /content/features/144_3_features.npy\n",
            "Extracting features from video: /content/augmented_frames/347_4\n",
            "Features saved at: /content/features/347_4_features.npy\n",
            "Extracting features from video: /content/augmented_frames/29_2\n",
            "Features saved at: /content/features/29_2_features.npy\n",
            "Extracting features from video: /content/augmented_frames/5_3\n",
            "Features saved at: /content/features/5_3_features.npy\n",
            "Extracting features from video: /content/augmented_frames/283_0\n",
            "Features saved at: /content/features/283_0_features.npy\n",
            "Extracting features from video: /content/augmented_frames/168_2\n",
            "Features saved at: /content/features/168_2_features.npy\n",
            "Extracting features from video: /content/augmented_frames/57_3\n",
            "Features saved at: /content/features/57_3_features.npy\n",
            "Extracting features from video: /content/augmented_frames/267_0\n",
            "Features saved at: /content/features/267_0_features.npy\n",
            "Extracting features from video: /content/augmented_frames/370_3\n",
            "Features saved at: /content/features/370_3_features.npy\n",
            "Extracting features from video: /content/augmented_frames/9_4\n",
            "Features saved at: /content/features/9_4_features.npy\n",
            "Extracting features from video: /content/augmented_frames/234_2\n",
            "Features saved at: /content/features/234_2_features.npy\n",
            "Extracting features from video: /content/augmented_frames/218_0\n",
            "Features saved at: /content/features/218_0_features.npy\n",
            "Extracting features from video: /content/augmented_frames/349_3\n",
            "Features saved at: /content/features/349_3_features.npy\n",
            "Extracting features from video: /content/augmented_frames/316_2\n",
            "Features saved at: /content/features/316_2_features.npy\n",
            "Extracting features from video: /content/augmented_frames/221_3\n",
            "Features saved at: /content/features/221_3_features.npy\n",
            "Extracting features from video: /content/augmented_frames/293_3\n",
            "Features saved at: /content/features/293_3_features.npy\n",
            "Extracting features from video: /content/augmented_frames/241_4\n",
            "Features saved at: /content/features/241_4_features.npy\n",
            "Extracting features from video: /content/augmented_frames/111_3\n",
            "Features saved at: /content/features/111_3_features.npy\n",
            "Extracting features from video: /content/augmented_frames/39_3\n",
            "Features saved at: /content/features/39_3_features.npy\n",
            "Extracting features from video: /content/augmented_frames/268_3\n",
            "Features saved at: /content/features/268_3_features.npy\n",
            "Extracting features from video: /content/augmented_frames/338_2\n",
            "Features saved at: /content/features/338_2_features.npy\n",
            "Extracting features from video: /content/augmented_frames/140_2\n",
            "Features saved at: /content/features/140_2_features.npy\n",
            "Extracting features from video: /content/augmented_frames/372_2\n",
            "Features saved at: /content/features/372_2_features.npy\n",
            "Extracting features from video: /content/augmented_frames/211_0\n",
            "Features saved at: /content/features/211_0_features.npy\n",
            "Extracting features from video: /content/augmented_frames/303_2\n",
            "Features saved at: /content/features/303_2_features.npy\n",
            "Extracting features from video: /content/augmented_frames/299_4\n",
            "Features saved at: /content/features/299_4_features.npy\n",
            "Extracting features from video: /content/augmented_frames/298_3\n",
            "Features saved at: /content/features/298_3_features.npy\n",
            "Extracting features from video: /content/augmented_frames/351_3\n",
            "Features saved at: /content/features/351_3_features.npy\n",
            "Extracting features from video: /content/augmented_frames/104_2\n",
            "Features saved at: /content/features/104_2_features.npy\n",
            "Extracting features from video: /content/augmented_frames/177_4\n",
            "Features saved at: /content/features/177_4_features.npy\n",
            "Extracting features from video: /content/augmented_frames/202_4\n",
            "Features saved at: /content/features/202_4_features.npy\n",
            "Extracting features from video: /content/augmented_frames/7_3\n",
            "Features saved at: /content/features/7_3_features.npy\n",
            "Extracting features from video: /content/augmented_frames/151_2\n",
            "Features saved at: /content/features/151_2_features.npy\n",
            "Extracting features from video: /content/augmented_frames/186_3\n",
            "Features saved at: /content/features/186_3_features.npy\n",
            "Extracting features from video: /content/augmented_frames/38_0\n",
            "Features saved at: /content/features/38_0_features.npy\n",
            "Extracting features from video: /content/augmented_frames/210_0\n",
            "Features saved at: /content/features/210_0_features.npy\n",
            "Extracting features from video: /content/augmented_frames/361_2\n",
            "Features saved at: /content/features/361_2_features.npy\n",
            "Extracting features from video: /content/augmented_frames/263_3\n",
            "Features saved at: /content/features/263_3_features.npy\n",
            "Extracting features from video: /content/augmented_frames/83_3\n",
            "Features saved at: /content/features/83_3_features.npy\n",
            "Extracting features from video: /content/augmented_frames/333_2\n",
            "Features saved at: /content/features/333_2_features.npy\n",
            "Extracting features from video: /content/augmented_frames/189_2\n",
            "Features saved at: /content/features/189_2_features.npy\n",
            "Extracting features from video: /content/augmented_frames/12_2\n",
            "Features saved at: /content/features/12_2_features.npy\n",
            "Extracting features from video: /content/augmented_frames/73_2\n",
            "Features saved at: /content/features/73_2_features.npy\n",
            "Extracting features from video: /content/augmented_frames/138_2\n",
            "Features saved at: /content/features/138_2_features.npy\n",
            "Extracting features from video: /content/augmented_frames/308_0\n",
            "Features saved at: /content/features/308_0_features.npy\n",
            "Extracting features from video: /content/augmented_frames/170_4\n",
            "Features saved at: /content/features/170_4_features.npy\n",
            "Extracting features from video: /content/augmented_frames/75_2\n",
            "Features saved at: /content/features/75_2_features.npy\n",
            "Extracting features from video: /content/augmented_frames/6_1\n",
            "Features saved at: /content/features/6_1_features.npy\n",
            "Extracting features from video: /content/augmented_frames/247_0\n",
            "Features saved at: /content/features/247_0_features.npy\n",
            "Extracting features from video: /content/augmented_frames/98_4\n",
            "Features saved at: /content/features/98_4_features.npy\n",
            "Extracting features from video: /content/augmented_frames/244_3\n",
            "Features saved at: /content/features/244_3_features.npy\n",
            "Extracting features from video: /content/augmented_frames/158_1\n",
            "Features saved at: /content/features/158_1_features.npy\n",
            "Extracting features from video: /content/augmented_frames/165_0\n",
            "Features saved at: /content/features/165_0_features.npy\n",
            "Extracting features from video: /content/augmented_frames/164_3\n",
            "Features saved at: /content/features/164_3_features.npy\n",
            "Extracting features from video: /content/augmented_frames/271_2\n",
            "Features saved at: /content/features/271_2_features.npy\n",
            "Extracting features from video: /content/augmented_frames/258_3\n",
            "Features saved at: /content/features/258_3_features.npy\n",
            "Extracting features from video: /content/augmented_frames/59_4\n",
            "Features saved at: /content/features/59_4_features.npy\n",
            "Extracting features from video: /content/augmented_frames/345_3\n",
            "Features saved at: /content/features/345_3_features.npy\n",
            "Extracting features from video: /content/augmented_frames/152_4\n",
            "Features saved at: /content/features/152_4_features.npy\n",
            "Extracting features from video: /content/augmented_frames/194_2\n",
            "Features saved at: /content/features/194_2_features.npy\n",
            "Extracting features from video: /content/augmented_frames/142_0\n",
            "Features saved at: /content/features/142_0_features.npy\n",
            "Extracting features from video: /content/augmented_frames/348_2\n",
            "Features saved at: /content/features/348_2_features.npy\n",
            "Extracting features from video: /content/augmented_frames/287_2\n",
            "Features saved at: /content/features/287_2_features.npy\n",
            "Extracting features from video: /content/augmented_frames/279_2\n",
            "Features saved at: /content/features/279_2_features.npy\n",
            "Extracting features from video: /content/augmented_frames/228_3\n",
            "Features saved at: /content/features/228_3_features.npy\n",
            "Extracting features from video: /content/augmented_frames/169_3\n",
            "Features saved at: /content/features/169_3_features.npy\n",
            "Extracting features from video: /content/augmented_frames/324_1\n",
            "Features saved at: /content/features/324_1_features.npy\n",
            "Extracting features from video: /content/augmented_frames/336_3\n",
            "Features saved at: /content/features/336_3_features.npy\n",
            "Extracting features from video: /content/augmented_frames/195_4\n",
            "Features saved at: /content/features/195_4_features.npy\n",
            "Extracting features from video: /content/augmented_frames/121_3\n",
            "Features saved at: /content/features/121_3_features.npy\n",
            "Extracting features from video: /content/augmented_frames/274_0\n",
            "Features saved at: /content/features/274_0_features.npy\n",
            "Extracting features from video: /content/augmented_frames/204_4\n",
            "Features saved at: /content/features/204_4_features.npy\n",
            "Extracting features from video: /content/augmented_frames/126_0\n",
            "Features saved at: /content/features/126_0_features.npy\n",
            "Extracting features from video: /content/augmented_frames/215_4\n",
            "Features saved at: /content/features/215_4_features.npy\n",
            "Extracting features from video: /content/augmented_frames/198_3\n",
            "Features saved at: /content/features/198_3_features.npy\n",
            "Extracting features from video: /content/augmented_frames/0_3\n",
            "Features saved at: /content/features/0_3_features.npy\n",
            "Extracting features from video: /content/augmented_frames/261_3\n",
            "Features saved at: /content/features/261_3_features.npy\n",
            "Extracting features from video: /content/augmented_frames/67_3\n",
            "Features saved at: /content/features/67_3_features.npy\n",
            "Extracting features from video: /content/augmented_frames/255_2\n",
            "Features saved at: /content/features/255_2_features.npy\n",
            "Extracting features from video: /content/augmented_frames/52_2\n",
            "Features saved at: /content/features/52_2_features.npy\n",
            "Extracting features from video: /content/augmented_frames/319_0\n",
            "Features saved at: /content/features/319_0_features.npy\n",
            "Extracting features from video: /content/augmented_frames/187_2\n",
            "Features saved at: /content/features/187_2_features.npy\n",
            "Extracting features from video: /content/augmented_frames/314_2\n",
            "Features saved at: /content/features/314_2_features.npy\n",
            "Extracting features from video: /content/augmented_frames/265_4\n",
            "Features saved at: /content/features/265_4_features.npy\n",
            "Extracting features from video: /content/augmented_frames/119_3\n",
            "Features saved at: /content/features/119_3_features.npy\n",
            "Extracting features from video: /content/augmented_frames/146_4\n",
            "Features saved at: /content/features/146_4_features.npy\n",
            "Extracting features from video: /content/augmented_frames/145_4\n",
            "Features saved at: /content/features/145_4_features.npy\n",
            "Extracting features from video: /content/augmented_frames/236_2\n",
            "Features saved at: /content/features/236_2_features.npy\n",
            "Extracting features from video: /content/augmented_frames/238_4\n",
            "Features saved at: /content/features/238_4_features.npy\n",
            "Extracting features from video: /content/augmented_frames/101_2\n",
            "Features saved at: /content/features/101_2_features.npy\n",
            "Extracting features from video: /content/augmented_frames/124_3\n",
            "Features saved at: /content/features/124_3_features.npy\n",
            "Extracting features from video: /content/augmented_frames/199_2\n",
            "Features saved at: /content/features/199_2_features.npy\n",
            "Extracting features from video: /content/augmented_frames/368_0\n",
            "Features saved at: /content/features/368_0_features.npy\n",
            "Extracting features from video: /content/augmented_frames/69_3\n",
            "Features saved at: /content/features/69_3_features.npy\n",
            "Extracting features from video: /content/augmented_frames/102_2\n",
            "Features saved at: /content/features/102_2_features.npy\n",
            "Extracting features from video: /content/augmented_frames/49_3\n",
            "Features saved at: /content/features/49_3_features.npy\n",
            "Extracting features from video: /content/augmented_frames/306_3\n",
            "Features saved at: /content/features/306_3_features.npy\n",
            "Extracting features from video: /content/augmented_frames/209_3\n",
            "Features saved at: /content/features/209_3_features.npy\n",
            "Extracting features from video: /content/augmented_frames/85_0\n",
            "Features saved at: /content/features/85_0_features.npy\n",
            "Extracting features from video: /content/augmented_frames/376_3\n",
            "Features saved at: /content/features/376_3_features.npy\n",
            "Extracting features from video: /content/augmented_frames/184_0\n",
            "Features saved at: /content/features/184_0_features.npy\n",
            "Extracting features from video: /content/augmented_frames/318_4\n",
            "Features saved at: /content/features/318_4_features.npy\n",
            "Extracting features from video: /content/augmented_frames/82_3\n",
            "Features saved at: /content/features/82_3_features.npy\n",
            "Extracting features from video: /content/augmented_frames/331_3\n",
            "Features saved at: /content/features/331_3_features.npy\n",
            "Extracting features from video: /content/augmented_frames/147_4\n",
            "Features saved at: /content/features/147_4_features.npy\n",
            "Extracting features from video: /content/augmented_frames/278_3\n",
            "Features saved at: /content/features/278_3_features.npy\n",
            "Extracting features from video: /content/augmented_frames/224_2\n",
            "Features saved at: /content/features/224_2_features.npy\n",
            "Extracting features from video: /content/augmented_frames/290_2\n",
            "Features saved at: /content/features/290_2_features.npy\n",
            "Extracting features from video: /content/augmented_frames/27_2\n",
            "Features saved at: /content/features/27_2_features.npy\n",
            "Extracting features from video: /content/augmented_frames/68_3\n",
            "Features saved at: /content/features/68_3_features.npy\n",
            "Extracting features from video: /content/augmented_frames/282_0\n",
            "Features saved at: /content/features/282_0_features.npy\n",
            "Extracting features from video: /content/augmented_frames/225_0\n",
            "Features saved at: /content/features/225_0_features.npy\n",
            "Extracting features from video: /content/augmented_frames/240_3\n",
            "Features saved at: /content/features/240_3_features.npy\n",
            "Extracting features from video: /content/augmented_frames/213_0\n",
            "Features saved at: /content/features/213_0_features.npy\n",
            "Extracting features from video: /content/augmented_frames/55_3\n",
            "Features saved at: /content/features/55_3_features.npy\n",
            "Extracting features from video: /content/augmented_frames/327_3\n",
            "Features saved at: /content/features/327_3_features.npy\n",
            "Extracting features from video: /content/augmented_frames/242_0\n",
            "Features saved at: /content/features/242_0_features.npy\n",
            "Extracting features from video: /content/augmented_frames/182_4\n",
            "Features saved at: /content/features/182_4_features.npy\n",
            "Extracting features from video: /content/augmented_frames/264_2\n",
            "Features saved at: /content/features/264_2_features.npy\n",
            "Extracting features from video: /content/augmented_frames/25_3\n",
            "Features saved at: /content/features/25_3_features.npy\n",
            "Extracting features from video: /content/augmented_frames/56_3\n",
            "Features saved at: /content/features/56_3_features.npy\n",
            "Extracting features from video: /content/augmented_frames/256_4\n",
            "Features saved at: /content/features/256_4_features.npy\n",
            "Extracting features from video: /content/augmented_frames/50_2\n",
            "Features saved at: /content/features/50_2_features.npy\n",
            "Extracting features from video: /content/augmented_frames/356_3\n",
            "Features saved at: /content/features/356_3_features.npy\n",
            "Extracting features from video: /content/augmented_frames/251_2\n",
            "Features saved at: /content/features/251_2_features.npy\n",
            "Extracting features from video: /content/augmented_frames/310_2\n",
            "Features saved at: /content/features/310_2_features.npy\n",
            "Extracting features from video: /content/augmented_frames/266_0\n",
            "Features saved at: /content/features/266_0_features.npy\n",
            "Extracting features from video: /content/augmented_frames/87_4\n",
            "Features saved at: /content/features/87_4_features.npy\n",
            "Extracting features from video: /content/augmented_frames/18_1\n",
            "Features saved at: /content/features/18_1_features.npy\n",
            "Extracting features from video: /content/augmented_frames/128_2\n",
            "Features saved at: /content/features/128_2_features.npy\n",
            "Extracting features from video: /content/augmented_frames/239_0\n",
            "Features saved at: /content/features/239_0_features.npy\n",
            "Extracting features from video: /content/augmented_frames/14_3\n",
            "Features saved at: /content/features/14_3_features.npy\n",
            "Extracting features from video: /content/augmented_frames/116_4\n",
            "Features saved at: /content/features/116_4_features.npy\n",
            "Extracting features from video: /content/augmented_frames/106_0\n",
            "Features saved at: /content/features/106_0_features.npy\n",
            "Extracting features from video: /content/augmented_frames/237_2\n",
            "Features saved at: /content/features/237_2_features.npy\n",
            "Extracting features from video: /content/augmented_frames/183_2\n",
            "Features saved at: /content/features/183_2_features.npy\n",
            "Extracting features from video: /content/augmented_frames/311_3\n",
            "Features saved at: /content/features/311_3_features.npy\n",
            "Extracting features from video: /content/augmented_frames/58_0\n",
            "Features saved at: /content/features/58_0_features.npy\n",
            "Extracting features from video: /content/augmented_frames/276_2\n",
            "Features saved at: /content/features/276_2_features.npy\n",
            "Extracting features from video: /content/augmented_frames/157_4\n",
            "Features saved at: /content/features/157_4_features.npy\n",
            "Extracting features from video: /content/augmented_frames/91_0\n",
            "Features saved at: /content/features/91_0_features.npy\n",
            "Extracting features from video: /content/augmented_frames/22_0\n",
            "Features saved at: /content/features/22_0_features.npy\n",
            "Extracting features from video: /content/augmented_frames/35_3\n",
            "Features saved at: /content/features/35_3_features.npy\n",
            "Extracting features from video: /content/augmented_frames/346_2\n",
            "Features saved at: /content/features/346_2_features.npy\n",
            "Extracting features from video: /content/augmented_frames/188_3\n",
            "Features saved at: /content/features/188_3_features.npy\n",
            "Extracting features from video: /content/augmented_frames/233_0\n",
            "Features saved at: /content/features/233_0_features.npy\n",
            "Extracting features from video: /content/augmented_frames/343_3\n",
            "Features saved at: /content/features/343_3_features.npy\n",
            "Extracting features from video: /content/augmented_frames/60_3\n",
            "Features saved at: /content/features/60_3_features.npy\n",
            "Extracting features from video: /content/augmented_frames/41_1\n",
            "Features saved at: /content/features/41_1_features.npy\n",
            "Extracting features from video: /content/augmented_frames/143_2\n",
            "Features saved at: /content/features/143_2_features.npy\n",
            "Extracting features from video: /content/augmented_frames/262_2\n",
            "Features saved at: /content/features/262_2_features.npy\n",
            "Extracting features from video: /content/augmented_frames/141_2\n",
            "Features saved at: /content/features/141_2_features.npy\n",
            "Extracting features from video: /content/augmented_frames/253_3\n",
            "Features saved at: /content/features/253_3_features.npy\n",
            "Extracting features from video: /content/augmented_frames/74_0\n",
            "Features saved at: /content/features/74_0_features.npy\n",
            "Extracting features from video: /content/augmented_frames/23_2\n",
            "Features saved at: /content/features/23_2_features.npy\n",
            "Extracting features from video: /content/augmented_frames/289_0\n",
            "Features saved at: /content/features/289_0_features.npy\n",
            "Extracting features from video: /content/augmented_frames/362_2\n",
            "Features saved at: /content/features/362_2_features.npy\n",
            "Extracting features from video: /content/augmented_frames/286_4\n",
            "Features saved at: /content/features/286_4_features.npy\n",
            "Extracting features from video: /content/augmented_frames/380_0\n",
            "Features saved at: /content/features/380_0_features.npy\n",
            "Extracting features from video: /content/augmented_frames/175_0\n",
            "Features saved at: /content/features/175_0_features.npy\n",
            "Extracting features from video: /content/augmented_frames/365_0\n",
            "Features saved at: /content/features/365_0_features.npy\n",
            "Extracting features from video: /content/augmented_frames/277_1\n",
            "Features saved at: /content/features/277_1_features.npy\n",
            "Extracting features from video: /content/augmented_frames/122_2\n",
            "Features saved at: /content/features/122_2_features.npy\n",
            "Extracting features from video: /content/augmented_frames/281_3\n",
            "Features saved at: /content/features/281_3_features.npy\n",
            "Extracting features from video: /content/augmented_frames/123_1\n",
            "Features saved at: /content/features/123_1_features.npy\n",
            "Extracting features from video: /content/augmented_frames/99_4\n",
            "Features saved at: /content/features/99_4_features.npy\n",
            "Extracting features from video: /content/augmented_frames/297_4\n",
            "Features saved at: /content/features/297_4_features.npy\n",
            "Extracting features from video: /content/augmented_frames/114_4\n",
            "Features saved at: /content/features/114_4_features.npy\n",
            "Extracting features from video: /content/augmented_frames/155_2\n",
            "Features saved at: /content/features/155_2_features.npy\n",
            "Extracting features from video: /content/augmented_frames/305_3\n",
            "Features saved at: /content/features/305_3_features.npy\n",
            "Extracting features from video: /content/augmented_frames/15_0\n",
            "Features saved at: /content/features/15_0_features.npy\n",
            "Extracting features from video: /content/augmented_frames/8_2\n",
            "Features saved at: /content/features/8_2_features.npy\n",
            "Extracting features from video: /content/augmented_frames/275_3\n",
            "Features saved at: /content/features/275_3_features.npy\n",
            "Extracting features from video: /content/augmented_frames/105_3\n",
            "Features saved at: /content/features/105_3_features.npy\n",
            "Extracting features from video: /content/augmented_frames/375_1\n",
            "Features saved at: /content/features/375_1_features.npy\n",
            "Extracting features from video: /content/augmented_frames/153_2\n",
            "Features saved at: /content/features/153_2_features.npy\n",
            "Extracting features from video: /content/augmented_frames/329_0\n",
            "Features saved at: /content/features/329_0_features.npy\n",
            "Extracting features from video: /content/augmented_frames/328_4\n",
            "Features saved at: /content/features/328_4_features.npy\n",
            "Extracting features from video: /content/augmented_frames/131_0\n",
            "Features saved at: /content/features/131_0_features.npy\n",
            "Extracting features from video: /content/augmented_frames/149_2\n",
            "Features saved at: /content/features/149_2_features.npy\n",
            "Extracting features from video: /content/augmented_frames/53_1\n",
            "Features saved at: /content/features/53_1_features.npy\n",
            "Extracting features from video: /content/augmented_frames/1_0\n",
            "Features saved at: /content/features/1_0_features.npy\n",
            "Extracting features from video: /content/augmented_frames/325_3\n",
            "Features saved at: /content/features/325_3_features.npy\n",
            "Extracting features from video: /content/augmented_frames/4_2\n",
            "Features saved at: /content/features/4_2_features.npy\n",
            "Extracting features from video: /content/augmented_frames/371_0\n",
            "Features saved at: /content/features/371_0_features.npy\n",
            "Extracting features from video: /content/augmented_frames/350_1\n",
            "Features saved at: /content/features/350_1_features.npy\n",
            "Extracting features from video: /content/augmented_frames/220_3\n",
            "Features saved at: /content/features/220_3_features.npy\n",
            "Extracting features from video: /content/augmented_frames/161_4\n",
            "Features saved at: /content/features/161_4_features.npy\n",
            "Extracting features from video: /content/augmented_frames/315_4\n",
            "Features saved at: /content/features/315_4_features.npy\n",
            "Extracting features from video: /content/augmented_frames/162_2\n",
            "Features saved at: /content/features/162_2_features.npy\n",
            "Extracting features from video: /content/augmented_frames/339_3\n",
            "Features saved at: /content/features/339_3_features.npy\n",
            "Extracting features from video: /content/augmented_frames/296_0\n",
            "Features saved at: /content/features/296_0_features.npy\n",
            "Extracting features from video: /content/augmented_frames/206_4\n",
            "Features saved at: /content/features/206_4_features.npy\n",
            "Extracting features from video: /content/augmented_frames/302_3\n",
            "Features saved at: /content/features/302_3_features.npy\n",
            "Extracting features from video: /content/augmented_frames/139_4\n",
            "Features saved at: /content/features/139_4_features.npy\n",
            "Extracting features from video: /content/augmented_frames/354_0\n",
            "Features saved at: /content/features/354_0_features.npy\n",
            "Extracting features from video: /content/augmented_frames/21_3\n",
            "Features saved at: /content/features/21_3_features.npy\n",
            "Extracting features from video: /content/augmented_frames/304_3\n",
            "Features saved at: /content/features/304_3_features.npy\n",
            "Extracting features from video: /content/augmented_frames/65_2\n",
            "Features saved at: /content/features/65_2_features.npy\n",
            "Extracting features from video: /content/augmented_frames/118_3\n",
            "Features saved at: /content/features/118_3_features.npy\n",
            "Extracting features from video: /content/augmented_frames/84_0\n",
            "Features saved at: /content/features/84_0_features.npy\n",
            "Extracting features from video: /content/augmented_frames/307_3\n",
            "Features saved at: /content/features/307_3_features.npy\n",
            "Extracting features from video: /content/augmented_frames/357_2\n",
            "Features saved at: /content/features/357_2_features.npy\n",
            "Extracting features from video: /content/augmented_frames/78_3\n",
            "Features saved at: /content/features/78_3_features.npy\n",
            "Extracting features from video: /content/augmented_frames/90_4\n",
            "Features saved at: /content/features/90_4_features.npy\n",
            "Extracting features from video: /content/augmented_frames/26_3\n",
            "Features saved at: /content/features/26_3_features.npy\n",
            "Extracting features from video: /content/augmented_frames/355_3\n",
            "Features saved at: /content/features/355_3_features.npy\n",
            "Extracting features from video: /content/augmented_frames/214_2\n",
            "Features saved at: /content/features/214_2_features.npy\n",
            "Extracting features from video: /content/augmented_frames/20_4\n",
            "Features saved at: /content/features/20_4_features.npy\n",
            "Extracting features from video: /content/augmented_frames/321_4\n",
            "Features saved at: /content/features/321_4_features.npy\n",
            "Feature extraction complete. Features saved in: /content/features/\n"
          ]
        }
      ]
    },
    {
      "cell_type": "code",
      "source": [
        "# Step 4: Temporal Analysis using RNN (4 Done)\n",
        "# Paths\n",
        "FEATURES_DIR = '/content/features/'  # Directory with saved features\n",
        "TRAIN_CSV = '/content/train_videos.csv'\n",
        "TEST_CSV = '/content/test_videos.csv'"
      ],
      "metadata": {
        "id": "Y4dqW4rP95Qr"
      },
      "execution_count": null,
      "outputs": []
    },
    {
      "cell_type": "code",
      "source": [
        "# Load train and test data\n",
        "train_data = pd.read_csv(TRAIN_CSV)\n",
        "test_data = pd.read_csv(TEST_CSV)\n",
        "print(\"Train and test data loaded.\")"
      ],
      "metadata": {
        "colab": {
          "base_uri": "https://localhost:8080/"
        },
        "id": "Bz19FsC095S8",
        "outputId": "ba7d159a-1e4b-4759-da4b-a5c28174fd62"
      },
      "execution_count": null,
      "outputs": [
        {
          "output_type": "stream",
          "name": "stdout",
          "text": [
            "Train and test data loaded.\n"
          ]
        }
      ]
    },
    {
      "cell_type": "code",
      "source": [
        "# Encode labels\n",
        "encoder = LabelEncoder()\n",
        "train_labels = encoder.fit_transform(train_data['label'])\n",
        "test_labels = encoder.transform(test_data['label'])"
      ],
      "metadata": {
        "id": "pb_coG5q95WM"
      },
      "execution_count": null,
      "outputs": []
    },
    {
      "cell_type": "code",
      "source": [
        "# Convert labels to categorical (for softmax output)\n",
        "train_labels = to_categorical(train_labels)\n",
        "test_labels = to_categorical(test_labels)"
      ],
      "metadata": {
        "id": "DjmX7WfF-iCt"
      },
      "execution_count": null,
      "outputs": []
    },
    {
      "cell_type": "code",
      "source": [
        "import os\n",
        "print(os.listdir('/content/features/'))\n"
      ],
      "metadata": {
        "colab": {
          "base_uri": "https://localhost:8080/"
        },
        "id": "Mt0BhuNV_XAz",
        "outputId": "f0e3bdc3-9028-4e29-8039-a8abe11bcc10"
      },
      "execution_count": null,
      "outputs": [
        {
          "output_type": "stream",
          "name": "stdout",
          "text": [
            "['295_2_features.npy', '101_2_features.npy', '3_0_features.npy', '228_3_features.npy', '114_4_features.npy', '232_3_features.npy', '199_2_features.npy', '206_4_features.npy', '119_3_features.npy', '120_2_features.npy', '289_0_features.npy', '356_3_features.npy', '202_4_features.npy', '157_4_features.npy', '347_4_features.npy', '319_0_features.npy', '140_2_features.npy', '135_2_features.npy', '159_2_features.npy', '130_0_features.npy', '195_4_features.npy', '274_0_features.npy', '21_3_features.npy', '313_4_features.npy', '285_0_features.npy', '73_2_features.npy', '279_2_features.npy', '247_0_features.npy', '171_4_features.npy', '301_0_features.npy', '320_3_features.npy', '365_0_features.npy', '85_0_features.npy', '235_2_features.npy', '305_3_features.npy', '134_2_features.npy', '219_3_features.npy', '326_2_features.npy', '80_2_features.npy', '299_4_features.npy', '92_3_features.npy', '5_3_features.npy', '189_2_features.npy', '213_0_features.npy', '54_0_features.npy', '53_1_features.npy', '292_3_features.npy', '154_3_features.npy', '91_0_features.npy', '47_3_features.npy', '307_3_features.npy', '364_3_features.npy', '2_0_features.npy', '246_2_features.npy', '118_3_features.npy', '81_3_features.npy', '260_1_features.npy', '316_2_features.npy', '102_2_features.npy', '184_0_features.npy', '63_2_features.npy', '203_2_features.npy', '312_0_features.npy', '4_2_features.npy', '255_2_features.npy', '177_4_features.npy', '268_3_features.npy', '144_3_features.npy', '44_0_features.npy', '71_0_features.npy', '25_3_features.npy', '231_3_features.npy', '382_2_features.npy', '6_1_features.npy', '287_2_features.npy', '360_3_features.npy', '67_3_features.npy', '248_0_features.npy', '288_4_features.npy', '334_2_features.npy', '205_3_features.npy', '49_3_features.npy', '188_3_features.npy', '43_2_features.npy', '259_3_features.npy', '375_1_features.npy', '39_3_features.npy', '227_3_features.npy', '226_2_features.npy', '56_3_features.npy', '282_0_features.npy', '304_3_features.npy', '377_4_features.npy', '9_4_features.npy', '230_2_features.npy', '176_4_features.npy', '315_4_features.npy', '369_2_features.npy', '302_3_features.npy', '156_2_features.npy', '97_2_features.npy', '155_2_features.npy', '293_3_features.npy', '138_2_features.npy', '351_3_features.npy', '297_4_features.npy', '309_2_features.npy', '98_4_features.npy', '250_2_features.npy', '327_3_features.npy', '218_0_features.npy', '261_3_features.npy', '37_2_features.npy', '13_4_features.npy', '115_0_features.npy', '51_2_features.npy', '278_3_features.npy', '239_0_features.npy', '192_2_features.npy', '70_0_features.npy', '175_0_features.npy', '168_2_features.npy', '372_2_features.npy', '162_2_features.npy', '116_4_features.npy', '341_3_features.npy', '48_3_features.npy', '60_3_features.npy', '336_3_features.npy', '143_2_features.npy', '82_3_features.npy', '311_3_features.npy', '332_0_features.npy', '373_4_features.npy', '103_4_features.npy', '353_0_features.npy', '10_0_features.npy', '277_1_features.npy', '296_0_features.npy', '28_3_features.npy', '324_1_features.npy', '215_4_features.npy', '14_3_features.npy', '127_2_features.npy', '179_3_features.npy', '190_3_features.npy', '197_3_features.npy', '330_3_features.npy', '173_2_features.npy', '106_0_features.npy', '46_3_features.npy', '270_4_features.npy', '174_4_features.npy', '1_0_features.npy', '308_0_features.npy', '344_0_features.npy', '325_3_features.npy', '346_2_features.npy', '249_0_features.npy', '240_3_features.npy', '251_2_features.npy', '68_3_features.npy', '151_2_features.npy', '220_3_features.npy', '221_3_features.npy', '262_2_features.npy', '165_0_features.npy', '210_0_features.npy', '352_4_features.npy', '198_3_features.npy', '376_3_features.npy', '108_2_features.npy', '146_4_features.npy', '252_0_features.npy', '109_2_features.npy', '269_0_features.npy', '100_2_features.npy', '139_4_features.npy', '180_2_features.npy', '275_3_features.npy', '141_2_features.npy', '12_2_features.npy', '93_4_features.npy', '86_3_features.npy', '55_3_features.npy', '117_4_features.npy', '283_0_features.npy', '65_2_features.npy', '381_4_features.npy', '83_3_features.npy', '183_2_features.npy', '256_4_features.npy', '24_0_features.npy', '0_3_features.npy', '349_3_features.npy', '129_0_features.npy', '294_4_features.npy', '241_4_features.npy', '15_0_features.npy', '318_4_features.npy', '264_2_features.npy', '94_4_features.npy', '211_0_features.npy', '69_3_features.npy', '164_3_features.npy', '321_4_features.npy', '36_3_features.npy', '254_2_features.npy', '323_3_features.npy', '166_0_features.npy', '185_0_features.npy', '374_3_features.npy', '123_1_features.npy', '84_0_features.npy', '204_4_features.npy', '90_4_features.npy', '40_2_features.npy', '22_0_features.npy', '7_3_features.npy', '236_2_features.npy', '169_3_features.npy', '217_0_features.npy', '212_4_features.npy', '245_2_features.npy', '253_3_features.npy', '187_2_features.npy', '19_1_features.npy', '26_3_features.npy', '355_3_features.npy', '52_2_features.npy', '32_4_features.npy', '96_0_features.npy', '329_0_features.npy', '58_0_features.npy', '258_3_features.npy', '149_2_features.npy', '200_3_features.npy', '271_2_features.npy', '133_3_features.npy', '27_2_features.npy', '79_4_features.npy', '358_0_features.npy', '368_0_features.npy', '136_3_features.npy', '280_4_features.npy', '257_3_features.npy', '291_4_features.npy', '328_4_features.npy', '142_0_features.npy', '57_3_features.npy', '20_4_features.npy', '99_4_features.npy', '367_2_features.npy', '18_1_features.npy', '371_0_features.npy', '273_3_features.npy', '345_3_features.npy', '126_0_features.npy', '339_3_features.npy', '23_2_features.npy', '160_4_features.npy', '214_2_features.npy', '207_0_features.npy', '348_2_features.npy', '300_2_features.npy', '335_3_features.npy', '152_4_features.npy', '76_0_features.npy', '379_4_features.npy', '193_2_features.npy', '310_2_features.npy', '361_2_features.npy', '191_2_features.npy', '170_4_features.npy', '104_2_features.npy', '216_3_features.npy', '153_2_features.npy', '158_1_features.npy', '194_2_features.npy', '370_3_features.npy', '290_2_features.npy', '224_2_features.npy', '303_2_features.npy', '378_3_features.npy', '30_2_features.npy', '317_2_features.npy', '122_2_features.npy', '50_2_features.npy', '172_2_features.npy', '131_0_features.npy', '284_2_features.npy', '95_3_features.npy', '31_4_features.npy', '363_4_features.npy', '110_4_features.npy', '124_3_features.npy', '196_0_features.npy', '238_4_features.npy', '88_0_features.npy', '340_0_features.npy', '222_1_features.npy', '113_2_features.npy', '263_3_features.npy', '145_4_features.npy', '75_2_features.npy', '137_2_features.npy', '186_3_features.npy', '61_2_features.npy', '298_3_features.npy', '112_3_features.npy', '243_3_features.npy', '357_2_features.npy', '267_0_features.npy', '148_0_features.npy', '208_4_features.npy', '121_3_features.npy', '225_0_features.npy', '233_0_features.npy', '244_3_features.npy', '343_3_features.npy', '229_2_features.npy', '38_0_features.npy', '87_4_features.npy', '161_4_features.npy', '314_2_features.npy', '237_2_features.npy', '354_0_features.npy', '178_0_features.npy', '64_0_features.npy', '33_0_features.npy', '41_1_features.npy', '128_2_features.npy', '17_4_features.npy', '8_2_features.npy', '62_2_features.npy', '366_2_features.npy', '45_2_features.npy', '132_3_features.npy', '333_2_features.npy', '234_2_features.npy', '72_4_features.npy', '342_3_features.npy', '306_3_features.npy', '362_2_features.npy', '331_3_features.npy', '163_3_features.npy', '105_3_features.npy', '201_4_features.npy', '11_4_features.npy', '150_2_features.npy', '77_2_features.npy', '66_2_features.npy', '107_4_features.npy', '209_3_features.npy', '322_4_features.npy', '59_4_features.npy', '182_4_features.npy', '272_0_features.npy', '350_1_features.npy', '266_0_features.npy', '223_2_features.npy', '276_2_features.npy', '338_2_features.npy', '125_2_features.npy', '242_0_features.npy', '147_4_features.npy', '181_3_features.npy', '359_4_features.npy', '167_3_features.npy', '337_3_features.npy', '265_4_features.npy', '286_4_features.npy', '16_4_features.npy', '29_2_features.npy', '111_3_features.npy', '35_3_features.npy', '380_0_features.npy', '281_3_features.npy', '89_4_features.npy', '34_0_features.npy', '78_3_features.npy', '74_0_features.npy', '42_0_features.npy']\n"
          ]
        }
      ]
    },
    {
      "cell_type": "code",
      "source": [
        "feature_path = os.path.join(FEATURES_DIR, f\"{os.path.basename(row['video_path']).replace('.mp4', '')}_features.npy\")\n"
      ],
      "metadata": {
        "id": "QjbeIvox_zkJ"
      },
      "execution_count": null,
      "outputs": []
    },
    {
      "cell_type": "code",
      "source": [
        "print(train_data['video_path'].head())\n"
      ],
      "metadata": {
        "colab": {
          "base_uri": "https://localhost:8080/"
        },
        "id": "qSjB-rgr_41m",
        "outputId": "880d21b5-0b0a-487c-8b03-3ed2df386db1"
      },
      "execution_count": null,
      "outputs": [
        {
          "output_type": "stream",
          "name": "stdout",
          "text": [
            "0    /content/drive/MyDrive/HACER_frames/117_3\n",
            "1    /content/drive/MyDrive/HACER_frames/137_0\n",
            "2    /content/drive/MyDrive/HACER_frames/209_0\n",
            "3    /content/drive/MyDrive/HACER_frames/409_0\n",
            "4    /content/drive/MyDrive/HACER_frames/148_2\n",
            "Name: video_path, dtype: object\n"
          ]
        }
      ]
    },
    {
      "cell_type": "code",
      "source": [
        "print(f\"Expected feature path: {feature_path}\")\n"
      ],
      "metadata": {
        "colab": {
          "base_uri": "https://localhost:8080/"
        },
        "id": "94wVO_lAJ_-Z",
        "outputId": "b659ad22-4f12-42de-a955-3837e8a3544b"
      },
      "execution_count": null,
      "outputs": [
        {
          "output_type": "stream",
          "name": "stdout",
          "text": [
            "Expected feature path: /content/features/102_2_features.npy\n"
          ]
        }
      ]
    },
    {
      "cell_type": "code",
      "source": [
        "import os\n",
        "import numpy as np\n",
        "\n",
        "FEATURES_DIR = '/content/features/'  # Directory with saved features\n",
        "\n",
        "# Load features\n",
        "def load_features(data):\n",
        "    features = []\n",
        "    feature_shape = None  # To store the shape of the first valid feature file\n",
        "    valid_indices = []  # Keep track of valid rows\n",
        "\n",
        "    for idx, row in data.iterrows():\n",
        "        # Use os.path.basename to get only the filename from video_path\n",
        "        video_filename = os.path.basename(row['video_path'])\n",
        "        # Remove the extension (.mp4) and construct the feature filename\n",
        "        feature_filename = video_filename.replace(\".mp4\", \"\") + \"_features.npy\"\n",
        "        feature_path = os.path.join(FEATURES_DIR, feature_filename)\n",
        "\n",
        "        # Check if the feature file exists\n",
        "        if os.path.exists(feature_path):\n",
        "            video_features = np.load(feature_path)\n",
        "            if feature_shape is None:\n",
        "                feature_shape = video_features.shape  # Get the shape of the first valid feature\n",
        "            features.append(video_features)\n",
        "            valid_indices.append(idx)  # Keep track of valid rows\n",
        "            print(f\"Loaded features from: {feature_path}\")\n",
        "        else:\n",
        "            print(f\"Warning: Feature file not found for {video_filename}. Skipping.\")\n",
        "\n",
        "    # Create a new DataFrame with only valid rows\n",
        "    valid_data = data.iloc[valid_indices]  # Select only rows with valid features\n",
        "    return np.array(features), valid_data\n",
        "\n",
        "# Load data (replace these with actual DataFrame loading if necessary)\n",
        "x_train, valid_train_data = load_features(train_data)\n",
        "x_test, valid_test_data = load_features(test_data)\n",
        "\n",
        "print(f\"x_train shape: {x_train.shape}, x_test shape: {x_test.shape}\")\n"
      ],
      "metadata": {
        "id": "cp9IAa9GAQ9t"
      },
      "execution_count": null,
      "outputs": []
    },
    {
      "cell_type": "code",
      "source": [
        "import os\n",
        "print(os.listdir('/content/features/'))  # List all files in the features directory\n"
      ],
      "metadata": {
        "colab": {
          "base_uri": "https://localhost:8080/"
        },
        "id": "87rLLgGnLZej",
        "outputId": "92725cbc-5baf-49dd-d98e-dcff2f52b616"
      },
      "execution_count": null,
      "outputs": [
        {
          "output_type": "stream",
          "name": "stdout",
          "text": [
            "['295_2_features.npy', '101_2_features.npy', '3_0_features.npy', '228_3_features.npy', '114_4_features.npy', '232_3_features.npy', '199_2_features.npy', '206_4_features.npy', '119_3_features.npy', '120_2_features.npy', '289_0_features.npy', '356_3_features.npy', '202_4_features.npy', '157_4_features.npy', '347_4_features.npy', '319_0_features.npy', '140_2_features.npy', '135_2_features.npy', '159_2_features.npy', '130_0_features.npy', '195_4_features.npy', '274_0_features.npy', '21_3_features.npy', '313_4_features.npy', '285_0_features.npy', '73_2_features.npy', '279_2_features.npy', '247_0_features.npy', '171_4_features.npy', '301_0_features.npy', '320_3_features.npy', '365_0_features.npy', '85_0_features.npy', '235_2_features.npy', '305_3_features.npy', '134_2_features.npy', '219_3_features.npy', '326_2_features.npy', '80_2_features.npy', '299_4_features.npy', '92_3_features.npy', '5_3_features.npy', '189_2_features.npy', '213_0_features.npy', '54_0_features.npy', '53_1_features.npy', '292_3_features.npy', '154_3_features.npy', '91_0_features.npy', '47_3_features.npy', '307_3_features.npy', '364_3_features.npy', '2_0_features.npy', '246_2_features.npy', '118_3_features.npy', '81_3_features.npy', '260_1_features.npy', '316_2_features.npy', '102_2_features.npy', '184_0_features.npy', '63_2_features.npy', '203_2_features.npy', '312_0_features.npy', '4_2_features.npy', '255_2_features.npy', '177_4_features.npy', '268_3_features.npy', '144_3_features.npy', '44_0_features.npy', '71_0_features.npy', '25_3_features.npy', '231_3_features.npy', '382_2_features.npy', '6_1_features.npy', '287_2_features.npy', '360_3_features.npy', '67_3_features.npy', '248_0_features.npy', '288_4_features.npy', '334_2_features.npy', '205_3_features.npy', '49_3_features.npy', '188_3_features.npy', '43_2_features.npy', '259_3_features.npy', '375_1_features.npy', '39_3_features.npy', '227_3_features.npy', '226_2_features.npy', '56_3_features.npy', '282_0_features.npy', '304_3_features.npy', '377_4_features.npy', '9_4_features.npy', '230_2_features.npy', '176_4_features.npy', '315_4_features.npy', '369_2_features.npy', '302_3_features.npy', '156_2_features.npy', '97_2_features.npy', '155_2_features.npy', '293_3_features.npy', '138_2_features.npy', '351_3_features.npy', '297_4_features.npy', '309_2_features.npy', '98_4_features.npy', '250_2_features.npy', '327_3_features.npy', '218_0_features.npy', '261_3_features.npy', '37_2_features.npy', '13_4_features.npy', '115_0_features.npy', '51_2_features.npy', '278_3_features.npy', '239_0_features.npy', '192_2_features.npy', '70_0_features.npy', '175_0_features.npy', '168_2_features.npy', '372_2_features.npy', '162_2_features.npy', '116_4_features.npy', '341_3_features.npy', '48_3_features.npy', '60_3_features.npy', '336_3_features.npy', '143_2_features.npy', '82_3_features.npy', '311_3_features.npy', '332_0_features.npy', '373_4_features.npy', '103_4_features.npy', '353_0_features.npy', '10_0_features.npy', '277_1_features.npy', '296_0_features.npy', '28_3_features.npy', '324_1_features.npy', '215_4_features.npy', '14_3_features.npy', '127_2_features.npy', '179_3_features.npy', '190_3_features.npy', '197_3_features.npy', '330_3_features.npy', '173_2_features.npy', '106_0_features.npy', '46_3_features.npy', '270_4_features.npy', '174_4_features.npy', '1_0_features.npy', '308_0_features.npy', '344_0_features.npy', '325_3_features.npy', '346_2_features.npy', '249_0_features.npy', '240_3_features.npy', '251_2_features.npy', '68_3_features.npy', '151_2_features.npy', '220_3_features.npy', '221_3_features.npy', '262_2_features.npy', '165_0_features.npy', '210_0_features.npy', '352_4_features.npy', '198_3_features.npy', '376_3_features.npy', '108_2_features.npy', '146_4_features.npy', '252_0_features.npy', '109_2_features.npy', '269_0_features.npy', '100_2_features.npy', '139_4_features.npy', '180_2_features.npy', '275_3_features.npy', '141_2_features.npy', '12_2_features.npy', '93_4_features.npy', '86_3_features.npy', '55_3_features.npy', '117_4_features.npy', '283_0_features.npy', '65_2_features.npy', '381_4_features.npy', '83_3_features.npy', '183_2_features.npy', '256_4_features.npy', '24_0_features.npy', '0_3_features.npy', '349_3_features.npy', '129_0_features.npy', '294_4_features.npy', '241_4_features.npy', '15_0_features.npy', '318_4_features.npy', '264_2_features.npy', '94_4_features.npy', '211_0_features.npy', '69_3_features.npy', '164_3_features.npy', '321_4_features.npy', '36_3_features.npy', '254_2_features.npy', '323_3_features.npy', '166_0_features.npy', '185_0_features.npy', '374_3_features.npy', '123_1_features.npy', '84_0_features.npy', '204_4_features.npy', '90_4_features.npy', '40_2_features.npy', '22_0_features.npy', '7_3_features.npy', '236_2_features.npy', '169_3_features.npy', '217_0_features.npy', '212_4_features.npy', '245_2_features.npy', '253_3_features.npy', '187_2_features.npy', '19_1_features.npy', '26_3_features.npy', '355_3_features.npy', '52_2_features.npy', '32_4_features.npy', '96_0_features.npy', '329_0_features.npy', '58_0_features.npy', '258_3_features.npy', '149_2_features.npy', '200_3_features.npy', '271_2_features.npy', '133_3_features.npy', '27_2_features.npy', '79_4_features.npy', '358_0_features.npy', '368_0_features.npy', '136_3_features.npy', '280_4_features.npy', '257_3_features.npy', '291_4_features.npy', '328_4_features.npy', '142_0_features.npy', '57_3_features.npy', '20_4_features.npy', '99_4_features.npy', '367_2_features.npy', '18_1_features.npy', '371_0_features.npy', '273_3_features.npy', '345_3_features.npy', '126_0_features.npy', '339_3_features.npy', '23_2_features.npy', '160_4_features.npy', '214_2_features.npy', '207_0_features.npy', '348_2_features.npy', '300_2_features.npy', '335_3_features.npy', '152_4_features.npy', '76_0_features.npy', '379_4_features.npy', '193_2_features.npy', '310_2_features.npy', '361_2_features.npy', '191_2_features.npy', '170_4_features.npy', '104_2_features.npy', '216_3_features.npy', '153_2_features.npy', '158_1_features.npy', '194_2_features.npy', '370_3_features.npy', '290_2_features.npy', '224_2_features.npy', '303_2_features.npy', '378_3_features.npy', '30_2_features.npy', '317_2_features.npy', '122_2_features.npy', '50_2_features.npy', '172_2_features.npy', '131_0_features.npy', '284_2_features.npy', '95_3_features.npy', '31_4_features.npy', '363_4_features.npy', '110_4_features.npy', '124_3_features.npy', '196_0_features.npy', '238_4_features.npy', '88_0_features.npy', '340_0_features.npy', '222_1_features.npy', '113_2_features.npy', '263_3_features.npy', '145_4_features.npy', '75_2_features.npy', '137_2_features.npy', '186_3_features.npy', '61_2_features.npy', '298_3_features.npy', '112_3_features.npy', '243_3_features.npy', '357_2_features.npy', '267_0_features.npy', '148_0_features.npy', '208_4_features.npy', '121_3_features.npy', '225_0_features.npy', '233_0_features.npy', '244_3_features.npy', '343_3_features.npy', '229_2_features.npy', '38_0_features.npy', '87_4_features.npy', '161_4_features.npy', '314_2_features.npy', '237_2_features.npy', '354_0_features.npy', '178_0_features.npy', '64_0_features.npy', '33_0_features.npy', '41_1_features.npy', '128_2_features.npy', '17_4_features.npy', '8_2_features.npy', '62_2_features.npy', '366_2_features.npy', '45_2_features.npy', '132_3_features.npy', '333_2_features.npy', '234_2_features.npy', '72_4_features.npy', '342_3_features.npy', '306_3_features.npy', '362_2_features.npy', '331_3_features.npy', '163_3_features.npy', '105_3_features.npy', '201_4_features.npy', '11_4_features.npy', '150_2_features.npy', '77_2_features.npy', '66_2_features.npy', '107_4_features.npy', '209_3_features.npy', '322_4_features.npy', '59_4_features.npy', '182_4_features.npy', '272_0_features.npy', '350_1_features.npy', '266_0_features.npy', '223_2_features.npy', '276_2_features.npy', '338_2_features.npy', '125_2_features.npy', '242_0_features.npy', '147_4_features.npy', '181_3_features.npy', '359_4_features.npy', '167_3_features.npy', '337_3_features.npy', '265_4_features.npy', '286_4_features.npy', '16_4_features.npy', '29_2_features.npy', '111_3_features.npy', '35_3_features.npy', '380_0_features.npy', '281_3_features.npy', '89_4_features.npy', '34_0_features.npy', '78_3_features.npy', '74_0_features.npy', '42_0_features.npy']\n"
          ]
        }
      ]
    },
    {
      "cell_type": "code",
      "source": [
        "print(train_data.head())  # Check the first few rows of train_data\n",
        "print(test_data.head())   # Check the first few rows of test_data\n"
      ],
      "metadata": {
        "colab": {
          "base_uri": "https://localhost:8080/"
        },
        "id": "JgNSlZvrLZgd",
        "outputId": "9a50d409-42a8-4b7d-88da-57209b0a2b9d"
      },
      "execution_count": null,
      "outputs": [
        {
          "output_type": "stream",
          "name": "stdout",
          "text": [
            "                                  video_path  label\n",
            "0  /content/drive/MyDrive/HACER_frames/117_3      3\n",
            "1  /content/drive/MyDrive/HACER_frames/137_0      0\n",
            "2  /content/drive/MyDrive/HACER_frames/209_0      0\n",
            "3  /content/drive/MyDrive/HACER_frames/409_0      0\n",
            "4  /content/drive/MyDrive/HACER_frames/148_2      2\n",
            "                                  video_path  label\n",
            "0   /content/drive/MyDrive/HACER_frames/93_2      2\n",
            "1  /content/drive/MyDrive/HACER_frames/320_3      3\n",
            "2   /content/drive/MyDrive/HACER_frames/55_3      3\n",
            "3   /content/drive/MyDrive/HACER_frames/30_2      2\n",
            "4  /content/drive/MyDrive/HACER_frames/449_0      0\n"
          ]
        }
      ]
    },
    {
      "cell_type": "code",
      "source": [
        "# Define RNN Model\n",
        "rnn_model = Sequential([\n",
        "    LSTM(128, return_sequences=True, input_shape=(None, x_train.shape[-1])),\n",
        "    Dropout(0.3),\n",
        "    LSTM(64, return_sequences=False),\n",
        "    Dropout(0.3),\n",
        "    Dense(64, activation='relu'),\n",
        "    Dense(train_labels.shape[1], activation='softmax')  # Number of emotion classes\n",
        "])\n",
        "\n",
        "rnn_model.compile(optimizer='adam', loss='categorical_crossentropy', metrics=['accuracy'])\n",
        "print(\"RNN model compiled.\")"
      ],
      "metadata": {
        "colab": {
          "base_uri": "https://localhost:8080/"
        },
        "id": "WVA6E8bALZj7",
        "outputId": "33c5e2bd-1241-4c00-eb0c-0e11f03f43fb"
      },
      "execution_count": null,
      "outputs": [
        {
          "output_type": "stream",
          "name": "stdout",
          "text": [
            "RNN model compiled.\n"
          ]
        },
        {
          "output_type": "stream",
          "name": "stderr",
          "text": [
            "/usr/local/lib/python3.11/dist-packages/keras/src/layers/rnn/rnn.py:204: UserWarning: Do not pass an `input_shape`/`input_dim` argument to a layer. When using Sequential models, prefer using an `Input(shape)` object as the first layer in the model instead.\n",
            "  super().__init__(**kwargs)\n"
          ]
        }
      ]
    },
    {
      "cell_type": "code",
      "source": [
        "# Train the RNN\n",
        "history = rnn_model.fit(\n",
        "    x_train, train_labels,\n",
        "    validation_split=0.2,\n",
        "    epochs=25,\n",
        "    batch_size=32,\n",
        "    verbose=1\n",
        ")"
      ],
      "metadata": {
        "id": "VU6R8tB9fFb0"
      },
      "execution_count": null,
      "outputs": []
    },
    {
      "cell_type": "code",
      "source": [
        "# Evaluate on the test set\n",
        "test_loss, test_accuracy = rnn_model.evaluate(x_test, test_labels, verbose=0)\n",
        "print(f\"Test Loss: {test_loss}, Test Accuracy: {test_accuracy}\")"
      ],
      "metadata": {
        "id": "3nND94MrMSLl"
      },
      "execution_count": null,
      "outputs": []
    },
    {
      "cell_type": "code",
      "source": [
        "# Save the trained RNN model\n",
        "MODEL_PATH = '/content/emotion_recognition_model.h5'\n",
        "rnn_model.save(MODEL_PATH)\n",
        "print(f\"Model saved at {MODEL_PATH}\")"
      ],
      "metadata": {
        "id": "pz-FqRkbMSOB"
      },
      "execution_count": null,
      "outputs": []
    },
    {
      "cell_type": "code",
      "source": [
        "# Visualize Training History\n",
        "import matplotlib.pyplot as plt\n",
        "\n",
        "# Plot accuracy\n",
        "plt.figure(figsize=(12, 5))\n",
        "plt.subplot(1, 2, 1)\n",
        "plt.plot(history.history['accuracy'], label='Train Accuracy')\n",
        "plt.plot(history.history['val_accuracy'], label='Validation Accuracy')\n",
        "plt.title('Model Accuracy')\n",
        "plt.xlabel('Epochs')\n",
        "plt.ylabel('Accuracy')\n",
        "plt.legend()"
      ],
      "metadata": {
        "id": "hUEEmAPEMSRp"
      },
      "execution_count": null,
      "outputs": []
    },
    {
      "cell_type": "code",
      "source": [
        "# Plot loss\n",
        "plt.subplot(1, 2, 2)\n",
        "plt.plot(history.history['loss'], label='Train Loss')\n",
        "plt.plot(history.history['val_loss'], label='Validation Loss')\n",
        "plt.title('Model Loss')\n",
        "plt.xlabel('Epochs')\n",
        "plt.ylabel('Loss')\n",
        "plt.legend()\n",
        "\n",
        "plt.tight_layout()\n",
        "plt.show()"
      ],
      "metadata": {
        "id": "ON5G_dQfMeoN"
      },
      "execution_count": null,
      "outputs": []
    },
    {
      "cell_type": "code",
      "source": [
        "# Test the Model with Predictions\n",
        "def predict_video(video_path):\n",
        "    features = np.load(video_path)\n",
        "    predictions = rnn_model.predict(np.expand_dims(features, axis=0))\n",
        "    predicted_class = np.argmax(predictions)\n",
        "    return encoder.inverse_transform([predicted_class])[0]"
      ],
      "metadata": {
        "id": "Ecqyv_uDMkS-"
      },
      "execution_count": null,
      "outputs": []
    },
    {
      "cell_type": "code",
      "source": [
        "# Example prediction\n",
        "example_video_path = os.path.join(FEATURES_DIR, os.listdir(FEATURES_DIR)[0])\n",
        "print(f\"Predicted emotion: {predict_video(example_video_path)}\")\n"
      ],
      "metadata": {
        "id": "XHqbyKPSMlDG"
      },
      "execution_count": null,
      "outputs": []
    }
  ]
}